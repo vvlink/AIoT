{
 "cells": [
  {
   "cell_type": "markdown",
   "id": "49dddace",
   "metadata": {},
   "source": [
    "# jieba库体验"
   ]
  },
  {
   "cell_type": "code",
   "execution_count": 1,
   "id": "4d148109",
   "metadata": {},
   "outputs": [],
   "source": [
    "# 导入库\n",
    "import jieba"
   ]
  },
  {
   "cell_type": "code",
   "execution_count": 2,
   "id": "65a94459",
   "metadata": {},
   "outputs": [],
   "source": [
    "str=\"我是温州中学的信息技术教师\""
   ]
  },
  {
   "cell_type": "code",
   "execution_count": 3,
   "id": "34e64f74",
   "metadata": {},
   "outputs": [
    {
     "data": {
      "text/plain": [
       "<generator object Tokenizer.cut at 0x7f7d5e70c0>"
      ]
     },
     "execution_count": 3,
     "metadata": {},
     "output_type": "execute_result"
    }
   ],
   "source": [
    "seg_list = jieba.cut(str,cut_all=True)\n",
    "seg_list"
   ]
  },
  {
   "cell_type": "code",
   "execution_count": 4,
   "id": "310db60f",
   "metadata": {},
   "outputs": [
    {
     "name": "stderr",
     "output_type": "stream",
     "text": [
      "Building prefix dict from the default dictionary ...\n",
      "Dumping model to file cache /tmp/jieba.cache\n",
      "Loading model cost 11.438 seconds.\n",
      "Prefix dict has been built successfully.\n"
     ]
    },
    {
     "name": "stdout",
     "output_type": "stream",
     "text": [
      "Full Mode: 我/ 是/ 温州/ 中学/ 的/ 信息/ 信息技术/ 技术/ 教师\n"
     ]
    }
   ],
   "source": [
    "print(\"Full Mode:\", \"/ \".join(seg_list))"
   ]
  },
  {
   "cell_type": "code",
   "execution_count": 6,
   "id": "0073bd3e",
   "metadata": {},
   "outputs": [
    {
     "name": "stdout",
     "output_type": "stream",
     "text": [
      "Default Mode: 我/ 是/ 温州/ 中学/ 的/ 信息技术/ 教师\n"
     ]
    }
   ],
   "source": [
    "#精确模式\n",
    "seg_list = jieba.cut(str,cut_all=False)\n",
    "print(\"Default Mode:\", \"/ \".join(seg_list))"
   ]
  },
  {
   "cell_type": "code",
   "execution_count": 7,
   "id": "1b48e8e3",
   "metadata": {},
   "outputs": [
    {
     "name": "stdout",
     "output_type": "stream",
     "text": [
      "我, 是, 温州, 中学, 的, 信息技术, 教师\n"
     ]
    }
   ],
   "source": [
    "#默认是精确模式\n",
    "seg_list = jieba.cut(str) \n",
    "print(\", \".join(seg_list))"
   ]
  },
  {
   "cell_type": "code",
   "execution_count": 8,
   "id": "87fc13ed",
   "metadata": {},
   "outputs": [
    {
     "name": "stdout",
     "output_type": "stream",
     "text": [
      "小明, 硕士, 毕业, 于, 浙江, 大学, 浙江大学, ，, 后来, 在, 卡内, 卡内基, 梅隆, 大学, 深造\n"
     ]
    }
   ],
   "source": [
    "#搜索引擎模式\n",
    "seg_list = jieba.cut_for_search(\"小明硕士毕业于浙江大学，后来在卡内基梅隆大学深造\") \n",
    "print(\", \".join(seg_list))"
   ]
  },
  {
   "cell_type": "code",
   "execution_count": null,
   "id": "9d87af73",
   "metadata": {},
   "outputs": [],
   "source": []
  }
 ],
 "metadata": {
  "kernelspec": {
   "display_name": "Python 3 (ipykernel)",
   "language": "python",
   "name": "python3"
  },
  "language_info": {
   "codemirror_mode": {
    "name": "ipython",
    "version": 3
   },
   "file_extension": ".py",
   "mimetype": "text/x-python",
   "name": "python",
   "nbconvert_exporter": "python",
   "pygments_lexer": "ipython3",
   "version": "3.7.3"
  }
 },
 "nbformat": 4,
 "nbformat_minor": 5
}
