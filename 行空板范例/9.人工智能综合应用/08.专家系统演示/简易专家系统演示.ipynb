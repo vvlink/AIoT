{
 "cells": [
  {
   "cell_type": "markdown",
   "metadata": {},
   "source": [
    "# 简易专家系统演示（动物识别）\n",
    "\n",
    "一个可以识别7种动物的专家系统，可以根据前提（Q）推导出结论（P），如果只有部分前提，将进行询问然后继续推导。\n",
    "\n",
    "## 1.知识库和推理函数"
   ]
  },
  {
   "cell_type": "code",
   "execution_count": 1,
   "metadata": {},
   "outputs": [],
   "source": [
    "# 输入知识库\n",
    "kbase=\"\"\"\n",
    "有毛发 哺乳动物\n",
    "有奶 哺乳动物\n",
    "有羽毛 鸟\n",
    "会飞 下蛋 鸟\n",
    "吃肉 食肉动物\n",
    "有犬齿 有爪 眼盯前方 食肉动物\n",
    "哺乳动物 有蹄 有蹄类动物\n",
    "哺乳动物 嚼反刍动物 有蹄类动物\n",
    "哺乳动物 食肉动物 黄褐色 暗斑点 金钱豹\n",
    "哺乳动物 食肉动物 黄褐色 黑色条纹 虎\n",
    "有蹄类动物 长脖子 长腿 暗斑点 长颈鹿\n",
    "有蹄类动物 黑色条纹 斑马\n",
    "鸟 长脖子 长腿 黑灰二色 不飞 鸵鸟\n",
    "鸟 会游泳 不飞 黑白二色 企鹅\n",
    "鸟 善飞 信天翁\n",
    "哺乳动物 食肉动物 吃老鼠 猫\n",
    "\"\"\""
   ]
  },
  {
   "cell_type": "code",
   "execution_count": 2,
   "metadata": {},
   "outputs": [],
   "source": [
    "# 将产生式规则放入规则库中，if P then Q\n",
    "Q = []\n",
    "P = []\n",
    "fo = kbase.split('\\n')\n",
    "for line in fo:\n",
    "    line = line.strip('\\n')\n",
    "    if line == '':\n",
    "        continue\n",
    "    line = line.split(' ')\n",
    "    Q.append(line[len(line) - 1])\n",
    "    del (line[len(line) - 1])\n",
    "    P.append(line)"
   ]
  },
  {
   "cell_type": "code",
   "execution_count": 3,
   "metadata": {},
   "outputs": [
    {
     "name": "stdout",
     "output_type": "stream",
     "text": [
      "['哺乳动物', '哺乳动物', '鸟', '鸟', '食肉动物', '食肉动物', '有蹄类动物', '有蹄类动物', '金钱豹', '虎', '长颈鹿', '斑马', '鸵鸟', '企鹅', '信天翁', '猫']\n",
      "[['有毛发'], ['有奶'], ['有羽毛'], ['会飞', '下蛋'], ['吃肉'], ['有犬齿', '有爪', '眼盯前方'], ['哺乳动物', '有蹄'], ['哺乳动物', '嚼反刍动物'], ['哺乳动物', '食肉动物', '黄褐色', '暗斑点'], ['哺乳动物', '食肉动物', '黄褐色', '黑色条纹'], ['有蹄类动物', '长脖子', '长腿', '暗斑点'], ['有蹄类动物', '黑色条纹'], ['鸟', '长脖子', '长腿', '黑灰二色', '不飞'], ['鸟', '会游泳', '不飞', '黑白二色'], ['鸟', '善飞'], ['哺乳动物', '食肉动物', '吃老鼠']]\n"
     ]
    }
   ],
   "source": [
    "# 输出知识库中的P和Q\n",
    "print(Q)\n",
    "print(P)"
   ]
  },
  {
   "cell_type": "code",
   "execution_count": 4,
   "metadata": {},
   "outputs": [],
   "source": [
    "# 判断list中所有元素是否都在集合set中\n",
    "def ListInSet(li, se):\n",
    "    for i in li:\n",
    "        if i not in se:\n",
    "            return False\n",
    "    return True\n",
    "\n",
    "# 判断list中至少有一个在集合set中\n",
    "def ListOneInSet(li, se):\n",
    "    for i in li:\n",
    "        if i in se:\n",
    "            return True\n",
    "    return False\n",
    "\n",
    "# 推理\n",
    "def go(DB):\n",
    "    str = \"\"\n",
    "    flag = True\n",
    "    temp = \"\"\n",
    "    for x in P:  # 对于每条产生式规则\n",
    "        if ListInSet(x, DB):  # 如果所有前提条件都在规则库中\n",
    "            DB.add(Q[P.index(x)])\n",
    "            temp = Q[P.index(x)]\n",
    "            flag = False  # 至少能推出一个结论\n",
    "            str += \"%s --> %s\" % (x, Q[P.index(x)])\n",
    "            return str\n",
    "\n",
    "    if flag:  # 一个结论都推不出\n",
    "        print(\"一个结论都推不出，补充询问\")\n",
    "        for x in P:  # 对于每条产生式\n",
    "            if ListOneInSet(x, DB):  # 事实是否满足部分前提\n",
    "                flag1 = False       # 默认提问时否认前提\n",
    "                for i in x:  # 对于前提中所有元素\n",
    "                    if i not in DB:  # 对于不满足的那部分\n",
    "                        btn = input(\"是否\" + i +\"？是请输入1，否则输入0。\")\n",
    "                        if btn == '1':\n",
    "                            DB.add(i)  # 确定则增加到规则库中\n",
    "                            flag1 = True    # 肯定前提\n",
    "                if flag1:  # 如果肯定前提，则重新推导\n",
    "                    return go(DB)"
   ]
  },
  {
   "cell_type": "markdown",
   "metadata": {},
   "source": [
    "# 2.输入事实开始推理\n",
    "\n",
    "输入要动物的事实，如会飞、下蛋、吃肉等。不管推理是否成功，都会给出提示。"
   ]
  },
  {
   "cell_type": "code",
   "execution_count": 5,
   "metadata": {},
   "outputs": [
    {
     "name": "stdout",
     "output_type": "stream",
     "text": [
      "输入动物事实，如“有毛发”，多个事实用“-”分开，如“鸟-长脖子”……鸟-长脖子\n",
      "一个结论都推不出，补充询问\n",
      "是否有蹄类动物？是请输入1，否则输入0。0\n",
      "是否长腿？是请输入1，否则输入0。1\n",
      "是否暗斑点？是请输入1，否则输入0。0\n",
      "一个结论都推不出，补充询问\n",
      "是否有蹄类动物？是请输入1，否则输入0。0\n",
      "是否暗斑点？是请输入1，否则输入0。0\n",
      "是否黑灰二色？是请输入1，否则输入0。1\n",
      "是否不飞？是请输入1，否则输入0。1\n"
     ]
    },
    {
     "data": {
      "text/plain": [
       "\"['鸟', '长脖子', '长腿', '黑灰二色', '不飞'] --> 鸵鸟\""
      ]
     },
     "execution_count": 5,
     "metadata": {},
     "output_type": "execute_result"
    }
   ],
   "source": [
    "ask=[]\n",
    "lines = input(\"输入动物事实，如“有毛发”，多个事实用“-”分开，如“鸟-长脖子”……\")\n",
    "lines = lines.split('-')  # 分割成组\n",
    "for i in lines:\n",
    "    ask.append(i)\n",
    "DB = set(ask)\n",
    "go(DB)"
   ]
  },
  {
   "cell_type": "markdown",
   "metadata": {},
   "source": [
    "## 3.其他\n",
    "\n",
    "下面的代码，可以整理知识库，完成拓扑排序。"
   ]
  },
  {
   "cell_type": "code",
   "execution_count": 6,
   "metadata": {},
   "outputs": [],
   "source": [
    "# 将知识库做拓扑排序，调用方式如kbase=topological(kbase)\n",
    "def topological(kbase):\n",
    "    Q = []\n",
    "    P = []\n",
    "    ans = \"\"  # 排序后的结果\n",
    "    for line in kbase.split('\\n'):\n",
    "        if line == '':\n",
    "            continue\n",
    "        line = line.split(' ')\n",
    "        Q.append(line[len(line) - 1])\n",
    "        del (line[len(line) - 1])\n",
    "        P.append(line)\n",
    "\n",
    "    # 计算入度\n",
    "    inn = []\n",
    "    for i in P:\n",
    "        sum = 0\n",
    "        for x in i:\n",
    "            if Q.count(x) > 0:  # 能找到，那么\n",
    "                sum += Q.count(x)\n",
    "        inn.append(sum)\n",
    "\n",
    "    while (1):\n",
    "        x = 0\n",
    "        if inn.count(-1) == len(inn):\n",
    "            break\n",
    "        for i in inn:\n",
    "            if i == 0:\n",
    "                str = ' '.join(P[x])\n",
    "                # print(\"%s %s\" %(str, Q[x]))\n",
    "                ans = ans + str + \" \" + Q[x] + \"\\n\"  # 写入结果\n",
    "                inn[x] = -1\n",
    "                # 更新入度\n",
    "                y = 0\n",
    "                for j in P:\n",
    "                    if j.count(Q[x]) == 1:\n",
    "                        inn[y] -= 1\n",
    "                    y += 1\n",
    "            x += 1\n",
    "    return ans"
   ]
  },
  {
   "cell_type": "code",
   "execution_count": null,
   "metadata": {},
   "outputs": [],
   "source": []
  }
 ],
 "metadata": {
  "kernelspec": {
   "display_name": "Python 3",
   "language": "python",
   "name": "python3"
  },
  "language_info": {
   "codemirror_mode": {
    "name": "ipython",
    "version": 3
   },
   "file_extension": ".py",
   "mimetype": "text/x-python",
   "name": "python",
   "nbconvert_exporter": "python",
   "pygments_lexer": "ipython3",
   "version": "3.5.2"
  }
 },
 "nbformat": 4,
 "nbformat_minor": 2
}
