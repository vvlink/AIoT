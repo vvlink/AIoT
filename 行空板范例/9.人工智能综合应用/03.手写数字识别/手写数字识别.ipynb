{
 "cells": [
  {
   "cell_type": "markdown",
   "metadata": {},
   "source": [
    "# 文字识别"
   ]
  },
  {
   "cell_type": "raw",
   "metadata": {},
   "source": [
    "第一步、导入库"
   ]
  },
  {
   "cell_type": "code",
   "execution_count": null,
   "metadata": {},
   "outputs": [],
   "source": [
    "# -*- coding: UTF-8 -*-\n",
    "from aip import AipOcr\n",
    "from xugu import Pin\n",
    "import time"
   ]
  },
  {
   "cell_type": "raw",
   "metadata": {},
   "source": [
    "第二步、初始化LED"
   ]
  },
  {
   "cell_type": "code",
   "execution_count": null,
   "metadata": {},
   "outputs": [],
   "source": [
    "led = Pin(13, Pin.OUT)\n",
    "led.write_digital(0) # 关闭连接 13 号引脚的 LED 灯\n",
    "time.sleep(1)"
   ]
  },
  {
   "cell_type": "raw",
   "metadata": {},
   "source": [
    "第三步、设置认证信息\n",
    "\n",
    "注：这里用的是测试账号，有访问次数的限制，请使用自己的账号信息。"
   ]
  },
  {
   "cell_type": "code",
   "execution_count": null,
   "metadata": {},
   "outputs": [],
   "source": [
    "\"\"\" 你的 APPID AK SK \"\"\"\n",
    "APP_ID = '17592596'\n",
    "API_KEY = 'WVIgzetjM6CZzN6kBcWf5MqS'\n",
    "SECRET_KEY = '2Wz54qpEWQtIEFeBHWte6oplsiRTrcwP'"
   ]
  },
  {
   "cell_type": "raw",
   "metadata": {},
   "source": [
    "第四步、初始化AipFace对象"
   ]
  },
  {
   "cell_type": "code",
   "execution_count": null,
   "metadata": {},
   "outputs": [],
   "source": [
    "aipOcr = AipOcr(APP_ID, API_KEY, SECRET_KEY)"
   ]
  },
  {
   "cell_type": "raw",
   "metadata": {},
   "source": [
    "第五步、读取图片，图片不能过大，最好100KB左右"
   ]
  },
  {
   "cell_type": "code",
   "execution_count": null,
   "metadata": {},
   "outputs": [],
   "source": [
    "filePath = \"num.png\"\n",
    "  \n",
    "def get_file_content(filePath):\n",
    "    with open(filePath, 'rb') as fp:\n",
    "        return fp.read()\n"
   ]
  },
  {
   "cell_type": "raw",
   "metadata": {},
   "source": [
    "第六步、定义参数变量"
   ]
  },
  {
   "cell_type": "code",
   "execution_count": null,
   "metadata": {},
   "outputs": [],
   "source": [
    "options = {\n",
    " 'recognize_granularity': 'big',\n",
    " 'words_type': 'number',\n",
    "}"
   ]
  },
  {
   "cell_type": "raw",
   "metadata": {},
   "source": [
    "第六步、调用手写文字识别接口"
   ]
  },
  {
   "cell_type": "code",
   "execution_count": null,
   "metadata": {},
   "outputs": [],
   "source": [
    "result = aipOcr.handwriting(get_file_content(filePath), options)\n",
    "print(result)\n",
    "words_result=result['words_result']\n",
    "for i in range(len(words_result)):\n",
    "    number = words_result[i]['words']\n",
    "    print(number)"
   ]
  },
  {
   "cell_type": "raw",
   "metadata": {},
   "source": [
    "第七步、根据识别的数字，去闪烁相应的次数"
   ]
  },
  {
   "cell_type": "code",
   "execution_count": null,
   "metadata": {},
   "outputs": [],
   "source": [
    "num = int(number)\n",
    "while num > 0:\n",
    "    # #用循环实现持续地开灯关灯,到达闪烁的效果\n",
    "    led.write_digital(1) # 点亮连接 13 号引脚的 LED 灯\n",
    "    time.sleep(1) # 持续 1 秒\n",
    "    led.write_digital(0) # 关闭 LED 灯\n",
    "    time.sleep(0.5) # 持续 1 秒\n",
    "    num -= 1"
   ]
  },
  {
   "cell_type": "code",
   "execution_count": null,
   "metadata": {},
   "outputs": [],
   "source": []
  }
 ],
 "metadata": {
  "kernelspec": {
   "display_name": "Python 3",
   "language": "python",
   "name": "python3"
  },
  "language_info": {
   "codemirror_mode": {
    "name": "ipython",
    "version": 3
   },
   "file_extension": ".py",
   "mimetype": "text/x-python",
   "name": "python",
   "nbconvert_exporter": "python",
   "pygments_lexer": "ipython3",
   "version": "3.5.2"
  }
 },
 "nbformat": 4,
 "nbformat_minor": 2
}
