{
 "cells": [
  {
   "cell_type": "markdown",
   "metadata": {},
   "source": [
    "# “吟诗作对”机器人（升级版）"
   ]
  },
  {
   "cell_type": "markdown",
   "metadata": {},
   "source": [
    "硬件准备：虚谷号、麦克风（连接到虚谷号）、小音箱（连接到虚谷号）、按钮传感器、Arduino扩展板（可选）\n",
    "\n",
    "注意事项：\n",
    "    - 本程序有两个文件组成，其中”start.mp3“为录音提示语。\n",
    "    - 请逐步运行单元格中的代码，即可查看具体效果。也可以全部运行，按下按钮（接在D2上）开始对话。\n",
    "    - 如果使用USB小音箱，请务必在电源口接上2A的电源。\n",
    "    - 请确认虚谷号处于上网状态。\n",
    "    \n",
    "本范例的具体介绍请参考百度AI的文档。https://ai.baidu.com/docs#/ASR-Online-Python-SDK/f71dfc54"
   ]
  },
  {
   "cell_type": "markdown",
   "metadata": {},
   "source": [
    "### 准备工作1：导入基本库"
   ]
  },
  {
   "cell_type": "code",
   "execution_count": null,
   "metadata": {},
   "outputs": [],
   "source": [
    "import pyaudio\n",
    "import wave\n",
    "import os\n",
    "from aip import AipSpeech"
   ]
  },
  {
   "cell_type": "markdown",
   "metadata": {},
   "source": [
    "### 准备工作2：设置认证信息和参数\n",
    "\n",
    "注：这里用的是测试账号，有访问次数的限制，如果测试失败，请使用自己的账号信息。"
   ]
  },
  {
   "cell_type": "code",
   "execution_count": null,
   "metadata": {},
   "outputs": [],
   "source": [
    "\"\"\" 你的 APPID AK SK \"\"\"\n",
    "APP_ID = \"15126848\"\n",
    "API_KEY = \"BPaS8KCk1B6Io9EqEOw1pOH3\"\n",
    "SECRET_KEY = \"AL3B7XOmoRZojqFivCzvxuGYDDQZ7G58\"\n",
    "\"\"\" 这里是参数设置，请不要改动 \"\"\"\n",
    "CHUNK = 1024 \n",
    "FORMAT = pyaudio.paInt16\n",
    "CHANNELS = 1\n",
    "RATE = 16000\n",
    "RECORD_SECONDS = 3\n",
    "client = AipSpeech(APP_ID, API_KEY, SECRET_KEY)"
   ]
  },
  {
   "cell_type": "markdown",
   "metadata": {},
   "source": [
    "参数介绍：\n",
    "- CHUNK：指定每个缓冲区的帧数。\n",
    "- FORMAT：采样大小和格式。我们这里是pyaudio.paInt16，即16位int型。\n",
    "- CHANNELS：声道数，这里我们设定的是单声道。\n",
    "- RATE：采样频率，录音设备在一秒钟内对声音信号的采样次数，采样频率越高声音的还原就越真实越自然。这里是16000。这里是为了匹配后期语音识别的要求设置的。常用的有8kHz, 16kHz, 32kHz, 48kHz, 11.025kHz, 22.05kHz, 44.1kHz.\n",
    "- RECORD_SECONDS:录音秒数"
   ]
  },
  {
   "cell_type": "markdown",
   "metadata": {},
   "source": [
    "### 核心函数1:\n",
    "\n",
    "rec函数的作用是录音处理。"
   ]
  },
  {
   "cell_type": "code",
   "execution_count": null,
   "metadata": {},
   "outputs": [],
   "source": [
    "def rec(file_name):\n",
    "    p = pyaudio.PyAudio()\n",
    "    stream = p.open(format=FORMAT,\n",
    "                    channels=CHANNELS,\n",
    "                    rate=RATE,\n",
    "                    input=True,\n",
    "                    frames_per_buffer=CHUNK)\n",
    "    print(\"开始录音,请说话...\")\n",
    "    frames = []\n",
    "    for i in range(0, int(RATE / CHUNK * RECORD_SECONDS)):\n",
    "        data = stream.read(CHUNK)\n",
    "        frames.append(data)\n",
    "    print(\"录音结束!\")\n",
    "    \n",
    "    stream.stop_stream()\n",
    "    stream.close()\n",
    "    p.terminate()\n",
    "\n",
    "    wf = wave.open(file_name, 'wb')\n",
    "    wf.setnchannels(CHANNELS)\n",
    "    wf.setsampwidth(p.get_sample_size(FORMAT))\n",
    "    wf.setframerate(RATE)\n",
    "    wf.writeframes(b''.join(frames))\n",
    "    wf.close()\n",
    "    return file_name"
   ]
  },
  {
   "cell_type": "markdown",
   "metadata": {},
   "source": [
    "### 核心函数2:\n",
    "\n",
    "audio_to_text函数的作用是将录音转化为文字。"
   ]
  },
  {
   "cell_type": "code",
   "execution_count": null,
   "metadata": {},
   "outputs": [],
   "source": [
    "def audio_to_text(wav_file):\n",
    "    with open(wav_file, 'rb') as fp:\n",
    "        file_context = fp.read()\n",
    "    print(\"正在识别语音...\")\n",
    "    res = client.asr(file_context, 'wav', 16000, {\n",
    "        'dev_pid': 1536,\n",
    "    })\n",
    "    if (res[\"err_msg\"]==\"success.\"):\n",
    "        res_str = res.get(\"result\")[0]\n",
    "    else:\n",
    "        res_str = \"错误，没有识别出任何内容！\"\n",
    "    return res_str"
   ]
  },
  {
   "cell_type": "markdown",
   "metadata": {},
   "source": [
    "### 核心函数3:\n",
    "\n",
    "tts函数的作用是将文字result转为语音，并且朗读出来。"
   ]
  },
  {
   "cell_type": "code",
   "execution_count": null,
   "metadata": {},
   "outputs": [],
   "source": [
    "def tts(txt):\n",
    "    result = client.synthesis(txt, 'zh', 1, {'vol': 5,})\n",
    "    # 识别正确返回语音二进制 错误则返回dict 参照下面错误码\n",
    "    if not isinstance(result, dict):\n",
    "        with open('auido.mp3', 'wb') as f:\n",
    "            f.write(result)\n",
    "        os.system('play auido.mp3')"
   ]
  },
  {
   "cell_type": "markdown",
   "metadata": {},
   "source": [
    "### 开始工作\n",
    "\n",
    "描述：当用户说“床前明月光”，虚谷号会说“疑是地上霜”，如果接上音箱，将听到女声的朗读。"
   ]
  },
  {
   "cell_type": "code",
   "execution_count": null,
   "metadata": {
    "scrolled": true
   },
   "outputs": [],
   "source": [
    "#添加诗词库，用户读前一句（奇数），机器对出下一句（偶数）\n",
    "shici = ['床前明月光', '疑是地上霜', '举头望明月','低头思故乡']\n",
    "shici.extend(['大漠沙如雪', '燕山月似钩', '何当金络脑','快走踏清秋'])\n",
    "#可以用类似VB的语法，采用+的方式\n",
    "shici=shici + ['小时不识月','呼作白玉盘','又疑瑶台镜','飞在青云端']\n",
    "#输出列表\n",
    "print(shici)"
   ]
  },
  {
   "cell_type": "code",
   "execution_count": null,
   "metadata": {},
   "outputs": [],
   "source": [
    "from xugu import Pin # 从 xugu 库中导入 Pin类\n",
    "from IPython import display\n",
    "%matplotlib inline\n",
    "import time # 导入时间模块\n",
    "p = Pin(2, Pin.IN) \n",
    "while True:\n",
    "    value=p.read_digital() # 读取 2 号引脚电平信息,赋值给 value\n",
    "    display.clear_output(wait=True) # 设置在一个画面中刷新\n",
    "    print(value) # 将value的值打印到终端上\n",
    "    if (value==1):\n",
    "        os.system('play start.mp3')\n",
    "        ret_s = audio_to_text(rec(\"input.wav\"))\n",
    "        print(ret_s)\n",
    "        for i in range(len(shici)//2):  \n",
    "            #print(shici[i*2-1])\n",
    "            if shici[i*2] in ret_s:\n",
    "                back=shici[i*2+1]\n",
    "                break\n",
    "            else:\n",
    "                back=\"在下才疏学浅，甘拜下风。\"\n",
    "        print(back)  \n",
    "        #输出语音\n",
    "        tts(back)\n",
    "    time.sleep(0.1) # 等待0.1秒"
   ]
  },
  {
   "cell_type": "markdown",
   "metadata": {},
   "source": [
    "### 拓展思考：\n",
    "\n",
    "1.请给“诗词库”（变量shici）增加新的数据，使其可以支持更多的回答。\n",
    "\n",
    "2.修改变量shici的内容，让这个程序可以在其他的特定场合工作。\n"
   ]
  },
  {
   "cell_type": "code",
   "execution_count": null,
   "metadata": {},
   "outputs": [],
   "source": []
  }
 ],
 "metadata": {
  "kernelspec": {
   "display_name": "Python 3",
   "language": "python",
   "name": "python3"
  },
  "language_info": {
   "codemirror_mode": {
    "name": "ipython",
    "version": 3
   },
   "file_extension": ".py",
   "mimetype": "text/x-python",
   "name": "python",
   "nbconvert_exporter": "python",
   "pygments_lexer": "ipython3",
   "version": "3.5.2"
  }
 },
 "nbformat": 4,
 "nbformat_minor": 2
}
