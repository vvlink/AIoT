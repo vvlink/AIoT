{
 "cells": [
  {
   "cell_type": "markdown",
   "metadata": {},
   "source": [
    "# 鹦鹉学舌\n",
    "\n",
    "作品名称：鹦鹉学舌\n",
    "\n",
    "作品功能：将你说的话，重复一遍，只不过声音会不同，内容也有所区别。\n",
    "\n",
    "使用步骤：先说“虚谷号”，稍微停顿后，然后再说出你的指令。稍等片刻，虚谷号将用另一种声音，重复了你的指令。但是会出现信息传播上的损耗，有时会很搞笑。\n",
    "\n",
    "其他说明：\n",
    "\n",
    "    - 本案例在Snowboy语音唤醒的基础上，增加百度AI的文字识别、合成功能。无论是虚谷号还是其他迷你电脑，都需要安装百度AI库和Snowboy及其他支持库等，其中虚谷号教育版的新固件将预装Snowboy。本文档要运行在Snowboy的“examples/Python3”文件夹中。\n",
    "    \n",
    "    - 语音唤醒功能不需要联网，但是语音识别和语音合成功能，需要联网访问百度AI。"
   ]
  },
  {
   "cell_type": "markdown",
   "metadata": {},
   "source": [
    "## 1.硬件准备\n",
    "\n",
    "1）USB声卡+麦克风、小音箱。\n",
    "\n",
    "2）自带声卡的摄像头（一般自带麦克风）、自带声卡的小音箱。\n",
    "\n",
    "参考地址：\n",
    "\n",
    "https://vvboard.readthedocs.io/zh/latest/07.plus/7.3-sound-card.html"
   ]
  },
  {
   "cell_type": "markdown",
   "metadata": {},
   "source": [
    "## 1.库和参数"
   ]
  },
  {
   "cell_type": "code",
   "execution_count": 1,
   "metadata": {},
   "outputs": [],
   "source": [
    "import snowboydecoder\n",
    "import signal\n",
    "import os\n",
    "from aip import AipSpeech\n",
    "\n",
    "interrupted = False\n",
    "\n",
    "\"\"\" 你的 APPID AK SK \"\"\"\n",
    "APP_ID = \"15126848\"\n",
    "API_KEY = \"BPaS8KCk1B6Io9EqEOw1pOH3\"\n",
    "SECRET_KEY = \"AL3B7XOmoRZojqFivCzvxuGYDDQZ7G58\"\n",
    "\n",
    "client = AipSpeech(APP_ID, API_KEY, SECRET_KEY)\n",
    "\n",
    "#唤醒词的模型文件名\n",
    "model = 'vvboard.pmdl'"
   ]
  },
  {
   "cell_type": "markdown",
   "metadata": {},
   "source": [
    "## 2.核心代码"
   ]
  },
  {
   "cell_type": "code",
   "execution_count": 2,
   "metadata": {},
   "outputs": [],
   "source": [
    "# 声音到文字\n",
    "def audio_to_text(wav_file):\n",
    "    with open(wav_file, 'rb') as fp:\n",
    "        file_context = fp.read()\n",
    "    print(\"正在识别语音...\")\n",
    "    res = client.asr(file_context, 'wav', 16000, {\n",
    "        'dev_pid': 1536,\n",
    "    })\n",
    "    if (res[\"err_msg\"]==\"success.\"):\n",
    "        res_str = res.get(\"result\")[0]\n",
    "    else:\n",
    "        res_str = \"错误，没有识别出任何内容！\"\n",
    "    return res_str\n",
    "\n",
    "#从文字到声音\n",
    "def tts(txt):\n",
    "    fname='auido.mp3'\n",
    "    result = client.synthesis(txt, 'zh', 1, {'vol': 5,})\n",
    "    # 识别正确返回语音二进制 错误则返回dict 参照下面错误码\n",
    "    if not isinstance(result, dict):\n",
    "        with open(fname, 'wb') as f:\n",
    "            f.write(result)\n",
    "        os.system('play '+ fname)\n",
    "    os.remove(fname)\n",
    "\n",
    "#录音结束后调用，fname为生成的录音文件\n",
    "def audioRecorderCallback(fname):\n",
    "    print(\"正在识别...\")\n",
    "    ret_s = audio_to_text(fname)\n",
    "    #输出识别结果\n",
    "    print(ret_s)\n",
    "    #让虚谷号说话\n",
    "    tts(ret_s)\n",
    "    #删除临时录音文件\n",
    "    os.remove(fname)\n",
    "\n",
    "#唤醒时调用\n",
    "def detectedCallback():\n",
    "    #播放应答声\n",
    "    snowboydecoder.play_audio_file(snowboydecoder.DETECT_DING)\n",
    "    print('recording audio...', end='', flush=True)\n",
    "\n",
    "def signal_handler(signal, frame):\n",
    "    global interrupted\n",
    "    interrupted = True\n",
    "\n",
    "def interrupt_callback():\n",
    "    global interrupted\n",
    "    return interrupted"
   ]
  },
  {
   "cell_type": "markdown",
   "metadata": {},
   "source": [
    "## 3.开始监听\n",
    "\n",
    "请在安静的环境中，对虚谷号说“虚谷号”，听到“叮”的一声后，再说一句完整的话。"
   ]
  },
  {
   "cell_type": "code",
   "execution_count": null,
   "metadata": {},
   "outputs": [
    {
     "name": "stdout",
     "output_type": "stream",
     "text": [
      "Listening... Press Ctrl+C to exit\n"
     ]
    },
    {
     "name": "stderr",
     "output_type": "stream",
     "text": [
      "INFO:snowboy:Keyword 1 detected at time: 2020-02-12 17:07:21\n"
     ]
    },
    {
     "name": "stdout",
     "output_type": "stream",
     "text": [
      "recording audio...正在识别...\n",
      "正在识别语音...\n"
     ]
    },
    {
     "name": "stderr",
     "output_type": "stream",
     "text": [
      "/usr/lib/python3/dist-packages/urllib3/connectionpool.py:794: InsecureRequestWarning: Unverified HTTPS request is being made. Adding certificate verification is strongly advised. See: https://urllib3.readthedocs.org/en/latest/security.html\n",
      "  InsecureRequestWarning)\n"
     ]
    },
    {
     "name": "stdout",
     "output_type": "stream",
     "text": [
      "我叫什么名字\n"
     ]
    },
    {
     "name": "stderr",
     "output_type": "stream",
     "text": [
      "INFO:snowboy:Keyword 1 detected at time: 2020-02-12 17:08:23\n"
     ]
    },
    {
     "name": "stdout",
     "output_type": "stream",
     "text": [
      "recording audio...正在识别...\n",
      "正在识别语音...\n",
      "我是一块开元硬件\n"
     ]
    },
    {
     "name": "stderr",
     "output_type": "stream",
     "text": [
      "INFO:snowboy:Keyword 1 detected at time: 2020-02-12 17:08:49\n"
     ]
    },
    {
     "name": "stdout",
     "output_type": "stream",
     "text": [
      "recording audio...正在识别...\n",
      "正在识别语音...\n",
      "我可以学习人工智能\n"
     ]
    }
   ],
   "source": [
    "signal.signal(signal.SIGINT, signal_handler)\n",
    "\n",
    "#设置模型和灵敏度，sensitivity数字越大，识别越容易，但是也容易引起误判。\n",
    "detector = snowboydecoder.HotwordDetector(model, sensitivity=0.38)\n",
    "print('Listening... Press Ctrl+C to exit')\n",
    "\n",
    "# main loop\n",
    "detector.start(detected_callback=detectedCallback,\n",
    "               audio_recorder_callback=audioRecorderCallback,\n",
    "               interrupt_check=interrupt_callback,\n",
    "               sleep_time=0.01)\n",
    "\n",
    "detector.terminate()"
   ]
  },
  {
   "cell_type": "code",
   "execution_count": null,
   "metadata": {},
   "outputs": [],
   "source": []
  }
 ],
 "metadata": {
  "kernelspec": {
   "display_name": "Python 3",
   "language": "python",
   "name": "python3"
  },
  "language_info": {
   "codemirror_mode": {
    "name": "ipython",
    "version": 3
   },
   "file_extension": ".py",
   "mimetype": "text/x-python",
   "name": "python",
   "nbconvert_exporter": "python",
   "pygments_lexer": "ipython3",
   "version": "3.5.2"
  }
 },
 "nbformat": 4,
 "nbformat_minor": 2
}
