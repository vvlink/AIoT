{
 "cells": [
  {
   "cell_type": "markdown",
   "metadata": {},
   "source": [
    "# 文字识别与语音"
   ]
  },
  {
   "cell_type": "raw",
   "metadata": {},
   "source": [
    "第一步、导入库"
   ]
  },
  {
   "cell_type": "code",
   "execution_count": 1,
   "metadata": {},
   "outputs": [],
   "source": [
    "# -*- coding: UTF-8 -*-\n",
    "from aip import AipOcr  \n",
    "from aip import AipSpeech\n",
    "import os"
   ]
  },
  {
   "cell_type": "raw",
   "metadata": {},
   "source": [
    "第二步、设置认证信息\n",
    "\n",
    "注：这里用的是测试账号，有访问次数的限制，请使用自己的账号信息。"
   ]
  },
  {
   "cell_type": "code",
   "execution_count": 2,
   "metadata": {},
   "outputs": [],
   "source": [
    "\"\"\" 你的 APPID AK SK \"\"\"\n",
    "APP_ID = '17604014'\n",
    "API_KEY = 'ZoFHtvKDBI1Q30NueCMjrh4p'\n",
    "SECRET_KEY = 'ICvqvKDEYlrzPbOTMdGUEsGmnXzaP8MG'"
   ]
  },
  {
   "cell_type": "raw",
   "metadata": {},
   "source": [
    "第三步、初始化AipFace对象"
   ]
  },
  {
   "cell_type": "code",
   "execution_count": 3,
   "metadata": {},
   "outputs": [],
   "source": [
    "aipOcr = AipOcr(APP_ID, API_KEY, SECRET_KEY)\n",
    "client = AipSpeech(APP_ID, API_KEY, SECRET_KEY)"
   ]
  },
  {
   "cell_type": "raw",
   "metadata": {},
   "source": [
    "第四步、读取图片，图片不能过大，最好100KB左右"
   ]
  },
  {
   "cell_type": "code",
   "execution_count": 4,
   "metadata": {},
   "outputs": [],
   "source": [
    "filePath = \"word.jpg\"\n",
    "\n",
    "#读取图片\n",
    "def get_file_content(filePath):\n",
    "    with open(filePath, 'rb') as fp:\n",
    "        return fp.read()"
   ]
  },
  {
   "cell_type": "raw",
   "metadata": {},
   "source": [
    "第五步、定义参数变量"
   ]
  },
  {
   "cell_type": "code",
   "execution_count": 5,
   "metadata": {},
   "outputs": [],
   "source": [
    "options = {\n",
    " 'detect_direction': 'true',\n",
    " 'language_type': 'CHN_ENG',\n",
    "}"
   ]
  },
  {
   "cell_type": "raw",
   "metadata": {},
   "source": [
    "第六步、调用通用文字识别接口，打印并读出文字"
   ]
  },
  {
   "cell_type": "code",
   "execution_count": 6,
   "metadata": {},
   "outputs": [
    {
     "name": "stderr",
     "output_type": "stream",
     "text": [
      "/usr/lib/python3/dist-packages/urllib3/connectionpool.py:794: InsecureRequestWarning: Unverified HTTPS request is being made. Adding certificate verification is strongly advised. See: https://urllib3.readthedocs.org/en/latest/security.html\n",
      "  InsecureRequestWarning)\n"
     ]
    },
    {
     "name": "stdout",
     "output_type": "stream",
     "text": [
      "{'log_id': 2737183951599051701, 'words_result_num': 2, 'words_result': [{'words': '理性是生存感性是生活'}, {'words': '生命不息生活不止'}], 'direction': 0}\n",
      "理性是生存感性是生活\n",
      "生命不息生活不止\n"
     ]
    }
   ],
   "source": [
    "result = aipOcr.basicGeneral(get_file_content(filePath), options)\n",
    "print(result)\n",
    "words_result=result['words_result']\n",
    "for i in range(len(words_result)):\n",
    "    words = words_result[i]['words']\n",
    "    print(words)\n",
    "    result = client.synthesis(words, 'zh', 1, {\n",
    "            'vol': 5,\n",
    "        })\n",
    "\n",
    "    # 识别正确返回语音二进制 错误则返回dict 参照下面错误码\n",
    "    if not isinstance(result, dict):\n",
    "        with open('auido.mp3', 'wb') as f:\n",
    "            f.write(result)\n",
    "        os.system('play auido.mp3')"
   ]
  },
  {
   "cell_type": "markdown",
   "metadata": {},
   "source": [
    "思考：如何实现图片放在摄像头下拍照，再识别？"
   ]
  }
 ],
 "metadata": {
  "kernelspec": {
   "display_name": "Python 3",
   "language": "python",
   "name": "python3"
  },
  "language_info": {
   "codemirror_mode": {
    "name": "ipython",
    "version": 3
   },
   "file_extension": ".py",
   "mimetype": "text/x-python",
   "name": "python",
   "nbconvert_exporter": "python",
   "pygments_lexer": "ipython3",
   "version": "3.5.2"
  }
 },
 "nbformat": 4,
 "nbformat_minor": 2
}
