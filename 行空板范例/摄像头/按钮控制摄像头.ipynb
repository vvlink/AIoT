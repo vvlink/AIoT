{
 "cells": [
  {
   "cell_type": "markdown",
   "metadata": {},
   "source": [
    "# 摄像头控制范例模板\n",
    "\n",
    "功能描述：能够获取行空板的摄像头内容，保存图片或者显示在网页上。\n",
    "\n",
    "准备工作：摄像头（任何一款普通的免驱摄像头）"
   ]
  },
  {
   "cell_type": "markdown",
   "metadata": {},
   "source": [
    "## 基本库"
   ]
  },
  {
   "cell_type": "code",
   "execution_count": null,
   "metadata": {},
   "outputs": [],
   "source": [
    "# 应用摄像头的准备工作\n",
    "# -*- coding: UTF-8 -*-\n",
    "import cv2\n",
    "from IPython import display\n",
    "from matplotlib import pyplot as plt\n",
    "import time"
   ]
  },
  {
   "cell_type": "markdown",
   "metadata": {},
   "source": [
    "## 核心函数\n",
    "\n",
    "请根据需要，运行相应的函数，也可以全部运行。"
   ]
  },
  {
   "cell_type": "code",
   "execution_count": null,
   "metadata": {
    "scrolled": true
   },
   "outputs": [],
   "source": [
    "#基本函数1：获取摄像头内容保存为图片\n",
    "def getcampic(fname):\n",
    "    cap = cv2.VideoCapture(0)        # 打开摄像头\n",
    "    ret, frame = cap.read()       # 读摄像头\n",
    "    cv2.imwrite(fname,frame)\n",
    "    cap.release()      \n",
    "    cv2.destroyAllWindows() \n",
    "    return True\n",
    "##测试\n",
    "getcampic(\"test.jpg\")"
   ]
  },
  {
   "cell_type": "markdown",
   "metadata": {},
   "source": [
    "请在这个文件夹下查看，是不是出现了test.jpg？"
   ]
  },
  {
   "cell_type": "code",
   "execution_count": null,
   "metadata": {},
   "outputs": [],
   "source": [
    "#基本函数2：在网页上显示摄像头图片\n",
    "def showcampic():\n",
    "    cap = cv2.VideoCapture(0)        # 打开摄像头\n",
    "    ret, frame = cap.read()       # 读摄像头\n",
    "    display.clear_output(wait=True) # 设置在一个画面中刷新\n",
    "    plt.imshow(frame[:,:,::-1])\n",
    "    plt.axis('off') #不显示坐标\n",
    "    plt.show()\n",
    "    cap.release()      \n",
    "    cv2.destroyAllWindows() \n",
    "##测试\n",
    "showcampic()"
   ]
  },
  {
   "cell_type": "code",
   "execution_count": null,
   "metadata": {},
   "outputs": [],
   "source": [
    "#基本函数3：显示摄像头图片并且保存为图片文件\n",
    "def get_showcampic(fname):\n",
    "    cap = cv2.VideoCapture(0)        # 打开摄像头\n",
    "    ret, frame = cap.read()       # 读摄像头\n",
    "    display.clear_output(wait=True) # 设置在一个画面中刷新\n",
    "    cv2.imwrite(fname,frame)\n",
    "    plt.imshow(frame[:,:,::-1])\n",
    "    plt.axis('off') #不显示坐标\n",
    "    plt.show()\n",
    "    cap.release()      \n",
    "    cv2.destroyAllWindows() \n",
    "##测试\n",
    "get_showcampic(\"test.jpg\")"
   ]
  },
  {
   "cell_type": "markdown",
   "metadata": {},
   "source": [
    "如何使用？只要将基本库导入和相应的核心函数一起放在自己的代码中，即可操作摄像头了。"
   ]
  },
  {
   "cell_type": "markdown",
   "metadata": {},
   "source": [
    "## 按钮控制摄像头\n",
    "\n",
    "### 行空板的板载资源信息：\n",
    "- 板载LED：P25\n",
    "- 蜂鸣器：P26\n",
    "- 按钮A：P27\n",
    "- 按钮B：P28\n",
    "\n",
    "注意：按钮按下是0，默认是1。\n",
    "\n",
    "### 代码说明\n",
    "拍摄10张后退出，加上1秒的等待（time.sleep(1)），是为了防止连续拍照。"
   ]
  },
  {
   "cell_type": "code",
   "execution_count": null,
   "metadata": {},
   "outputs": [],
   "source": [
    "from pinpong.board import Board,Pin\n",
    "Board().begin()\n",
    "a = Pin(Pin.D27,Pin.IN)\n",
    "i=1\n",
    "while i<10:\n",
    "    if a.read_digital() == 0:\n",
    "        getcampic(\"get-\" + str(i) + \".jpg\")\n",
    "        print(\"完成一张照片！\")\n",
    "        time.sleep(1)\n",
    "        i = i+1"
   ]
  },
  {
   "cell_type": "markdown",
   "metadata": {},
   "source": [
    "### 完整的代码\n",
    "\n",
    "建议先停止前面的代码（重启），再运行下面的代码。"
   ]
  },
  {
   "cell_type": "code",
   "execution_count": null,
   "metadata": {},
   "outputs": [
    {
     "name": "stdout",
     "output_type": "stream",
     "text": [
      "\n",
      "  ___________________________\n",
      " |                           |\n",
      " |      PinPong v0.4.7       |\n",
      " |    Designed by DFRobot    |\n",
      " |___________________________|\n",
      " \n",
      "[01] Python3.7.3 Linux-4.4.143-67-rockchip-g01bbbc5d1312-aarch64-with-debian-10.11 Board: UNIHIKER\n",
      "selected -> board: UNIHIKER serial: /dev/ttyS3\n",
      "[10] Opening /dev/ttyS3\n",
      "[32] Firmata ID: 3.0\n",
      "[22] Arduino compatible device found and connected to /dev/ttyS3\n",
      "[40] Retrieving analog map...\n",
      "[42] Auto-discovery complete. Found 30 Digital Pins and 30 Analog Pins\n",
      "------------------------------\n",
      "All right. PinPong go...\n",
      "------------------------------\n",
      "\n",
      "f-1.jpg已经保存！\n",
      "f-2.jpg已经保存！\n",
      "f-3.jpg已经保存！\n"
     ]
    }
   ],
   "source": [
    "import cv2,time\n",
    "from pinpong.board import Board,Pin\n",
    "Board().begin()\n",
    "a = Pin(Pin.D27,Pin.IN)\n",
    "cap = cv2.VideoCapture(0)        # 打开摄像头\n",
    "i = 1\n",
    "while i<10:\n",
    "    fname = \"f-\" + str(i) + \".jpg\"\n",
    "    if a.read_digital() == 0:\n",
    "        ret, frame = cap.read()       # 读摄像头\n",
    "        cv2.imwrite(fname,frame)\n",
    "        print(fname + \"已经保存！\")\n",
    "        time.sleep(1)\n",
    "        i = i+1\n",
    "cap.release()      \n",
    "cv2.destroyAllWindows() "
   ]
  },
  {
   "cell_type": "code",
   "execution_count": null,
   "metadata": {},
   "outputs": [],
   "source": []
  }
 ],
 "metadata": {
  "kernelspec": {
   "display_name": "Python 3 (ipykernel)",
   "language": "python",
   "name": "python3"
  },
  "language_info": {
   "codemirror_mode": {
    "name": "ipython",
    "version": 3
   },
   "file_extension": ".py",
   "mimetype": "text/x-python",
   "name": "python",
   "nbconvert_exporter": "python",
   "pygments_lexer": "ipython3",
   "version": "3.7.3"
  }
 },
 "nbformat": 4,
 "nbformat_minor": 2
}
