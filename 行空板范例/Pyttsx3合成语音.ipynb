{
 "cells": [
  {
   "cell_type": "markdown",
   "id": "22932f35",
   "metadata": {},
   "source": [
    "# Pyttsx3合成语音\n",
    "\n",
    "Pyttsx3是一个本地语音合成库。"
   ]
  },
  {
   "cell_type": "markdown",
   "id": "3cf90029",
   "metadata": {},
   "source": [
    "## 1.朗读文字"
   ]
  },
  {
   "cell_type": "code",
   "execution_count": 2,
   "id": "9b535caf",
   "metadata": {},
   "outputs": [],
   "source": [
    "import pyttsx3\n",
    "engine = pyttsx3.init()\n",
    "engine.say('明天早上，我要五点钟起床，好好学习！')\n",
    "engine.runAndWait()"
   ]
  },
  {
   "cell_type": "markdown",
   "id": "338370a6",
   "metadata": {},
   "source": [
    "## 2.输出语音到音频文件"
   ]
  },
  {
   "cell_type": "code",
   "execution_count": 1,
   "id": "e375f11b",
   "metadata": {},
   "outputs": [],
   "source": [
    "import pyttsx3\n",
    "engine = pyttsx3.init()\n",
    "engine.save_to_file('明天早上，我要五点钟起床，好好学习！' , 'test.mp3')\n",
    "engine.runAndWait()"
   ]
  },
  {
   "cell_type": "markdown",
   "id": "128a1d2d",
   "metadata": {},
   "source": [
    "## 3.输出所有支持的语音"
   ]
  },
  {
   "cell_type": "code",
   "execution_count": null,
   "id": "1cecb219",
   "metadata": {},
   "outputs": [],
   "source": [
    "import pyttsx3\n",
    "engine = pyttsx3.init()\n",
    "voices = engine.getProperty('voices')\n",
    "for voice in voices:\n",
    "   engine.setProperty('voice', voice.id)\n",
    "   engine.say('明天早上，我要五点钟起床，好好学习！')\n",
    "   print(voice.id)\n",
    "   engine.runAndWait()"
   ]
  }
 ],
 "metadata": {
  "kernelspec": {
   "display_name": "Python 3 (ipykernel)",
   "language": "python",
   "name": "python3"
  },
  "language_info": {
   "codemirror_mode": {
    "name": "ipython",
    "version": 3
   },
   "file_extension": ".py",
   "mimetype": "text/x-python",
   "name": "python",
   "nbconvert_exporter": "python",
   "pygments_lexer": "ipython3",
   "version": "3.7.3"
  }
 },
 "nbformat": 4,
 "nbformat_minor": 5
}
