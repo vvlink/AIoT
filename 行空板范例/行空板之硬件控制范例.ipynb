{
 "cells": [
  {
   "cell_type": "markdown",
   "id": "406657e3",
   "metadata": {},
   "source": [
    "# 行空板之硬件控制\n",
    "\n",
    "行空板内置了单片机，采用串口方式和主芯片连接。借助pinpong库即可实现传感和控制。\n",
    "\n",
    "## 1.导入库"
   ]
  },
  {
   "cell_type": "code",
   "execution_count": 1,
   "id": "89109ed8",
   "metadata": {},
   "outputs": [],
   "source": [
    "from pinpong.board import Board,Pin,DHT11"
   ]
  },
  {
   "cell_type": "markdown",
   "id": "cb6e54d4",
   "metadata": {},
   "source": [
    "不需要指定板子类型，也能自动识别。"
   ]
  },
  {
   "cell_type": "code",
   "execution_count": 2,
   "id": "123981d5",
   "metadata": {},
   "outputs": [
    {
     "name": "stdout",
     "output_type": "stream",
     "text": [
      "\n",
      "  ___________________________\n",
      " |                           |\n",
      " |      PinPong v0.4.7       |\n",
      " |    Designed by DFRobot    |\n",
      " |___________________________|\n",
      " \n",
      "[01] Python3.7.3 Linux-4.4.143-67-rockchip-g01bbbc5d1312-aarch64-with-debian-10.11 Board: UNIHIKER\n",
      "selected -> board: UNIHIKER serial: /dev/ttyS3\n",
      "[10] Opening /dev/ttyS3\n",
      "[32] Firmata ID: 3.0\n",
      "[22] Arduino compatible device found and connected to /dev/ttyS3\n",
      "[40] Retrieving analog map...\n",
      "[42] Auto-discovery complete. Found 30 Digital Pins and 30 Analog Pins\n",
      "------------------------------\n",
      "All right. PinPong go...\n",
      "------------------------------\n",
      "\n"
     ]
    },
    {
     "data": {
      "text/plain": [
       "<pinpong.board.Board at 0x7fa05950b8>"
      ]
     },
     "execution_count": 2,
     "metadata": {},
     "output_type": "execute_result"
    }
   ],
   "source": [
    "Board().begin()"
   ]
  },
  {
   "cell_type": "markdown",
   "id": "eb2badbf",
   "metadata": {},
   "source": [
    "## 2.控制LED"
   ]
  },
  {
   "cell_type": "code",
   "execution_count": 3,
   "id": "d5637cd6",
   "metadata": {},
   "outputs": [],
   "source": [
    "led = Pin(Pin.P24,Pin.OUT)"
   ]
  },
  {
   "cell_type": "code",
   "execution_count": 4,
   "id": "f5e7b527",
   "metadata": {},
   "outputs": [],
   "source": [
    "led.write_digital(1)"
   ]
  },
  {
   "cell_type": "code",
   "execution_count": 5,
   "id": "5c011db0",
   "metadata": {},
   "outputs": [],
   "source": [
    "led.write_digital(0)"
   ]
  },
  {
   "cell_type": "markdown",
   "id": "70d569de",
   "metadata": {},
   "source": [
    "## 3.读取DH11温湿度传感器"
   ]
  },
  {
   "cell_type": "code",
   "execution_count": 6,
   "id": "1b2c98ea",
   "metadata": {},
   "outputs": [],
   "source": [
    "dht11 = DHT11(Pin(Pin.D23))"
   ]
  },
  {
   "cell_type": "code",
   "execution_count": 7,
   "id": "d8a8adb3",
   "metadata": {},
   "outputs": [],
   "source": [
    "temp = dht11.temp_c()\n",
    "humi = dht11.humidity()"
   ]
  },
  {
   "cell_type": "code",
   "execution_count": 8,
   "id": "94ded409",
   "metadata": {},
   "outputs": [
    {
     "name": "stdout",
     "output_type": "stream",
     "text": [
      "25.2\n",
      "56.0\n"
     ]
    }
   ],
   "source": [
    "print(temp)\n",
    "print(humi)"
   ]
  },
  {
   "cell_type": "markdown",
   "id": "83e0aa1f",
   "metadata": {},
   "source": [
    "每隔1秒读取一次，连续读取30次。"
   ]
  },
  {
   "cell_type": "code",
   "execution_count": 9,
   "id": "6cd74bac",
   "metadata": {},
   "outputs": [
    {
     "name": "stdout",
     "output_type": "stream",
     "text": [
      "26.0\n",
      "55.0\n",
      "26.0\n",
      "55.0\n",
      "26.0\n",
      "55.0\n",
      "26.0\n",
      "55.0\n",
      "26.0\n",
      "55.0\n",
      "26.0\n",
      "55.0\n",
      "26.0\n",
      "55.0\n",
      "26.0\n",
      "55.0\n",
      "26.0\n",
      "55.0\n",
      "26.0\n",
      "56.0\n",
      "26.0\n",
      "57.0\n",
      "26.6\n",
      "70.0\n",
      "27.5\n",
      "85.0\n",
      "28.6\n",
      "95.0\n",
      "29.1\n",
      "98.0\n",
      "29.1\n",
      "99.0\n",
      "29.1\n",
      "99.0\n",
      "29.1\n",
      "99.0\n",
      "29.1\n",
      "99.0\n",
      "29.0\n",
      "99.0\n",
      "28.9\n",
      "98.0\n",
      "28.9\n",
      "97.0\n",
      "28.7\n",
      "96.0\n",
      "28.6\n",
      "95.0\n",
      "28.5\n",
      "93.0\n",
      "28.4\n",
      "92.0\n",
      "28.3\n",
      "91.0\n",
      "28.1\n",
      "90.0\n",
      "28.0\n",
      "90.0\n",
      "27.9\n",
      "90.0\n",
      "27.8\n",
      "89.0\n",
      "27.7\n",
      "89.0\n",
      "27.7\n",
      "89.0\n",
      "27.5\n",
      "88.0\n",
      "27.5\n",
      "88.0\n",
      "27.4\n",
      "88.0\n",
      "27.3\n",
      "87.0\n",
      "27.3\n",
      "87.0\n",
      "27.2\n",
      "87.0\n",
      "27.2\n",
      "86.0\n",
      "27.1\n",
      "85.0\n",
      "27.0\n",
      "85.0\n",
      "27.0\n",
      "84.0\n",
      "26.9\n",
      "83.0\n",
      "26.9\n",
      "82.0\n",
      "26.8\n",
      "81.0\n",
      "26.8\n",
      "80.0\n",
      "26.7\n",
      "79.0\n",
      "26.6\n",
      "79.0\n",
      "26.5\n",
      "77.0\n",
      "26.5\n",
      "76.0\n",
      "26.4\n",
      "76.0\n",
      "26.4\n",
      "75.0\n",
      "26.4\n",
      "75.0\n",
      "26.4\n",
      "76.0\n",
      "26.3\n",
      "77.0\n",
      "26.2\n",
      "78.0\n",
      "26.2\n",
      "79.0\n",
      "26.2\n",
      "79.0\n",
      "26.2\n",
      "80.0\n",
      "26.2\n",
      "80.0\n",
      "26.2\n",
      "81.0\n",
      "26.1\n",
      "81.0\n",
      "26.1\n",
      "81.0\n",
      "26.1\n",
      "82.0\n",
      "26.1\n",
      "82.0\n",
      "26.1\n",
      "82.0\n",
      "26.1\n",
      "82.0\n",
      "26.0\n",
      "82.0\n",
      "26.0\n",
      "82.0\n",
      "26.0\n",
      "82.0\n",
      "26.0\n",
      "83.0\n",
      "26.0\n",
      "83.0\n",
      "26.0\n",
      "83.0\n",
      "26.0\n",
      "83.0\n",
      "25.9\n",
      "83.0\n",
      "25.9\n",
      "83.0\n",
      "25.9\n",
      "83.0\n",
      "25.8\n",
      "82.0\n",
      "25.8\n",
      "82.0\n",
      "25.8\n",
      "82.0\n",
      "25.8\n",
      "82.0\n",
      "25.8\n",
      "82.0\n",
      "25.8\n",
      "82.0\n",
      "25.8\n",
      "82.0\n",
      "25.8\n",
      "82.0\n"
     ]
    },
    {
     "ename": "KeyboardInterrupt",
     "evalue": "",
     "output_type": "error",
     "traceback": [
      "\u001b[0;31m---------------------------------------------------------------------------\u001b[0m",
      "\u001b[0;31mKeyboardInterrupt\u001b[0m                         Traceback (most recent call last)",
      "\u001b[0;32m/tmp/ipykernel_1232/3577661156.py\u001b[0m in \u001b[0;36m<module>\u001b[0;34m\u001b[0m\n\u001b[1;32m      7\u001b[0m     \u001b[0mprint\u001b[0m\u001b[0;34m(\u001b[0m\u001b[0mtemp\u001b[0m\u001b[0;34m)\u001b[0m\u001b[0;34m\u001b[0m\u001b[0;34m\u001b[0m\u001b[0m\n\u001b[1;32m      8\u001b[0m     \u001b[0mprint\u001b[0m\u001b[0;34m(\u001b[0m\u001b[0mhumi\u001b[0m\u001b[0;34m)\u001b[0m\u001b[0;34m\u001b[0m\u001b[0;34m\u001b[0m\u001b[0m\n\u001b[0;32m----> 9\u001b[0;31m     \u001b[0mtime\u001b[0m\u001b[0;34m.\u001b[0m\u001b[0msleep\u001b[0m\u001b[0;34m(\u001b[0m\u001b[0;36m1\u001b[0m\u001b[0;34m)\u001b[0m\u001b[0;34m\u001b[0m\u001b[0;34m\u001b[0m\u001b[0m\n\u001b[0m",
      "\u001b[0;31mKeyboardInterrupt\u001b[0m: "
     ]
    }
   ],
   "source": [
    "import time\n",
    "i = 0\n",
    "while i<30:\n",
    "    i = i+1\n",
    "    temp = dht11.temp_c()\n",
    "    humi = dht11.humidity()\n",
    "    print(temp)\n",
    "    print(humi)\n",
    "    time.sleep(1)"
   ]
  },
  {
   "cell_type": "code",
   "execution_count": null,
   "id": "37cf34bb",
   "metadata": {},
   "outputs": [],
   "source": []
  }
 ],
 "metadata": {
  "kernelspec": {
   "display_name": "Python 3 (ipykernel)",
   "language": "python",
   "name": "python3"
  },
  "language_info": {
   "codemirror_mode": {
    "name": "ipython",
    "version": 3
   },
   "file_extension": ".py",
   "mimetype": "text/x-python",
   "name": "python",
   "nbconvert_exporter": "python",
   "pygments_lexer": "ipython3",
   "version": "3.7.3"
  }
 },
 "nbformat": 4,
 "nbformat_minor": 5
}
