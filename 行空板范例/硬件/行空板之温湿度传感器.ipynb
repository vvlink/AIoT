{
 "cells": [
  {
   "cell_type": "markdown",
   "id": "406657e3",
   "metadata": {},
   "source": [
    "# 行空板之温湿度传感器\n",
    "\n",
    "行空板内置了单片机，采用串口方式和主芯片连接，借助pinpong库即可实现传感和控制。\n",
    "\n",
    "温湿度传感器是常用的传感器之一，DHT11或者DHT22接口的比较常见。\n",
    "\n",
    "\n",
    "## 1.导入库"
   ]
  },
  {
   "cell_type": "code",
   "execution_count": 1,
   "id": "89109ed8",
   "metadata": {},
   "outputs": [],
   "source": [
    "from pinpong.board import Board,DHT11"
   ]
  },
  {
   "cell_type": "markdown",
   "id": "cb6e54d4",
   "metadata": {},
   "source": [
    "不需要指定板子类型，也能自动识别。"
   ]
  },
  {
   "cell_type": "code",
   "execution_count": 2,
   "id": "123981d5",
   "metadata": {},
   "outputs": [
    {
     "name": "stdout",
     "output_type": "stream",
     "text": [
      "\n",
      "  ___________________________\n",
      " |                           |\n",
      " |      PinPong v0.4.7       |\n",
      " |    Designed by DFRobot    |\n",
      " |___________________________|\n",
      " \n",
      "[01] Python3.7.3 Linux-4.4.143-67-rockchip-g01bbbc5d1312-aarch64-with-debian-10.11 Board: UNIHIKER\n",
      "selected -> board: UNIHIKER serial: /dev/ttyS3\n",
      "[10] Opening /dev/ttyS3\n",
      "[32] Firmata ID: 3.0\n",
      "[22] Arduino compatible device found and connected to /dev/ttyS3\n",
      "[40] Retrieving analog map...\n",
      "[42] Auto-discovery complete. Found 30 Digital Pins and 30 Analog Pins\n",
      "------------------------------\n",
      "All right. PinPong go...\n",
      "------------------------------\n",
      "\n"
     ]
    },
    {
     "data": {
      "text/plain": [
       "<pinpong.board.Board at 0x7fac133e10>"
      ]
     },
     "execution_count": 2,
     "metadata": {},
     "output_type": "execute_result"
    }
   ],
   "source": [
    "Board().begin()"
   ]
  },
  {
   "cell_type": "markdown",
   "id": "70d569de",
   "metadata": {},
   "source": [
    "## 2.读取DHT11温湿度传感器\n",
    "\n",
    "传感器接在23引脚。"
   ]
  },
  {
   "cell_type": "code",
   "execution_count": null,
   "id": "1b2c98ea",
   "metadata": {},
   "outputs": [],
   "source": [
    "dht11 = DHT11(Pin(Pin.D23))"
   ]
  },
  {
   "cell_type": "code",
   "execution_count": null,
   "id": "d8a8adb3",
   "metadata": {},
   "outputs": [],
   "source": [
    "temp = dht11.temp_c()\n",
    "humi = dht11.humidity()"
   ]
  },
  {
   "cell_type": "code",
   "execution_count": null,
   "id": "94ded409",
   "metadata": {},
   "outputs": [],
   "source": [
    "print(temp)\n",
    "print(humi)"
   ]
  },
  {
   "cell_type": "markdown",
   "id": "83e0aa1f",
   "metadata": {},
   "source": [
    "每隔1秒读取一次，连续读取30次。"
   ]
  },
  {
   "cell_type": "code",
   "execution_count": null,
   "id": "6cd74bac",
   "metadata": {},
   "outputs": [],
   "source": [
    "import time\n",
    "i = 0\n",
    "while i<10:\n",
    "    i = i+1\n",
    "    temp = dht11.temp_c()\n",
    "    humi = dht11.humidity()\n",
    "    print(temp,humi)\n",
    "    time.sleep(1)"
   ]
  },
  {
   "cell_type": "markdown",
   "id": "eb2badbf",
   "metadata": {},
   "source": [
    "## 3.结合蜂鸣器做报警\n",
    "\n",
    "蜂鸣器在行空板的26口，需要用PWM方式驱动。"
   ]
  },
  {
   "cell_type": "code",
   "execution_count": 7,
   "id": "d5637cd6",
   "metadata": {},
   "outputs": [],
   "source": [
    "from pinpong.board import Pin\n",
    "buzzer= Pin(Pin.D26,Pin.PWM)"
   ]
  },
  {
   "cell_type": "code",
   "execution_count": 8,
   "id": "f5e7b527",
   "metadata": {},
   "outputs": [],
   "source": [
    "buzzer.write_analog(1)"
   ]
  },
  {
   "cell_type": "code",
   "execution_count": 9,
   "id": "5c011db0",
   "metadata": {},
   "outputs": [],
   "source": [
    "buzzer.write_analog(200)"
   ]
  },
  {
   "cell_type": "code",
   "execution_count": 10,
   "id": "bb554efa",
   "metadata": {},
   "outputs": [],
   "source": [
    "buzzer.write_analog(0)"
   ]
  },
  {
   "cell_type": "code",
   "execution_count": null,
   "id": "9fc1992f",
   "metadata": {},
   "outputs": [],
   "source": [
    "# 当温度高于40，就用蜂鸣器发出警报\n",
    "while True:\n",
    "    temp = dht11.temp_c()\n",
    "    humi = dht11.humidity()\n",
    "    if temp>40:\n",
    "        buzzer.write_analog(200)\n",
    "    else:\n",
    "        buzzer.write_analog(0)"
   ]
  }
 ],
 "metadata": {
  "kernelspec": {
   "display_name": "Python 3 (ipykernel)",
   "language": "python",
   "name": "python3"
  },
  "language_info": {
   "codemirror_mode": {
    "name": "ipython",
    "version": 3
   },
   "file_extension": ".py",
   "mimetype": "text/x-python",
   "name": "python",
   "nbconvert_exporter": "python",
   "pygments_lexer": "ipython3",
   "version": "3.7.3"
  }
 },
 "nbformat": 4,
 "nbformat_minor": 5
}
