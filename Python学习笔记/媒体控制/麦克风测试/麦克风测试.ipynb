{
 "cells": [
  {
   "cell_type": "markdown",
   "metadata": {},
   "source": [
    "# 麦克风测试"
   ]
  },
  {
   "cell_type": "markdown",
   "metadata": {},
   "source": [
    "PyAudio是Python开源工具包，是提供对语音操作的工具包,提供录音播放处理等功能，可以视作语音领域的OpenCV。\n",
    "\n",
    "利用PyAudio，在Jupyter下就能使用Python代码录音、播放声音。本代码可以用来测试麦克风音箱是否正常。\n",
    "\n",
    "推荐器材：https://vvboard.readthedocs.io/zh_CN/latest/07.plus/7.3-sound-card.html"
   ]
  },
  {
   "cell_type": "markdown",
   "metadata": {},
   "source": [
    "### 1.录音\n",
    "\n",
    "下面代码中，录音的数据内容将存放在数组“frames”中。虚谷号要接上麦克风。如果使用带麦克风的摄像头，录音时会看到指示灯亮起。"
   ]
  },
  {
   "cell_type": "code",
   "execution_count": 1,
   "metadata": {},
   "outputs": [
    {
     "name": "stdout",
     "output_type": "stream",
     "text": [
      "录音开始\n",
      "录音结束\n"
     ]
    }
   ],
   "source": [
    "import pyaudio\n",
    "# 数据流块大小\n",
    "CHUNK = 1024\n",
    "# 位数\n",
    "FORMAT = pyaudio.paInt16\n",
    "# 声道\n",
    "CHANNELS = 1\n",
    "# 频率：16000\n",
    "RATE = 16000\n",
    "# 声音长度，单位秒\n",
    "record_second = 5\n",
    "p = pyaudio.PyAudio()\n",
    "stream = p.open(format=FORMAT,\n",
    "                channels=CHANNELS,\n",
    "                rate=RATE,\n",
    "                input=True,\n",
    "                frames_per_buffer=CHUNK)\n",
    "print(\"录音开始\")\n",
    "frames = []\n",
    "for i in range(0, int(RATE / CHUNK * record_second)):\n",
    "    data = stream.read(CHUNK)\n",
    "    frames.append(data)\n",
    "stream.stop_stream()\n",
    "stream.close()\n",
    "print(\"录音结束\")"
   ]
  },
  {
   "cell_type": "markdown",
   "metadata": {},
   "source": [
    "### 2.回放\n",
    "\n",
    "再次用pyaudio将stream中的声音播放出来，虚谷号要接音箱，而且要先录音才能回放。"
   ]
  },
  {
   "cell_type": "code",
   "execution_count": 2,
   "metadata": {},
   "outputs": [
    {
     "name": "stdout",
     "output_type": "stream",
     "text": [
      "听到声音了吗？\n"
     ]
    }
   ],
   "source": [
    "stream = p.open(format=FORMAT,\n",
    "                channels=CHANNELS,\n",
    "                rate=RATE,\n",
    "                output=True,\n",
    "                frames_per_buffer=CHUNK)\n",
    "for i in range(0, int(RATE / CHUNK * 5)):\n",
    "    stream.write(frames[i])\n",
    "stream.stop_stream()\n",
    "stream.close()\n",
    "print(\"听到声音了吗？\")"
   ]
  },
  {
   "cell_type": "markdown",
   "metadata": {},
   "source": [
    "### 3.录音保存\n",
    "\n",
    "使用wave库保存录音文件，代码运行结束后，目录下将出现一个wav文件。"
   ]
  },
  {
   "cell_type": "code",
   "execution_count": 3,
   "metadata": {},
   "outputs": [
    {
     "name": "stdout",
     "output_type": "stream",
     "text": [
      "声音保存成功！\n"
     ]
    }
   ],
   "source": [
    "import wave\n",
    "filename = \"output.wav\"\n",
    "wf = wave.open(filename, 'wb')\n",
    "wf.setnchannels(CHANNELS)\n",
    "wf.setsampwidth(p.get_sample_size(FORMAT))\n",
    "wf.setframerate(RATE)\n",
    "wf.writeframes(b''.join(frames))\n",
    "wf.close()\n",
    "p.terminate()\n",
    "print(\"声音保存成功！\")"
   ]
  },
  {
   "cell_type": "markdown",
   "metadata": {},
   "source": [
    "### 4.完整代码\n",
    "\n",
    "从录音到保存为完整文件。"
   ]
  },
  {
   "cell_type": "code",
   "execution_count": 4,
   "metadata": {},
   "outputs": [
    {
     "name": "stdout",
     "output_type": "stream",
     "text": [
      "录音结束，声音保存成功！\n"
     ]
    }
   ],
   "source": [
    "import pyaudio\n",
    "import wave\n",
    "\n",
    "CHUNK = 1024\n",
    "FORMAT = pyaudio.paInt16\n",
    "CHANNELS = 1\n",
    "RATE = 16000\n",
    "# 声音长度，单位秒\n",
    "record_second = 5\n",
    "# 文件名称\n",
    "filename = \"output.wav\"\n",
    "p = pyaudio.PyAudio()\n",
    "stream = p.open(format=FORMAT,\n",
    "                channels=CHANNELS,\n",
    "                rate=RATE,\n",
    "                input=True,\n",
    "                frames_per_buffer=CHUNK)\n",
    "frames = []\n",
    "for i in range(0, int(RATE / CHUNK * record_second)):\n",
    "    data = stream.read(CHUNK)\n",
    "    frames.append(data)\n",
    "stream.stop_stream()\n",
    "stream.close()\n",
    "wf = wave.open(filename, 'wb')\n",
    "wf.setnchannels(CHANNELS)\n",
    "wf.setsampwidth(p.get_sample_size(FORMAT))\n",
    "wf.setframerate(RATE)\n",
    "wf.writeframes(b''.join(frames))\n",
    "wf.close()\n",
    "p.terminate()\n",
    "print(\"录音结束，声音保存成功！\")"
   ]
  },
  {
   "cell_type": "markdown",
   "metadata": {},
   "source": [
    "### 5.快速播发音频的代码\n",
    "\n",
    "如果想，可以直接用Python代码调用系统命令来播发声音呢。"
   ]
  },
  {
   "cell_type": "code",
   "execution_count": 5,
   "metadata": {},
   "outputs": [
    {
     "data": {
      "text/plain": [
       "0"
      ]
     },
     "execution_count": 5,
     "metadata": {},
     "output_type": "execute_result"
    }
   ],
   "source": [
    "import os\n",
    "filename = \"output.wav\"\n",
    "os.system(\"play \" + filename)"
   ]
  },
  {
   "cell_type": "code",
   "execution_count": null,
   "metadata": {},
   "outputs": [],
   "source": []
  }
 ],
 "metadata": {
  "kernelspec": {
   "display_name": "Python 3",
   "language": "python",
   "name": "python3"
  },
  "language_info": {
   "codemirror_mode": {
    "name": "ipython",
    "version": 3
   },
   "file_extension": ".py",
   "mimetype": "text/x-python",
   "name": "python",
   "nbconvert_exporter": "python",
   "pygments_lexer": "ipython3",
   "version": "3.5.2"
  }
 },
 "nbformat": 4,
 "nbformat_minor": 2
}
