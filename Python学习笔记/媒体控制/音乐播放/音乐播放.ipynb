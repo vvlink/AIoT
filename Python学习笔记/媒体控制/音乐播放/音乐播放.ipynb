{
 "cells": [
  {
   "cell_type": "markdown",
   "metadata": {
    "slideshow": {
     "slide_type": "-"
    }
   },
   "source": [
    "# 音乐播放控制"
   ]
  },
  {
   "cell_type": "markdown",
   "metadata": {},
   "source": [
    "利用Jupyter和Python，可以用编程的方式控制虚谷号播放音乐。几行代码，虚谷号就变身为能远程控制的媒体播发器。\n",
    "\n",
    "注意：\n",
    "    - 如果使用usb小音箱，一定要采用2A以上的电源线供电。\n",
    "    - 要调节系统声音需要将asound.conf放到/etc里面（新固件已经放好）"
   ]
  },
  {
   "cell_type": "markdown",
   "metadata": {},
   "source": [
    "## 1.导入库"
   ]
  },
  {
   "cell_type": "code",
   "execution_count": 1,
   "metadata": {},
   "outputs": [
    {
     "name": "stdout",
     "output_type": "stream",
     "text": [
      "pygame 1.9.4\n",
      "Hello from the pygame community. https://www.pygame.org/contribute.html\n"
     ]
    }
   ],
   "source": [
    "import os\n",
    "import pygame"
   ]
  },
  {
   "cell_type": "markdown",
   "metadata": {},
   "source": [
    "## 2.媒体播放\n",
    "\n",
    "要在目录下放一个音频文件哦。"
   ]
  },
  {
   "cell_type": "code",
   "execution_count": 2,
   "metadata": {},
   "outputs": [],
   "source": [
    "# 初始化pygame\n",
    "pygame.init()\n",
    "# 选择播放的音频文件\n",
    "pygame.mixer.music.load(\"audio.mp3\")\n",
    "# 开始播放\n",
    "pygame.mixer.music.play()"
   ]
  },
  {
   "cell_type": "markdown",
   "metadata": {},
   "source": [
    "## 3.音量调节\n",
    "\n",
    "不仅可以调节当前音频的音量大小，还可以调节系统的音量。"
   ]
  },
  {
   "cell_type": "code",
   "execution_count": 3,
   "metadata": {},
   "outputs": [
    {
     "data": {
      "text/plain": [
       "256"
      ]
     },
     "execution_count": 3,
     "metadata": {},
     "output_type": "execute_result"
    }
   ],
   "source": [
    "# 调节pygame的播放音量，value的范围为0.0到1.0。\n",
    "pygame.mixer.music.set_volume(0.8)\n",
    "# 调节系统音量，值为0-37,这里设置为17\n",
    "os.system(\"amixer cset numid=6,iface=MIXER,name='Speaker Playback Volume' 17\")"
   ]
  },
  {
   "cell_type": "markdown",
   "metadata": {},
   "source": [
    "## 4.其他控制"
   ]
  },
  {
   "cell_type": "code",
   "execution_count": 4,
   "metadata": {
    "slideshow": {
     "slide_type": "slide"
    }
   },
   "outputs": [],
   "source": [
    "#暂停播放\n",
    "pygame.mixer.music.stop()"
   ]
  },
  {
   "cell_type": "code",
   "execution_count": 5,
   "metadata": {},
   "outputs": [],
   "source": [
    "# 继续播放\n",
    "pygame.mixer.music.play()"
   ]
  },
  {
   "cell_type": "markdown",
   "metadata": {},
   "source": [
    "## 5.实时控制音量\n",
    "\n",
    "使用jupyter自带的网页控件——用滑杆，可以实时控制音量。滑杆控件的取值范围为“-5,5,1”，表示一个刻度是1，从-5到5。"
   ]
  },
  {
   "cell_type": "code",
   "execution_count": 6,
   "metadata": {},
   "outputs": [
    {
     "data": {
      "application/vnd.jupyter.widget-view+json": {
       "model_id": "1d581f3e6cef40e1a48ff11a256b1e3b",
       "version_major": 2,
       "version_minor": 0
      },
      "text/plain": [
       "interactive(children=(IntSlider(value=0, description='value', max=5, min=-5), Output()), _dom_classes=('widget…"
      ]
     },
     "metadata": {},
     "output_type": "display_data"
    }
   ],
   "source": [
    "from ipywidgets import interact\n",
    "def f(value):\n",
    "    print((value+5)/10)\n",
    "    pygame.mixer.music.set_volume((value+5)/10)\n",
    "# Generate a slider \n",
    "interact(f, value=(-5,5,1));"
   ]
  },
  {
   "cell_type": "markdown",
   "metadata": {},
   "source": [
    "## 6.参考链接\n",
    "\n",
    "https://www.pygame.org/contribute.html"
   ]
  },
  {
   "cell_type": "code",
   "execution_count": null,
   "metadata": {},
   "outputs": [],
   "source": []
  }
 ],
 "metadata": {
  "kernelspec": {
   "display_name": "Python 3",
   "language": "python",
   "name": "python3"
  },
  "language_info": {
   "codemirror_mode": {
    "name": "ipython",
    "version": 3
   },
   "file_extension": ".py",
   "mimetype": "text/x-python",
   "name": "python",
   "nbconvert_exporter": "python",
   "pygments_lexer": "ipython3",
   "version": "3.5.2"
  }
 },
 "nbformat": 4,
 "nbformat_minor": 2
}
