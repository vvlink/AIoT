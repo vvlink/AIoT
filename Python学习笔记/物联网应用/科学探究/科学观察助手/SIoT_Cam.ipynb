{
 "cells": [
  {
   "cell_type": "markdown",
   "metadata": {},
   "source": [
    "# 科学观察助手"
   ]
  },
  {
   "cell_type": "markdown",
   "metadata": {},
   "source": [
    "## 功能需求：\n",
    "如果我们想知道植物的生长情况与土壤湿度的关系，我们应该如何进行探究呢？中小学有很多关于观察植物的探究小实验，但是学生只能够通过观察植物每天的生长情况，以文字的形式记录在本子上，无法提供较为具体的监测数据。而现在，借助虚谷号、摄像头和土壤湿度传感器，我们能够将植物的生长情况进行实时记录，利用SIOT平台对数据进行可视化分析，让我们能够更加直观地看到植物在不同时间下的生长情况，有助于我们分析并了解植物的习性特点。"
   ]
  },
  {
   "cell_type": "markdown",
   "metadata": {},
   "source": [
    "## 代码功能：\n",
    "将拍照以及检测植物土壤湿度的相关数据，发送到物联网平台，具体实现过程为：\n",
    "利用python代码通过摄像头拍摄植物照片，读取传感器数值并写入图片，编码为Base64数据格式后上传到物联网平台SIoT。\n",
    "\n",
    "代码编写：林淼焱，谢作如"
   ]
  },
  {
   "cell_type": "markdown",
   "metadata": {},
   "source": [
    "## 器材准备\n",
    "\n",
    "- 普通的USB摄像头*1\n",
    "- 土壤湿度传感器*1\n",
    "- Arduino扩展板（可选）"
   ]
  },
  {
   "cell_type": "markdown",
   "metadata": {},
   "source": [
    "## 数据采集端\n",
    "\n",
    "这段代码的作用，是将摄像头的画面和传感器数值合并起来。"
   ]
  },
  {
   "cell_type": "code",
   "execution_count": null,
   "metadata": {},
   "outputs": [],
   "source": [
    "import cv2,base64,json,time,re,siot\n",
    "from xugu import Pin # 从 xugu 库中导入 Pin类\n",
    "\n",
    "p = Pin(\"A0\", Pin.ANALOG) # 初始化 A0 引脚,设置为输入模式\n",
    "filepath = r\"sending.jpg\" #即将发送的图片，路径中不能带有中文\n",
    "CLIENT_ID = \"\"            #在SIoT上，CLIENT_ID可以留空\n",
    "SERVER = \"127.0.0.1\"\t  #MQTT服务器IP\n",
    "IOT_pubTopic = 'DFRobot/linmy'\t#“topic”为“项目名称/设备名称”\n",
    "IOT_UserName='scope'\t  #用户名\n",
    "IOT_PassWord='scope'\t  #密码\n",
    "siot.init(CLIENT_ID, SERVER, user=IOT_UserName, password=IOT_PassWord)\n",
    "\n",
    "#设置发送反馈，数据量过大，因此不查看具体的信息\n",
    "def sub_cb(client, userdata, msg):\n",
    "  #print(\"\\nTopic:\" + str(msg.topic) + \" Message:\" + str(msg.payload))\n",
    "  print(\"发送成功\")\n",
    "\n",
    "#摄像头拍照\n",
    "def get_pic():\n",
    "    cap=cv2.VideoCapture(0)\n",
    "    sucess,img=cap.read()\n",
    "    cv2.imwrite(filepath,img)\n",
    "    cap.release()\n",
    "\n",
    "#利用函数作画\n",
    "def draw():\n",
    "    img = cv2.imread(filepath)\n",
    "    img = cv2.resize(img, (320,240), interpolation=cv2.INTER_AREA)\n",
    "    high, width, _ = img.shape\n",
    "    cv2.putText(img, 'Humidity', (int(width*3/4-50),int(high*3/4-5)), cv2.FONT_HERSHEY_COMPLEX, 0.6, (0, 0, 255), 1)\n",
    "    cv2.rectangle(img,(int(width*3/4-40),int(high*3/4)),(int(width*3/4+100),int(high*3/4+25)),(0,0,255),1)\n",
    "    cv2.putText(img, ('VALUE:' + str(value)), (int(width*3/4-40),int(high*3/4+20)), cv2.FONT_HERSHEY_COMPLEX, 0.6, (0, 0, 255), 1)\n",
    "    #cv2.imshow('img',img)\n",
    "    cv2.imwrite(filepath,img)\n",
    "\n",
    "#图片→base64编码→json\n",
    "def encode(value):\n",
    "    with open(filepath, \"rb\") as f:\n",
    "        base64_byte = base64.b64encode(f.read())\n",
    "    #读取时间\n",
    "    now = time.strftime(\"%Y-%m-%d-%H-%M-%S\", time.localtime(time.time()))\n",
    "    dictdata={\"value\":value,\"time\":now,\"base64\":str(base64_byte)}\n",
    "    jsondata = json.dumps(dictdata)\n",
    "    return jsondata\n",
    "    \n",
    "#主程序：向服务器发送信息\n",
    "if __name__ == '__main__':\n",
    "    siot.connect()\n",
    "    siot.set_callback(sub_cb)\n",
    "    siot.getsubscribe(IOT_pubTopic)\n",
    "    siot.loop()\n",
    "    try:\n",
    "      while True:\n",
    "        get_pic()\n",
    "        value= p.read_analog()\n",
    "        draw()\n",
    "        jsondata = encode(value)\n",
    "        siot.publish(IOT_pubTopic,jsondata)\n",
    "        time.sleep(360) #隔多少秒发送一次\n",
    "    except:\n",
    "      siot.stop()\n",
    "      print(\"disconnect seccused\")\n"
   ]
  },
  {
   "cell_type": "markdown",
   "metadata": {},
   "source": [
    "## 数据接收端\n",
    "\n",
    "这段代码运行在普通的电脑上。\n",
    "\n",
    "代码的作用是订阅（接收）MQTT服务器发回的消息，然后解码为图片。\n",
    "\n",
    "**注意**：SERVER的ip地址要改为虚谷号的ip。"
   ]
  },
  {
   "cell_type": "code",
   "execution_count": null,
   "metadata": {},
   "outputs": [],
   "source": [
    "import json,base64,re\n",
    "import siot\n",
    "\n",
    "filepath = r'static\\images' #保存图片的路径\n",
    "filename = r\"receive\"    #图片名称的前缀\n",
    "SERVER = \"127.0.0.1\"\t#MQTT服务器IP（如虚谷号的IP地址）\n",
    "CLIENT_ID = \" \"\t#在SIoT上，CLIENT_ID可以留空\n",
    "IOT_pubTopic = 'DFRobot/linmy'\t#“topic”为“项目名称/设备名称”\n",
    "IOT_UserName='scope'\t\t#用户名\n",
    "IOT_PassWord='scope'\t#密码\n",
    "siot.init(CLIENT_ID, SERVER, user=IOT_UserName, password=IOT_PassWord)\n",
    "\n",
    "def sub_cb(client, userdata, msg):\n",
    "    print(\"\\nTopic:\" + str(msg.topic) + \" Message:\" + str(msg.payload))\n",
    "    #如果数据格式是监控数据,则接受服务器信息，并储存到数据库中\n",
    "    if len(str(msg.payload))>500:\n",
    "        #将JSON转化为字符串\n",
    "        jsondata=msg.payload\n",
    "        dictdata=json.loads(jsondata)\n",
    "        base64_str=dictdata[\"base64\"]\n",
    "        #将字符串格式的\"base64code\"转化为bytes格式\n",
    "        base64_byte=base64_str.encode(encoding=\"utf-8\")[2:-1]\n",
    "        imgdata = base64.b64decode(base64_byte)\n",
    "        #本地存取图片\n",
    "        file = open(filepath+ '/' + filename + str(dictdata[\"time\"]) +'.jpg','wb')\n",
    "        file.write(imgdata)\n",
    "        file.close()\n",
    "\n",
    "if __name__ == \"__main__\":\n",
    "    siot.connect()\n",
    "    siot.subscribe(IOT_pubTopic, sub_cb)\n",
    "    siot.loop()\n",
    "    try:\n",
    "        while True:\n",
    "            pass\n",
    "    except:\n",
    "        siot.stop()\n",
    "        print(\"disconnect seccused\")\n"
   ]
  },
  {
   "cell_type": "code",
   "execution_count": null,
   "metadata": {},
   "outputs": [],
   "source": []
  }
 ],
 "metadata": {
  "kernelspec": {
   "display_name": "Python 3",
   "language": "python",
   "name": "python3"
  },
  "language_info": {
   "codemirror_mode": {
    "name": "ipython",
    "version": 3
   },
   "file_extension": ".py",
   "mimetype": "text/x-python",
   "name": "python",
   "nbconvert_exporter": "python",
   "pygments_lexer": "ipython3",
   "version": "3.5.2"
  }
 },
 "nbformat": 4,
 "nbformat_minor": 2
}
