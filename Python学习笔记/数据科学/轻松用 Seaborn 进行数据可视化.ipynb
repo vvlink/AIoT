{
 "cells": [
  {
   "cell_type": "markdown",
   "metadata": {},
   "source": [
    "# 轻松用 Seaborn 进行数据可视化\n",
    "\n",
    "Seaborn 是一个数据可视化库，可帮助在Python中创建有趣的数据可视化。 大多数数据分析需要识别趋势和建立模型。 本文将帮助您开始使用 Seaborn库创建数据可视化。\n",
    "\n",
    "Seaborn 是一个出色的数据可视化库，它让我们的生活变得轻松。 首先，您应该在 jupyter notebook 中键入以下命令。"
   ]
  },
  {
   "cell_type": "code",
   "execution_count": null,
   "metadata": {},
   "outputs": [],
   "source": [
    "import pandas as pd # Pandas\n",
    "import numpy as np # Numpy\n",
    "import matplotlib.pyplot as plt # Matplotlibrary\n",
    "import seaborn as sns # Seaborn Library\n",
    "%matplotlib inline\n",
    "sns.set()"
   ]
  },
  {
   "cell_type": "markdown",
   "metadata": {},
   "source": [
    "## 直方图 （Distplot）\n",
    "\n",
    "\n",
    "\n",
    "sns.distplot（）结合直方图并绘制核密度估计图。 这里 bin 区间大小是自动计算的。\n",
    "\n",
    "$$ sns.distplot(data[“variablename”]) $$\n",
    "\n",
    "我们将使用以下代码在 jupyter notebook 中加载数据集。"
   ]
  },
  {
   "cell_type": "code",
   "execution_count": null,
   "metadata": {},
   "outputs": [],
   "source": [
    "# Load the Dataset in Python\n",
    "tips = sns.load_dataset(\"tips\")\n",
    "tips.head()"
   ]
  },
  {
   "cell_type": "markdown",
   "metadata": {},
   "source": [
    "第一次使用内置的数据集，可能需要一会儿时间，这要视网络速度而言。\n",
    "\n",
    "当数据集加载成功，我们将使用 “total_bill” 变量创建第一个图。 让我们从 tips数据集创建 “total_bill” 变量的 distplot。"
   ]
  },
  {
   "cell_type": "code",
   "execution_count": null,
   "metadata": {},
   "outputs": [],
   "source": [
    "sns.distplot(tips[\"total_bill\"], bins=16, color=\"purple\")\n",
    "# Binsize is calculated using square-root of row count."
   ]
  },
  {
   "cell_type": "markdown",
   "metadata": {},
   "source": [
    "现在，我们来对上述代码进行进一步描述：\n",
    "\n",
    "* **sns.distplot** — 这个命令将启动 distplot 的初始创建\n",
    "\n",
    "* **tips[“total_bill”]** — 从 tips 数据集（数据框）中取出列（total_bill）。 在这里，我们应该观察一下，可以使用方括号来拉取列值，并且列名应该用引号括起来（双引号/单引号）都被接受。\n",
    "\n",
    "**我们推测** — “total_bill”变量本质上是倾斜的，大多数帐单值都在 \\\\$ 10  -  \\\\$ 20范围内。\n",
    "\n",
    "\n",
    "## 联合分布图 （Jointplot）\n",
    "\n",
    "联合分布图 （Jointplot）采用两个变量并一起创建直方图和散点图。 让我们看一下 jointplot 的语法。\n",
    "\n",
    "$$sns.jointplot(x = , y =, data=)$$\n",
    "\n",
    "让我们从 tips数据集创建 total_bill 和 tip变量的联合分布图。 通常，任何餐厅的小费金额取决于总账单/账单大小。 让我们看看这个情景下是什么样的。 代码如下："
   ]
  },
  {
   "cell_type": "code",
   "execution_count": null,
   "metadata": {},
   "outputs": [],
   "source": [
    "sns.jointplot(x = \"total_bill\", y = \"tip\", data = tips, color=\"purple\")"
   ]
  },
  {
   "cell_type": "markdown",
   "metadata": {},
   "source": [
    "如上所述，散点图似乎显示总账单和小费金额之间的强相关性。 在它的顶部，我们可以看到各个变量的直方图。\n",
    "\n",
    "### Jointplot :: kind =”hex”\n",
    "\n",
    "直方图的双变量类比称为“hexbin”图，因为它显示了六边形区间内的观察计数。 此图对于相对较大的数据集最有效。 也称为Hexbin Plots。\n",
    "\n",
    "$$sns.jointplot(x = , y =, data=, kind=”hex”)$$"
   ]
  },
  {
   "cell_type": "code",
   "execution_count": null,
   "metadata": {},
   "outputs": [],
   "source": [
    "# Jointplot - Scatterplot and Histogram\n",
    "sns.jointplot(x = \"total_bill\", y = \"tip\", data = tips, kind =\"hex\",\n",
    "color=\"lightcoral\")"
   ]
  },
  {
   "cell_type": "markdown",
   "metadata": {},
   "source": [
    "有几种类型的值可以放在 sns.jointplot 中来创建不同的图。 默认情况下，联合分布图显示散点图。 现在，在上面的情节图中，它显示了六边形。 六边形的深色表示数据点的高密度，其中较浅的颜色表示较少的点。\n",
    "\n",
    "\n",
    "kind 参数值可以是以下取值：\n",
    "\n",
    ">kind : { \"scatter\" | \"reg\" | \"resid\" | \"kde\" | \"hex\" }\n",
    "\n",
    "\n",
    "下面，我们来看看 kind=\"kde\" 的情形。\n",
    "\n",
    "### Jointplot :: kind =”kde”\n",
    "\n"
   ]
  },
  {
   "cell_type": "code",
   "execution_count": null,
   "metadata": {},
   "outputs": [],
   "source": [
    "# Jointplot - Scatterplot and Histogram\n",
    "sns.jointplot(x = tips[\"total_bill\"], y = tips[\"tip\"],kind = \"kde\", \n",
    "color=\"purple\") # contour plot"
   ]
  },
  {
   "cell_type": "markdown",
   "metadata": {},
   "source": [
    "上面显示的图表称为轮廓图。 轮廓图（有时称为“水平图”）是一种在二维平面上显示三维表面的方法。 它绘制了y轴上的两个预测变量X Y和轮廓的响应变量Z.\n",
    "\n",
    "## 矩阵图 （Pairplot）\n",
    "\n",
    "矩阵图基本上绘制了变量之间的成对关系。 它支持用 “hue” 来为类别变量绘图着色。\n",
    "\n",
    "$$sns.pairplot(“dataframe”)$$"
   ]
  },
  {
   "cell_type": "code",
   "execution_count": null,
   "metadata": {},
   "outputs": [],
   "source": [
    "# Pairplot of Tips\n",
    "sns.pairplot(tips, hue = \"sex\", palette=\"Set2\")\n",
    "# this  will color the plot gender wise"
   ]
  },
  {
   "cell_type": "markdown",
   "metadata": {},
   "source": [
    "\n",
    "下面我们来了解下矩阵图的含义。 对角线部分显示了具有核密度估计的 distplot图或直方图。 矩阵图的上部和下部显示散点图。 “hue”使用列的类别为绘图着色。\n",
    "\n",
    "hue = “sex” — 设置为按不同的性别进行着色\n",
    "\n",
    "palette = “Set2”  - “Set2” 是颜色的一个系列。\n",
    "\n",
    "## 条形图 （Barplot）\n",
    "\n",
    "条形图用于绘制分类列和数字列。 它在可视化中创建了条形。 让我们用“性别”创建一个“total_bill”的条形图，让我们看看哪类人支付更多。\n",
    "\n",
    "$$sns.barplot(x = , y =, data=)$$"
   ]
  },
  {
   "cell_type": "code",
   "execution_count": null,
   "metadata": {},
   "outputs": [],
   "source": [
    "# Barplot\n",
    "sns.barplot(x =\"sex\" , y =\"total_bill\" , data=tips)\n",
    "# Inference - Total Bill Amount for males is more than Females."
   ]
  },
  {
   "cell_type": "code",
   "execution_count": null,
   "metadata": {},
   "outputs": [],
   "source": [
    "# Lets Plot Smoker Vs Total Bill :: The purpose is to find out if \n",
    "# Smokers pay more bill than Non Smokers\n",
    "sns.barplot(x = \"smoker\", y = \"total_bill\", data =tips)\n",
    "# Inference - More Bill for Smokers"
   ]
  },
  {
   "cell_type": "code",
   "execution_count": null,
   "metadata": {},
   "outputs": [],
   "source": [
    "# Lets Find If There is more Bill In Weekend or Weekdays\n",
    "sns.barplot(x = \"day\", y = \"total_bill\", data =tips)\n",
    "# People tend to visit more on weekends"
   ]
  },
  {
   "cell_type": "markdown",
   "metadata": {},
   "source": [
    "## 箱形图 （Boxplot）\n",
    "\n",
    "箱形图 （Boxplot）是给定数据集的五点汇总统计的直观表示。 五个数字摘要包括：\n",
    "\n",
    "* Minimum 最小值\n",
    "* First Quartile 1/4 值\n",
    "* Median (Second Quartile) 中位数\n",
    "* Third Quartile 3/4 值\n",
    "* Maximum 最大值\n",
    "\n",
    "此外，值得注意的一点是，为分类 - 连续变量创建了一个箱线图，这意味着如果x轴是分类的并且y轴是连续的，则应创建箱线图或小提琴图。\n",
    "\n",
    "让我们从 tips数据集创建一个 “day” 和 “total_bill” 的箱线图。\n",
    "\n",
    "$$sns.boxplot(x = , y =, data=)$$"
   ]
  },
  {
   "cell_type": "code",
   "execution_count": null,
   "metadata": {},
   "outputs": [],
   "source": [
    "# Boxplot\n",
    "sns.boxplot(x = \"day\", y = \"total_bill\", data=tips)"
   ]
  },
  {
   "cell_type": "code",
   "execution_count": null,
   "metadata": {},
   "outputs": [],
   "source": [
    "# Add hue to split the barplot. Making it more fancier\n",
    "sns.boxplot(x = \"day\", y = \"total_bill\", data=tips, hue = \"smoker\")\n",
    "# On Friday people have more bill if they are a Non smoker vs smoker"
   ]
  },
  {
   "cell_type": "markdown",
   "metadata": {},
   "source": [
    "hue =“smoker”： - 它为吸烟者和非吸烟者创造了一个箱线图。 例如： 在星期五的情况下，可以清楚地看到，与当天的吸烟者相比，非吸烟者的食物费用更多。"
   ]
  },
  {
   "cell_type": "code",
   "execution_count": null,
   "metadata": {},
   "outputs": [],
   "source": [
    "# Violin Plots\n",
    "sns.violinplot(x = \"day\", y = \"total_bill\", data = tips)"
   ]
  },
  {
   "cell_type": "markdown",
   "metadata": {},
   "source": [
    "小提琴图跟箱形图有些类似。他们之间的描述可以参考下面的图示内容：\n",
    "\n",
    "![](1.jpg)\n",
    "\n",
    "## LM Plot\n",
    "\n",
    "\n",
    "sns.lmplot 是绘制一个在散点图中进行线性回归拟合的直线。 它遵循普通的最小二乘法，线代表最佳拟合线。 为了更好地理解这一点，建议进一步了解一下线性回归的相关知识。\n",
    "\n",
    "代码如下："
   ]
  },
  {
   "cell_type": "code",
   "execution_count": null,
   "metadata": {},
   "outputs": [],
   "source": [
    "# LM PLot\n",
    "sns.lmplot(x = \"total_bill\", y = \"tip\", data = tips, hue=\"day\")"
   ]
  },
  {
   "cell_type": "markdown",
   "metadata": {},
   "source": [
    "\n",
    "上图显示了不同日期的total_bill变量的线性回归拟合，如图例中所示，这是在 sns.lmplot 中使用 hue =“day” 获得的。\n",
    "\n",
    "恭喜！ 您已完成 Seaborn 初学者教程。 希望这篇文章能够提供有关 Seaborn 的基本知识，并且可以帮助您创建所有这些图。"
   ]
  },
  {
   "cell_type": "code",
   "execution_count": null,
   "metadata": {},
   "outputs": [],
   "source": []
  }
 ],
 "metadata": {
  "kernelspec": {
   "display_name": "Python 3",
   "language": "python",
   "name": "python3"
  },
  "language_info": {
   "codemirror_mode": {
    "name": "ipython",
    "version": 3
   },
   "file_extension": ".py",
   "mimetype": "text/x-python",
   "name": "python",
   "nbconvert_exporter": "python",
   "pygments_lexer": "ipython3",
   "version": "3.7.4"
  },
  "toc": {
   "base_numbering": 1,
   "nav_menu": {},
   "number_sections": true,
   "sideBar": true,
   "skip_h1_title": false,
   "title_cell": "Table of Contents",
   "title_sidebar": "Contents",
   "toc_cell": true,
   "toc_position": {},
   "toc_section_display": true,
   "toc_window_display": true
  }
 },
 "nbformat": 4,
 "nbformat_minor": 4
}
