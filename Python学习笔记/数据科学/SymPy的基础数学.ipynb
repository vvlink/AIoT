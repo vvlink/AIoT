{
 "cells": [
  {
   "cell_type": "markdown",
   "metadata": {},
   "source": [
    "# SymPy的基础数学"
   ]
  },
  {
   "cell_type": "markdown",
   "metadata": {},
   "source": [
    "## 引言\n",
    "计算机代数系统(CAS)可以用来计算复杂的数学表达式、求解方程、实施微积分过程及模拟物理系统。\n",
    "\n",
    "所有计算机代数系统都能提供本质上相同的功能，因此使用哪种系统并不重要：有免费的系统，如SymPy, Magma, 或Octave；也有商业化的系统，如Maple, MATLAB,和Mathematica等等。\n",
    "\n",
    "本课程使用SymPy，它是用Python语言编写的一个开源符号代数系统。在符号CAS中，数和运算都用符号来表示，因此得到的答案是精确的。例如，数$\\sqrt{2}$在SymPy中被表示为Pow(2,1/2)，而在像Octave这样的数值计算机代数系统中，$\\sqrt{2}$被表示为近似值$1.41421356237310$(一个浮点数)。对多数场合而言，近似值也够用了，但有的时候，近似值还是会导致问题：\n",
    "$$float(\\sqrt{2})*float(\\sqrt{2}) = 2.00000000000000044 \\ne 2.$$ \n",
    "因为SymPy使用精确表示，你不会遇到此类问题（除非实现的算法有错误）：\n",
    "$$Pow(2,1/2)*Pow(2,1/2)= 2.$$"
   ]
  },
  {
   "cell_type": "markdown",
   "metadata": {},
   "source": [
    "## 导入SymPy\n",
    "使用SymPy的最简单方法是访问网站http://live.sympy.org. \n",
    "\n",
    "如果在自己的计算机上使用SymPy必须先安装Python，然后将sympy作为Python的一个扩展包导入即可。\n",
    "\n",
    "例如，在终端运行python，出现>>>提示符。我们用如下命令导入sympy：\n",
    "\n",
    "import sympy as sp\n",
    "\n",
    "推荐使用交互式python外壳IPython，或者为了有更佳的体验，使用Python的Web前端Jupyter\n",
    "Notebook，正如现在我们所使用的。"
   ]
  },
  {
   "cell_type": "code",
   "execution_count": null,
   "metadata": {},
   "outputs": [],
   "source": [
    "import sympy as sp   # 导入sympy, 名空间为sp."
   ]
  },
  {
   "cell_type": "markdown",
   "metadata": {},
   "source": [
    "## 1. 使用SymPy的基础数学\n",
    "我们使用SymPy的基本对象和操作来学习初等数学。\n",
    "SymPy能对数学对象做一些基本数学操作，包括“求解”(方程)、“展开”(表达式)、“分解”(多项式)等等。"
   ]
  },
  {
   "cell_type": "markdown",
   "metadata": {},
   "source": [
    "###  1.1 数及其运算\n",
    "Python有两种类型数：int(整数)和float(浮点数)。"
   ]
  },
  {
   "cell_type": "code",
   "execution_count": null,
   "metadata": {},
   "outputs": [],
   "source": [
    "5   # 一个整数"
   ]
  },
  {
   "cell_type": "code",
   "execution_count": null,
   "metadata": {},
   "outputs": [],
   "source": [
    "5.0  # 一个浮点数"
   ]
  },
  {
   "cell_type": "markdown",
   "metadata": {},
   "source": [
    "Python中整数对象是整数集合\n",
    "$$\\mathbb{Z} = \\{. . . ,−2,−1, 0, 1, 2, . . .\\}$$\n",
    "的忠实表现。\n",
    "浮点数则是实数集合$\\mathbb{R}$的近似表示：浮点数只有小数点后16位数字的精度。"
   ]
  },
  {
   "cell_type": "markdown",
   "metadata": {},
   "source": [
    "除了除法以外，Python中的常规数学运算，如$+, -, *(乘法), **(乘幂)$，都与普通的数学实践一致。\n",
    "\n",
    "例如："
   ]
  },
  {
   "cell_type": "code",
   "execution_count": null,
   "metadata": {},
   "outputs": [],
   "source": [
    "2**10    # 2的10幂"
   ]
  },
  {
   "cell_type": "markdown",
   "metadata": {},
   "source": [
    "涉及到有理数的时候要特别注意：整数的除法可能不会产生你想要得到的结果，因为有时Python不会自动将答案转成浮点数，而是将答案截断，给出最接近的整数。幸运的是，在Python 3.x的最新版本中，这个问题已经解决了。\n",
    "\n",
    "例如："
   ]
  },
  {
   "cell_type": "code",
   "execution_count": null,
   "metadata": {},
   "outputs": [],
   "source": [
    "1 / 7            # 虽然是int/int，但会自动转换为浮点数。"
   ]
  },
  {
   "cell_type": "code",
   "execution_count": null,
   "metadata": {},
   "outputs": [],
   "source": [
    "sp.S(\"1/7\")      # S可用于化简任何表达式。"
   ]
  },
  {
   "cell_type": "code",
   "execution_count": null,
   "metadata": {},
   "outputs": [],
   "source": [
    "sp.Rational(1, 7) # 保留为有理数表达式。"
   ]
  },
  {
   "cell_type": "markdown",
   "metadata": {},
   "source": [
    "求解数学问题时，最好使用SymPy对象（数或者符号）并等待出来精确的值。如果要将SymPy对象转换为近似的浮点值，可以调用.evalf()方法，括号中可以用一个正整数来指定需要多少位近似值。\n",
    "\n",
    "例如："
   ]
  },
  {
   "cell_type": "code",
   "execution_count": null,
   "metadata": {},
   "outputs": [],
   "source": [
    "sp.pi"
   ]
  },
  {
   "cell_type": "code",
   "execution_count": null,
   "metadata": {},
   "outputs": [],
   "source": [
    "sp.pi.evalf()"
   ]
  },
  {
   "cell_type": "code",
   "execution_count": null,
   "metadata": {},
   "outputs": [],
   "source": [
    "sp.pi.evalf(100)"
   ]
  },
  {
   "cell_type": "markdown",
   "metadata": {},
   "source": [
    "方法.n()与.evalf()等价。\n",
    "\n",
    "另外，SymPy全局函数N()也可以用于计算数值。"
   ]
  },
  {
   "cell_type": "code",
   "execution_count": null,
   "metadata": {},
   "outputs": [],
   "source": [
    "sp.pi.n(100)"
   ]
  },
  {
   "cell_type": "markdown",
   "metadata": {},
   "source": [
    "### 1.2 符号\n",
    "SymPy中最有趣的计算要求我们定义符号，即SymPy中用于表示数学变量或未知量的对象。"
   ]
  },
  {
   "cell_type": "code",
   "execution_count": null,
   "metadata": {},
   "outputs": [],
   "source": [
    "a = sp.Symbol('a')                            # 定义一个符号\n",
    "x, y, z, t = sp.symbols('x y z t')            # 同时定义多个符号\n",
    "k, m, n = sp.symbols('k m n', integer=True)   # 定义多个取整数值的符号\n",
    "f, g, h = sp.symbols('f g h', function=True)  # 定义多个函数符号"
   ]
  },
  {
   "cell_type": "markdown",
   "metadata": {},
   "source": [
    "现在你可以想在数学中那样使用这些符号了！"
   ]
  },
  {
   "cell_type": "code",
   "execution_count": null,
   "metadata": {},
   "outputs": [],
   "source": [
    "x + 2"
   ]
  },
  {
   "cell_type": "code",
   "execution_count": null,
   "metadata": {},
   "outputs": [],
   "source": [
    "3 ** x"
   ]
  },
  {
   "cell_type": "code",
   "execution_count": null,
   "metadata": {},
   "outputs": [],
   "source": [
    "x*y + 2*y"
   ]
  },
  {
   "cell_type": "code",
   "execution_count": null,
   "metadata": {},
   "outputs": [],
   "source": [
    "sp.init_printing()      # 加入这条语句是为了使数学公式输出更美观。"
   ]
  },
  {
   "cell_type": "code",
   "execution_count": null,
   "metadata": {},
   "outputs": [],
   "source": [
    "x*y + 2*y               # 看出来变化了吗？ "
   ]
  },
  {
   "cell_type": "code",
   "execution_count": null,
   "metadata": {},
   "outputs": [],
   "source": [
    "3 ** x"
   ]
  },
  {
   "cell_type": "code",
   "execution_count": null,
   "metadata": {},
   "outputs": [],
   "source": [
    "sp.pi       # E表示自然对数的底。"
   ]
  },
  {
   "cell_type": "markdown",
   "metadata": {},
   "source": [
    "你还可以用下列方法定义变量的序列："
   ]
  },
  {
   "cell_type": "code",
   "execution_count": null,
   "metadata": {},
   "outputs": [],
   "source": [
    "a0, a1, a2, a3 = sp.symbols('a0:4')"
   ]
  },
  {
   "cell_type": "code",
   "execution_count": null,
   "metadata": {},
   "outputs": [],
   "source": [
    "a1"
   ]
  },
  {
   "cell_type": "markdown",
   "metadata": {},
   "source": [
    "下划线符号 _ 是一个特殊的变量，它包含有前一次输出值的结果。这个变量在进行多步运算是非常有用。\n",
    "\n",
    "例如："
   ]
  },
  {
   "cell_type": "code",
   "execution_count": null,
   "metadata": {},
   "outputs": [],
   "source": [
    "3 + 5"
   ]
  },
  {
   "cell_type": "code",
   "execution_count": null,
   "metadata": {},
   "outputs": [],
   "source": [
    "_ ** 3"
   ]
  },
  {
   "cell_type": "markdown",
   "metadata": {},
   "source": [
    "### 1.3 表达式"
   ]
  },
  {
   "cell_type": "markdown",
   "metadata": {},
   "source": [
    "SymPy表达式是符号与基本数学运算和其它函数的组合。\n",
    "函数simplify可以用于化简任何表达式，类似的函数还有factor, expand, collect等。\n",
    "下面实例中的其它SymPy函数对应于作用表达式的常用函数。"
   ]
  },
  {
   "cell_type": "code",
   "execution_count": null,
   "metadata": {
    "scrolled": true
   },
   "outputs": [],
   "source": [
    "expr = 2*x + 3*x - sp.sin(x) - 3*x + 42\n",
    "expr"
   ]
  },
  {
   "cell_type": "code",
   "execution_count": null,
   "metadata": {},
   "outputs": [],
   "source": [
    "sp.simplify(expr)"
   ]
  },
  {
   "cell_type": "code",
   "execution_count": null,
   "metadata": {},
   "outputs": [],
   "source": [
    "sp.factor( x**2-2*x-8 )    # 因式分解"
   ]
  },
  {
   "cell_type": "code",
   "execution_count": null,
   "metadata": {},
   "outputs": [],
   "source": [
    "sp.expand((x-4)**100)     # 表达式展开"
   ]
  },
  {
   "cell_type": "code",
   "execution_count": null,
   "metadata": {},
   "outputs": [],
   "source": [
    "b = sp.Symbol('b')                      # 符号a在前面已经定义过了\n",
    "sp.collect(x**2 + x*b + a*x + a*b, x)   # 关于x的不同幂次合并同类项"
   ]
  },
  {
   "cell_type": "markdown",
   "metadata": {},
   "source": [
    "若将给定的值代入到表达式中，使用.subs()方法，对于想要的符号-值代换，传递一个python字典对象{key: val, ... }："
   ]
  },
  {
   "cell_type": "code",
   "execution_count": null,
   "metadata": {},
   "outputs": [],
   "source": [
    "expr = sp.sin(x) + sp.cos(y)\n",
    "expr"
   ]
  },
  {
   "cell_type": "code",
   "execution_count": null,
   "metadata": {},
   "outputs": [],
   "source": [
    "expr.subs({x:1, y:2})   # 精确代换"
   ]
  },
  {
   "cell_type": "code",
   "execution_count": null,
   "metadata": {
    "scrolled": true
   },
   "outputs": [],
   "source": [
    "expr.subs({x:1, y:2}).n()  # 使用.n()方法计算出近似值"
   ]
  },
  {
   "cell_type": "markdown",
   "metadata": {},
   "source": [
    "### 1.4 解方程"
   ]
  },
  {
   "cell_type": "markdown",
   "metadata": {},
   "source": [
    "函数solve是SymPy核心函数之一，该函数知道如何解所有类型的方程，而且能解得相当好！\n",
    "\n",
    "函数solve取两个参数，使用solve(expr,var)关于变量var解解方程expr == 0。\n",
    "\n",
    "你可以将任何方程重写为expr == 0的形式。例如，$A(x) = B(x)$的解与$A(x) − B(x) = 0$的解相同。\n",
    "\n",
    "比如，要接二次方程$x^2 + 2x − 8 = 0$, 使用下列指令："
   ]
  },
  {
   "cell_type": "code",
   "execution_count": null,
   "metadata": {},
   "outputs": [],
   "source": [
    "sp.solve( x**2 + 2*x - 8, x)"
   ]
  },
  {
   "cell_type": "markdown",
   "metadata": {},
   "source": [
    "用solve和SymPy解方程最妙的地方是我们得到符号答案。\n",
    "\n",
    "例如，我们可以解出带有参数的二次方程$ax^2 + bx + c = 0$如下："
   ]
  },
  {
   "cell_type": "code",
   "execution_count": null,
   "metadata": {},
   "outputs": [],
   "source": [
    "a, b, c = sp.symbols('a b c')\n",
    "sp.solve(a*x**2 + b*x + c, x)"
   ]
  },
  {
   "cell_type": "markdown",
   "metadata": {},
   "source": [
    "要从一元二次方程的一般求解公式得到一个特殊方程的解，比如$x^2 + 2x − 8 = 0$，我们可以在一般解公式中使用系数代换$a = 1, b = 2, c = −8$："
   ]
  },
  {
   "cell_type": "code",
   "execution_count": null,
   "metadata": {},
   "outputs": [],
   "source": [
    "gen_sol = sp.solve(a*x**2 + b*x + c, x)\n",
    "[gen_sol[0].subs({'a':1,'b':2,'c':-8}),\n",
    " gen_sol[1].subs({'a':1,'b':2,'c':-8})]"
   ]
  },
  {
   "cell_type": "markdown",
   "metadata": {},
   "source": [
    "如要求解方程组，可以给solve的第一个参数提供方程的列表，并为第二个参数指定要解的未知量列表\n",
    "\n",
    "例如，要关于$x$和$y$求解方程组$x + y = 3,3x − 2y = 0$："
   ]
  },
  {
   "cell_type": "code",
   "execution_count": null,
   "metadata": {},
   "outputs": [],
   "source": [
    "sp.solve([x + y - 3, 3*x - 2*y], [x, y])"
   ]
  },
  {
   "cell_type": "markdown",
   "metadata": {},
   "source": [
    "假设你要求表达式$x^2 − 4x + 7$的完全平方，即找出常数$h,k$，使得\n",
    "$$x^2−4x+7 = (x−h)^2 + k.$$ \n",
    "\n",
    "SymPy中没有专门的“完全平方”函数，但是可以通过求解方程\n",
    "$$(x − h)^2 + k − (x^2 − 4x + 7) = 0$$\n",
    "来找出未知的$h$和$k$："
   ]
  },
  {
   "cell_type": "code",
   "execution_count": null,
   "metadata": {},
   "outputs": [],
   "source": [
    "h, k = sp.symbols('h k')\n",
    "sp.solve((x - h)**2 + k - (x**2 - 4*x + 7),[h,k]) # 解出h和k的值\n",
    "((x - 2)**2 + 3).expand()   # 验证一下"
   ]
  },
  {
   "cell_type": "markdown",
   "metadata": {},
   "source": [
    "### 1.5 有理函数"
   ]
  },
  {
   "cell_type": "markdown",
   "metadata": {},
   "source": [
    "默认情况下，SymPy不会对有理表达式进行组合或分解。\n",
    "\n",
    "如果要符号计算分式的加法，需要使用together函数："
   ]
  },
  {
   "cell_type": "code",
   "execution_count": null,
   "metadata": {},
   "outputs": [],
   "source": [
    "a, b, c, d = sp.symbols('a b c d')\n",
    "a/b + c/d"
   ]
  },
  {
   "cell_type": "code",
   "execution_count": null,
   "metadata": {},
   "outputs": [],
   "source": [
    "sp.together(a/b + c/d)"
   ]
  },
  {
   "cell_type": "markdown",
   "metadata": {},
   "source": [
    "如果你想将一个写成分子除以分母形式的有理表达式化成最简分式，使用apart函数："
   ]
  },
  {
   "cell_type": "code",
   "execution_count": null,
   "metadata": {},
   "outputs": [],
   "source": [
    "sp.apart((x**2+x+4)/(x+2))"
   ]
  },
  {
   "cell_type": "markdown",
   "metadata": {},
   "source": [
    "### 1.6 指数函数与对数函数"
   ]
  },
  {
   "cell_type": "markdown",
   "metadata": {},
   "source": [
    "欧拉常数$e = 2.71828...$，在SymPy中记为E。\n",
    "\n",
    "可以用几种方式来定义欧拉常数：\n",
    "$$e = \\lim_{n \\to \\infty}(1 + {\\frac 1 n})^n,$$\n",
    "$$e = \\lim_{\\varepsilon \\to 0}(1 + \\varepsilon)^{\\frac 1 \\varepsilon},$$\n",
    "$$e = \\sum_{n = 0}^{\\infty}{\\frac 1 {n!}}.$$\n",
    "\n",
    "函数$exp(x)$等价于$E**x.$，函数$log$和$ln$都是以$e$为底的对数。"
   ]
  },
  {
   "cell_type": "code",
   "execution_count": null,
   "metadata": {},
   "outputs": [],
   "source": [
    "sp.log(sp.E**3) # 与sp.ln(E**3)相同"
   ]
  },
  {
   "cell_type": "markdown",
   "metadata": {},
   "source": [
    "缺省情况下，SymPy假定像exp和log这样的函数输入都是复数，因此不会展开确定的对数表达式。\n",
    "\n",
    "可以指示SymPy输入是正实数，这样展开就正常工作了："
   ]
  },
  {
   "cell_type": "code",
   "execution_count": null,
   "metadata": {},
   "outputs": [],
   "source": [
    "x, y = sp.symbols('x y')\n",
    "sp.log(x*y).expand()"
   ]
  },
  {
   "cell_type": "code",
   "execution_count": null,
   "metadata": {},
   "outputs": [],
   "source": [
    "a, b = sp.symbols('a b', positive=True)\n",
    "sp.log(a*b).expand()"
   ]
  },
  {
   "cell_type": "markdown",
   "metadata": {},
   "source": [
    "### 1.7 多项式"
   ]
  },
  {
   "cell_type": "markdown",
   "metadata": {
    "collapsed": true
   },
   "source": [
    "一个多项式$P$的根是方程$P(x) = 0$的解。\n",
    "我们定义一个多项式$P$，具有三个根$x = 1, x = 2, x = 3$："
   ]
  },
  {
   "cell_type": "code",
   "execution_count": null,
   "metadata": {},
   "outputs": [],
   "source": [
    "P = (x-1)*(x-2)*(x-3)\n",
    "P"
   ]
  },
  {
   "cell_type": "code",
   "execution_count": null,
   "metadata": {},
   "outputs": [],
   "source": [
    "P.expand()       # .expand方法将多项式展开"
   ]
  },
  {
   "cell_type": "markdown",
   "metadata": {},
   "source": [
    "要将多项式分解成因式的乘积，调用factor方法，或者用simplify化简："
   ]
  },
  {
   "cell_type": "code",
   "execution_count": null,
   "metadata": {},
   "outputs": [],
   "source": [
    "P.factor()"
   ]
  },
  {
   "cell_type": "code",
   "execution_count": null,
   "metadata": {},
   "outputs": [],
   "source": [
    "P.simplify()"
   ]
  },
  {
   "cell_type": "markdown",
   "metadata": {},
   "source": [
    "可以使用solve函数找到多项式的根："
   ]
  },
  {
   "cell_type": "code",
   "execution_count": null,
   "metadata": {},
   "outputs": [],
   "source": [
    "roots = sp.solve(P,x)\n",
    "roots"
   ]
  },
  {
   "cell_type": "code",
   "execution_count": null,
   "metadata": {},
   "outputs": [],
   "source": [
    "sp.simplify(P - (x-roots[0])*(x-roots[1])*(x-roots[2]))   # 验证一下！"
   ]
  },
  {
   "cell_type": "markdown",
   "metadata": {},
   "source": [
    "### 1.8 等式验证"
   ]
  },
  {
   "cell_type": "markdown",
   "metadata": {},
   "source": [
    "在上面的例子中，我们使用simplify函数检验两个表达式是否相等。这种检验等式方法之所以有效是因为\n",
    "$P = Q$当且仅当$P − Q = 0$。\n",
    "\n",
    "这是用SymPy检验两个表达式是否相等的最佳方式，因为在比较表达式时算法会尝试所有可能的化简。\n",
    "\n",
    "下面是检验两个量是否相等或不等的一些例子："
   ]
  },
  {
   "cell_type": "code",
   "execution_count": null,
   "metadata": {},
   "outputs": [],
   "source": [
    "p = (x - 5)*(x + 5)\n",
    "q = x**2 - 25\n",
    "p == q                  # 作为表达式，p,q是不同的！"
   ]
  },
  {
   "cell_type": "code",
   "execution_count": null,
   "metadata": {},
   "outputs": [],
   "source": [
    "p - q == 0"
   ]
  },
  {
   "cell_type": "code",
   "execution_count": null,
   "metadata": {},
   "outputs": [],
   "source": [
    "sp.simplify(p - q) == 0    # 化简后p,q相同！"
   ]
  },
  {
   "cell_type": "code",
   "execution_count": null,
   "metadata": {},
   "outputs": [],
   "source": [
    "sp.sin(x)**2 + sp.cos(x)**2 == 1"
   ]
  },
  {
   "cell_type": "code",
   "execution_count": null,
   "metadata": {},
   "outputs": [],
   "source": [
    "sp.simplify(sp.sin(x)**2 + sp.cos(x)**2 - 1 ) == 0"
   ]
  },
  {
   "cell_type": "markdown",
   "metadata": {},
   "source": [
    "### 1.9 三角函数"
   ]
  },
  {
   "cell_type": "code",
   "execution_count": null,
   "metadata": {},
   "outputs": [],
   "source": [
    "from sympy import sin, cos, tan, trigsimp, expand_trig"
   ]
  },
  {
   "cell_type": "markdown",
   "metadata": {},
   "source": [
    "三角函数sin和cos的输入为弧度，如果使用角度要乘以转换因子$\\frac \\pi {180}$："
   ]
  },
  {
   "cell_type": "code",
   "execution_count": null,
   "metadata": {},
   "outputs": [],
   "source": [
    "sin(sp.pi/6)           # 为什么要写成sp.pi/6 ？"
   ]
  },
  {
   "cell_type": "code",
   "execution_count": null,
   "metadata": {},
   "outputs": [],
   "source": [
    "cos(sp.pi/6)"
   ]
  },
  {
   "cell_type": "code",
   "execution_count": null,
   "metadata": {},
   "outputs": [],
   "source": [
    "sin(30*sp.pi/180)   # 30度 = pi/6弧度"
   ]
  },
  {
   "cell_type": "markdown",
   "metadata": {},
   "source": [
    "反三角函数$\\sin^{−1}(x) = \\arcsin(x), \\cos^{−1}(x) = \\arccos(x)$在Sympy中分别表示为asin, acos。"
   ]
  },
  {
   "cell_type": "code",
   "execution_count": null,
   "metadata": {},
   "outputs": [],
   "source": [
    "sp.asin(1/2)"
   ]
  },
  {
   "cell_type": "code",
   "execution_count": null,
   "metadata": {},
   "outputs": [],
   "source": [
    "sp.acos(sp.sqrt(3)/2)"
   ]
  },
  {
   "cell_type": "markdown",
   "metadata": {},
   "source": [
    "正切函数$\\tan(x)= \\frac {\\sin(x)} {\\cos(x)}.$ \n",
    "\n",
    "$\\tan(x)$的反函数为$\\tan^{−1}(x)= \\arctan(x)$，在Sympy中表示为atan(x)。\n",
    "\n",
    "函数acos返回范围$[0,\\pi]$之间的一个值，而asin和atan返回$[-\\frac {\\pi} 2,\\frac {\\pi} 2]$之间的一个值。"
   ]
  },
  {
   "cell_type": "code",
   "execution_count": null,
   "metadata": {},
   "outputs": [],
   "source": [
    "tan(sp.pi/6)"
   ]
  },
  {
   "cell_type": "code",
   "execution_count": null,
   "metadata": {},
   "outputs": [],
   "source": [
    "sp.atan(1/sp.sqrt(3))"
   ]
  },
  {
   "cell_type": "markdown",
   "metadata": {},
   "source": [
    "下面是SymPy知道的一些三角恒等式："
   ]
  },
  {
   "cell_type": "code",
   "execution_count": null,
   "metadata": {},
   "outputs": [],
   "source": [
    "sp.sin(x) == sp.cos(x - sp.pi/2)"
   ]
  },
  {
   "cell_type": "code",
   "execution_count": null,
   "metadata": {},
   "outputs": [],
   "source": [
    "sp.simplify(sp.sin(x)*sp.cos(y) + sp.cos(x)*sp.sin(y))"
   ]
  },
  {
   "cell_type": "markdown",
   "metadata": {},
   "source": [
    "对三角函数而言，trigsimp与simplify的作用基本相同。"
   ]
  },
  {
   "cell_type": "code",
   "execution_count": null,
   "metadata": {},
   "outputs": [],
   "source": [
    "e = 2*sin(x)**2 + 2*cos(x)**2\n",
    "trigsimp(e)"
   ]
  },
  {
   "cell_type": "code",
   "execution_count": null,
   "metadata": {},
   "outputs": [],
   "source": [
    "trigsimp(sp.log(e))"
   ]
  },
  {
   "cell_type": "code",
   "execution_count": null,
   "metadata": {},
   "outputs": [],
   "source": [
    "sp.simplify(sin(x)**4 - 2*cos(x)**2*sin(x)**2 + cos(x)**4)"
   ]
  },
  {
   "cell_type": "markdown",
   "metadata": {},
   "source": [
    "如果你想要的不是化简而是展开，应该使用expand_trig，因为默认的expand不会处理三角函数："
   ]
  },
  {
   "cell_type": "code",
   "execution_count": null,
   "metadata": {},
   "outputs": [],
   "source": [
    "sp.expand(sin(2*x))    # = (sin(2*x)).expand()"
   ]
  },
  {
   "cell_type": "code",
   "execution_count": null,
   "metadata": {},
   "outputs": [],
   "source": [
    "expand_trig(sin(2*x)) # = (sin(2*x)).expand(trig=True)"
   ]
  },
  {
   "cell_type": "markdown",
   "metadata": {},
   "source": [
    "### 1.10 双曲三角"
   ]
  },
  {
   "cell_type": "markdown",
   "metadata": {},
   "source": [
    "SymPy中的双曲正弦和双曲余弦分别记为sinh和cosh，在化简表达式时，SymPy能识别出来这些函数："
   ]
  },
  {
   "cell_type": "code",
   "execution_count": null,
   "metadata": {},
   "outputs": [],
   "source": [
    "sp.simplify((sp.exp(x) + sp.exp(-x))/2 )"
   ]
  },
  {
   "cell_type": "code",
   "execution_count": null,
   "metadata": {},
   "outputs": [],
   "source": [
    "sp.simplify((sp.exp(x) - sp.exp(-x))/2)"
   ]
  },
  {
   "cell_type": "markdown",
   "metadata": {},
   "source": [
    "$x = \\cosh(μ)$和$y = \\sinh(μ)$定义为双曲线$x^2 − y^2 = 1$上点的坐标$x$和$y$，因此\n",
    "满足恒等式$\\cosh^{2}(x) − \\sinh^{2}(x) = 1$:"
   ]
  },
  {
   "cell_type": "code",
   "execution_count": null,
   "metadata": {},
   "outputs": [],
   "source": [
    "sp.simplify(sp.cosh(x)**2 - sp.sinh(x)**2)"
   ]
  },
  {
   "cell_type": "markdown",
   "metadata": {},
   "source": [
    "## 2. 复数"
   ]
  },
  {
   "cell_type": "code",
   "execution_count": null,
   "metadata": {},
   "outputs": [],
   "source": [
    "from sympy import I, re, im, Abs, arg, conjugate"
   ]
  },
  {
   "cell_type": "markdown",
   "metadata": {},
   "source": [
    "### 2.1 基本运算"
   ]
  },
  {
   "cell_type": "markdown",
   "metadata": {},
   "source": [
    "虚数单位$i = \\sqrt{−1}$ (在SymPy中记为I) 满足方程："
   ]
  },
  {
   "cell_type": "code",
   "execution_count": null,
   "metadata": {},
   "outputs": [],
   "source": [
    "I*I"
   ]
  },
  {
   "cell_type": "code",
   "execution_count": null,
   "metadata": {},
   "outputs": [],
   "source": [
    "sp.solve(x**2 + 1, x)"
   ]
  },
  {
   "cell_type": "markdown",
   "metadata": {},
   "source": [
    "复数有实部和虚部："
   ]
  },
  {
   "cell_type": "code",
   "execution_count": null,
   "metadata": {},
   "outputs": [],
   "source": [
    "z = 4 + 3*I\n",
    "z"
   ]
  },
  {
   "cell_type": "code",
   "execution_count": null,
   "metadata": {},
   "outputs": [],
   "source": [
    "re(z)"
   ]
  },
  {
   "cell_type": "code",
   "execution_count": null,
   "metadata": {},
   "outputs": [],
   "source": [
    "im(z)"
   ]
  },
  {
   "cell_type": "markdown",
   "metadata": {},
   "source": [
    "对于复数$z = a + bi$，$z$的共轭为：\n",
    "$$\\overline{z} = a − bi.$$\n",
    "$z$的模（或绝对值）为：\n",
    "$$|z| = \\sqrt{a^2 + b^2}.$$\n",
    "\n",
    "$z$的极坐标表示为：\n",
    "$$z = |z|e^{i\\theta},$$\n",
    "$\\theta$称为$z$的幅角。"
   ]
  },
  {
   "cell_type": "code",
   "execution_count": null,
   "metadata": {},
   "outputs": [],
   "source": [
    "conjugate(z)"
   ]
  },
  {
   "cell_type": "code",
   "execution_count": null,
   "metadata": {},
   "outputs": [],
   "source": [
    "Abs(z)"
   ]
  },
  {
   "cell_type": "code",
   "execution_count": null,
   "metadata": {},
   "outputs": [],
   "source": [
    "arg(z)"
   ]
  },
  {
   "cell_type": "markdown",
   "metadata": {},
   "source": [
    "### 2.2 欧拉公式"
   ]
  },
  {
   "cell_type": "markdown",
   "metadata": {},
   "source": [
    "欧拉公式展示了指数函数$e^x$和三角函数$\\sin(x),\\cos(x)$之间的一个重要关系：\n",
    "$$e^{ix} = \\cos x + i \\sin x.$$\n",
    "在SymPy中要得到这个结果，你必须指定x是实数，并告诉expand你要的是复表达式："
   ]
  },
  {
   "cell_type": "code",
   "execution_count": null,
   "metadata": {},
   "outputs": [],
   "source": [
    "x = sp.symbols('x', real=True)\n",
    "sp.exp(I*x).expand(complex=True)"
   ]
  },
  {
   "cell_type": "code",
   "execution_count": null,
   "metadata": {},
   "outputs": [],
   "source": [
    "re(sp.exp(I*x))"
   ]
  },
  {
   "cell_type": "code",
   "execution_count": null,
   "metadata": {},
   "outputs": [],
   "source": [
    "im(sp.exp(I*x))"
   ]
  },
  {
   "cell_type": "markdown",
   "metadata": {},
   "source": [
    "欧拉公式经常用来将关于sin和cos的函数重写为复指数的形式。\n",
    "\n",
    "例如："
   ]
  },
  {
   "cell_type": "code",
   "execution_count": null,
   "metadata": {},
   "outputs": [],
   "source": [
    "(sp.cos(x)).rewrite(sp.exp)      # 与双曲三角函数的情况对比一下。"
   ]
  },
  {
   "cell_type": "markdown",
   "metadata": {},
   "source": [
    "## 3. 微积分"
   ]
  },
  {
   "cell_type": "markdown",
   "metadata": {},
   "source": [
    "本节中，我们学习使用SymPy函数计算极限、导数、积分及级数求和。"
   ]
  },
  {
   "cell_type": "markdown",
   "metadata": {},
   "source": [
    "### 3.1 无穷"
   ]
  },
  {
   "cell_type": "code",
   "execution_count": null,
   "metadata": {},
   "outputs": [],
   "source": [
    "from sympy import oo"
   ]
  },
  {
   "cell_type": "markdown",
   "metadata": {},
   "source": [
    "在SymPy中，无穷大记号是oo。\n",
    "\n",
    "无穷大不是一个数，而是一个无休止的计数过程。于是$\\infty + 1 = \\infty.$\n",
    "\n",
    "$\\infty$比任何有限数都大，而且$\\frac 1 \\infty$是一个无穷小。\n",
    "\n",
    "Sympy知道如何正确处理表达式中的无穷大："
   ]
  },
  {
   "cell_type": "code",
   "execution_count": null,
   "metadata": {},
   "outputs": [],
   "source": [
    "sp.oo + 1"
   ]
  },
  {
   "cell_type": "code",
   "execution_count": null,
   "metadata": {},
   "outputs": [],
   "source": [
    "500000000000000000000 < oo"
   ]
  },
  {
   "cell_type": "code",
   "execution_count": null,
   "metadata": {},
   "outputs": [],
   "source": [
    "1/oo"
   ]
  },
  {
   "cell_type": "markdown",
   "metadata": {},
   "source": [
    "### 3.2 极限"
   ]
  },
  {
   "cell_type": "code",
   "execution_count": null,
   "metadata": {},
   "outputs": [],
   "source": [
    "from sympy import limit"
   ]
  },
  {
   "cell_type": "markdown",
   "metadata": {},
   "source": [
    "极限可以精确描述无穷大量、无穷小量，以及具有无限多个步骤的过程。\n",
    "\n",
    "例如，欧拉常数$e$定义为极限:\n",
    "$$e = \\lim_{n \\to \\infty}(1 + {\\frac 1 n})^n.$$"
   ]
  },
  {
   "cell_type": "code",
   "execution_count": null,
   "metadata": {},
   "outputs": [],
   "source": [
    "n = sp.symbols('n', integer=True)\n",
    "limit((1+1/n)**n, n, oo)"
   ]
  },
  {
   "cell_type": "markdown",
   "metadata": {},
   "source": [
    "极限也可以用于描述函数的行为。\n",
    "\n",
    "考虑函数$f(x) = \\frac 1 x.$ "
   ]
  },
  {
   "cell_type": "code",
   "execution_count": null,
   "metadata": {},
   "outputs": [],
   "source": [
    "x = sp.Symbol('x')\n",
    "limit(1/x, x, 0, dir=\"+\")"
   ]
  },
  {
   "cell_type": "code",
   "execution_count": null,
   "metadata": {},
   "outputs": [],
   "source": [
    "limit(1/x, x, 0, dir=\"-\")"
   ]
  },
  {
   "cell_type": "code",
   "execution_count": null,
   "metadata": {},
   "outputs": [],
   "source": [
    "limit(1/x, x, oo)"
   ]
  },
  {
   "cell_type": "markdown",
   "metadata": {},
   "source": [
    "以下是另外一些函数极限的例子。"
   ]
  },
  {
   "cell_type": "code",
   "execution_count": null,
   "metadata": {},
   "outputs": [],
   "source": [
    "limit(sp.sin(x)/x, x, 0)"
   ]
  },
  {
   "cell_type": "code",
   "execution_count": null,
   "metadata": {},
   "outputs": [],
   "source": [
    "limit(sp.sin(x)**2/x, x, 0)"
   ]
  },
  {
   "cell_type": "code",
   "execution_count": null,
   "metadata": {},
   "outputs": [],
   "source": [
    "limit(sp.exp(x)/x**100, x, oo) # e^x和x^100哪个更大？"
   ]
  },
  {
   "cell_type": "markdown",
   "metadata": {},
   "source": [
    "### 3.3 导数"
   ]
  },
  {
   "cell_type": "code",
   "execution_count": null,
   "metadata": {},
   "outputs": [],
   "source": [
    "from sympy import diff"
   ]
  },
  {
   "cell_type": "markdown",
   "metadata": {},
   "source": [
    "SymPy函数diff用于计算任何表达式的导数："
   ]
  },
  {
   "cell_type": "code",
   "execution_count": null,
   "metadata": {},
   "outputs": [],
   "source": [
    "diff(x**3, x)"
   ]
  },
  {
   "cell_type": "markdown",
   "metadata": {},
   "source": [
    "diff运算知道求导的乘积法则、商法则和链式法则：\n",
    "$$[f(x)g(x)]' = f'(x)g(x) + f(x)g'(x),$$\n",
    "\n",
    "$$[\\frac {f(x)} {g(x)}]' = \\frac {f'(x)g(x) - f(x)g'(x)} {g(x)^2},$$\n",
    "\n",
    "$$f(g(x))' = f'(g(x))g'(x).$$ "
   ]
  },
  {
   "cell_type": "code",
   "execution_count": null,
   "metadata": {},
   "outputs": [],
   "source": [
    "diff(x**2*sp.sin(x), x)"
   ]
  },
  {
   "cell_type": "code",
   "execution_count": null,
   "metadata": {},
   "outputs": [],
   "source": [
    "diff(sp.sin(x**2), x)"
   ]
  },
  {
   "cell_type": "code",
   "execution_count": null,
   "metadata": {},
   "outputs": [],
   "source": [
    "diff(x**2/sp.sin(x), x)"
   ]
  },
  {
   "cell_type": "markdown",
   "metadata": {},
   "source": [
    "函数$f$的二阶导数是diff(f, x, 2)："
   ]
  },
  {
   "cell_type": "code",
   "execution_count": null,
   "metadata": {},
   "outputs": [],
   "source": [
    "diff(x**3, x, 2)  # 与diff(diff(x**3, x), x)相同"
   ]
  },
  {
   "cell_type": "markdown",
   "metadata": {},
   "source": [
    "指数函数$f(x) = e^x$非常特殊，因为它等于自己的导数："
   ]
  },
  {
   "cell_type": "code",
   "execution_count": null,
   "metadata": {},
   "outputs": [],
   "source": [
    "diff(sp.exp(x), x)     #与diff(E**x, x)相同"
   ]
  },
  {
   "cell_type": "markdown",
   "metadata": {},
   "source": [
    "那么，什么样的函数$f(x)$等于其导数呢？使用解微分方程的函数dsolve可以找到答案："
   ]
  },
  {
   "cell_type": "code",
   "execution_count": null,
   "metadata": {},
   "outputs": [],
   "source": [
    "x = sp.symbols('x')\n",
    "f = sp.symbols('f', function=True)  # 现在可以使用f(x)\n",
    "sp.dsolve(f(x) - sp.diff(f(x),x), f(x))"
   ]
  },
  {
   "cell_type": "markdown",
   "metadata": {},
   "source": [
    "### 3.4 切线"
   ]
  },
  {
   "cell_type": "markdown",
   "metadata": {
    "collapsed": true
   },
   "source": [
    "函数$f(x)$在点$x = x_0$处的切线可由下列方程给出：\n",
    "$$T_1(x)=f(x_0)+f'(x_0)(x−x_0).$$\n",
    "\n",
    "例如，求函数$f(x)= {\\frac 1 2}x^2$在$x_0 = 1$处的切线。"
   ]
  },
  {
   "cell_type": "code",
   "execution_count": null,
   "metadata": {},
   "outputs": [],
   "source": [
    "f = sp.S('1/2')*x**2\n",
    "f"
   ]
  },
  {
   "cell_type": "code",
   "execution_count": null,
   "metadata": {},
   "outputs": [],
   "source": [
    "df = sp.diff(f, x)\n",
    "df"
   ]
  },
  {
   "cell_type": "code",
   "execution_count": null,
   "metadata": {},
   "outputs": [],
   "source": [
    "T_1 = f.subs({x:1}) + df.subs({x:1})*(x - 1)\n",
    "T_1"
   ]
  },
  {
   "cell_type": "markdown",
   "metadata": {},
   "source": [
    "切线$T_1(x)$与函数$f(x)$在$x = 1$处有相同的值以及斜率。"
   ]
  },
  {
   "cell_type": "code",
   "execution_count": null,
   "metadata": {},
   "outputs": [],
   "source": [
    "T_1.subs({x:1}) == f.subs({x:1})"
   ]
  },
  {
   "cell_type": "code",
   "execution_count": null,
   "metadata": {},
   "outputs": [],
   "source": [
    "diff(T_1, x).subs({x:1}) == diff(f, x).subs({x:1})"
   ]
  },
  {
   "cell_type": "markdown",
   "metadata": {},
   "source": [
    "### 3.5 优化"
   ]
  },
  {
   "cell_type": "markdown",
   "metadata": {},
   "source": [
    "优化就是对一个函数$f(x)$选取一个输入值，使之产生$f(x)$的最佳结果。最佳值通常意味着最大值或最小值。\n",
    "\n",
    "导数$f'(x)$编码了关于$f(x)$的斜率的信息：正斜率$f'(x) > 0$意味着$f(x)$是递增的，负的斜率意味着$f(x)$是递减的。零斜率$f'(x) = 0$意味着函数图象是水平的。\n",
    "\n",
    "函数$f(x)$的临界点是方程$f'(x) = 0$的解。每个临界点都是该函数的最大值或者最小值的候选者。\n",
    "\n",
    "二阶导数$f''(x)$编码了关于$f(x)$的曲率的信息：正曲率意味着函数像$x^2$那样弯曲，负曲率意味着函数像$−x^2$那样弯曲。\n",
    "\n",
    "我们求函数$f(x) = x^3 − 2x^2 + x$的临界点，并使用二阶导数的信息求出函数在区间$[0,1]$中的极值。"
   ]
  },
  {
   "cell_type": "code",
   "execution_count": null,
   "metadata": {},
   "outputs": [],
   "source": [
    "x = sp.Symbol('x')\n",
    "f = x**3 - 2*x**2 + x\n",
    "sp.diff(f, x)"
   ]
  },
  {
   "cell_type": "code",
   "execution_count": null,
   "metadata": {},
   "outputs": [],
   "source": [
    "sols = sp.solve(diff(f,x), x)\n",
    "sols"
   ]
  },
  {
   "cell_type": "code",
   "execution_count": null,
   "metadata": {},
   "outputs": [],
   "source": [
    "diff(diff(f,x), x).subs({x:sols[0]})"
   ]
  },
  {
   "cell_type": "code",
   "execution_count": null,
   "metadata": {},
   "outputs": [],
   "source": [
    "diff(diff(f,x), x).subs({x:sols[1]})"
   ]
  },
  {
   "cell_type": "markdown",
   "metadata": {},
   "source": [
    "通过考察函数的图象可以看出，函数$f(x)$在区间$[0,1]$中的点$x = \\frac 1 3$处取到\n",
    "最大值$f(\\frac 1 3) = \\frac 4 {27}$，$x = 1$是$f(x)$的一个局部极小值。"
   ]
  },
  {
   "cell_type": "markdown",
   "metadata": {},
   "source": [
    "### 3.6 积分"
   ]
  },
  {
   "cell_type": "markdown",
   "metadata": {},
   "source": [
    "$f(x)$的**积分**对应于函数$f(x)$在$x = a$和$x = b$之间所包围的面积:\n",
    "$$A(a,b)= \\int_{a}^{b}f(x)dx.$$\n",
    "\n",
    "在SymPy中，使用integrate(f,x)来得到任意函数$f(x)$的积分函数$F(x)$:\n",
    "$$F(x) = \\int_{0}^{x}f(u)du.$$"
   ]
  },
  {
   "cell_type": "code",
   "execution_count": null,
   "metadata": {},
   "outputs": [],
   "source": [
    "sp.integrate(x**3, x)"
   ]
  },
  {
   "cell_type": "code",
   "execution_count": null,
   "metadata": {},
   "outputs": [],
   "source": [
    "sp.integrate(sp.sin(x), x)"
   ]
  },
  {
   "cell_type": "code",
   "execution_count": null,
   "metadata": {},
   "outputs": [],
   "source": [
    "sp.integrate(sp.ln(x), x)"
   ]
  },
  {
   "cell_type": "markdown",
   "metadata": {},
   "source": [
    "上面这样的形式称为不定积分，因为没有指定积分的限。\n",
    "\n",
    "使用integrate(f, (x,a,b))来计算如下形式的定积分（面积）：\n",
    "$$A(a,b)= \\int_{a}^{b}f(x)dx.$$"
   ]
  },
  {
   "cell_type": "code",
   "execution_count": null,
   "metadata": {},
   "outputs": [],
   "source": [
    "sp.integrate(x**3, (x,0,1))"
   ]
  },
  {
   "cell_type": "markdown",
   "metadata": {},
   "source": [
    "我们也可以使用公式\n",
    "$$A(a,b)= \\int_{a}^{b}f(x)dx = F(b) - F(a)$$\n",
    "来计算定积分的值。"
   ]
  },
  {
   "cell_type": "code",
   "execution_count": null,
   "metadata": {},
   "outputs": [],
   "source": [
    "F = sp.integrate(x**3, x)\n",
    "F.subs({x:1}) - F.subs({x:0})"
   ]
  },
  {
   "cell_type": "markdown",
   "metadata": {},
   "source": [
    "积分对于着有符号的面积："
   ]
  },
  {
   "cell_type": "code",
   "execution_count": null,
   "metadata": {},
   "outputs": [],
   "source": [
    "sp.integrate(sp.sin(x), (x,0,sp.pi))"
   ]
  },
  {
   "cell_type": "code",
   "execution_count": null,
   "metadata": {},
   "outputs": [],
   "source": [
    "sp.integrate(sp.sin(x), (x,sp.pi,2*sp.pi))"
   ]
  },
  {
   "cell_type": "code",
   "execution_count": null,
   "metadata": {},
   "outputs": [],
   "source": [
    "sp.integrate(sp.sin(x), (x,0,2*sp.pi))"
   ]
  },
  {
   "cell_type": "markdown",
   "metadata": {},
   "source": [
    "### 3.7 微积分基本定理"
   ]
  },
  {
   "cell_type": "markdown",
   "metadata": {},
   "source": [
    "积分是导数的“逆运算”：如果你对某个函数先积分后求导，你将得到原来的函数：\n",
    "$$({\\frac d {dx} \\circ \\int dx})\\ f(x) = {\\frac d {dx}}\\int_{c}^{x}f(u)du = f(x).$$"
   ]
  },
  {
   "cell_type": "code",
   "execution_count": null,
   "metadata": {},
   "outputs": [],
   "source": [
    "f = x**2\n",
    "F = sp.integrate(f, x)\n",
    "F"
   ]
  },
  {
   "cell_type": "code",
   "execution_count": null,
   "metadata": {},
   "outputs": [],
   "source": [
    "sp.diff(F, x)"
   ]
  },
  {
   "cell_type": "markdown",
   "metadata": {},
   "source": [
    "反之，如果你对某个函数先求导再积分，你仍然得到原始的函数（加上一个任意常数）：\n",
    "$$(\\int dx \\circ {\\frac d {dx}})\\ f(x) = \\int_{c}^{x}f’(u)du = f(x) + C.$$"
   ]
  },
  {
   "cell_type": "code",
   "execution_count": null,
   "metadata": {},
   "outputs": [],
   "source": [
    "f = x**2\n",
    "df = sp.diff(f, x)\n",
    "df"
   ]
  },
  {
   "cell_type": "code",
   "execution_count": null,
   "metadata": {},
   "outputs": [],
   "source": [
    "sp.integrate(df, x)"
   ]
  },
  {
   "cell_type": "markdown",
   "metadata": {},
   "source": [
    "### 3.8 序列"
   ]
  },
  {
   "cell_type": "markdown",
   "metadata": {
    "collapsed": true
   },
   "source": [
    "序列是以整数作为定义域（输入）的函数，我们将序列记为$a_n$，而不是通常的函数记号$a(n)$.\n",
    "\n",
    "我们通过指定序列的第$n$项（通项）来定义序列："
   ]
  },
  {
   "cell_type": "code",
   "execution_count": null,
   "metadata": {},
   "outputs": [],
   "source": [
    "a_n = 1/n\n",
    "b_n = 1/sp.factorial(n)"
   ]
  },
  {
   "cell_type": "code",
   "execution_count": null,
   "metadata": {},
   "outputs": [],
   "source": [
    "a_n"
   ]
  },
  {
   "cell_type": "code",
   "execution_count": null,
   "metadata": {},
   "outputs": [],
   "source": [
    "b_n"
   ]
  },
  {
   "cell_type": "code",
   "execution_count": null,
   "metadata": {},
   "outputs": [],
   "source": [
    "a_n.subs({n:5})"
   ]
  },
  {
   "cell_type": "markdown",
   "metadata": {},
   "source": [
    "Python的list理解语法[item for item in list]，\n",
    "可以用于打印一个范围内的序列值："
   ]
  },
  {
   "cell_type": "code",
   "execution_count": null,
   "metadata": {},
   "outputs": [],
   "source": [
    "[a_n.subs({n:i}) for i in range(0,8)]"
   ]
  },
  {
   "cell_type": "code",
   "execution_count": null,
   "metadata": {},
   "outputs": [],
   "source": [
    "[b_n.subs({n:i}) for i in range(0,8)]"
   ]
  },
  {
   "cell_type": "markdown",
   "metadata": {},
   "source": [
    "注意$a_n$对于$n = 0$是没有确切的定义的，因此会返回被零除的错误。\n",
    "\n",
    "准确地讲，我们说该序列$a_n$的定义域是自然数：$a_n \\colon \\mathbb{N^+} \\to \\mathbb{R}.$ \n",
    "\n",
    "我们可以观察到阶乘函数$n! = 1·2·3···(n−1)·n$的增长有多么的快：\n",
    "$$7! = 5040,10! = 3628800,20! > 10^{18}.$$\n",
    "\n",
    "我们经常需要计算当$n \\to \\infty$时，序列$a_n$的极限。"
   ]
  },
  {
   "cell_type": "code",
   "execution_count": null,
   "metadata": {},
   "outputs": [],
   "source": [
    "sp.limit(a_n, n,oo)"
   ]
  },
  {
   "cell_type": "code",
   "execution_count": null,
   "metadata": {},
   "outputs": [],
   "source": [
    "sp.limit(b_n, n,oo)"
   ]
  },
  {
   "cell_type": "markdown",
   "metadata": {},
   "source": [
    "很多重要的数学量都是通过极限表达式来定义的。一个有意思的例子是考虑常数$\\pi,$\n",
    "它定义为单位半径的圆的面积。我们可以通过包围圆的正多边形的面积来逼近单位圆的面积。\n",
    "\n",
    "通过将正$n$边形分解成恒等的三角形切片，我们可以得到其面积$A_n,$然后令$n \\to \\infty,$给出单位圆的面积。"
   ]
  },
  {
   "cell_type": "code",
   "execution_count": null,
   "metadata": {},
   "outputs": [],
   "source": [
    "A_n = n * sp.tan(2*sp.pi/(2*n))\n",
    "sp.limit(A_n, n,oo)"
   ]
  },
  {
   "cell_type": "markdown",
   "metadata": {},
   "source": [
    "### 3.9 级数\n",
    "\n",
    "给定一个序列$a_n,$我们希望计算序列中所有值的和$\\sum_{n}^{\\infty}a_n.$ \n",
    "\n",
    "对序列$a_n \\colon \\mathbb{N} \\to \\mathbb{R}$求和类似于对函数$f \\colon \\mathbb{R} \\to \\mathbb{R}$求积分。\n",
    "\n",
    "SymPy中用于求和的函数是summation，其语法类似于积分函数integrate。"
   ]
  },
  {
   "cell_type": "code",
   "execution_count": null,
   "metadata": {},
   "outputs": [],
   "source": [
    "a_n = 1/n\n",
    "b_n = 1/sp.factorial(n)\n",
    "sp.summation(a_n, [n, 1, oo])"
   ]
  },
  {
   "cell_type": "code",
   "execution_count": null,
   "metadata": {},
   "outputs": [],
   "source": [
    "sp.summation(b_n, [n, 0, oo])"
   ]
  },
  {
   "cell_type": "markdown",
   "metadata": {},
   "source": [
    "summation命令允许我们计算无穷和，但是对大多数实用的目的，得到无穷和的一个好近似就够了。\n",
    "\n",
    "使用标准Python求和命令sum,通过求出无穷和的前$10$项，我们可以得到$e$的精确到$6$位小数的近似值。"
   ]
  },
  {
   "cell_type": "code",
   "execution_count": null,
   "metadata": {},
   "outputs": [],
   "source": [
    "import math\n",
    "def b_nf(n):\n",
    "    return 1.0/math.factorial(n)\n",
    "sum([b_nf(n) for n in range(0,10)])"
   ]
  },
  {
   "cell_type": "code",
   "execution_count": null,
   "metadata": {},
   "outputs": [],
   "source": [
    "sp.E.evalf()"
   ]
  },
  {
   "cell_type": "code",
   "execution_count": null,
   "metadata": {},
   "outputs": [],
   "source": [
    "exp_xn = x**n/sp.factorial(n)\n",
    "a = sp.summation(exp_xn.subs({x:5}), [n, 0, oo] )"
   ]
  },
  {
   "cell_type": "code",
   "execution_count": null,
   "metadata": {},
   "outputs": [],
   "source": [
    "a"
   ]
  },
  {
   "cell_type": "code",
   "execution_count": null,
   "metadata": {},
   "outputs": [],
   "source": [
    "a.evalf()"
   ]
  },
  {
   "cell_type": "code",
   "execution_count": null,
   "metadata": {},
   "outputs": [],
   "source": [
    "import math # 仅使用Python重新计算\n",
    "def exp_xnf(x,n):\n",
    "    return x**n/math.factorial(n)\n",
    "sum([exp_xnf(5.0,i) for i in range(0,35)])"
   ]
  },
  {
   "cell_type": "markdown",
   "metadata": {},
   "source": [
    "### 3.10 泰勒级数\n",
    "\n",
    "一个函数的幂级数展开称为Taylor级数，展开的系数依赖于该函数的高阶导数。\n",
    "\n",
    "$f(x)$在$x = c$点的泰勒级数的第$n$项由下列公式给出：\n",
    "\n",
    "$$a_n(x) = \\frac {f^{(n)}(c)} {n!}(x − c)^n,$$\n",
    "\n",
    "其中$f^{(n)}(c)$是$f(x)$的$n$阶导数在$x = c$处的值。\n",
    "\n",
    "术语Maclaurin级数专指在$x = 0$处的泰勒级数。\n",
    "\n",
    "SymPy的函数series可用于得到任意函数的泰勒级数：\n",
    "调用series(expr,var,at,nmax)显示expr在var=at处的级数展开，最高幂次到nmax-1。"
   ]
  },
  {
   "cell_type": "code",
   "execution_count": null,
   "metadata": {},
   "outputs": [],
   "source": [
    "sp.series(sp.sin(x), x, 0, 10)"
   ]
  },
  {
   "cell_type": "code",
   "execution_count": null,
   "metadata": {},
   "outputs": [],
   "source": [
    "sp.series(sp.cos(x), x, 0, 8)"
   ]
  },
  {
   "cell_type": "code",
   "execution_count": null,
   "metadata": {},
   "outputs": [],
   "source": [
    "sp.series(sp.sinh(x), x, 0, 8)"
   ]
  },
  {
   "cell_type": "code",
   "execution_count": null,
   "metadata": {},
   "outputs": [],
   "source": [
    "sp.series(sp.cosh(x), x, 0, 8)"
   ]
  },
  {
   "cell_type": "markdown",
   "metadata": {},
   "source": [
    "有些函数在$x = 0$处没有定义，因此我们关于一个不同的$x$值来展开。\n",
    "\n",
    "例如，$ln(x)$在$x = 1$处的幂级数展开为："
   ]
  },
  {
   "cell_type": "code",
   "execution_count": null,
   "metadata": {},
   "outputs": [],
   "source": [
    "sp.series(sp.ln(x), x, 1, 6) # ln(x)在x = 1处的Taylor级数展开"
   ]
  },
  {
   "cell_type": "markdown",
   "metadata": {},
   "source": [
    "我们也可以通过在$x = 0$展开$ln(x + 1)$："
   ]
  },
  {
   "cell_type": "code",
   "execution_count": null,
   "metadata": {},
   "outputs": [],
   "source": [
    "sp.series(sp.ln(x+1), x, 0, 6) # ln(x+1)的Maclaurin级数"
   ]
  },
  {
   "cell_type": "markdown",
   "metadata": {},
   "source": [
    "## 4. 矩阵与向量"
   ]
  },
  {
   "cell_type": "markdown",
   "metadata": {},
   "source": [
    "### 4.1 矩阵"
   ]
  },
  {
   "cell_type": "markdown",
   "metadata": {},
   "source": [
    "矩阵$A \\in \\mathbb{R}^{m \\times n}$是一个$m$行和$n$列的矩形实数阵列。"
   ]
  },
  {
   "cell_type": "code",
   "execution_count": null,
   "metadata": {},
   "outputs": [],
   "source": [
    "from sympy import Matrix  # 再引用Matrix时不必用sp.Matrix了！"
   ]
  },
  {
   "cell_type": "code",
   "execution_count": null,
   "metadata": {},
   "outputs": [],
   "source": [
    "A = Matrix([[ 2,-3,-8, 7],\n",
    "            [-2,-1, 2,-7],\n",
    "            [ 1, 0,-3, 6]])\n",
    "A"
   ]
  },
  {
   "cell_type": "markdown",
   "metadata": {},
   "source": [
    "使用方括号可访问矩阵的元素或得到子矩阵："
   ]
  },
  {
   "cell_type": "code",
   "execution_count": null,
   "metadata": {},
   "outputs": [],
   "source": [
    "A[0,1]  # A的第0行、第1列 "
   ]
  },
  {
   "cell_type": "code",
   "execution_count": null,
   "metadata": {},
   "outputs": [],
   "source": [
    "A[0:2,0:3] # A的最左上角的2x3子矩阵"
   ]
  },
  {
   "cell_type": "markdown",
   "metadata": {},
   "source": [
    "一些常用的特殊矩阵可以使用快速方法创建："
   ]
  },
  {
   "cell_type": "code",
   "execution_count": null,
   "metadata": {},
   "outputs": [],
   "source": [
    "sp.eye(2)  # 2x2单位矩阵"
   ]
  },
  {
   "cell_type": "code",
   "execution_count": null,
   "metadata": {},
   "outputs": [],
   "source": [
    "sp.zeros(2, 3)"
   ]
  },
  {
   "cell_type": "markdown",
   "metadata": {},
   "source": [
    "标准的代数运算，比如加法+、减法-、乘法$*$、和指数运算$**$对矩阵都可以进行。\n",
    "\n",
    "转置运算transpose将矩阵沿其对角线翻转："
   ]
  },
  {
   "cell_type": "code",
   "execution_count": null,
   "metadata": {},
   "outputs": [],
   "source": [
    "A.transpose()   # 等同于A.T"
   ]
  },
  {
   "cell_type": "markdown",
   "metadata": {},
   "source": [
    "### 4.2 矩阵的行操作"
   ]
  },
  {
   "cell_type": "code",
   "execution_count": null,
   "metadata": {},
   "outputs": [],
   "source": [
    "M = sp.eye(3)\n",
    "M[1,:] = M[1,:] + 3 * M[0,:]\n",
    "M"
   ]
  },
  {
   "cell_type": "markdown",
   "metadata": {},
   "source": [
    "Gauss-Jordan消元法是对矩阵实施的一系列行操作，可以将任何矩阵变换为行简约梯形标准型(RREF)。在SymPy中，rref方法用于计算一个矩阵的RREF："
   ]
  },
  {
   "cell_type": "code",
   "execution_count": null,
   "metadata": {},
   "outputs": [],
   "source": [
    "A = Matrix([[2,-3,-8, 7],\n",
    "            [-2,-1,2,-7],\n",
    "            [1 ,0,-3, 6]])\n",
    "A"
   ]
  },
  {
   "cell_type": "code",
   "execution_count": null,
   "metadata": {},
   "outputs": [],
   "source": [
    "A.rref()"
   ]
  },
  {
   "cell_type": "markdown",
   "metadata": {},
   "source": [
    "注意，rref方法返回两组值：第一组是矩阵$A$的行简约梯形标准型RREF；而第二组指示在$A$的RREF中，每行第一个1的位置（所在的列），这些1也称为主元。\n",
    "\n",
    "例如，上例中后面的一组值[0, 1, 2]表示主元的位置。\n",
    "\n",
    "如果只想得到$A$的RREF，使用A.rref()[0]."
   ]
  },
  {
   "cell_type": "code",
   "execution_count": null,
   "metadata": {},
   "outputs": [],
   "source": [
    "A.rref()[0]"
   ]
  },
  {
   "cell_type": "markdown",
   "metadata": {},
   "source": [
    "### 4.3 基本子空间\n",
    "考虑矩阵$A \\in \\mathbb{R}^{m \\times n}.$ 伴随着$A$有三个重要的基本子空间：\n",
    "* 列空间$\\mathcal{C}(A)$ 是$A$的由RREF中主元所指示的那些列所张成的子空间。\n",
    "* 零空间$\\mathcal{N}(A)$ 是所有满足$A \\vec{x} = \\vec{0}$的向量$\\vec{x}$所构成的子空间。\n",
    "* 行空间$\\mathcal{R}(A)$是零空间的正交补。 \n",
    "\n",
    "当我们将矩阵$A$视为线性变换$T_A \\colon \\mathbb{R}^{n} \\to \\mathbb{R}^{m}$时，这些子空间显得格外重要。\n",
    "\n",
    "线性变换$T_A$定义为：对于$\\vec{x} \\in \\mathbb{R}^{n},T_A(\\vec{x}) = A\\vec{x}.$\n",
    "* $\\mathcal{C}(A) = Im(T_A)$（$T_A$的像空间）\n",
    "* $\\mathcal{N}(A) = Ker(T_A)$（满足$T_A(\\vec{x}) = \\vec{0}$的所有向量集合）\n",
    "* $\\mathcal{R}(A)$是零空间的正交补。"
   ]
  },
  {
   "cell_type": "code",
   "execution_count": null,
   "metadata": {},
   "outputs": [],
   "source": [
    "[A.rref()[0][r,:] for r in A.rref()[1]]   # R(A)"
   ]
  },
  {
   "cell_type": "code",
   "execution_count": null,
   "metadata": {},
   "outputs": [],
   "source": [
    "[A[:,c] for c in A.rref()[1]]  # C(A)，注意要选原始矩阵A的列，不是RREF的列"
   ]
  },
  {
   "cell_type": "code",
   "execution_count": null,
   "metadata": {},
   "outputs": [],
   "source": [
    "A.nullspace()  # N(A)"
   ]
  },
  {
   "cell_type": "markdown",
   "metadata": {},
   "source": [
    "### 4.4 行列式\n",
    "矩阵$A$的行列式，记为$det(A)$或者$|A|$，是表征矩阵很多性质的一个数，可用于计算由$A$的行（或列）构成几何体的面积或体积、求解线性方程组、检验矩阵是否可逆等等。"
   ]
  },
  {
   "cell_type": "code",
   "execution_count": null,
   "metadata": {},
   "outputs": [],
   "source": [
    "M = Matrix([[1, 2, 3],\n",
    "            [2,-2, 4],\n",
    "            [2, 2, 5]])\n",
    "M.det()"
   ]
  },
  {
   "cell_type": "markdown",
   "metadata": {},
   "source": [
    "### 4.5 矩阵的逆\n",
    "对于可逆矩阵$A$，存在逆矩阵$A^{-1}$，即满足：\n",
    "$$A A^{-1} = A^{-1}A = \\mathbb{I}.$$"
   ]
  },
  {
   "cell_type": "code",
   "execution_count": null,
   "metadata": {},
   "outputs": [],
   "source": [
    "A = Matrix([[1,2],\n",
    "            [3,9]])\n",
    "A"
   ]
  },
  {
   "cell_type": "code",
   "execution_count": null,
   "metadata": {},
   "outputs": [],
   "source": [
    "B = A.inv()\n",
    "B"
   ]
  },
  {
   "cell_type": "code",
   "execution_count": null,
   "metadata": {},
   "outputs": [],
   "source": [
    "A * B"
   ]
  },
  {
   "cell_type": "code",
   "execution_count": null,
   "metadata": {},
   "outputs": [],
   "source": [
    "B * A"
   ]
  },
  {
   "cell_type": "markdown",
   "metadata": {},
   "source": [
    "### 4.6 特征向量与特征值\n",
    "若一个向量$\\vec{e}$满足:\n",
    "$$A \\vec{e} = \\lambda \\vec{e},$$\n",
    "则$\\vec{e} = \\vec{e}_{\\lambda}$称为$A$的一个特征向量，常数$\\lambda$称为$A$的（对应于$\\vec{e}$的）一个特征值。\n",
    "\n",
    "要求出特征值，从方程$A \\vec{e} = \\lambda \\vec{e}$出发，通过插入单位矩阵，\n",
    "$$A \\vec{e} = \\lambda \\mathbb{I} \\vec{e} \\Longrightarrow (A - \\lambda \\mathbb{I}) \\vec{e} = \\vec{0}.$$.\n",
    "\n",
    "当特征多项式$p(x) = |A - \\lambda \\mathbb{I}| = 0$时，这个方程由非平凡解。\n",
    "\n",
    "$A$的特征值${\\lambda_1,\\lambda_2, ... ,\\lambda_n}$是特征多项式的根。"
   ]
  },
  {
   "cell_type": "code",
   "execution_count": null,
   "metadata": {},
   "outputs": [],
   "source": [
    "A = Matrix([[ 9, -2],\n",
    "            [-2, 6]])\n",
    "A.eigenvals()          # 与solve(det(A-eye(2)*x),x)相同"
   ]
  },
  {
   "cell_type": "markdown",
   "metadata": {},
   "source": [
    "{5:1,10:1}表示特征值的“重数”都是1."
   ]
  },
  {
   "cell_type": "code",
   "execution_count": null,
   "metadata": {},
   "outputs": [],
   "source": [
    "A.eigenvects()"
   ]
  },
  {
   "cell_type": "markdown",
   "metadata": {},
   "source": [
    "某些特殊的矩阵可以用特征向量和特征值完全表示出来。\n",
    "* 若矩阵$\\Lambda$是由的特征值构成的对角矩阵，$Q$是由的特征向量为列构成的矩阵：\n",
    "$$\\Lambda =  \\begin{pmatrix}\n",
    "                 \\lambda_1 & \\cdots  & 0         \\\\\n",
    "                 \\vdots     & \\ddots  & \\vdots   \\\\\n",
    "                 0         & \\cdots  & \\lambda_n \\\\\n",
    "               \\end{pmatrix},\n",
    "  Q = [\\vec{e}_{\\lambda_1} \\cdots \\vec{e}_{\\lambda_n}].$$\n",
    "* 则有：\n",
    "$$A = Q \\Lambda Q^{-1}.$$\n",
    "* 可以写为这种形式的矩阵称为可对角化的。"
   ]
  },
  {
   "cell_type": "code",
   "execution_count": null,
   "metadata": {},
   "outputs": [],
   "source": [
    "Q,L = A.diagonalize()"
   ]
  },
  {
   "cell_type": "code",
   "execution_count": null,
   "metadata": {},
   "outputs": [],
   "source": [
    "Q                # 特征向量矩阵"
   ]
  },
  {
   "cell_type": "code",
   "execution_count": null,
   "metadata": {},
   "outputs": [],
   "source": [
    "Q.inv()"
   ]
  },
  {
   "cell_type": "code",
   "execution_count": null,
   "metadata": {},
   "outputs": [],
   "source": [
    "L                # 特征值对角矩阵"
   ]
  },
  {
   "cell_type": "code",
   "execution_count": null,
   "metadata": {},
   "outputs": [],
   "source": [
    "Q * L * Q.inv()   # A的特征分解"
   ]
  },
  {
   "cell_type": "code",
   "execution_count": null,
   "metadata": {},
   "outputs": [],
   "source": [
    "Q.inv() * A * Q   # 由A和Q得到L"
   ]
  },
  {
   "cell_type": "markdown",
   "metadata": {},
   "source": [
    "注意：并非所有矩阵都是可对角化的。\n",
    "\n",
    "可以通过调用is_diagonalizable方法判断一个矩阵是否可对角化："
   ]
  },
  {
   "cell_type": "code",
   "execution_count": null,
   "metadata": {},
   "outputs": [],
   "source": [
    "A.is_diagonalizable()"
   ]
  },
  {
   "cell_type": "code",
   "execution_count": null,
   "metadata": {},
   "outputs": [],
   "source": [
    "B = Matrix([[1, 3],\n",
    "            [0, 1]])\n",
    "B.is_diagonalizable()"
   ]
  },
  {
   "cell_type": "code",
   "execution_count": null,
   "metadata": {},
   "outputs": [],
   "source": [
    "B.eigenvals()     # 特征值1的重数为2"
   ]
  },
  {
   "cell_type": "code",
   "execution_count": null,
   "metadata": {},
   "outputs": [],
   "source": [
    "B.eigenvects()"
   ]
  },
  {
   "cell_type": "markdown",
   "metadata": {},
   "source": [
    "矩阵$B$不可对角化，因为它没有一组完全的特征向量。\n",
    "\n",
    "$B$只有一个特征向量，因此无法构成特征向量矩阵$Q$（少一列！）\n",
    "\n",
    "非正方矩阵没有特征值分解，但可以有奇异值分解（SVD）：非正方矩阵$A$可以分解为左奇异向量矩阵、右奇异向量矩阵和奇异值的对角矩阵。\n",
    "\n",
    "对任何矩阵可以使用singular_values方法求得奇异值。"
   ]
  },
  {
   "cell_type": "markdown",
   "metadata": {},
   "source": [
    "### 4.7 向量\n",
    "一个向量$\\vec{v} \\in \\mathbb{R}^n$就是实数的$n-$元组。\n",
    "\n",
    "例如，考虑有三个分量的向量：\n",
    "\n",
    "$$\\vec{v} = (v_1,v_2,v_3) \\in (\\mathbb{R},\\mathbb{R},\\mathbb{R}) = \\mathbb{R}^3.$$\n",
    "\n",
    "因为向量是一种特殊的矩阵，因此在SymPy中，Matrix也用于向量。"
   ]
  },
  {
   "cell_type": "code",
   "execution_count": null,
   "metadata": {},
   "outputs": [],
   "source": [
    "u = sp.Matrix([[4,5,6]]) # 行向量 = 1x3矩阵\n",
    "v = sp.Matrix([[7],\n",
    "               [8],\n",
    "               [9]])     # 列向量 = 3x1矩阵"
   ]
  },
  {
   "cell_type": "code",
   "execution_count": null,
   "metadata": {},
   "outputs": [],
   "source": [
    "u"
   ]
  },
  {
   "cell_type": "code",
   "execution_count": null,
   "metadata": {},
   "outputs": [],
   "source": [
    "v"
   ]
  },
  {
   "cell_type": "code",
   "execution_count": null,
   "metadata": {},
   "outputs": [],
   "source": [
    "v.T        # .T是转置运算"
   ]
  },
  {
   "cell_type": "code",
   "execution_count": null,
   "metadata": {},
   "outputs": [],
   "source": [
    "u[0]"
   ]
  },
  {
   "cell_type": "code",
   "execution_count": null,
   "metadata": {},
   "outputs": [],
   "source": [
    "u.norm()   # u的长度（范数）"
   ]
  },
  {
   "cell_type": "code",
   "execution_count": null,
   "metadata": {},
   "outputs": [],
   "source": [
    "u1 = u/u.norm()     # 与u同方向的单位向量"
   ]
  },
  {
   "cell_type": "code",
   "execution_count": null,
   "metadata": {},
   "outputs": [],
   "source": [
    "u1"
   ]
  },
  {
   "cell_type": "code",
   "execution_count": null,
   "metadata": {},
   "outputs": [],
   "source": [
    "u1.norm()"
   ]
  },
  {
   "cell_type": "markdown",
   "metadata": {},
   "source": [
    "### 4.8 向量点积\n",
    "\n",
    "两个3-维向量$\\vec{u}$和$\\vec{u}$的点积可以按照两种方法来定义：\n",
    "\n",
    "$$ \\vec{u}·\\vec{v} = \\underbrace{{u_x}{v_x} + {u_y}{v_y} + {u_z}{v_z}}_{代数定义}\n",
    " = \\underbrace{\\Vert{\\vec{u}}\\Vert \\Vert {\\vec{v}} \\Vert \\cos(\\varphi)}_{几何定义}$$\n",
    " \n",
    "其中$\\varphi$是向量$\\vec{u}$和$\\vec{v}$之间的夹角。 "
   ]
  },
  {
   "cell_type": "code",
   "execution_count": null,
   "metadata": {},
   "outputs": [],
   "source": [
    "u = sp.Matrix([ 4,5,6])\n",
    "v = sp.Matrix([-1,1,2])"
   ]
  },
  {
   "cell_type": "code",
   "execution_count": null,
   "metadata": {},
   "outputs": [],
   "source": [
    "u.dot(v)           # u和v的点积"
   ]
  },
  {
   "cell_type": "code",
   "execution_count": null,
   "metadata": {},
   "outputs": [],
   "source": [
    "u.dot(v) == v.dot(u)  # 点积满足交换律"
   ]
  },
  {
   "cell_type": "markdown",
   "metadata": {},
   "source": [
    "给定两个向量$\\vec{u},\\vec{v},$我们可以由下列公式求出两者夹角的余弦：\n",
    "\n",
    "$$\\cos(\\varphi)= \\frac {\\vec{u}·\\vec{v}} {{\\Vert\\vec{u}\\Vert} {\\Vert\\vec{v}\\Vert}}\n",
    "               = \\frac {{u_x}·{v_x}+{u_y}·{v_y}+{u_z}·{v_z}}{{\\Vert\\vec{u}\\Vert} {\\Vert\\vec{v}\\Vert}}.$$\n",
    "\n",
    "然后使用acos函数求出夹角。\n",
    "\n",
    "* 若两个向量之间的夹角为锐角（即$\\varphi < 90^{\\circ}$），则$\\vec{u}·\\vec{v} > 0.$\n",
    "\n",
    "* 若两个向量之间的夹角为直角（即$\\varphi = 90^{\\circ}$），则$\\vec{u}·\\vec{v} = 0,$ 此时称向量$\\vec{u},\\vec{v}$为垂直的。\n",
    "\n",
    "* 若两个向量之间的夹角为锐角（即$\\varphi > 90^{\\circ}$），则$\\vec{u}·\\vec{v} < 0.$"
   ]
  },
  {
   "cell_type": "code",
   "execution_count": null,
   "metadata": {
    "scrolled": true
   },
   "outputs": [],
   "source": [
    "sp.acos(u.dot(v)/(u.norm()*v.norm())).evalf()"
   ]
  },
  {
   "cell_type": "markdown",
   "metadata": {},
   "source": [
    "向量的点积运算是交换的：$\\vec{u}·\\vec{v} = \\vec{v}·\\vec{u}.$"
   ]
  },
  {
   "cell_type": "code",
   "execution_count": null,
   "metadata": {},
   "outputs": [],
   "source": [
    "u.dot(v) == v.dot(u)"
   ]
  },
  {
   "cell_type": "markdown",
   "metadata": {},
   "source": [
    "### 4.9 投影\n",
    "点积可用于计算投影。假定给定两个向量$\\vec{u}$和$\\vec{n}$，我们想计算$\\vec{u}$沿着$\\vec{n}$方向的部分。\n",
    "\n",
    "基于点积的下列公式将给出答案：\n",
    "$$\\prod_{\\vec{n}} = \\frac {\\vec{u} \\cdot \\vec{n}} {\\| \\vec{n}\\|} \\vec{n}.$$"
   ]
  },
  {
   "cell_type": "code",
   "execution_count": null,
   "metadata": {},
   "outputs": [],
   "source": [
    "u = sp.Matrix([4,5,6])\n",
    "n = sp.Matrix([1,1,1])\n",
    "(u.dot(n)/n.norm()**2)*n"
   ]
  },
  {
   "cell_type": "markdown",
   "metadata": {},
   "source": [
    "在$\\vec{n}$是单位向量的情形下（即$\\| \\vec{n}\\| = 1,$此时将$\\vec{n}$记为$\\hat{n}$），投影公式简化为：\n",
    "$$\\prod_{\\hat{n}} = ({\\vec{u} \\cdot \\hat{n}}) \\ \\hat{n}.$$\n",
    "\n",
    "现在考虑由方程$(1,1,1)·[(x,y,z)−(0,0,0)] = 0$所定义的平面$P$。\n",
    "\n",
    "$P$是$\\mathbb{R}^3$的二维子空间。我们可以将任何向量$\\vec{u}\\in \\mathbb{R}^3$分解成为两部分：$\\vec{u} = \\vec{v}+ \\vec{w}$，使得$\\vec{v}$落在平面$P$中，且$\\vec{w}$垂直于平面（平行于$\\vec{n} = (1, 1, 1)$）。"
   ]
  },
  {
   "cell_type": "code",
   "execution_count": null,
   "metadata": {},
   "outputs": [],
   "source": [
    "w = (u.dot(n) / n.norm()**2) * n   # 得到u的垂直于P的部分\n",
    "w"
   ]
  },
  {
   "cell_type": "code",
   "execution_count": null,
   "metadata": {},
   "outputs": [],
   "source": [
    "v = u - (u.dot(n)/n.norm()**2)*n # same as u - w\n",
    "v"
   ]
  },
  {
   "cell_type": "markdown",
   "metadata": {},
   "source": [
    "### 4.10 叉积\n",
    "两个向量$\\vec{u},\\vec{v}$的叉积$\\vec{u} \\times \\vec{v}$仍是是向量。\n",
    "\n",
    "$\\mathbb{R}^3$中基元素的叉积定义如下：\n",
    "\n",
    "$$\\hat{i}\\times \\hat{j} = \\hat{k},\\ \\hat{j}\\times \\hat{k} = \\hat{i},\\ \\hat{k}\\times \\hat{i} = \\hat{j}.$$\n",
    "\n",
    "一般向量的叉积通过线性性质扩展。"
   ]
  },
  {
   "cell_type": "code",
   "execution_count": null,
   "metadata": {},
   "outputs": [],
   "source": [
    "u = sp.Matrix([4,5,6])\n",
    "v = sp.Matrix([-1,1,2])\n",
    "u.cross(v)"
   ]
  },
  {
   "cell_type": "markdown",
   "metadata": {},
   "source": [
    "向量$\\vec{u} \\times \\vec{v}$同时正交于$\\vec{u}$和$\\vec{v}$。\n",
    "\n",
    "范数$\\|\\vec{u} \\times \\vec{v}\\|$与两个向量的长度和夹角的正弦成正比。"
   ]
  },
  {
   "cell_type": "code",
   "execution_count": null,
   "metadata": {},
   "outputs": [],
   "source": [
    "(u.cross(v).norm()/(u.norm()*v.norm())).n()  # = sin(0.921......)"
   ]
  },
  {
   "cell_type": "markdown",
   "metadata": {},
   "source": [
    "“交叉积”这个名字很好地描述了用向量分量计算叉积时的“交叉相乘”运算：\n",
    "$$\\vec{u} \\times \\vec{v} = ({u}_y{v}_z - {u}_z{v}_y,{u}_z{v}_x - {u}_x{v}_z,{u}_x{v}_y - {u}_y{v}_x).$$"
   ]
  },
  {
   "cell_type": "code",
   "execution_count": null,
   "metadata": {},
   "outputs": [],
   "source": [
    "u1,u2,u3 = sp.symbols('u1:4')\n",
    "v1,v2,v3 = sp.symbols('v1:4')\n",
    "sp.Matrix([u1,u2,u3]).cross(sp.Matrix([v1,v2,v3]))"
   ]
  },
  {
   "cell_type": "markdown",
   "metadata": {},
   "source": [
    "向量的叉积运算是反交换的：$\\vec{u} \\times \\vec{v} = - \\vec{v} \\times \\vec{u}.$"
   ]
  },
  {
   "cell_type": "code",
   "execution_count": null,
   "metadata": {},
   "outputs": [],
   "source": [
    "u.cross(v)"
   ]
  },
  {
   "cell_type": "code",
   "execution_count": null,
   "metadata": {},
   "outputs": [],
   "source": [
    "v.cross(u)"
   ]
  },
  {
   "cell_type": "code",
   "execution_count": null,
   "metadata": {},
   "outputs": [],
   "source": []
  }
 ],
 "metadata": {
  "kernelspec": {
   "display_name": "Python 3",
   "language": "python",
   "name": "python3"
  },
  "language_info": {
   "codemirror_mode": {
    "name": "ipython",
    "version": 3
   },
   "file_extension": ".py",
   "mimetype": "text/x-python",
   "name": "python",
   "nbconvert_exporter": "python",
   "pygments_lexer": "ipython3",
   "version": "3.5.2"
  }
 },
 "nbformat": 4,
 "nbformat_minor": 2
}
