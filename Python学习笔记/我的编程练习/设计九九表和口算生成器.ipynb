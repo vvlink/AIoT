{
 "cells": [
  {
   "cell_type": "markdown",
   "metadata": {},
   "source": [
    "# 设计九九表和口算生成器"
   ]
  },
  {
   "cell_type": "markdown",
   "metadata": {},
   "source": [
    "## 一层循环\n",
    "\n",
    "知识点：for，range，print"
   ]
  },
  {
   "cell_type": "code",
   "execution_count": 1,
   "metadata": {},
   "outputs": [
    {
     "name": "stdout",
     "output_type": "stream",
     "text": [
      "1 * 1 = 1\n",
      "2 * 2 = 4\n",
      "3 * 3 = 9\n",
      "4 * 4 = 16\n",
      "5 * 5 = 25\n",
      "6 * 6 = 36\n",
      "7 * 7 = 49\n",
      "8 * 8 = 64\n",
      "9 * 9 = 81\n"
     ]
    }
   ],
   "source": [
    "for i in range(1,10):\n",
    "    print(\"%d * %d = %d\"%(i,i,i*i))"
   ]
  },
  {
   "cell_type": "markdown",
   "metadata": {},
   "source": [
    "## 两层循环\n",
    "\n",
    "知识点：print的不换行"
   ]
  },
  {
   "cell_type": "code",
   "execution_count": 2,
   "metadata": {},
   "outputs": [
    {
     "name": "stdout",
     "output_type": "stream",
     "text": [
      "1*1 = 1 \n",
      "1*2 = 2 2*2 = 4 \n",
      "1*3 = 3 2*3 = 6 3*3 = 9 \n",
      "1*4 = 4 2*4 = 8 3*4 = 12 4*4 = 16 \n",
      "1*5 = 5 2*5 = 10 3*5 = 15 4*5 = 20 5*5 = 25 \n",
      "1*6 = 6 2*6 = 12 3*6 = 18 4*6 = 24 5*6 = 30 6*6 = 36 \n",
      "1*7 = 7 2*7 = 14 3*7 = 21 4*7 = 28 5*7 = 35 6*7 = 42 7*7 = 49 \n",
      "1*8 = 8 2*8 = 16 3*8 = 24 4*8 = 32 5*8 = 40 6*8 = 48 7*8 = 56 8*8 = 64 \n",
      "1*9 = 9 2*9 = 18 3*9 = 27 4*9 = 36 5*9 = 45 6*9 = 54 7*9 = 63 8*9 = 72 9*9 = 81 \n"
     ]
    }
   ],
   "source": [
    "for i in range(1,10):\n",
    "    for n in range(1,i+1):\n",
    "        print(\"%d*%d = %d\"%(n,i,i*n),end=\" \")\n",
    "    print(\"\")"
   ]
  },
  {
   "cell_type": "markdown",
   "metadata": {},
   "source": [
    "## 输出口算练习生成工具\n",
    "\n",
    "1.加法"
   ]
  },
  {
   "cell_type": "code",
   "execution_count": 3,
   "metadata": {},
   "outputs": [
    {
     "name": "stdout",
     "output_type": "stream",
     "text": [
      "输入要生成的题目数量10\n",
      "\n",
      "口算题目（10道）\n",
      "\n",
      "91 + 25 =\n",
      "72 + 40 =\n",
      "72 + 20 =\n",
      "60 + 99 =\n",
      "41 + 60 =\n",
      "27 + 79 =\n",
      "47 + 13 =\n",
      "36 + 47 =\n",
      "32 + 35 =\n",
      "\n",
      "\n",
      "口算题目参考答案\n",
      "\n",
      "91 + 25 = 116\n",
      "72 + 40 = 112\n",
      "72 + 20 = 92\n",
      "60 + 99 = 159\n",
      "41 + 60 = 101\n",
      "27 + 79 = 106\n",
      "47 + 13 = 60\n",
      "36 + 47 = 83\n",
      "32 + 35 = 67\n",
      "\n"
     ]
    }
   ],
   "source": [
    "import random\n",
    "x=int(input(\"输入要生成的题目数量\"))\n",
    "s1,s2=\"\",\"\"\n",
    "for n in range(x-1):\n",
    "    i,j=random.randint(10,99),random.randint(10,99)\n",
    "    s1=s1+(\"%d + %d =\"%(i,j))+\"\\n\"\n",
    "    s2=s2+(\"%d + %d = %d\"%(i,j,i+j))+\"\\n\"\n",
    "\n",
    "print(\"\\n口算题目（%d道）\\n\"%x)\n",
    "print(s1)\n",
    "print(\"\\n口算题目参考答案\\n\")\n",
    "print(s2)"
   ]
  },
  {
   "cell_type": "markdown",
   "metadata": {},
   "source": [
    "2.减法"
   ]
  },
  {
   "cell_type": "code",
   "execution_count": 5,
   "metadata": {},
   "outputs": [
    {
     "name": "stdout",
     "output_type": "stream",
     "text": [
      "输入要生成的题目数量10\n",
      "\n",
      "口算题目（10道）\n",
      "\n",
      "90 - 57 =\n",
      "83 - 32 =\n",
      "98 - 49 =\n",
      "32 - 26 =\n",
      "30 - 28 =\n",
      "61 - 26 =\n",
      "92 - 60 =\n",
      "47 - 15 =\n",
      "87 - 64 =\n",
      "\n",
      "\n",
      "口算题目参考答案\n",
      "\n",
      "90 - 57 = 33\n",
      "83 - 32 = 51\n",
      "98 - 49 = 49\n",
      "32 - 26 = 6\n",
      "30 - 28 = 2\n",
      "61 - 26 = 35\n",
      "92 - 60 = 32\n",
      "47 - 15 = 32\n",
      "87 - 64 = 23\n",
      "\n"
     ]
    }
   ],
   "source": [
    "import random\n",
    "x=int(input(\"输入要生成的题目数量\"))\n",
    "s1,s2=\"\",\"\"\n",
    "for n in range(x-1):\n",
    "    i,j=random.randint(10,99),random.randint(10,99)\n",
    "    if i<j:\n",
    "        i,j=j,i\n",
    "    s1=s1+(\"%d - %d =\"%(i,j))+\"\\n\"\n",
    "    s2=s2+(\"%d - %d = %d\"%(i,j,i-j))+\"\\n\"\n",
    "\n",
    "print(\"\\n口算题目（%d道）\\n\"%x)\n",
    "print(s1)\n",
    "print(\"\\n口算题目参考答案\\n\")\n",
    "print(s2)"
   ]
  },
  {
   "cell_type": "code",
   "execution_count": null,
   "metadata": {},
   "outputs": [],
   "source": []
  }
 ],
 "metadata": {
  "kernelspec": {
   "display_name": "Python 3",
   "language": "python",
   "name": "python3"
  },
  "language_info": {
   "codemirror_mode": {
    "name": "ipython",
    "version": 3
   },
   "file_extension": ".py",
   "mimetype": "text/x-python",
   "name": "python",
   "nbconvert_exporter": "python",
   "pygments_lexer": "ipython3",
   "version": "3.5.2"
  }
 },
 "nbformat": 4,
 "nbformat_minor": 2
}
