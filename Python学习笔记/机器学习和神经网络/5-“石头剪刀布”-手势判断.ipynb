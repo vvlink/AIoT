{
 "cells": [
  {
   "cell_type": "markdown",
   "metadata": {},
   "source": [
    "# 神经网络和机器学习之手势识别"
   ]
  },
  {
   "cell_type": "markdown",
   "metadata": {},
   "source": [
    "案例描述：石头剪刀布（手势识别，卷积神经网络，CNN）\n",
    "\n",
    "本案例利用卷积神经网络（CNN）来识别“石头剪刀布”手势。数据集（手势图片）来自网络，分为石头、剪刀、布三种手势，用于训练数据集中每一种手势有841张，测试的有125张。每一张图片已经处理为`128*128`像素，三个通道。从难度看，这个案例并没有比前两个复杂（手写体数字识别和CIFAR-10图片分类），但接近生活，尤其适合用在虚谷号上。利用USB摄像头，虚谷号就可以识别用户的手势。\n",
    "\n",
    "案例选择了keras框架，需要先安装keras和tensorflow。虚谷号教育版已经预装必要的库，可以直接使用。因为这个数据集很大，在虚谷号上训练比较慢，建议在电脑上训练。\n",
    "\n",
    "本案例已经提供了训练好的模型，放在model文件夹中，文件名称为：5-model-vv.h5。如果想直接测试模型，请跳到“应用模型”环节，拍摄或者上传图片开始识别。"
   ]
  },
  {
   "cell_type": "markdown",
   "metadata": {},
   "source": [
    "## 1.环境搭建\n",
    "\n",
    "下面是安装命令：\n",
    "\n",
    "pip install keras\n",
    "\n",
    "pip install -i https://pypi.tuna.tsinghua.edu.cn/simple tensorflow\n",
    "\n",
    "建议选择清华源，速度将快很多。参考命令如下：\n",
    "\n",
    "pip install -i https://pypi.tuna.tsinghua.edu.cn/simple tensorflow"
   ]
  },
  {
   "cell_type": "markdown",
   "metadata": {},
   "source": [
    "## 2.数据准备\n",
    "\n",
    "数据集来源：http://www.laurencemoroney.com/rock-paper-scissors-dataset/\n",
    "\n",
    "下载解压后，发现是按照文件夹分类存储的“石头剪刀布”的图片，分为三个文件夹，分别用于训练（rps）、验证（rps-test-set）和交叉验证（rps-validation）。rps和rps-test-set文件夹中都已经分成了三类，'rock'为石头，'scissors'是剪刀，'paper'是布。为了让数据集更小一点，我用Python写了一个脚本，批量将每一张图片处理为`128 * 128`像素。\n",
    "\n",
    "已经处理好的数据集可以通过Github下载，在“课程汇集/虚谷号内置课程目录/5.机器学习”中，文件名为“hand.tar”，约40M。\n",
    "\n",
    "- Github：https://github.com/vvlink/vvBoard-docs\n",
    "- 码云镜像：https://gitee.com/xiezuoru/vvBoard-docs\n",
    "\n",
    "如果用虚谷号进行训练，请上传hand.tar到data文件夹下，然后用tar命令解压。参考命令：\n",
    "\n",
    "    cd ~/Jupyter/vvBoardBook/5.机器学习/data\n",
    "\n",
    "    tar -xf hand.tar"
   ]
  },
  {
   "cell_type": "markdown",
   "metadata": {},
   "source": [
    "这次使用的数据集没有提供标签数据，需要自己写程序来整理。我先写一个遍历文件夹的函数。"
   ]
  },
  {
   "cell_type": "code",
   "execution_count": 1,
   "metadata": {},
   "outputs": [],
   "source": [
    "#遍历文件夹中图片的函数\n",
    "import os\n",
    "image_types = (\".jpg\", \".jpeg\", \".png\", \".bmp\", \".tif\", \".tiff\")\n",
    "def list_images(basePath, contains=None):\n",
    "    # 返回有效的图片路径数据集\n",
    "    return list_files(basePath, validExts=image_types, contains=contains)\n",
    "def list_files(basePath, validExts=None, contains=None):\n",
    "    # 遍历图片数据目录，生成每张图片的路径\n",
    "    for (rootDir, dirNames, filenames) in os.walk(basePath):\n",
    "        # 循环遍历当前目录中的文件名\n",
    "        for filename in filenames:\n",
    "            # if the contains string is not none and the filename does not contain\n",
    "            # the supplied string, then ignore the file\n",
    "            # 无意中发现mac处理的文件夹会生成“._”开头的文件，于是过滤\n",
    "            if contains is not None and filename.find(contains) == -1 or filename[0:2]=='._':\n",
    "                continue\n",
    "            # 通过确定.的位置，从而确定当前文件的文件扩展名\n",
    "            ext = filename[filename.rfind(\".\"):].lower()\n",
    "            # 检查文件是否为图像，是否应进行处理\n",
    "            if validExts is None or ext.endswith(validExts):\n",
    "                # 构造图像路径\n",
    "                imagePath = os.path.join(rootDir, filename)\n",
    "                yield imagePath"
   ]
  },
  {
   "cell_type": "code",
   "execution_count": 2,
   "metadata": {},
   "outputs": [],
   "source": [
    "#定义标签对应的数字，石头为0，剪刀为1，布为2\n",
    "label_num=[\"rock\",\"scissors\",\"paper\"]\n",
    "#得到训练文件夹中的图片文件列表\n",
    "rps_Paths = sorted(list(list_images('./data/hand/rps/')))\n",
    "#得到验证文件夹中的图片文件列表\n",
    "test_Paths = sorted(list(list_images('./data/hand/rps-test-set/')))"
   ]
  },
  {
   "cell_type": "markdown",
   "metadata": {},
   "source": [
    "得到图片文件的列表后，批量用`keras.preprocessing`的`load_img`读入，然后同步根据文件夹名称在label_num中得到标签值。具体的介绍可以参考前面的几个案例。"
   ]
  },
  {
   "cell_type": "code",
   "execution_count": 3,
   "metadata": {},
   "outputs": [
    {
     "name": "stderr",
     "output_type": "stream",
     "text": [
      "Using TensorFlow backend.\n"
     ]
    }
   ],
   "source": [
    "from keras.preprocessing import image\n",
    "import numpy as np\n",
    "# 生成训练集数据\n",
    "rps_data = []\n",
    "rps_labels = []\n",
    "for imagePath in rps_Paths:\n",
    "    r_img = image.load_img(imagePath,target_size=(32, 32))\n",
    "    r_img = image.img_to_array(r_img,dtype=\"uint8\")\n",
    "    rps_data.append(r_img)\n",
    "    # 读取标签，并且用0，1，2来编码\n",
    "    #(在“./dataset/rps-test-set/paper/testpaper01-00.png”中取出“paper”)\n",
    "    t = imagePath.split(os.path.sep)[-2]\n",
    "    # 将“paper”之类的单词转换为0，1，2\n",
    "    rps_labels.append(label_num.index(t))\n",
    "rps_data = np.array(rps_data)\n",
    "rps_labels = np.array(rps_labels)\n",
    "# 生成验证集数据\n",
    "test_data = []\n",
    "test_labels = []\n",
    "for imagePath in test_Paths:\n",
    "    r_img = image.load_img(imagePath,target_size=(32, 32))\n",
    "    r_img = image.img_to_array(r_img,dtype=\"uint8\")\n",
    "    test_data.append(r_img)\n",
    "    t = imagePath.split(os.path.sep)[-2]\n",
    "    test_labels.append(label_num.index(t))\n",
    "test_data = np.array(test_data)\n",
    "test_labels = np.array(test_labels)"
   ]
  },
  {
   "cell_type": "markdown",
   "metadata": {},
   "source": [
    "数据读出后，放在了rps_data、rps_labels和test_data、test_labels四个数组中。可以读出几个试试，看看图像和标签是否一致。"
   ]
  },
  {
   "cell_type": "code",
   "execution_count": 4,
   "metadata": {},
   "outputs": [
    {
     "data": {
      "text/plain": [
       "<matplotlib.image.AxesImage at 0x7f53d752b0>"
      ]
     },
     "execution_count": 4,
     "metadata": {},
     "output_type": "execute_result"
    },
    {
     "data": {
      "image/png": "[encoded data removed]",
      "text/plain": [
       "<Figure size 432x288 with 1 Axes>"
      ]
     },
     "metadata": {
      "needs_background": "light"
     },
     "output_type": "display_data"
    }
   ],
   "source": [
    "%matplotlib inline\n",
    "import matplotlib.pyplot as plt\n",
    "plt.imshow(rps_data[2])"
   ]
  },
  {
   "cell_type": "code",
   "execution_count": 5,
   "metadata": {},
   "outputs": [
    {
     "name": "stdout",
     "output_type": "stream",
     "text": [
      "2\n"
     ]
    }
   ],
   "source": [
    "# 输出对应的标签值\n",
    "print(rps_labels[2])"
   ]
  },
  {
   "cell_type": "code",
   "execution_count": 6,
   "metadata": {},
   "outputs": [
    {
     "name": "stdout",
     "output_type": "stream",
     "text": [
      "(2520, 32, 32, 3)\n"
     ]
    }
   ],
   "source": [
    "# 查看数据集的形状，维度是不是4，长度是2520，即有2520张图片\n",
    "print(rps_data.shape)"
   ]
  },
  {
   "cell_type": "markdown",
   "metadata": {},
   "source": [
    "## 3.搭建模型"
   ]
  },
  {
   "cell_type": "markdown",
   "metadata": {},
   "source": [
    "通过以下代码建立卷积神经网络模型并进行编译。注意几个关键点：\n",
    "\n",
    "- 第一层要设置输入图片的尺寸和颜色通道，“32,32,3”。前面为了训练速度快一点，读入的图片为`32*32`；\n",
    "- 最后一层，神经元的数量为3，因为只有3个类别。"
   ]
  },
  {
   "cell_type": "code",
   "execution_count": 7,
   "metadata": {},
   "outputs": [],
   "source": [
    "import keras\n",
    "from keras import layers\n",
    "from keras import datasets\n",
    "model=keras.models.Sequential()\n",
    "model.add(layers.Conv2D(64,(3,3),activation='relu',input_shape=(32,32,3)))  #第一层要设置输入图片的尺寸和颜色通道\n",
    "model.add(layers.Conv2D(64,(3,3),activation='relu'))\n",
    "model.add(layers.MaxPool2D())\n",
    "model.add(layers.Conv2D(64,(3,3),activation='relu'))\n",
    "model.add(layers.Conv2D(64,(3,3),activation='relu'))\n",
    "model.add(layers.MaxPool2D())\n",
    "model.add(layers.Flatten()) #在全连接之前，需要将二维图片数据转换成一维数组\n",
    "model.add(layers.Dense(256,activation='relu'))\n",
    "model.add(layers.Dropout(0.5))  #为了防止过拟合，Dropout层会随机的丢弃一部分神经网络连接\n",
    "model.add(layers.Dense(3,activation='softmax'))  #使用softmax处理多分类问题，一共3个类别"
   ]
  },
  {
   "cell_type": "code",
   "execution_count": 8,
   "metadata": {},
   "outputs": [],
   "source": [
    "#在训练过程中打印出准确率（acc）指标\n",
    "model.compile(optimizer='adam',loss='sparse_categorical_crossentropy',metrics=['acc']) "
   ]
  },
  {
   "cell_type": "markdown",
   "metadata": {},
   "source": [
    "## 4.训练模型\n",
    "\n",
    "开始训练吧。rps_data、rps_labels和test_data、test_labels，这四个数组要对号入座。\n",
    "\n",
    "在虚谷号上batch_size要设置小一点，比如200。实测batch_size设置大于600，jupyter服务将挂起。如果是电脑上，可以设置为1000或者更大一点，但不要超过总样本数（2520）的一半，训练的速度快一点。"
   ]
  },
  {
   "cell_type": "code",
   "execution_count": 30,
   "metadata": {},
   "outputs": [
    {
     "name": "stdout",
     "output_type": "stream",
     "text": [
      "Train on 2520 samples, validate on 372 samples\n",
      "Epoch 1/5\n",
      "2520/2520 [==============================] - 96s 38ms/step - loss: 0.0099 - acc: 0.9972 - val_loss: 1.1102 - val_acc: 0.7930\n",
      "Epoch 2/5\n",
      "2520/2520 [==============================] - 95s 38ms/step - loss: 0.0048 - acc: 0.9988 - val_loss: 0.9041 - val_acc: 0.7903\n",
      "Epoch 3/5\n",
      "2520/2520 [==============================] - 95s 38ms/step - loss: 0.0042 - acc: 0.9996 - val_loss: 1.3518 - val_acc: 0.8038\n",
      "Epoch 4/5\n",
      "2520/2520 [==============================] - 95s 38ms/step - loss: 9.8764e-04 - acc: 1.0000 - val_loss: 1.3131 - val_acc: 0.7769\n",
      "Epoch 5/5\n",
      "2520/2520 [==============================] - 95s 38ms/step - loss: 0.0011 - acc: 1.0000 - val_loss: 1.2434 - val_acc: 0.7903\n"
     ]
    },
    {
     "data": {
      "text/plain": [
       "<keras.callbacks.History at 0x7f35f9a048>"
      ]
     },
     "execution_count": 30,
     "metadata": {},
     "output_type": "execute_result"
    }
   ],
   "source": [
    "model.fit(x=rps_data,y=rps_labels,batch_size=200,epochs=5,validation_data=(test_data,test_labels))"
   ]
  },
  {
   "cell_type": "markdown",
   "metadata": {},
   "source": [
    "batch_size设置为200的情况下，前三轮loss一直处于10左右，第四轮开始，loss快速下降。10个轮次后，就loss就到了0.01以下。每一轮次需要95秒，还是能够接受的。"
   ]
  },
  {
   "cell_type": "markdown",
   "metadata": {},
   "source": [
    "## 5.测试模型"
   ]
  },
  {
   "cell_type": "markdown",
   "metadata": {},
   "source": [
    "再利用模型来识别rps-validation中图片的内容，可以看到图片中的手写数字被成功的识别了出来。"
   ]
  },
  {
   "cell_type": "code",
   "execution_count": 31,
   "metadata": {},
   "outputs": [
    {
     "name": "stdout",
     "output_type": "stream",
     "text": [
      "------开始读取要识别的图片------\n"
     ]
    }
   ],
   "source": [
    "#得到测试的图片所有的文件列表\n",
    "from keras.preprocessing import image\n",
    "import numpy as np\n",
    "imagePaths = sorted(list(list_images('./data/hand/rps-validation')))\n",
    "print(\"------开始读取要识别的图片------\")\n",
    "i_data = []\n",
    "i_labels = []\n",
    "for imagePath in imagePaths:\n",
    "    r_img = image.load_img(imagePath,target_size=(32, 32))\n",
    "    r_img = image.img_to_array(r_img,dtype=\"uint8\")\n",
    "    i_data.append(r_img)\n",
    "    #记录文件名称，对应输出\n",
    "    label = imagePath.split(os.path.sep)[-1]\n",
    "    i_labels.append(label)\n",
    "i_data = np.array(i_data) "
   ]
  },
  {
   "cell_type": "markdown",
   "metadata": {},
   "source": [
    "识别并且输出文件名和识别结果。如果不够准确，就再训练一次。一般来说，loss小于0.1，识别效果就不错了。这么多图片，就2张识别失败了，还不错吧。"
   ]
  },
  {
   "cell_type": "code",
   "execution_count": 32,
   "metadata": {},
   "outputs": [
    {
     "name": "stdout",
     "output_type": "stream",
     "text": [
      "2 paper-hires1.png\n",
      "2 paper-hires2.png\n",
      "2 paper1.png\n",
      "2 paper2.png\n",
      "2 paper3.png\n",
      "2 paper4.png\n",
      "2 paper5.png\n",
      "2 paper6.png\n",
      "2 paper7.png\n",
      "2 paper8.png\n",
      "0 paper9.png\n",
      "0 rock-hires1.png\n",
      "0 rock-hires2.png\n",
      "1 rock1.png\n",
      "0 rock2.png\n",
      "0 rock3.png\n",
      "0 rock4.png\n",
      "0 rock5.png\n",
      "0 rock6.png\n",
      "0 rock7.png\n",
      "0 rock8.png\n",
      "0 rock9.png\n",
      "1 scissors-hires1.png\n",
      "1 scissors-hires2.png\n",
      "1 scissors1.png\n",
      "1 scissors2.png\n",
      "1 scissors3.png\n",
      "1 scissors4.png\n",
      "1 scissors5.png\n",
      "1 scissors6.png\n",
      "1 scissors7.png\n",
      "1 scissors8.png\n",
      "1 scissors9.png\n"
     ]
    }
   ],
   "source": [
    "t=model.predict_classes(i_data)\n",
    "for i in range(len(t)):\n",
    "    print(t[i],end=' ') \n",
    "    print(i_labels[i])"
   ]
  },
  {
   "cell_type": "markdown",
   "metadata": {},
   "source": [
    "## 6.保存模型\n",
    "\n",
    "训练出来的模型，可以保存。下次使用的时候载入，还可以继续训练。一般保存为h5格式，需要先安装h5py。\n",
    "\n",
    "命令如下：pip install h5py"
   ]
  },
  {
   "cell_type": "code",
   "execution_count": 37,
   "metadata": {},
   "outputs": [],
   "source": [
    "model.save('./model/5-model-hand.h5')   # HDF5文件"
   ]
  },
  {
   "cell_type": "markdown",
   "metadata": {},
   "source": [
    "要继续训练或者应用模型，用这样的语句即可导入。如果遇到高版本训练的模型如果导入，加上`compile=False`的参数。"
   ]
  },
  {
   "cell_type": "code",
   "execution_count": 13,
   "metadata": {},
   "outputs": [],
   "source": [
    "from keras.models import load_model  \n",
    "model = load_model('./model/5-model-hand.h5',compile=False)"
   ]
  },
  {
   "cell_type": "markdown",
   "metadata": {},
   "source": [
    "## 7.应用模型\n",
    "\n",
    "用摄像头或者手机拍摄一张石头剪刀布的手势图。然后调用这个模型来识别，并输出结果。\n",
    "\n",
    "先导入必要的库和模型。"
   ]
  },
  {
   "cell_type": "code",
   "execution_count": 14,
   "metadata": {},
   "outputs": [],
   "source": [
    "from keras.preprocessing import image\n",
    "import numpy as np\n",
    "from keras.models import load_model\n",
    "model = load_model('./model/5-model-hand.h5')"
   ]
  },
  {
   "cell_type": "markdown",
   "metadata": {},
   "source": [
    "下面是利用虚谷号的摄像头拍摄图片的代码，没有摄像头请跳过，直接上传一张名为`test.jpg`的带手势的图片。\n",
    "\n",
    "**注意：**摄像头要朝下拍摄手势，样子要和训练用的图片一致。"
   ]
  },
  {
   "cell_type": "code",
   "execution_count": 34,
   "metadata": {},
   "outputs": [
    {
     "data": {
      "text/plain": [
       "True"
      ]
     },
     "execution_count": 34,
     "metadata": {},
     "output_type": "execute_result"
    }
   ],
   "source": [
    "import cv2\n",
    "#基本函数1：获取摄像头内容保存为图片\n",
    "def getcampic(fname):\n",
    "    cap = cv2.VideoCapture(0)        # 打开摄像头\n",
    "    ret, frame = cap.read()       # 读摄像头\n",
    "    cv2.imwrite(fname,frame)\n",
    "    cap.release()      \n",
    "    cv2.destroyAllWindows() \n",
    "    return True\n",
    "##调用getcampic函数\n",
    "getcampic(\"test.jpg\")"
   ]
  },
  {
   "cell_type": "markdown",
   "metadata": {},
   "source": [
    "执行上面程序后，虚谷号启动摄像头拍摄一张图片，这个目录下将增加一个名为`test.jpg`的图片。需要注意的是，背景最好也是白色的，和用于训练的图片一致。"
   ]
  },
  {
   "cell_type": "code",
   "execution_count": 35,
   "metadata": {},
   "outputs": [
    {
     "name": "stdout",
     "output_type": "stream",
     "text": [
      "rock\n"
     ]
    }
   ],
   "source": [
    "label_name=[\"rock\",\"scissors\",\"paper\"]\n",
    "i_data=[]\n",
    "r_img = image.load_img(\"./test.jpg\",target_size=(32, 32))\n",
    "r_img = image.img_to_array(r_img,dtype=\"uint8\")\n",
    "i_data.append(r_img)\n",
    "i_data = np.array(i_data)\n",
    "t=model.predict_classes(i_data)\n",
    "#直接输出名称\n",
    "print(label_name[t[0]])"
   ]
  },
  {
   "cell_type": "code",
   "execution_count": 36,
   "metadata": {},
   "outputs": [
    {
     "data": {
      "text/plain": [
       "<matplotlib.image.AxesImage at 0x7f35e9fda0>"
      ]
     },
     "execution_count": 36,
     "metadata": {},
     "output_type": "execute_result"
    },
    {
     "data": {
      "image/png": "[encoded data removed]",
      "text/plain": [
       "<Figure size 432x288 with 1 Axes>"
      ]
     },
     "metadata": {
      "needs_background": "light"
     },
     "output_type": "display_data"
    }
   ],
   "source": [
    "#看看是什么图\n",
    "%matplotlib inline\n",
    "import matplotlib.pyplot as plt\n",
    "plt.imshow(i_data[0])"
   ]
  },
  {
   "cell_type": "markdown",
   "metadata": {},
   "source": [
    "学习记录：如果看不懂代码，请先了解numpy、opencv、keras等相关的库。"
   ]
  }
 ],
 "metadata": {
  "kernelspec": {
   "display_name": "Python 3",
   "language": "python",
   "name": "python3"
  },
  "language_info": {
   "codemirror_mode": {
    "name": "ipython",
    "version": 3
   },
   "file_extension": ".py",
   "mimetype": "text/x-python",
   "name": "python",
   "nbconvert_exporter": "python",
   "pygments_lexer": "ipython3",
   "version": "3.5.2"
  }
 },
 "nbformat": 4,
 "nbformat_minor": 4
}
