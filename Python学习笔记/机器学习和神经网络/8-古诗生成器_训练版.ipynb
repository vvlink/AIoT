{
 "cells": [
  {
   "cell_type": "markdown",
   "metadata": {},
   "source": [
    "# 古诗生成器（训练版）\n",
    "\n",
    "基于循环神经网络（Keras+LSTM-RNN），采用了浙江大学人工智能研究所提供的古诗词库，并且在其提供的AI学习平台上训练完成。本案例非原创，原来的代码用class来实现，并且重构了model的方法。为了方便初学者理解，重新调整了代码，并且用jupyterlab写了一个完整的文档。\n",
    "\n",
    "虽然模型已经训练完成，但要应用这个模型，还需要提供原来用于训练的语料，即古诗词库。训练和应用使用的语料要保持一致。\n",
    "\n",
    "运行这个案例，需要安装多个库，还需要pydot、graphviz的支持。虚谷号教育版上已经提供了所有相关的环境。需要说明的是，在虚谷号上训练比较慢，预计至少需要一天时间。\n",
    "\n",
    "原案例地址：https://github.com/youyuge34/Poems_generator_Keras/blob/master/poem_model.ipynb\n",
    "\n",
    "模型下载地址（课程汇集/虚谷号内置课程目录/5.机器学习）：https://github.com/vvlink/vvBoard-docs/"
   ]
  },
  {
   "cell_type": "markdown",
   "metadata": {},
   "source": [
    "## 1.导入必要的库"
   ]
  },
  {
   "cell_type": "code",
   "execution_count": 1,
   "metadata": {},
   "outputs": [
    {
     "name": "stderr",
     "output_type": "stream",
     "text": [
      "Using TensorFlow backend.\n"
     ]
    }
   ],
   "source": [
    "import random\n",
    "import os\n",
    "import keras\n",
    "import numpy as np\n",
    "from keras.callbacks import LambdaCallback\n",
    "from keras.models import Input, Model, load_model\n",
    "from keras.layers import LSTM, Dropout, Dense\n",
    "from keras.optimizers import Adam"
   ]
  },
  {
   "cell_type": "markdown",
   "metadata": {},
   "source": [
    "## 2.参数设置"
   ]
  },
  {
   "cell_type": "code",
   "execution_count": 32,
   "metadata": {},
   "outputs": [],
   "source": [
    "class config(object):\n",
    "    # 输入的诗词库（语料库）\n",
    "    poetry_file = 'data/8-poetry_zju.txt'\n",
    "    # 模型名称，注意别替换了原来的模型\n",
    "    weight_file = 'model/8-model_zju.h5'\n",
    "    # 输出训练的信息\n",
    "    fixlog = 'poem_log.txt'\n",
    "    # 复合训练时，间隔多少次输出一次测试结果\n",
    "    predict_num = 5\n",
    "    batch_size = 32\n",
    "    learning_rate = 0.001\n",
    "    # 下面参数不能随意修改，改动将影响整个模型的大小\n",
    "    #根据前6个字预测第6个字，生成的是五言诗（加标点）\n",
    "    max_len = 6\n",
    "    # 去除低频率文字（避免生僻字）\n",
    "    frequence_num = 3"
   ]
  },
  {
   "cell_type": "markdown",
   "metadata": {},
   "source": [
    "## 3.数据处理"
   ]
  },
  {
   "cell_type": "code",
   "execution_count": 3,
   "metadata": {},
   "outputs": [],
   "source": [
    "def preprocess_file(poetry_file):\n",
    "    # 语料文本内容\n",
    "    files_content = ''\n",
    "    with open(poetry_file, 'r',encoding='UTF-8') as f:\n",
    "        for line in f:\n",
    "            x = line.strip() + \"]\"\n",
    "            # x = x.split(\":\")[1]\n",
    "            if len(x) <= 5 :\n",
    "                continue\n",
    "            # 确保导入的诗句，是五言诗\n",
    "            if x[c.max_len-1] == '，':\n",
    "                files_content += x\n",
    "            \n",
    "    words = sorted(list(files_content))\n",
    "    counted_words = {}\n",
    "    for word in words:\n",
    "        if word in counted_words:\n",
    "            counted_words[word] += 1\n",
    "        else:\n",
    "            counted_words[word] = 1\n",
    "\n",
    "    # 去掉低频的字，这样可以去除一些怪异的字。\n",
    "    erase = []\n",
    "    for key in counted_words:\n",
    "        if counted_words[key] <= c.frequence_num:\n",
    "            erase.append(key)\n",
    "    for key in erase:\n",
    "        del counted_words[key]\n",
    "    wordPairs = sorted(counted_words.items(), key=lambda x: -x[1])\n",
    "\n",
    "    words, _ = zip(*wordPairs)\n",
    "    words += (\" \",)\n",
    "    # word到id的映射\n",
    "    word2num = dict((c, i) for i, c in enumerate(words))\n",
    "    num2word = dict((i, c) for i, c in enumerate(words))\n",
    "    word2numF = lambda x: word2num.get(x, len(words) - 1)\n",
    "    return word2numF, num2word, words, files_content"
   ]
  },
  {
   "cell_type": "code",
   "execution_count": 4,
   "metadata": {},
   "outputs": [],
   "source": [
    "# 清洗数据\n",
    "c=config()\n",
    "word2numF, num2word, words, files_content = preprocess_file(c.poetry_file)"
   ]
  },
  {
   "cell_type": "markdown",
   "metadata": {},
   "source": [
    "这里返回的四个变量，分别介绍如下：\n",
    "- word2numF：返回不同汉字对应的字典位置。\n",
    "- num2word：字典，key是数字，值是字符。\n",
    "- words：列表。所有的字符表，按照频率排序，先大再小。\n",
    "- files_content：字符串。所有的诗词，用“]”分开。"
   ]
  },
  {
   "cell_type": "code",
   "execution_count": 5,
   "metadata": {},
   "outputs": [
    {
     "data": {
      "text/plain": [
       "45"
      ]
     },
     "execution_count": 5,
     "metadata": {},
     "output_type": "execute_result"
    }
   ],
   "source": [
    "# 变量word2numF调用了lambda函数，返回不同汉字对应的字典位置（word2num）\n",
    "word2numF(\"江\")"
   ]
  },
  {
   "cell_type": "code",
   "execution_count": 6,
   "metadata": {},
   "outputs": [
    {
     "data": {
      "text/plain": [
       "5197"
      ]
     },
     "execution_count": 6,
     "metadata": {},
     "output_type": "execute_result"
    }
   ],
   "source": [
    "#如果汉字不存在，返回len(words)+1\n",
    "word2numF(\"a\")"
   ]
  },
  {
   "cell_type": "code",
   "execution_count": 7,
   "metadata": {},
   "outputs": [
    {
     "data": {
      "text/plain": [
       "'簳'"
      ]
     },
     "execution_count": 7,
     "metadata": {},
     "output_type": "execute_result"
    }
   ],
   "source": [
    "# 输出某个数字对应的汉字\n",
    "num2word.get(5196)"
   ]
  },
  {
   "cell_type": "code",
   "execution_count": 8,
   "metadata": {},
   "outputs": [
    {
     "data": {
      "text/plain": [
       "5198"
      ]
     },
     "execution_count": 8,
     "metadata": {},
     "output_type": "execute_result"
    }
   ],
   "source": [
    "#输出单词数量\n",
    "len(words)"
   ]
  },
  {
   "cell_type": "code",
   "execution_count": 9,
   "metadata": {},
   "outputs": [
    {
     "data": {
      "text/plain": [
       "' '"
      ]
     },
     "execution_count": 9,
     "metadata": {},
     "output_type": "execute_result"
    }
   ],
   "source": [
    "# 那最后一个是什么字符呢？是空格，即“ ”\n",
    "num2word.get(len(words)-1)"
   ]
  },
  {
   "cell_type": "markdown",
   "metadata": {},
   "source": [
    "**注**：这里统一说一下，按照字符频率，最多的是“，”，其次是“。”"
   ]
  },
  {
   "cell_type": "code",
   "execution_count": 10,
   "metadata": {},
   "outputs": [
    {
     "name": "stdout",
     "output_type": "stream",
     "text": [
      "('，', '。', ']', '不', '人', '山', '无', '日', '风', '云', '一', '何', '有', '天', '中', '来', '水', '月', '时', '上', '春', '生', '为', '心', '相', '自', '花', '此', '秋', '长', '君', '归', '如', '清', '行', '知', '白', '年', '空', '去', '见', '高', '在', '夜', '远', '江', '下', '未', '客', '多')\n",
      "('券', '葹', '萨', '帼', '挤', '郅', '鸩', '阀', '挼', '颾', '戋', '槚', '悛', '箑', '匼', '潞', '脔', '艟', '崷', '蘺', '咳', '佚', '龌', '谘', '怊', '磅', '粔', '瘢', '锢', '鶂', '蠕', '洫', '塿', '荛', '螳', '岿', '脰', '坷', '橑', '胪', '悖', '缡', '怃', '玢', '獮', '訇', '苻', '祧', '簳', ' ')\n"
     ]
    }
   ],
   "source": [
    "# words是一个列表，保存所有的单词表。输出words的前50个和后50个\n",
    "print(words[0:50])\n",
    "print(words[-50:])"
   ]
  },
  {
   "cell_type": "code",
   "execution_count": 11,
   "metadata": {},
   "outputs": [
    {
     "name": "stdout",
     "output_type": "stream",
     "text": [
      "寒随穷律变，春逐鸟声开。初风飘带柳，晚雪间花梅。碧林青旧竹，绿沼翠新苔。芝田初雁去，绮树巧莺来。]晚霞聊自怡，初晴弥可喜。日晃百花色，风动千林翠。池鱼跃不同，园鸟声还异。寄言博通者，知予物外志。]一朝\n"
     ]
    }
   ],
   "source": [
    "#输出前60个字符，可以看出用“]”分割了每一首诗词。\n",
    "print(files_content[0:100])"
   ]
  },
  {
   "cell_type": "code",
   "execution_count": 12,
   "metadata": {},
   "outputs": [
    {
     "data": {
      "text/plain": [
       "41415"
      ]
     },
     "execution_count": 12,
     "metadata": {},
     "output_type": "execute_result"
    }
   ],
   "source": [
    "#分割诗词，记录在poems_num中\n",
    "poems = files_content.split(']')\n",
    "poems_num = len(poems)\n",
    "poems_num"
   ]
  },
  {
   "cell_type": "code",
   "execution_count": 13,
   "metadata": {},
   "outputs": [
    {
     "data": {
      "text/plain": [
       "'寒随穷律变，春逐鸟声开。初风飘带柳，晚雪间花梅。碧林青旧竹，绿沼翠新苔。芝田初雁去，绮树巧莺来。'"
      ]
     },
     "execution_count": 13,
     "metadata": {},
     "output_type": "execute_result"
    }
   ],
   "source": [
    "##输出其中一首完整的诗词\n",
    "poems[0]"
   ]
  },
  {
   "cell_type": "markdown",
   "metadata": {},
   "source": [
    "因为模型需要训练的数据太大，程序采用了分批训练的方式，用生成器（Generator）生成数据。"
   ]
  },
  {
   "cell_type": "code",
   "execution_count": 14,
   "metadata": {},
   "outputs": [],
   "source": [
    "# 调用方式：data_generator(files_content,words,word2numF,c.max_len)\n",
    "def data_generator(files_content,words,word2numF,max_len):\n",
    "    '''生成器生成数据'''\n",
    "    i = 0\n",
    "    while 1:\n",
    "        x = files_content[i: i + max_len]\n",
    "        y = files_content[i + max_len]\n",
    "        # 跳过分割标志\n",
    "        if ']' in x or ']' in y:\n",
    "            i += 1\n",
    "            continue\n",
    "\n",
    "        y_vec = np.zeros(\n",
    "            shape=(1, len(words)),\n",
    "            dtype=np.bool\n",
    "        )\n",
    "        y_vec[0, word2numF(y)] = 1.0\n",
    "\n",
    "        x_vec = np.zeros(\n",
    "            shape=(1, max_len, len(words)),\n",
    "            dtype=np.bool\n",
    "        )\n",
    "\n",
    "        for t, char in enumerate(x):\n",
    "            x_vec[0, t, word2numF(char)] = 1.0\n",
    "\n",
    "        yield x_vec, y_vec\n",
    "        i += 1"
   ]
  },
  {
   "cell_type": "markdown",
   "metadata": {},
   "source": [
    "生成的究竟是什么样的数据呢？因为数据没法转成list，看不到。简化data_generator函数功能生成了模拟数据，可以参考。"
   ]
  },
  {
   "cell_type": "code",
   "execution_count": 16,
   "metadata": {},
   "outputs": [
    {
     "name": "stdout",
     "output_type": "stream",
     "text": [
      "[[[False False False False False False False False False False  True\n",
      "   False False False False False False False False False False False\n",
      "   False False False False False False False False False False False\n",
      "   False False False False False False False False False False False\n",
      "   False False False False False False False False False False False\n",
      "   False False False False False False False False False False False\n",
      "   False False False False False False False False False False False\n",
      "   False False False False False False False False False False False\n",
      "   False False False False False False False False False False False\n",
      "   False]\n",
      "  [False False False False False False False False False False False\n",
      "   False False False False False False False False False False False\n",
      "   False False False False False False False False False False False\n",
      "   False  True False False False False False False False False False\n",
      "   False False False False False False False False False False False\n",
      "   False False False False False False False False False False False\n",
      "   False False False False False False False False False False False\n",
      "   False False False False False False False False False False False\n",
      "   False False False False False False False False False False False\n",
      "   False]]]\n"
     ]
    }
   ],
   "source": [
    "x_vec = np.zeros(\n",
    "                shape=(1, 2, 100),\n",
    "                dtype=np.bool\n",
    "            )\n",
    "for t, char in enumerate('一行'):\n",
    "    x_vec[0, t, word2numF(char)] = 1.0\n",
    "print(x_vec)"
   ]
  },
  {
   "cell_type": "markdown",
   "metadata": {},
   "source": [
    "可以看出，输入和输出的数据都是bool（布尔）类型的矩阵，即二进制数字。输入6个二进制的数字（X），输出1个二进制数字（Y）。从代码中可以看出，y_vec是二维的，而x_vec是三维的。\n",
    "\n",
    "    `y_vec = np.zeros(\n",
    "                shape=(1, len(words)),\n",
    "                dtype=np.bool\n",
    "            )\n",
    "     x_vec = np.zeros(\n",
    "                shape=(1, max_len, len(words)),\n",
    "                dtype=np.bool\n",
    "            )\n",
    "    ` \n",
    "**思考：** 如果去除标点符号，仅仅训练文字，并且去除含低频的汉字的诗句，会不会更好？"
   ]
  },
  {
   "cell_type": "markdown",
   "metadata": {},
   "source": [
    "## 4.搭建模型\n",
    "\n",
    "搭建一个循环神经网络。因为这是一个生成诗词的模型，每一次生成的诗词不能一样。太准确反而有问题。掌握两个要点：\n",
    "\n",
    "    - 增加Dropout层，抑制过拟合；\n",
    "    - Dropout层的参数要大一点，多丢弃一些连接；"
   ]
  },
  {
   "cell_type": "code",
   "execution_count": 17,
   "metadata": {},
   "outputs": [],
   "source": [
    "input_tensor = Input(shape=(c.max_len, len(words)))\n",
    "lstm = LSTM(512, return_sequences=True)(input_tensor)\n",
    "dropout = Dropout(0.5)(lstm) #增加Dropout层，抑制过拟合\n",
    "lstm = LSTM(256)(dropout)\n",
    "dropout = Dropout(0.5)(lstm) #增加Dropout层，抑制过拟合\n",
    "dense = Dense(len(words), activation='softmax')(dropout)\n",
    "model = Model(inputs=input_tensor, outputs=dense)\n",
    "optimizer = Adam(lr=c.learning_rate)\n",
    "model.compile(loss='categorical_crossentropy', optimizer=optimizer, metrics=['accuracy'])"
   ]
  },
  {
   "cell_type": "markdown",
   "metadata": {},
   "source": [
    "**给模型画一张图** 输出模型图，看看。\n",
    "\n",
    "Keras中提供了一个功能，可以给这个模型画出直观的图。这需要一个名为pydot支持库，用pip安装。如果安装失败，可以试试更换pip源。\n",
    "\n",
    "! pip install pydot\n",
    "\n",
    "! pip install -i https://pypi.tuna.tsinghua.edu.cn/simple pydot\n",
    "\n",
    "一般来说，还需要安装graphviz。\n",
    "\n",
    "在虚谷号上，用这样的命令来安装：sudo apt install graphviz。其他系统的安装，请自行百度。"
   ]
  },
  {
   "cell_type": "code",
   "execution_count": 18,
   "metadata": {},
   "outputs": [
    {
     "data": {
      "image/png": "[encoded data removed]",
      "text/plain": [
       "<IPython.core.display.Image object>"
      ]
     },
     "execution_count": 18,
     "metadata": {},
     "output_type": "execute_result"
    }
   ],
   "source": [
    "# 在目录下将产生一个名为“model.png”的图片，显示出这个多层的神经网络模型图\n",
    "from keras.utils import plot_model\n",
    "plot_model(model,to_file='model.png',show_shapes=True)"
   ]
  },
  {
   "cell_type": "markdown",
   "metadata": {},
   "source": [
    "## 5.训练模型\n",
    "\n",
    "因为训练数据实在比较耗时间。这里提供了两种方式，一种是常规的直接训练，考虑到时间太长，于是提供了一定轮次后保存一次模型，省得停不下来。另一种是复合训练，训练几轮后，测试模型，输出真实的预测结果，让用户可以根据模型的输出表现来决定什么时候停止训练。\n",
    "\n",
    "### 5.1 常规训练\n",
    "\n",
    "到底要训练多少次比较好？原案例的作者也没有给出答案，就提供了一个计算公式，3万多轮。"
   ]
  },
  {
   "cell_type": "code",
   "execution_count": 19,
   "metadata": {},
   "outputs": [
    {
     "name": "stdout",
     "output_type": "stream",
     "text": [
      "31896\n"
     ]
    }
   ],
   "source": [
    "# 确定训练的次数\n",
    "number_of_epoch = len(files_content)-(c.max_len + 1) * poems_num\n",
    "number_of_epoch /= c.batch_size \n",
    "number_of_epoch = int(number_of_epoch / 1.5)\n",
    "print(number_of_epoch)"
   ]
  },
  {
   "cell_type": "markdown",
   "metadata": {},
   "source": [
    "要训练的轮次很大，中间没办法停止。建议每隔一定的轮次停止一下，保存一下模型。"
   ]
  },
  {
   "cell_type": "code",
   "execution_count": 20,
   "metadata": {},
   "outputs": [
    {
     "name": "stdout",
     "output_type": "stream",
     "text": [
      "Epoch 1/1\n",
      "32/32 [==============================] - 82s 3s/step - loss: 8.5494 - acc: 0.0000e+00\n"
     ]
    },
    {
     "data": {
      "text/plain": [
       "<keras.callbacks.History at 0x7f672eefd0>"
      ]
     },
     "execution_count": 20,
     "metadata": {},
     "output_type": "execute_result"
    }
   ],
   "source": [
    "## 开始训练，不带反馈\n",
    "model.fit_generator(\n",
    "    generator=data_generator(files_content,words,word2numF,c.max_len),\n",
    "    verbose=True,\n",
    "    steps_per_epoch=c.batch_size,\n",
    "    epochs=4)"
   ]
  },
  {
   "cell_type": "markdown",
   "metadata": {},
   "source": [
    "写一个循环，训练32次，会保存一下模型。"
   ]
  },
  {
   "cell_type": "code",
   "execution_count": null,
   "metadata": {},
   "outputs": [],
   "source": [
    "# 每隔32轮保存一下，并输出\n",
    "for e in range(number_of_epoch//32):\n",
    "    model.fit_generator(\n",
    "        generator=data_generator(files_content,words,word2numF,c.max_len),\n",
    "        verbose=True,\n",
    "        steps_per_epoch=c.batch_size,\n",
    "        epochs=32)\n",
    "    model.save(c.weight_file)\n",
    "    flog=\"模型保存次数：\" + str(e+1)\n",
    "    print(flog)\n",
    "    # 训练时的预测结果写入txt\n",
    "    with open(c.fixlog, 'a',encoding='utf-8') as f:\n",
    "        f.write(flog+'\\n')"
   ]
  },
  {
   "cell_type": "markdown",
   "metadata": {},
   "source": [
    "### 5.2 复合训练\n",
    "\n",
    "其实就是边训练边测试。训练几轮（我使用5次），随机找某一首诗的第一行，测试当前的模型，输出真实的预测结果，让用户可以根据模型的输出表现来决定什么时候停止。\n",
    "\n",
    "首先需要写一个LambdaCallback函数：generate_sample_result。"
   ]
  },
  {
   "cell_type": "code",
   "execution_count": 21,
   "metadata": {},
   "outputs": [],
   "source": [
    "# 回调函数(输出训练结果到反馈)\n",
    "def generate_sample_result(epoch, logs):\n",
    "    '''训练过程中，每5个epoch打印出当前的学习情况'''\n",
    "    if epoch % c.predict_num != 0:\n",
    "        return\n",
    "\n",
    "    with open(c.fixlog, 'a',encoding='utf-8') as f:\n",
    "        f.write('==================Epoch {}=====================\\n'.format(epoch))\n",
    "\n",
    "    print(\"\\n==================Epoch {}=====================\".format(epoch))\n",
    "    for diversity in [0.7, 1.0, 1.3]:\n",
    "        print(\"------------Diversity {}--------------\".format(diversity))\n",
    "        # 使用不同的temperature值，输出三种诗\n",
    "        generate = predict_random(temperature=diversity)\n",
    "        print(generate)\n",
    "\n",
    "        # 训练时的预测结果写入txt\n",
    "        with open(c.fixlog, 'a',encoding='utf-8') as f:\n",
    "            f.write(generate+'\\n')"
   ]
  },
  {
   "cell_type": "code",
   "execution_count": 22,
   "metadata": {},
   "outputs": [],
   "source": [
    "# 测试函数：随机从选取诗句，生成五言绝句\n",
    "def predict_random(temperature = 1):\n",
    "    '''随机从库中选取一句开头的诗句，生成五言绝句'''\n",
    "    if not model:\n",
    "        print('model not loaded')\n",
    "        return\n",
    "    # 随机找一首诗，用第一行来测试\n",
    "    index = random.randint(0, poems_num)\n",
    "    sentence = poems[index][: c.max_len]\n",
    "    generate = predict_sen(sentence,temperature=temperature)\n",
    "    return generate"
   ]
  },
  {
   "cell_type": "code",
   "execution_count": 23,
   "metadata": {},
   "outputs": [],
   "source": [
    "# 根据给出的前max_len个字，生成诗句\n",
    "def predict_sen(text,temperature =1):\n",
    "    '''此例中，即根据给出的第一句诗句（含逗号），来生成古诗'''\n",
    "    max_len = c.max_len\n",
    "    if len(text)<max_len:\n",
    "        print('字数不能少于',max_len)\n",
    "        return\n",
    "\n",
    "    sentence = text[-max_len:]\n",
    "    # print('第一句:',sentence)\n",
    "    generate = str(sentence)\n",
    "    generate += m_preds(sentence,length = 24-max_len,temperature=temperature)\n",
    "    return generate"
   ]
  },
  {
   "cell_type": "code",
   "execution_count": 24,
   "metadata": {},
   "outputs": [],
   "source": [
    "# 输入字符串，返回字符串\n",
    "def m_preds(sentence,length = 23,temperature =1):\n",
    "    '''\n",
    "    sentence:预测输入值\n",
    "    lenth:预测出的字符串长度\n",
    "    供类内部调用，输入max_len长度字符串，返回length长度的预测值字符串\n",
    "    '''\n",
    "    sentence = sentence[:c.max_len]\n",
    "    generate = ''\n",
    "    for i in range(length):\n",
    "        pred = m_pred(sentence,temperature)\n",
    "        generate += pred\n",
    "        sentence = sentence[1:]+pred\n",
    "    return generate"
   ]
  },
  {
   "cell_type": "code",
   "execution_count": 25,
   "metadata": {},
   "outputs": [],
   "source": [
    "# 输入字符串，返回字符\n",
    "def m_pred(sentence,temperature =1):\n",
    "    '''内部使用方法，根据一串输入，返回单个预测字符'''\n",
    "    if len(sentence) < c.max_len:\n",
    "        print('in def m_pred,length error ')\n",
    "        return\n",
    "\n",
    "    sentence = sentence[-c.max_len:]\n",
    "    x_pred = np.zeros((1, c.max_len, len(words)))\n",
    "    for t, char in enumerate(sentence):\n",
    "        x_pred[0, t, word2numF(char)] = 1.\n",
    "    preds = model.predict(x_pred, verbose=0)[0]\n",
    "    next_index = sample(preds,temperature=temperature)\n",
    "    next_char = num2word[next_index]\n",
    "\n",
    "    return next_char"
   ]
  },
  {
   "cell_type": "code",
   "execution_count": 26,
   "metadata": {},
   "outputs": [],
   "source": [
    "# 根据输入的矩阵，返回一个数字\n",
    "def sample(preds, temperature=1.0):\n",
    "    '''\n",
    "    当temperature=1.0时，模型输出正常\n",
    "    当temperature=0.5时，模型输出比较open\n",
    "    当temperature=1.5时，模型输出比较保守\n",
    "    在训练的过程中可以看到temperature不同，结果也不同\n",
    "    就是一个概率分布变换的问题，保守的时候概率大的值变得更大，选择的可能性也更大\n",
    "    '''\n",
    "    preds = np.asarray(preds).astype('float64')\n",
    "    exp_preds = np.power(preds,1./temperature)\n",
    "    preds = exp_preds / np.sum(exp_preds)\n",
    "    pro = np.random.choice(range(len(preds)),1,p=preds)\n",
    "    return int(pro.squeeze())"
   ]
  },
  {
   "cell_type": "code",
   "execution_count": null,
   "metadata": {},
   "outputs": [],
   "source": [
    "# 确定训练的次数\n",
    "number_of_epoch = len(files_content)-(c.max_len + 1) * poems_num\n",
    "number_of_epoch /= c.batch_size \n",
    "number_of_epoch = int(number_of_epoch / 1.5)\n",
    "## 开始训练，带反馈\n",
    "model.fit_generator(\n",
    "    generator=data_generator(files_content,words,word2numF,c.max_len),\n",
    "    verbose=True,\n",
    "    steps_per_epoch=c.batch_size,\n",
    "    epochs=number_of_epoch,\n",
    "    callbacks=[\n",
    "        keras.callbacks.ModelCheckpoint(c.weight_file, save_weights_only=False),\n",
    "        LambdaCallback(on_epoch_end=generate_sample_result)])"
   ]
  },
  {
   "cell_type": "markdown",
   "metadata": {},
   "source": [
    "开始训练后，每隔一定的轮次（predict_num），这些信息都会输出到训练的日志文件（fixlog）中。"
   ]
  },
  {
   "cell_type": "markdown",
   "metadata": {},
   "source": [
    "## 6.应用模型\n",
    "\n",
    "这个模型的作用是：根据输入的一组字（6个字符）来预测第7个字。那么利用这一点就可以做出很多应用，如藏头诗、藏字诗、随机作诗等。"
   ]
  },
  {
   "cell_type": "code",
   "execution_count": 34,
   "metadata": {},
   "outputs": [],
   "source": [
    "model = load_model(c.weight_file,compile=False)"
   ]
  },
  {
   "cell_type": "markdown",
   "metadata": {},
   "source": [
    "### 6.1 藏头诗\n",
    "\n",
    "输入必须是四个字，并且不能有冷僻字。为了使诗句有点意义，先在诗词库中找一句某个字开头的诗，如果找不到，再随机凑一句。"
   ]
  },
  {
   "cell_type": "code",
   "execution_count": 36,
   "metadata": {},
   "outputs": [
    {
     "name": "stdout",
     "output_type": "stream",
     "text": [
      "春疑更钓虚，夏华管初正。秋夕不物言，冬歌玉起日。\n",
      "春林春风烟，夏朝雪木轻。秋传沈多鹿，冬里交时入。\n",
      "春三书年华，夏百关龙惜。秋谁多还风，冬丹学地转。\n"
     ]
    }
   ],
   "source": [
    "# '''根据给4个字，生成藏头诗五言绝句'''\n",
    "def predict_hide(text,temperature = 1):\n",
    "    if len(text)!=4:\n",
    "        print('藏头诗的输入必须是4个字！')\n",
    "        return\n",
    "    islow=''\n",
    "    for t in text:\n",
    "        if t not in words:\n",
    "            islow = t\n",
    "            break\n",
    "    if islow:\n",
    "        print('输入的字存在冷僻字：'+ islow)\n",
    "        return\n",
    "\n",
    "    index = random.randint(0, poems_num)\n",
    "    #选取随机一首诗的最后max_len字符+给出的首个文字作为初始输入\n",
    "    sentence = poems[index][1-c.max_len:] + text[0]\n",
    "    generate = str(text[0])\n",
    "    #print('引子 = ',sentence)\n",
    "\n",
    "    for i in range(5):\n",
    "        next_char = m_pred(sentence,temperature)           \n",
    "        sentence = sentence[1:] + next_char\n",
    "        generate+= next_char\n",
    "\n",
    "    for i in range(3):\n",
    "        generate += text[i+1]\n",
    "        sentence = sentence[1:] + text[i+1]\n",
    "        for i in range(5):\n",
    "            next_char = m_pred(sentence,temperature)           \n",
    "            sentence = sentence[1:] + next_char\n",
    "            generate+= next_char\n",
    "\n",
    "    return generate\n",
    "# 执行\n",
    "for i in range(3):\n",
    "    #藏头诗\n",
    "    sen = predict_hide('春夏秋冬')\n",
    "    print(sen)"
   ]
  },
  {
   "cell_type": "code",
   "execution_count": 38,
   "metadata": {},
   "outputs": [
    {
     "name": "stdout",
     "output_type": "stream",
     "text": [
      "明月松间照，声扬中当正。传青离明心，事朝长时泥。\n",
      "明月松间照，将雪有功朝。上沈自阳日，复白水紫来。\n",
      "明月松间照，金重才绿接。场双北时女，山草重故先。\n"
     ]
    }
   ],
   "source": [
    "# predict_sen函数在前面已经运行\n",
    "for i in range(3):\n",
    "    #给出第一句话进行预测\n",
    "    sen = predict_sen('明月松间照，')\n",
    "    print(sen)"
   ]
  },
  {
   "cell_type": "code",
   "execution_count": 39,
   "metadata": {},
   "outputs": [
    {
     "name": "stdout",
     "output_type": "stream",
     "text": [
      "山流留江承，图君泥春在。行白游紫远，新犹历不林。\n",
      "山思水行雪，动三开河闲。药流起日取，此树空白野。\n",
      "山海幽花楼，夜去言何石。连应东地绕，郡月一玉为。\n"
     ]
    }
   ],
   "source": [
    "#'''根据给出的首个文字，生成五言绝句'''\n",
    "def predict_first(char,temperature =1):\n",
    "    index = random.randint(0, poems_num)\n",
    "    #选取随机一首诗的最后max_len字符+给出的首个文字作为初始输入\n",
    "    sentence = poems[index][1-c.max_len:] + char\n",
    "    generate = str(char)\n",
    "    # print('引子 = ',sentence)\n",
    "    # 直接预测后面23个字符\n",
    "    generate += m_preds(sentence,length=23,temperature=temperature)\n",
    "    return generate\n",
    "\n",
    "# 执行\n",
    "for i in range(3):\n",
    "    #给出第一个字进行预测\n",
    "    sen = predict_first('山')\n",
    "    print(sen)"
   ]
  },
  {
   "cell_type": "code",
   "execution_count": 40,
   "metadata": {},
   "outputs": [
    {
     "name": "stdout",
     "output_type": "stream",
     "text": [
      "神女向高唐，北玉复梁言。心南年向从，风白歌黄向。\n",
      "古墓芙蓉塔，西客庭去路。玉惜疑应空，命鸣作鹤书。\n",
      "仆本儒家子，庭作说要空。别一人径生，华门丘辛叹。\n"
     ]
    }
   ],
   "source": [
    "#'''随机从库中选取一句开头的诗句，生成五言绝句'''\n",
    "def predict_random(temperature = 1):\n",
    "    index = random.randint(0, poems_num)\n",
    "    sentence = poems[index][: c.max_len]\n",
    "    generate = predict_sen(sentence,temperature=temperature)\n",
    "    return generate\n",
    "\n",
    "# 执行\n",
    "for temp in [0.5,1,1.5]:\n",
    "    #随机抽取第一句话进行预测\n",
    "    sen = predict_random(temperature=temp)\n",
    "    print(sen)"
   ]
  },
  {
   "cell_type": "markdown",
   "metadata": {},
   "source": [
    "具体效果如何？大家的要求不能太高啊。虽然这个模型有点大，但是虚谷号还是可以正常运行。"
   ]
  },
  {
   "cell_type": "code",
   "execution_count": null,
   "metadata": {},
   "outputs": [],
   "source": []
  }
 ],
 "metadata": {
  "kernelspec": {
   "display_name": "Python 3",
   "language": "python",
   "name": "python3"
  },
  "language_info": {
   "codemirror_mode": {
    "name": "ipython",
    "version": 3
   },
   "file_extension": ".py",
   "mimetype": "text/x-python",
   "name": "python",
   "nbconvert_exporter": "python",
   "pygments_lexer": "ipython3",
   "version": "3.5.2"
  }
 },
 "nbformat": 4,
 "nbformat_minor": 4
}
