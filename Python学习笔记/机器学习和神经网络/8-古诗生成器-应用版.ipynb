{
 "cells": [
  {
   "cell_type": "markdown",
   "metadata": {},
   "source": [
    "# 古诗生成器（运行版）\n",
    "\n",
    "基于循环神经网络（Keras+LSTM-RNN），采用了浙江大学人工智能研究所提供的古诗词库，并且在其提供的AI学习平台上训练完成。本案例非原创，原来的代码用class来实现，并且重构了model的方法。为了方便初学者理解，重新调整了代码和参数，并且用jupyterlab写了一个完整的文档。\n",
    "\n",
    "虽然模型已经训练完成，但要应用这个模型，还需要提供原来用于训练的语料，即古诗词库。训练和应用使用的语料要保持一致。\n",
    "\n",
    "运行这个案例，需要安装多个库，还需要pydot、graphviz的支持。虚谷号教育版上已经提供了所有相关的支持库。需要说明的是，在虚谷号上训练比较慢，预计至少需要一天时间，才可以看到较好的效果。\n",
    "\n",
    "原案例地址：https://github.com/youyuge34/Poems_generator_Keras/blob/master/poem_model.ipynb\n",
    "\n",
    "模型下载地址（课程汇集/虚谷号内置课程目录/5.机器学习）：https://github.com/vvlink/vvBoard-docs/"
   ]
  },
  {
   "cell_type": "markdown",
   "metadata": {},
   "source": [
    "## 1.导入必要的库"
   ]
  },
  {
   "cell_type": "code",
   "execution_count": 1,
   "metadata": {},
   "outputs": [
    {
     "name": "stderr",
     "output_type": "stream",
     "text": [
      "Using TensorFlow backend.\n"
     ]
    }
   ],
   "source": [
    "import random\n",
    "import os\n",
    "import keras\n",
    "import numpy as np\n",
    "from keras.callbacks import LambdaCallback\n",
    "from keras.models import Input, Model, load_model\n",
    "from keras.layers import LSTM, Dropout, Dense\n",
    "from keras.optimizers import Adam"
   ]
  },
  {
   "cell_type": "markdown",
   "metadata": {},
   "source": [
    "## 2.参数设置"
   ]
  },
  {
   "cell_type": "code",
   "execution_count": 3,
   "metadata": {},
   "outputs": [],
   "source": [
    "class config(object):\n",
    "    # 输入的诗词库（语料库）\n",
    "    poetry_file = 'data/8-poetry_zju.txt'\n",
    "    # 模型名称\n",
    "    weight_file = 'model/8-model_zju.h5'\n",
    "    # 输出训练的信息\n",
    "    fixlog = 'poem_log.txt'\n",
    "    # 复合训练时，间隔多少次输出一次测试结果\n",
    "    predict_num = 5\n",
    "    batch_size = 32\n",
    "    learning_rate = 0.001\n",
    "    # 下面参数不能随意修改，改动将影响整个模型的大小\n",
    "    #根据前六个字预测第七个字，生成的是五言诗（含标点）\n",
    "    max_len = 6\n",
    "    # 去除低频率文字（避免生僻字）\n",
    "    frequence_num = 3"
   ]
  },
  {
   "cell_type": "markdown",
   "metadata": {},
   "source": [
    "## 3.数据处理"
   ]
  },
  {
   "cell_type": "code",
   "execution_count": 4,
   "metadata": {},
   "outputs": [],
   "source": [
    "def preprocess_file(poetry_file):\n",
    "    # 语料文本内容\n",
    "    files_content = ''\n",
    "    with open(poetry_file, 'r',encoding='UTF-8') as f:\n",
    "        for line in f:\n",
    "            x = line.strip() + \"]\"\n",
    "            # x = x.split(\":\")[1]\n",
    "            if len(x) <= 5 :\n",
    "                continue\n",
    "            # 确保导入的诗句，是五言诗\n",
    "            if x[c.max_len-1] == '，':\n",
    "                files_content += x\n",
    "            \n",
    "    words = sorted(list(files_content))\n",
    "    counted_words = {}\n",
    "    for word in words:\n",
    "        if word in counted_words:\n",
    "            counted_words[word] += 1\n",
    "        else:\n",
    "            counted_words[word] = 1\n",
    "\n",
    "    # 去掉低频的字，这样可以去除一些怪异的字。\n",
    "    erase = []\n",
    "    for key in counted_words:\n",
    "        if counted_words[key] <= c.frequence_num:\n",
    "            erase.append(key)\n",
    "    for key in erase:\n",
    "        del counted_words[key]\n",
    "    wordPairs = sorted(counted_words.items(), key=lambda x: -x[1])\n",
    "\n",
    "    words, _ = zip(*wordPairs)\n",
    "    words += (\" \",)\n",
    "    # word到id的映射\n",
    "    word2num = dict((c, i) for i, c in enumerate(words))\n",
    "    num2word = dict((i, c) for i, c in enumerate(words))\n",
    "    word2numF = lambda x: word2num.get(x, len(words) - 1)\n",
    "    return word2numF, num2word, words, files_content\n",
    "\n",
    "# 清洗、准备数据\n",
    "c=config()\n",
    "word2numF, num2word, words, files_content = preprocess_file(c.poetry_file)\n",
    "#分割诗词，记录在poems_num中\n",
    "poems = files_content.split(']')\n",
    "poems_num = len(poems)"
   ]
  },
  {
   "cell_type": "markdown",
   "metadata": {},
   "source": [
    "这里返回的四个变量，分别介绍如下：\n",
    "- word2numF：返回不同汉字对应的字典位置。\n",
    "- num2word：字典，key是数字，值是字符。\n",
    "- words：列表。所有的字符表，按照频率排序，先大再小。\n",
    "- files_content：字符串。所有的诗词，用“]”分开。\n",
    "\n",
    "按照字符频率，最多的是“，”，其次是“。”。poems为列表，存储所有的诗歌，poems_num为诗歌的数量。"
   ]
  },
  {
   "cell_type": "markdown",
   "metadata": {},
   "source": [
    "## 4.应用模型\n",
    "\n",
    "根据模型能够根据输入的一组字来预测后面的字，那么就可以做出很多应用，如藏头诗，藏字诗等。"
   ]
  },
  {
   "cell_type": "markdown",
   "metadata": {},
   "source": [
    "### 4.1 导入模型"
   ]
  },
  {
   "cell_type": "code",
   "execution_count": 6,
   "metadata": {},
   "outputs": [],
   "source": [
    "# 导入训练好的模型\n",
    "model = load_model(c.weight_file,compile=False)"
   ]
  },
  {
   "cell_type": "markdown",
   "metadata": {},
   "source": [
    "### 4.2 准备工作\n",
    "\n",
    "需要几个基本函数的支持。"
   ]
  },
  {
   "cell_type": "code",
   "execution_count": 6,
   "metadata": {},
   "outputs": [],
   "source": [
    "# 输入字符串，返回字符串\n",
    "def m_preds(sentence,length = 23,temperature =1):\n",
    "    '''\n",
    "    sentence:预测输入值\n",
    "    lenth:预测出的字符串长度\n",
    "    供类内部调用，输入max_len长度字符串，返回length长度的预测值字符串\n",
    "    '''\n",
    "    sentence = sentence[:c.max_len]\n",
    "    generate = ''\n",
    "    for i in range(length):\n",
    "        pred = m_pred(sentence,temperature)\n",
    "        generate += pred\n",
    "        sentence = sentence[1:]+pred\n",
    "    return generate\n",
    "\n",
    "# 输入字符串，返回字符\n",
    "def m_pred(sentence,temperature =1):\n",
    "    '''内部使用方法，根据一串输入，返回单个预测字符'''\n",
    "    if len(sentence) < c.max_len:\n",
    "        print('in def m_pred,length error ')\n",
    "        return\n",
    "\n",
    "    sentence = sentence[-c.max_len:]\n",
    "    x_pred = np.zeros((1, c.max_len, len(words)))\n",
    "    for t, char in enumerate(sentence):\n",
    "        x_pred[0, t, word2numF(char)] = 1.\n",
    "    preds = model.predict(x_pred, verbose=0)[0]\n",
    "    next_index = sample(preds,temperature=temperature)\n",
    "    next_char = num2word[next_index]\n",
    "\n",
    "    return next_char\n",
    "\n",
    "# 根据输入的矩阵，返回一个数字\n",
    "def sample(preds, temperature=1.0):\n",
    "    '''\n",
    "    当temperature=1.0时，模型输出正常\n",
    "    当temperature=0.5时，模型输出比较open\n",
    "    当temperature=1.5时，模型输出比较保守\n",
    "    在训练的过程中可以看到temperature不同，结果也不同\n",
    "    就是一个概率分布变换的问题，保守的时候概率大的值变得更大，选择的可能性也更大\n",
    "    '''\n",
    "    preds = np.asarray(preds).astype('float64')\n",
    "    exp_preds = np.power(preds,1./temperature)\n",
    "    preds = exp_preds / np.sum(exp_preds)\n",
    "    pro = np.random.choice(range(len(preds)),1,p=preds)\n",
    "    return int(pro.squeeze())"
   ]
  },
  {
   "cell_type": "markdown",
   "metadata": {},
   "source": [
    "**设置热度参数**\n",
    "\n",
    "一般来说，temperature=1.0输出的比较正常。小于1比较开放，大于1则比较保守。就是一个概率分布变换的问题，保守的时候概率大的值变得更大，选择的可能性也更大。"
   ]
  },
  {
   "cell_type": "code",
   "execution_count": 7,
   "metadata": {},
   "outputs": [],
   "source": [
    "# 默认设置为1，正常的参数\n",
    "temperature=1.0"
   ]
  },
  {
   "cell_type": "markdown",
   "metadata": {},
   "source": [
    "### 4.3 各种应用\n",
    "\n",
    "#### 1）诗歌接龙\n",
    "\n",
    "给出第一句诗，自动生成后面诗句。"
   ]
  },
  {
   "cell_type": "code",
   "execution_count": 8,
   "metadata": {},
   "outputs": [
    {
     "name": "stdout",
     "output_type": "stream",
     "text": [
      "第一句: 明月松间照，\n",
      "明月松间照，池中良分为。山机管华华，将花东千生。\n",
      "第一句: 明月松间照，\n",
      "明月松间照，有陈藕本日。洛庭秀迷贤，明惊几是东。\n",
      "第一句: 明月松间照，\n",
      "明月松间照，樽尘光开仙。白无气崇不，丹生乘国台。\n"
     ]
    }
   ],
   "source": [
    "# 根据给出的前max_len个字，生成诗句\n",
    "def predict_sen(text,temperature =1):\n",
    "    '''此例中，即根据给出的第一句诗句（含逗号），来生成古诗'''\n",
    "    max_len = c.max_len\n",
    "    if len(text)<max_len:\n",
    "        print('字数不能少于',max_len)\n",
    "        return\n",
    "\n",
    "    sentence = text[-max_len:]\n",
    "    print('第一句:',sentence)\n",
    "    generate = str(sentence)\n",
    "    generate += m_preds(sentence,length = 24-max_len,temperature=temperature)\n",
    "    return generate\n",
    "\n",
    "# 运行\n",
    "for i in range(3):\n",
    "    #给出第一句话进行预测\n",
    "    sen = predict_sen('明月松间照，',temperature = temperature)\n",
    "    print(sen)"
   ]
  },
  {
   "cell_type": "markdown",
   "metadata": {},
   "source": [
    "#### 2）藏头诗\n",
    "\n",
    "输入必须是四个字，并且不能有冷僻字。为了使诗句有点意义，先在诗词库中找一句某个字开头的诗，如果找不到，再随机凑一句。"
   ]
  },
  {
   "cell_type": "code",
   "execution_count": 9,
   "metadata": {},
   "outputs": [
    {
     "name": "stdout",
     "output_type": "stream",
     "text": [
      "一天木臣天，杯歌还一鸟。浊王天月若，酒问乘下云。\n",
      "一郊白水云，杯风朝水未。浊北动谁接，酒三山帝玉。\n",
      "一扶风赋花，杯似晨雪南。浊流春枕玉，酒绕影为川。\n"
     ]
    }
   ],
   "source": [
    "# '''根据给4个字，生成藏头诗五言绝句'''\n",
    "def predict_hide(text,temperature = 1):\n",
    "    if len(text)!=4:\n",
    "        print('藏头诗的输入必须是4个字！')\n",
    "        return\n",
    "    islow=''\n",
    "    for t in text:\n",
    "        if t not in words:\n",
    "            islow = t\n",
    "            break\n",
    "    if islow:\n",
    "        print('输入的字存在冷僻字：'+ islow)\n",
    "        return\n",
    "\n",
    "    index = random.randint(0, poems_num)\n",
    "    #选取随机一首诗的最后max_len字符+给出的首个文字作为初始输入\n",
    "    sentence = poems[index][1-c.max_len:] + text[0]\n",
    "    generate = str(text[0])\n",
    "    #print('引子 = ',sentence)\n",
    "\n",
    "    for i in range(5):\n",
    "        next_char = m_pred(sentence,temperature)           \n",
    "        sentence = sentence[1:] + next_char\n",
    "        generate+= next_char\n",
    "\n",
    "    for i in range(3):\n",
    "        generate += text[i+1]\n",
    "        sentence = sentence[1:] + text[i+1]\n",
    "        for i in range(5):\n",
    "            next_char = m_pred(sentence,temperature)           \n",
    "            sentence = sentence[1:] + next_char\n",
    "            generate+= next_char\n",
    "\n",
    "    return generate\n",
    "# 执行\n",
    "for i in range(3):\n",
    "    #藏头诗\n",
    "    sen = predict_hide('一杯浊酒',temperature = temperature)\n",
    "    print(sen)"
   ]
  },
  {
   "cell_type": "markdown",
   "metadata": {},
   "source": [
    "#### 3）随机一首\n",
    "\n",
    "随机生成一首诗。原理是随机从库中选取一句开头的诗句，生成五言绝句。"
   ]
  },
  {
   "cell_type": "code",
   "execution_count": 10,
   "metadata": {},
   "outputs": [
    {
     "name": "stdout",
     "output_type": "stream",
     "text": [
      "第一句: 尝闻四书曰，\n"
     ]
    },
    {
     "data": {
      "text/plain": [
       "'尝闻四书曰，皇风入飞夜。龙关三百烟，不路飞常分。'"
      ]
     },
     "execution_count": 10,
     "metadata": {},
     "output_type": "execute_result"
    }
   ],
   "source": [
    "# 测试函数：随机从选取诗句，生成五言绝句\n",
    "def predict_random(temperature = 1):\n",
    "    # 随机找一首诗，用第一行来测试\n",
    "    index = random.randint(0, poems_num)\n",
    "    sentence = poems[index][: c.max_len]\n",
    "    generate = predict_sen(sentence,temperature=temperature)\n",
    "    return generate\n",
    "# 执行\n",
    "predict_random(temperature = temperature)"
   ]
  },
  {
   "cell_type": "markdown",
   "metadata": {},
   "source": [
    "#### 4）诗歌接龙\n",
    "\n",
    "给出一个字，生成一首诗。这个字不能是冷僻字。"
   ]
  },
  {
   "cell_type": "code",
   "execution_count": 12,
   "metadata": {},
   "outputs": [
    {
     "name": "stdout",
     "output_type": "stream",
     "text": [
      "山流方深春，极径池林留。路园旌林尘，仙歌似自落。\n",
      "落影经林在，东芳三时夕。所应迹玉望，调时松外此。\n",
      "此作东空登，大金上辰日。玉白前疏花，来路神白云。\n"
     ]
    }
   ],
   "source": [
    "#'''根据给出的首个文字，生成五言绝句'''\n",
    "def predict_first(char,temperature =1):\n",
    "    index = random.randint(0, poems_num)\n",
    "    #选取随机一首诗的最后max_len字符+给出的首个文字作为初始输入\n",
    "    sentence = poems[index][1-c.max_len:] + char\n",
    "    generate = str(char)\n",
    "    # print('引子 = ',sentence)\n",
    "    # 直接预测后面23个字符\n",
    "    generate += m_preds(sentence,length=23,temperature=temperature)\n",
    "    return generate\n",
    "\n",
    "# 执行\n",
    "s=\"山\"\n",
    "for i in range(3):\n",
    "    #给出第一个字进行预测\n",
    "    sen = predict_first(s,temperature = temperature)\n",
    "    print(sen)\n",
    "    s=sen[-2]"
   ]
  },
  {
   "cell_type": "markdown",
   "metadata": {},
   "source": [
    "具体效果如何？大家的要求不能太高啊。"
   ]
  },
  {
   "cell_type": "code",
   "execution_count": null,
   "metadata": {},
   "outputs": [],
   "source": []
  }
 ],
 "metadata": {
  "kernelspec": {
   "display_name": "Python 3",
   "language": "python",
   "name": "python3"
  },
  "language_info": {
   "codemirror_mode": {
    "name": "ipython",
    "version": 3
   },
   "file_extension": ".py",
   "mimetype": "text/x-python",
   "name": "python",
   "nbconvert_exporter": "python",
   "pygments_lexer": "ipython3",
   "version": "3.5.2"
  }
 },
 "nbformat": 4,
 "nbformat_minor": 4
}
