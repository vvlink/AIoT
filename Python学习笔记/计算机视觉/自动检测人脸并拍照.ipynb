{
 "cells": [
  {
   "cell_type": "markdown",
   "metadata": {},
   "source": [
    "# 自动检测人脸并拍照\n",
    "\n",
    "功能描述：能够获取虚谷号的摄像头内容，保存为一张图片\n",
    "\n",
    "准备工作：摄像头（任何一款普通的免驱摄像头）\n",
    "\n",
    "代码编写：谢作如、元银萍"
   ]
  },
  {
   "cell_type": "markdown",
   "metadata": {},
   "source": [
    "## 准备工作1：导入各种库"
   ]
  },
  {
   "cell_type": "code",
   "execution_count": null,
   "metadata": {},
   "outputs": [],
   "source": [
    "#!/usr/bin/env python3\n",
    "# -*- coding: utf-8 -*-\n",
    "import cv2\n",
    "from IPython import display\n",
    "from matplotlib import pyplot as plt\n",
    "import matplotlib\n",
    "import time\n",
    "%matplotlib inline"
   ]
  },
  {
   "cell_type": "markdown",
   "metadata": {},
   "source": [
    "## 准备工作2：相关函数"
   ]
  },
  {
   "cell_type": "code",
   "execution_count": null,
   "metadata": {
    "scrolled": true
   },
   "outputs": [],
   "source": [
    "#识别人脸\n",
    "def faceDetect(img, face_cascade=cv2.CascadeClassifier('/usr/local/share/OpenCV/haarcascades/haarcascade_frontalface_default.xml')):\n",
    "    size = img.shape[:2]\n",
    "    divisor = 8\n",
    "    h, w = size\n",
    "    minSize = (w // divisor, h // divisor)\n",
    "    gray = cv2.cvtColor(img, cv2.COLOR_BGR2GRAY)\n",
    "    faces = face_cascade.detectMultiScale(gray, 1.2, 1, cv2.CASCADE_SCALE_IMAGE, minSize)\n",
    "    return len(faces)"
   ]
  },
  {
   "cell_type": "markdown",
   "metadata": {},
   "source": [
    "## 开始工作\n",
    "\n",
    "发现人脸则显示图片，并且保存图片。\n",
    "\n",
    "**注**：没有检测到人脸，摄像头会不断重复“启动、关闭”的动作。"
   ]
  },
  {
   "cell_type": "code",
   "execution_count": null,
   "metadata": {},
   "outputs": [],
   "source": [
    "while 1:\n",
    "    cap = cv2.VideoCapture(0)\n",
    "    ret, frame = cap.read()\n",
    "    face_num = faceDetect(frame)\n",
    "    display.clear_output(wait=True) # 设置在一个画面中刷新\n",
    "    print(\"发现人脸数量：\" + str(face_num))\n",
    "    if face_num>0:\n",
    "        cv2.imwrite(\"test.jpg\",frame)\n",
    "        print(\"图片已经保存！\")\n",
    "        img=frame[:,:,::-1]\n",
    "        plt.imshow(img)\n",
    "        plt.axis('off') #不显示坐标\n",
    "        plt.show()\n",
    "        time.sleep(5)\n",
    "    cap.release()\n",
    "cv2.destroyAllWindows()"
   ]
  },
  {
   "cell_type": "code",
   "execution_count": null,
   "metadata": {},
   "outputs": [],
   "source": []
  }
 ],
 "metadata": {
  "kernelspec": {
   "display_name": "Python 3",
   "language": "python",
   "name": "python3"
  },
  "language_info": {
   "codemirror_mode": {
    "name": "ipython",
    "version": 3
   },
   "file_extension": ".py",
   "mimetype": "text/x-python",
   "name": "python",
   "nbconvert_exporter": "python",
   "pygments_lexer": "ipython3",
   "version": "3.5.2"
  }
 },
 "nbformat": 4,
 "nbformat_minor": 2
}
