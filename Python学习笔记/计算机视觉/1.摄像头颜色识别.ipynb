{
 "cells": [
  {
   "cell_type": "markdown",
   "metadata": {},
   "source": [
    "# 摄像头颜色识别\n",
    "\n",
    "功能描述：能够获取虚谷号的摄像头内容，输出颜色。\n",
    "\n",
    "准备工作：摄像头（免驱）\n",
    "\n",
    "代码编写：谢作如、林淼焱"
   ]
  },
  {
   "cell_type": "markdown",
   "metadata": {},
   "source": [
    "## 准备工作1：导入库"
   ]
  },
  {
   "cell_type": "code",
   "execution_count": null,
   "metadata": {},
   "outputs": [],
   "source": [
    "# -*- coding: UTF-8 -*-\n",
    "import cv2\n",
    "from IPython import display\n",
    "from matplotlib import pyplot as plt\n",
    "import time\n",
    "%matplotlib inline"
   ]
  },
  {
   "cell_type": "markdown",
   "metadata": {},
   "source": [
    "## 准备工作2：基本函数"
   ]
  },
  {
   "cell_type": "code",
   "execution_count": null,
   "metadata": {},
   "outputs": [],
   "source": [
    "#函数：画出图片的中心区域（分为25个区块）\n",
    "def drawpic(frame):\n",
    "    high, width, _ = frame.shape\n",
    "    x=int(width*2/5)\n",
    "    y=int(high*2/5)\n",
    "    w=int(width*1/5)\n",
    "    h=int(high*1/5)\n",
    "    #print(\"%d，%d，%d，%d\" %(x,y,w,h))\n",
    "    cv2.rectangle(frame, (x, y), (x + w, y + h), (255, 255, 255), 2)\n",
    "    return frame\n"
   ]
  },
  {
   "cell_type": "code",
   "execution_count": null,
   "metadata": {},
   "outputs": [],
   "source": [
    "# 裁剪图片的中心区域（分为25个区块）\n",
    "def cutpic(frame):\n",
    "    high, width, _ = frame.shape\n",
    "    x=int(width*2/5)\n",
    "    y=int(high*2/5)\n",
    "    w=int(width*1/5)\n",
    "    h=int(high*1/5)\n",
    "    #print(\"%d，%d，%d，%d\" %(x,y,w,h))\n",
    "    frame=frame[y:y+h,x:x+w]\n",
    "    return frame"
   ]
  },
  {
   "cell_type": "code",
   "execution_count": null,
   "metadata": {},
   "outputs": [],
   "source": [
    "#函数：显示图片\n",
    "def get_showcampic(filename):\n",
    "    img = cv2.imread(filename)\n",
    "    display.clear_output(wait=True) # 设置在一个画面中刷新\n",
    "    plt.imshow(img[:,:,::-1])\n",
    "    plt.axis('off') #不显示坐标\n",
    "    plt.show()\n",
    "    return filename"
   ]
  },
  {
   "cell_type": "code",
   "execution_count": null,
   "metadata": {},
   "outputs": [],
   "source": [
    "#函数：识别颜色\n",
    "def get_color(filename):\n",
    "    frame = cv2.imread(filename)\n",
    "    step=5\n",
    "    count=0\n",
    "    red=0\n",
    "    blue=0\n",
    "    green=0\n",
    "    print('开始识别颜色')\n",
    "    high, width, _ = frame.shape\n",
    "    print('高度%d，宽度%d' % (high, width))\n",
    "    #读取图片中所有像素点的RGB值\n",
    "    frame1 = cv2.cvtColor(frame, cv2.COLOR_BGR2RGB)\n",
    "    for i in frame1:\n",
    "        #i中的数据类型是一整行的像素点[[0,0,0][0,0,0]]\n",
    "        count+=1\n",
    "        if (count % step==0):\n",
    "            for point in i:\n",
    "            #point中的数据类型是单个像素点\n",
    "                red+=point[0]\n",
    "                green+=point[1]\n",
    "                blue+=point[2]\n",
    "    t=high*width/step\n",
    "    red=red/t\n",
    "    green=green/t\n",
    "    blue=blue/t\n",
    "    return red,green,blue"
   ]
  },
  {
   "cell_type": "code",
   "execution_count": null,
   "metadata": {},
   "outputs": [],
   "source": [
    "#函数：启动摄像头拍照，并保存为图片文件\n",
    "def getpic(filename):\n",
    "    cap = cv2.VideoCapture(0)        # 打开摄像头\n",
    "    ret, frame = cap.read()       # 读摄像头\n",
    "    drawpic(frame)        #画出核心区域\n",
    "    frame1=cutpic(frame)  #裁出核心区域\n",
    "    #r,g,b=get_color(frame1)     #识别颜色\n",
    "    cv2.imwrite(filename,frame)\n",
    "    cap.release()      \n",
    "    cv2.destroyAllWindows() "
   ]
  },
  {
   "cell_type": "markdown",
   "metadata": {},
   "source": [
    "## 开始识别\n",
    "\n",
    "请将物体放在摄像头的正下方，程序将识别出大致的颜色。"
   ]
  },
  {
   "cell_type": "code",
   "execution_count": null,
   "metadata": {},
   "outputs": [],
   "source": [
    "filename=\"test.jpg\"\n",
    "getpic(filename)\n",
    "get_showcampic(filename)\n",
    "r,g,b=get_color(filename)     #识别颜色\n",
    "print(\"这个物体的颜色如下：红色：%d，绿色：%d，蓝色：%d。\" % (r,g,b))"
   ]
  },
  {
   "cell_type": "markdown",
   "metadata": {},
   "source": [
    "## 注意事项\n",
    "\n",
    "- 要识别的物体，应该放在摄像头的正下方。\n",
    "- 根据返回的RGB信息，可以大致分析出这是什么颜色，识别红豆、绿豆很简单。\n",
    "- 做一个变色龙灯吧，接上RGB灯。"
   ]
  },
  {
   "cell_type": "code",
   "execution_count": null,
   "metadata": {},
   "outputs": [],
   "source": []
  }
 ],
 "metadata": {
  "kernelspec": {
   "display_name": "Python 3",
   "language": "python",
   "name": "python3"
  },
  "language_info": {
   "codemirror_mode": {
    "name": "ipython",
    "version": 3
   },
   "file_extension": ".py",
   "mimetype": "text/x-python",
   "name": "python",
   "nbconvert_exporter": "python",
   "pygments_lexer": "ipython3",
   "version": "3.5.2"
  }
 },
 "nbformat": 4,
 "nbformat_minor": 2
}
