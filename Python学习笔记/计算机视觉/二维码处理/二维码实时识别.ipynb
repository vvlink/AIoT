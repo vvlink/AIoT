{
 "cells": [
  {
   "cell_type": "markdown",
   "metadata": {},
   "source": [
    "# 二维码实时识别\n",
    "\n",
    "功能描述：能够实时识别摄像头画面中的二维码信息。\n",
    "\n",
    "准备工作：摄像头（任何一款普通的免驱摄像头）\n",
    "\n",
    "代码编写：谢作如"
   ]
  },
  {
   "cell_type": "markdown",
   "metadata": {},
   "source": [
    "## 基本库\n",
    "\n",
    "摄像头使用OpenCV，二维码的库选择了ZXing。这是一个支持在图像中解码和生成条形码(如二维码、PDF 417、EAN、UPC、Aztec、Data Matrix、Codabar)的库。ZXing(“zebra crossing”)是一个开源的、多格式的、用Java实现的一维/二维条码图像处理库，具有到其他语言的端口。"
   ]
  },
  {
   "cell_type": "code",
   "execution_count": null,
   "metadata": {},
   "outputs": [],
   "source": [
    "# 应用摄像头的准备工作\n",
    "# -*- coding: UTF-8 -*-\n",
    "import cv2\n",
    "import zxing\n",
    "import time\n",
    "from IPython import display\n",
    "from matplotlib import pyplot as plt\n",
    "%matplotlib inline"
   ]
  },
  {
   "cell_type": "markdown",
   "metadata": {},
   "source": [
    "## 核心函数\n",
    "\n",
    "请根据需要，运行相应的函数，也可以全部运行。"
   ]
  },
  {
   "cell_type": "code",
   "execution_count": null,
   "metadata": {
    "scrolled": true
   },
   "outputs": [],
   "source": [
    "#基本函数1：获取摄像头内容保存为图片\n",
    "def getcampic(fname):\n",
    "    cap = cv2.VideoCapture(0)        # 打开摄像头\n",
    "    ret, frame = cap.read()       # 读摄像头\n",
    "    cv2.imwrite(fname,frame)\n",
    "    cap.release()      \n",
    "    cv2.destroyAllWindows() \n",
    "    return True\n",
    "getcampic(\"1.jpg\")"
   ]
  },
  {
   "cell_type": "code",
   "execution_count": null,
   "metadata": {},
   "outputs": [],
   "source": [
    "#基本函数2：在网页上显示摄像头图片\n",
    "def showcampic():\n",
    "    cap = cv2.VideoCapture(0)        # 打开摄像头\n",
    "    ret, frame = cap.read()       # 读摄像头\n",
    "    display.clear_output(wait=True) # 设置在一个画面中刷新\n",
    "    plt.imshow(frame[:,:,::-1])\n",
    "    plt.axis('off') #不显示坐标\n",
    "    plt.show()\n",
    "    cap.release()      \n",
    "    cv2.destroyAllWindows() "
   ]
  },
  {
   "cell_type": "code",
   "execution_count": null,
   "metadata": {},
   "outputs": [],
   "source": [
    "#基本函数3：显示摄像头图片并且保存为图片文件\n",
    "def get_showcampic(fname):\n",
    "    cap = cv2.VideoCapture(0)        # 打开摄像头\n",
    "    ret, frame = cap.read()       # 读摄像头\n",
    "    display.clear_output(wait=True) # 设置在一个画面中刷新\n",
    "    cv2.imwrite(fname,frame)\n",
    "    plt.imshow(frame[:,:,::-1])\n",
    "    plt.axis('off') #不显示坐标\n",
    "    plt.show()\n",
    "    cap.release()      \n",
    "    cv2.destroyAllWindows() "
   ]
  },
  {
   "cell_type": "markdown",
   "metadata": {},
   "source": [
    "## zxing库的使用\n",
    "\n",
    "拍照并识别图片中的二维码"
   ]
  },
  {
   "cell_type": "code",
   "execution_count": null,
   "metadata": {},
   "outputs": [],
   "source": [
    "f=\"vv-text.png\"\n",
    "zx = zxing.BarCodeReader()\n",
    "code = zx.decode(f)\n",
    "if code is not None:\n",
    "    print(code)\n",
    "else:\n",
    "    print(\"没有找到二维码\")"
   ]
  },
  {
   "cell_type": "markdown",
   "metadata": {},
   "source": [
    "返回的信息为BarCode对象，常用的属性有raw和type，分别表示识别内容和类型。类型分为TEXT、URI等。TEXT为文本，URI为网址。"
   ]
  },
  {
   "cell_type": "code",
   "execution_count": null,
   "metadata": {},
   "outputs": [],
   "source": [
    "f=\"vv-url.png\"\n",
    "zx = zxing.BarCodeReader()\n",
    "code = zx.decode(f)\n",
    "if code is not None:\n",
    "    print(code)\n",
    "else:\n",
    "    print(\"没有找到二维码\")"
   ]
  },
  {
   "cell_type": "code",
   "execution_count": null,
   "metadata": {},
   "outputs": [],
   "source": [
    "print(\"识别结果为：{s1}，类型为：{s2}\".format(s1=code.raw,s2=code.type))"
   ]
  },
  {
   "cell_type": "markdown",
   "metadata": {},
   "source": [
    "## 摄像头逐一识别\n",
    "\n",
    "如何使用？只要将基本库导入和相应的核心函数一起放在自己的代码中，即可操作摄像头了。拍摄一张，识别一张。"
   ]
  },
  {
   "cell_type": "code",
   "execution_count": null,
   "metadata": {},
   "outputs": [],
   "source": [
    "f=\"test.png\"\n",
    "get_showcampic(f)\n",
    "zx = zxing.BarCodeReader()\n",
    "code = zx.decode(f)\n",
    "if code is not None:\n",
    "    print(\"识别结果为：{s1}，类型为：{s2}\".format(s1=code.raw,s2=code.type))\n",
    "else:\n",
    "    print(\"没有找到二维码\")"
   ]
  },
  {
   "cell_type": "markdown",
   "metadata": {},
   "source": [
    "## 摄像头实时识别\n",
    "\n",
    "做一个不间断的循环，保存图片并识别，发现有二维码信息，则检查是否前面已经识别过的信息，如果不是则存入scv文件。\n",
    "\n",
    "found是一个无序不重复元素集，避免重复识别。“found.clear()”语句的增加，仅仅为了避免同一张图片的重复识别，间隔一下，又可以识别了。为了确保识别效果，二维码的图片要大一点。\n",
    "\n",
    "在使用中会发现摄像头存在比较严重的延时。网页显示本来就有点延时，加上缓冲区的延时，使用起来有点不习惯。代码中采用了两种方法，一是设置缓冲区为1帧，cap.set(cv2.CAP_PROP_BUFFERSIZE, 1)；二是连续多次读取数据，让缓冲区尽快清空，ret,frame = cap.read()。现在估计还有2-3秒的延时。\n",
    "\n",
    "注意：如果要再次启动，需要先停止“服务”。"
   ]
  },
  {
   "cell_type": "code",
   "execution_count": null,
   "metadata": {},
   "outputs": [],
   "source": [
    "import cv2\n",
    "import zxing\n",
    "import time\n",
    "from IPython import display\n",
    "from matplotlib import pyplot as plt\n",
    "%matplotlib inline\n",
    "import csv\n",
    "from PIL import Image\n",
    "import threading\n",
    "\n",
    "PATH = \"test.csv\"\n",
    "img_name=\"test.jpg\"\n",
    "# 创建一个无序不重复元素集\n",
    "found = set()\n",
    "zx = zxing.BarCodeReader()\n",
    "cap = cv2.VideoCapture(0)        # 打开摄像头\n",
    "# 设置缓冲区为1帧\n",
    "cap.set(cv2.CAP_PROP_BUFFERSIZE, 1)\n",
    "while(1):\n",
    "    ret,frame = cap.read()\n",
    "    ret,frame = cap.read()\n",
    "    ret,frame = cap.read()\n",
    "    #生成图片\n",
    "    cv2.imwrite(img_name,frame)\n",
    "    img = Image.open(img_name)\n",
    "    display.clear_output(wait=True) # 设置在一个画面中刷新\n",
    "    plt.imshow(img)\n",
    "    plt.axis('off') #不显示坐标\n",
    "    plt.show()\n",
    "    code = zx.decode(img_name)\n",
    "    if code is not None:\n",
    "        s1=code.raw\n",
    "        if s1 not in found:\n",
    "            with open(PATH,'a+') as f:\n",
    "                csv_write = csv.writer(f)\n",
    "                csv_write.writerow(s1)\n",
    "            # 先清除再增加，确保同一张图不会重复识别。\n",
    "            found.clear()\n",
    "            found.add(s1)\n",
    "    if cv2.waitKey(1) == ord('q'):\n",
    "        break"
   ]
  },
  {
   "cell_type": "code",
   "execution_count": null,
   "metadata": {},
   "outputs": [],
   "source": []
  }
 ],
 "metadata": {
  "kernelspec": {
   "display_name": "Python 3",
   "language": "python",
   "name": "python3"
  },
  "language_info": {
   "codemirror_mode": {
    "name": "ipython",
    "version": 3
   },
   "file_extension": ".py",
   "mimetype": "text/x-python",
   "name": "python",
   "nbconvert_exporter": "python",
   "pygments_lexer": "ipython3",
   "version": "3.5.2"
  }
 },
 "nbformat": 4,
 "nbformat_minor": 2
}
