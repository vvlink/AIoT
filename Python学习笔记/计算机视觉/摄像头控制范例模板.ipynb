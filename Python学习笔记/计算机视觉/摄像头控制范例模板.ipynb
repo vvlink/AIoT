{
 "cells": [
  {
   "cell_type": "markdown",
   "metadata": {},
   "source": [
    "# 摄像头控制范例模板\n",
    "\n",
    "功能描述：能够获取虚谷号的摄像头内容，保存图片或者显示在网页上。\n",
    "\n",
    "准备工作：摄像头（任何一款普通的免驱摄像头）\n",
    "\n",
    "代码编写：谢作如、元银萍"
   ]
  },
  {
   "cell_type": "markdown",
   "metadata": {},
   "source": [
    "## 基本库"
   ]
  },
  {
   "cell_type": "code",
   "execution_count": null,
   "metadata": {},
   "outputs": [],
   "source": [
    "# 应用摄像头的准备工作\n",
    "# -*- coding: UTF-8 -*-\n",
    "import cv2\n",
    "from IPython import display\n",
    "from matplotlib import pyplot as plt\n",
    "import time\n",
    "%matplotlib inline"
   ]
  },
  {
   "cell_type": "markdown",
   "metadata": {},
   "source": [
    "## 核心函数\n",
    "\n",
    "请根据需要，运行相应的函数，也可以全部运行。"
   ]
  },
  {
   "cell_type": "code",
   "execution_count": null,
   "metadata": {
    "scrolled": true
   },
   "outputs": [],
   "source": [
    "#基本函数1：获取摄像头内容保存为图片\n",
    "def getcampic(fname):\n",
    "    cap = cv2.VideoCapture(0)        # 打开摄像头\n",
    "    ret, frame = cap.read()       # 读摄像头\n",
    "    cv2.imwrite(fname,frame)\n",
    "    cap.release()      \n",
    "    cv2.destroyAllWindows() \n",
    "    return True\n",
    "##测试\n",
    "getcampic(\"test.jpg\")"
   ]
  },
  {
   "cell_type": "markdown",
   "metadata": {},
   "source": [
    "请在这个文件夹下查看，是不是出现了test.jpg？"
   ]
  },
  {
   "cell_type": "code",
   "execution_count": null,
   "metadata": {},
   "outputs": [],
   "source": [
    "#基本函数2：在网页上显示摄像头图片\n",
    "def showcampic():\n",
    "    cap = cv2.VideoCapture(0)        # 打开摄像头\n",
    "    ret, frame = cap.read()       # 读摄像头\n",
    "    display.clear_output(wait=True) # 设置在一个画面中刷新\n",
    "    plt.imshow(frame[:,:,::-1])\n",
    "    plt.axis('off') #不显示坐标\n",
    "    plt.show()\n",
    "    cap.release()      \n",
    "    cv2.destroyAllWindows() \n",
    "##测试\n",
    "showcampic()"
   ]
  },
  {
   "cell_type": "code",
   "execution_count": null,
   "metadata": {},
   "outputs": [],
   "source": [
    "#基本函数3：显示摄像头图片并且保存为图片文件\n",
    "def get_showcampic(fname):\n",
    "    cap = cv2.VideoCapture(0)        # 打开摄像头\n",
    "    ret, frame = cap.read()       # 读摄像头\n",
    "    display.clear_output(wait=True) # 设置在一个画面中刷新\n",
    "    cv2.imwrite(fname,frame)\n",
    "    plt.imshow(frame[:,:,::-1])\n",
    "    plt.axis('off') #不显示坐标\n",
    "    plt.show()\n",
    "    cap.release()      \n",
    "    cv2.destroyAllWindows() \n",
    "##测试\n",
    "get_showcampic(\"test.jpg\")"
   ]
  },
  {
   "cell_type": "markdown",
   "metadata": {},
   "source": [
    "如何使用？只要将基本库导入和相应的核心函数一起放在自己的代码中，即可操作摄像头了。"
   ]
  },
  {
   "cell_type": "code",
   "execution_count": null,
   "metadata": {},
   "outputs": [],
   "source": []
  }
 ],
 "metadata": {
  "kernelspec": {
   "display_name": "Python 3",
   "language": "python",
   "name": "python3"
  },
  "language_info": {
   "codemirror_mode": {
    "name": "ipython",
    "version": 3
   },
   "file_extension": ".py",
   "mimetype": "text/x-python",
   "name": "python",
   "nbconvert_exporter": "python",
   "pygments_lexer": "ipython3",
   "version": "3.5.2"
  }
 },
 "nbformat": 4,
 "nbformat_minor": 2
}
