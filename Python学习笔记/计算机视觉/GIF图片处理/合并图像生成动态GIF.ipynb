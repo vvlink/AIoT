{
 "cells": [
  {
   "cell_type": "markdown",
   "metadata": {},
   "source": [
    "# 合并图像生成动态GIF"
   ]
  },
  {
   "cell_type": "markdown",
   "metadata": {},
   "source": [
    "完成这个功能，需要使用imageio库。\n",
    "\n",
    "! pip install -i https://pypi.tuna.tsinghua.edu.cn/simple imageio"
   ]
  },
  {
   "cell_type": "code",
   "execution_count": 1,
   "metadata": {},
   "outputs": [],
   "source": [
    "import re\n",
    "import os\n",
    "import imageio\n",
    "##将元素中的数字转换为int后再排序\n",
    "def tryint(s):\n",
    "    try:\n",
    "        return int(s)\n",
    "    except ValueError:\n",
    "        return s\n",
    "\n",
    "##将元素中的字符串和数字分割开\n",
    "def str2int(v_str):\n",
    "    return [tryint(sub_str) for sub_str in re.split('([0-9]+)', v_str)]\n",
    "\n",
    "##以分割后的list为单位进行排序\n",
    "def sort_humanly(v_list):\n",
    "    return sorted(v_list, key=str2int)"
   ]
  },
  {
   "cell_type": "markdown",
   "metadata": {},
   "source": [
    "gifpath为存放png图片的目录，ext为图片扩展名。"
   ]
  },
  {
   "cell_type": "code",
   "execution_count": 2,
   "metadata": {},
   "outputs": [],
   "source": [
    "gifpath='./timg/'\n",
    "ext='png'\n",
    "filenames = os.listdir(gifpath)\n",
    "# print(filenames)"
   ]
  },
  {
   "cell_type": "markdown",
   "metadata": {},
   "source": [
    "读取文件，并排序。"
   ]
  },
  {
   "cell_type": "code",
   "execution_count": 3,
   "metadata": {},
   "outputs": [
    {
     "name": "stdout",
     "output_type": "stream",
     "text": [
      "['0.png', '1.png', '2.png', '3.png', '4.png', '5.png', '6.png', '7.png', '8.png', '9.png', '10.png', '11.png', '12.png', '13.png', '14.png']\n"
     ]
    }
   ],
   "source": [
    "path_files = []\n",
    "for filename in filenames:\n",
    "    filename = filename.split('.')\n",
    "    if filename[-1] == ext:\n",
    "        filename = str.join('.',filename)\n",
    "        path_files.append(filename)\n",
    "path_files = sort_humanly(path_files)\n",
    "print(path_files)"
   ]
  },
  {
   "cell_type": "markdown",
   "metadata": {},
   "source": [
    "生成gif图片。参数中的fps=5，可以改变播放速度，数字越大，速度越快。"
   ]
  },
  {
   "cell_type": "code",
   "execution_count": 4,
   "metadata": {},
   "outputs": [
    {
     "name": "stdout",
     "output_type": "stream",
     "text": [
      "成功生成GIF文件！\n"
     ]
    }
   ],
   "source": [
    "gif_images = []\n",
    "for path in path_files:\n",
    "    #print(gifpath + path)\n",
    "    gif_images.append(imageio.imread(gifpath + path))\n",
    "imageio.mimsave(\"test.gif\",gif_images,fps=5)\n",
    "print(\"成功生成GIF文件！\")"
   ]
  },
  {
   "cell_type": "markdown",
   "metadata": {},
   "source": [
    "参考：https://blog.csdn.net/sinat_29957455/article/details/85145488"
   ]
  }
 ],
 "metadata": {
  "kernelspec": {
   "display_name": "Python 3",
   "language": "python",
   "name": "python3"
  },
  "language_info": {
   "codemirror_mode": {
    "name": "ipython",
    "version": 3
   },
   "file_extension": ".py",
   "mimetype": "text/x-python",
   "name": "python",
   "nbconvert_exporter": "python",
   "pygments_lexer": "ipython3",
   "version": "3.5.2"
  }
 },
 "nbformat": 4,
 "nbformat_minor": 2
}
