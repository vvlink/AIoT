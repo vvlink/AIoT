{
 "cells": [
  {
   "cell_type": "markdown",
   "metadata": {},
   "source": [
    "# gif动画逐帧转png\n",
    "\n",
    "一时找不到GIF转png的工具，一张一张转又太low了。于是写了这个代码。"
   ]
  },
  {
   "cell_type": "code",
   "execution_count": 1,
   "metadata": {},
   "outputs": [],
   "source": [
    "# 文件名\n",
    "gifFileName = 'timg.gif'"
   ]
  },
  {
   "cell_type": "markdown",
   "metadata": {},
   "source": [
    "导入PIL库，这是Python最常用的图片处理模块。"
   ]
  },
  {
   "cell_type": "code",
   "execution_count": 2,
   "metadata": {},
   "outputs": [],
   "source": [
    "from PIL import Image\n",
    "import os"
   ]
  },
  {
   "cell_type": "markdown",
   "metadata": {},
   "source": [
    "使用Image模块的open()方法打开gif动态图像时，默认是第一帧。用seek移动下一个图像序列，当抛出EOFError，说明转换完毕。"
   ]
  },
  {
   "cell_type": "code",
   "execution_count": 8,
   "metadata": {},
   "outputs": [
    {
     "name": "stdout",
     "output_type": "stream",
     "text": [
      "转换成功！\n"
     ]
    }
   ],
   "source": [
    "im = Image.open(gifFileName)\n",
    "pngDir = gifFileName[:-4]\n",
    "#创建存放每帧图片的文件夹(文件夹名与图片名称相同)\n",
    "if not os.path.exists(pngDir):\n",
    "    os.mkdir(pngDir)\n",
    "try:\n",
    "    while True:\n",
    "        #保存当前帧图片\n",
    "        current = im.tell()\n",
    "        im.save(pngDir+'/'+str(current)+'.png')\n",
    "        #获取下一帧图片\n",
    "        im.seek(current+1)\n",
    "except EOFError:\n",
    "        print(\"图片转换成功！\")\n"
   ]
  },
  {
   "cell_type": "code",
   "execution_count": null,
   "metadata": {},
   "outputs": [],
   "source": []
  }
 ],
 "metadata": {
  "kernelspec": {
   "display_name": "Python 3",
   "language": "python",
   "name": "python3"
  },
  "language_info": {
   "codemirror_mode": {
    "name": "ipython",
    "version": 3
   },
   "file_extension": ".py",
   "mimetype": "text/x-python",
   "name": "python",
   "nbconvert_exporter": "python",
   "pygments_lexer": "ipython3",
   "version": "3.5.2"
  }
 },
 "nbformat": 4,
 "nbformat_minor": 2
}
