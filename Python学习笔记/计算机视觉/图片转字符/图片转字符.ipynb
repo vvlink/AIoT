{
 "cells": [
  {
   "cell_type": "markdown",
   "metadata": {},
   "source": [
    "# 图片转字符"
   ]
  },
  {
   "cell_type": "markdown",
   "metadata": {},
   "source": [
    "项目描述：将指定的图片转换为自定义的字符。还可以调用热敏打印机，打印出这个“另类”的图片\n",
    "\n",
    "代码编写：谢作如"
   ]
  },
  {
   "cell_type": "markdown",
   "metadata": {},
   "source": [
    "## 准备工作"
   ]
  },
  {
   "cell_type": "code",
   "execution_count": null,
   "metadata": {},
   "outputs": [],
   "source": [
    "# 导入库\n",
    "from PIL import Image\n",
    "# 设置笔画不同的字符串\n",
    "color = \"MBNHQ$OC?7>=!;:-.\""
   ]
  },
  {
   "cell_type": "markdown",
   "metadata": {},
   "source": [
    "## 核心函数"
   ]
  },
  {
   "cell_type": "code",
   "execution_count": null,
   "metadata": {},
   "outputs": [],
   "source": [
    "# 图片转字符\n",
    "def make_char_img(img):\n",
    "    pix = img.load()\n",
    "    pic_str = ''\n",
    "    width, height = img.size\n",
    "    #print(\"%d,%d\" %(width, height))\n",
    "    for h in range(height):\n",
    "        for w in range(width):\n",
    "            pic_str += color[int(pix[w, h] * (len(color)-1) / 255)]\n",
    "        pic_str += '\\n'\n",
    "    # 输出查看结果\n",
    "    print(pic_str)\n",
    "    return pic_str\n",
    "\n",
    "# 图片缩小\n",
    "def preprocess(img_name,size):\n",
    "    img = Image.open(img_name)\n",
    "    w, h = img.size\n",
    "    m = max(img.size)\n",
    "    delta = m / size\n",
    "    w, h = int(w / delta), int(h / delta)\n",
    "    img = img.resize((w, h))\n",
    "    img = img.convert('L')\n",
    "    return img\n",
    "\n",
    "# 保存文本\n",
    "def save_to_file(filename, pic_str):\n",
    "    outfile = open(filename, 'w')\n",
    "    outfile.write(pic_str)\n",
    "    outfile.close()\n",
    "    print(\"转换成功！生成的文件名称为：%s\"%(filename))\n",
    " "
   ]
  },
  {
   "cell_type": "markdown",
   "metadata": {},
   "source": [
    "## 开始工作"
   ]
  },
  {
   "cell_type": "code",
   "execution_count": null,
   "metadata": {},
   "outputs": [],
   "source": [
    "# 图片名称\n",
    "f=\"code.jpg\"\n",
    "# 生成的文件长度\n",
    "size=50\n",
    "img = preprocess(f,size)\n",
    "pic_str = make_char_img(img)\n",
    "save_to_file(f +\".txt\", pic_str)"
   ]
  },
  {
   "cell_type": "code",
   "execution_count": null,
   "metadata": {},
   "outputs": [],
   "source": []
  }
 ],
 "metadata": {
  "kernelspec": {
   "display_name": "Python 3",
   "language": "python",
   "name": "python3"
  },
  "language_info": {
   "codemirror_mode": {
    "name": "ipython",
    "version": 3
   },
   "file_extension": ".py",
   "mimetype": "text/x-python",
   "name": "python",
   "nbconvert_exporter": "python",
   "pygments_lexer": "ipython3",
   "version": "3.5.2"
  }
 },
 "nbformat": 4,
 "nbformat_minor": 2
}
