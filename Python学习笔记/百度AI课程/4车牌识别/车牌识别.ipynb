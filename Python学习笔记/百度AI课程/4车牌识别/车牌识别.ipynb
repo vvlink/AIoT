{
 "cells": [
  {
   "cell_type": "markdown",
   "metadata": {},
   "source": [
    "# 车牌识别"
   ]
  },
  {
   "cell_type": "raw",
   "metadata": {},
   "source": [
    "本范例的具体介绍请参考百度AI的文档。https://ai.baidu.com/docs#/OCR-Python-SDK/0d4613d8"
   ]
  },
  {
   "cell_type": "raw",
   "metadata": {},
   "source": [
    "第一步、导入库"
   ]
  },
  {
   "cell_type": "code",
   "execution_count": 13,
   "metadata": {},
   "outputs": [],
   "source": [
    "from aip import AipOcr\n",
    "from carcity import CAR"
   ]
  },
  {
   "cell_type": "raw",
   "metadata": {},
   "source": [
    "第二步、设置认证信息\n",
    "\n",
    "注：这里用的是测试账号，有访问次数的限制，请使用自己的账号信息。"
   ]
  },
  {
   "cell_type": "code",
   "execution_count": 14,
   "metadata": {},
   "outputs": [],
   "source": [
    "\"\"\" 你的 APPID AK SK \"\"\"\n",
    "APP_ID = '17520489'\n",
    "API_KEY = 'USG6aAqrVSHij53IMdPgKXUz'\n",
    "SECRET_KEY = 'GmGoTOBI6wweUDKsluNERNh451Nr5hrm'\n",
    "\n",
    "client = AipOcr(APP_ID, API_KEY, SECRET_KEY)"
   ]
  },
  {
   "cell_type": "raw",
   "metadata": {},
   "source": [
    "第三步、读取图片"
   ]
  },
  {
   "cell_type": "code",
   "execution_count": 15,
   "metadata": {},
   "outputs": [],
   "source": [
    "def get_file_content(filePath):\n",
    "    with open(filePath, 'rb') as fp:\n",
    "        return fp.read()"
   ]
  },
  {
   "cell_type": "raw",
   "metadata": {},
   "source": [
    "第四步、调用车牌识别"
   ]
  },
  {
   "cell_type": "code",
   "execution_count": 16,
   "metadata": {},
   "outputs": [
    {
     "name": "stdout",
     "output_type": "stream",
     "text": [
      "车牌为: 粤AL7777 的车在:广东 广州\n"
     ]
    }
   ],
   "source": [
    "image = get_file_content('car.jpg')\n",
    "\n",
    "\"\"\" 如果有可选参数 \"\"\"\n",
    "options = {}\n",
    "options[\"multi_detect\"] = \"true\"\n",
    "\n",
    "\"\"\" 带参数调用车牌识别 \"\"\"\n",
    "value = client.licensePlate(image, options)\n",
    "number = value['words_result'][0]['number']\n",
    "for _car in CAR:\n",
    "    if _car['code'] == number[:2]:\n",
    "        print('车牌为:', number, '的车在:', end='')\n",
    "        print(_car['province'], _car['city'])"
   ]
  }
 ],
 "metadata": {
  "kernelspec": {
   "display_name": "Python 3",
   "language": "python",
   "name": "python3"
  },
  "language_info": {
   "codemirror_mode": {
    "name": "ipython",
    "version": 3
   },
   "file_extension": ".py",
   "mimetype": "text/x-python",
   "name": "python",
   "nbconvert_exporter": "python",
   "pygments_lexer": "ipython3",
   "version": "3.5.2"
  }
 },
 "nbformat": 4,
 "nbformat_minor": 2
}
