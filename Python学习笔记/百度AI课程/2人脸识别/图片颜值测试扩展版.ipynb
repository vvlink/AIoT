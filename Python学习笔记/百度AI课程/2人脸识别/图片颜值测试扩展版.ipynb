{
 "cells": [
  {
   "cell_type": "markdown",
   "metadata": {},
   "source": [
    "# 图片颜值测试扩展版"
   ]
  },
  {
   "cell_type": "markdown",
   "metadata": {},
   "source": [
    "范例描述：提交带人脸的图片，根据百度AI的反馈信息，重新生成一张标志出脸部位置并显示各种信息的图片。\n",
    "\n",
    "本范例的具体介绍请参考百度AI的文档。https://ai.baidu.com/docs#/Face-Python-SDK/81dd3e06"
   ]
  },
  {
   "cell_type": "markdown",
   "metadata": {},
   "source": [
    "### 第一步、导入百度AI库"
   ]
  },
  {
   "cell_type": "code",
   "execution_count": null,
   "metadata": {},
   "outputs": [],
   "source": [
    "# coding: 'utf-8'\n",
    "import base64\n",
    "from aip import AipFace\n",
    "import math\n",
    "\n",
    "try:\n",
    "    from PIL import Image, ImageDraw, ImageFont\n",
    "except ImportError:\n",
    "    print(\"Pillow库没有安装，请在命令提示符中运行:pip install Pillow 完成安装。\")\n",
    "    exit(0)\n",
    "from matplotlib import pyplot as plt\n",
    "%matplotlib inline"
   ]
  },
  {
   "cell_type": "markdown",
   "metadata": {},
   "source": [
    "### 第二步、设置认证信息\n",
    "\n",
    "注：这里用的是统一的测试账号，有访问次数的限制。请尽量使用自己的账号信息。"
   ]
  },
  {
   "cell_type": "code",
   "execution_count": null,
   "metadata": {},
   "outputs": [],
   "source": [
    "\"\"\" 你的 APPID AK SK \"\"\"\n",
    "APP_ID = '14563606'\n",
    "API_KEY = 'ijoqlG1PdSsdxtXc7DNn68jh'\n",
    "SECRET_KEY = 'Erpr184wiWCG7ZZglFKKG3Zm3up6xUmi '"
   ]
  },
  {
   "cell_type": "markdown",
   "metadata": {},
   "source": [
    "### 第三步、调用接口提交图片"
   ]
  },
  {
   "cell_type": "code",
   "execution_count": null,
   "metadata": {},
   "outputs": [],
   "source": [
    "client = AipFace(APP_ID, API_KEY, SECRET_KEY)\n",
    "# 要识别的图片路径\n",
    "imagefile = 'gyy.jpg'\n",
    "# image \"取决于image_type参数，传入BASE64字符串或URL字符串或FACE_TOKEN字符串\"\n",
    "image = base64.b64encode(open(imagefile, 'rb').read()).decode()\n",
    "imageType = \"BASE64\"\n",
    "\n",
    "\"\"\" 如果有可选参数 \"\"\"\n",
    "options = {}\n",
    "options[\"face_field\"] = \"age,beauty,expression,gender,glasses\"\n",
    "options[\"max_face_num\"] = 2\n",
    "options[\"face_type\"] = \"LIVE\"\n",
    "options[\"liveness_control\"] = \"LOW\"\n",
    "\n",
    "\"\"\" 带参数调用人脸检测 \"\"\"\n",
    "ret_value = client.detect(image, imageType, options)\n",
    "print(ret_value)"
   ]
  },
  {
   "cell_type": "markdown",
   "metadata": {},
   "source": [
    "### 第四步、读取反馈信息\n",
    "\n",
    "百度AI返回的json信息，Python将解析为字典，用关键字（如result、face_list等）读出需要的信息。"
   ]
  },
  {
   "cell_type": "code",
   "execution_count": null,
   "metadata": {},
   "outputs": [],
   "source": [
    "gender = '女' if ret_value['result']['face_list'][0]['gender']['type'] == 'female' else '男'\n",
    "gender_probability = ret_value['result']['face_list'][0]['gender']['probability']\n",
    "age = ret_value['result']['face_list'][0]['age']\n",
    "beauty = ret_value['result']['face_list'][0]['beauty']\n",
    "expression = ret_value['result']['face_list'][0]['expression']['type']\n",
    "dict_expression = {'none': '不笑', 'smile': '微笑', 'laugh': '大笑'}\n",
    "expression = dict_expression.get(expression, '无')\n",
    "expression_probability = ret_value['result']['face_list'][0]['expression']['probability']\n",
    "dict_glasses = {'none': '无眼镜', 'common': '普通眼镜', 'sun': '墨镜'}\n",
    "glasses = ret_value['result']['face_list'][0]['glasses']['type']\n",
    "glasses = dict_glasses.get(glasses, '无眼镜')\n",
    "glasses_probability = ret_value['result']['face_list'][0]['glasses']['probability']\n",
    "\n",
    "rotate = ret_value['result']['face_list'][0]['location']['rotation']\n",
    "x1 = ret_value['result']['face_list'][0]['location']['left']\n",
    "y1 = ret_value['result']['face_list'][0]['location']['top']\n",
    "width = ret_value['result']['face_list'][0]['location']['width']\n",
    "height = ret_value['result']['face_list'][0]['location']['height']\n",
    "theta = rotate * math.pi / 180  # 根据平台返回的角度进行弧度转换\n",
    "c, s = math.cos(theta), math.sin(theta)  # 利用弧度，进行三角函数处理\n",
    "im = Image.open(imagefile)\n",
    "draw = ImageDraw.Draw(im)"
   ]
  },
  {
   "cell_type": "markdown",
   "metadata": {},
   "source": [
    "### 第五步、标注图片信息\n",
    "\n",
    "利用三角函数的关系，进行画图。"
   ]
  },
  {
   "cell_type": "code",
   "execution_count": null,
   "metadata": {},
   "outputs": [],
   "source": [
    "firstdot = x1, y1\n",
    "nextdot = firstdot[0] + width * c, firstdot[1] + width * s\n",
    "draw.line([firstdot, nextdot], fill=(255, 0, 0, 128), width=3)\n",
    "firstdot = nextdot\n",
    "nextdot = firstdot[0] - height * s, firstdot[1] + height * c\n",
    "draw.line([firstdot, nextdot], fill=(255, 0, 0, 128), width=3)\n",
    "firstdot = nextdot\n",
    "nextdot = firstdot[0] - width * c, firstdot[1] - width * s\n",
    "draw.line([firstdot, nextdot], fill=(255, 0, 0, 128), width=3)\n",
    "firstdot = nextdot\n",
    "nextdot = firstdot[0] + height * s, firstdot[1] - height * c\n",
    "draw.line([firstdot, nextdot], fill=(255, 0, 0, 128), width=3)\n",
    "# 产生新的图片\n",
    "pic_width, pic_height = im.size\n",
    "img2 = Image.new('RGB', (pic_width + 400, pic_height), (255, 255, 255))\n",
    "img2.paste(im.crop(),(0, 0, pic_width, pic_height))"
   ]
  },
  {
   "cell_type": "code",
   "execution_count": null,
   "metadata": {},
   "outputs": [],
   "source": [
    "## 在图片上写入信息\n",
    "format_str = '性别：{0}(可靠度：{1})\\n' \\\n",
    "             '年龄：{2}\\n' \\\n",
    "             '颜值：{3}\\n' \\\n",
    "             '表情：{4}(可靠度：{5})\\n' \\\n",
    "             '佩戴：{6}(可靠度：{7})'\n",
    "print_str = format_str.format(gender, gender_probability, age,\n",
    "                              beauty, expression,\n",
    "                              expression_probability, glasses,\n",
    "                              glasses_probability)\n",
    "font = ImageFont.truetype(\"simhei.ttf\", 21, index=0)\n",
    "d = ImageDraw.Draw(img2)\n",
    "d.text([pic_width + 5, 60], print_str, font=font, fill=(255, 0, 0))\n",
    "\n",
    "# 保存图片\n",
    "newimagefile='{}.png'.format(imagefile+'识别结果')\n",
    "img2.save(newimagefile)\n",
    "print(print_str)"
   ]
  },
  {
   "cell_type": "markdown",
   "metadata": {},
   "source": [
    "### 第六步、显示图片\n",
    "\n",
    "利用matplotlib在网页上显示图片。查看这个文件夹，看看是不是多了一个名为“gyy.jpg识别结果.png”的图片？"
   ]
  },
  {
   "cell_type": "code",
   "execution_count": null,
   "metadata": {},
   "outputs": [],
   "source": [
    "plt.imshow(plt.imread(imagefile))\n",
    "plt.axis('off') #不显示坐标\n",
    "plt.show()\n",
    "\n",
    "plt.imshow(plt.imread(newimagefile))\n",
    "plt.axis('off') #不显示坐标\n",
    "plt.show()"
   ]
  },
  {
   "cell_type": "code",
   "execution_count": null,
   "metadata": {},
   "outputs": [],
   "source": []
  }
 ],
 "metadata": {
  "kernelspec": {
   "display_name": "Python 3",
   "language": "python",
   "name": "python3"
  },
  "language_info": {
   "codemirror_mode": {
    "name": "ipython",
    "version": 3
   },
   "file_extension": ".py",
   "mimetype": "text/x-python",
   "name": "python",
   "nbconvert_exporter": "python",
   "pygments_lexer": "ipython3",
   "version": "3.5.2"
  }
 },
 "nbformat": 4,
 "nbformat_minor": 2
}
