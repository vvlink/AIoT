{
 "cells": [
  {
   "cell_type": "markdown",
   "metadata": {},
   "source": [
    "# 颜值测试仪（摄像头版）"
   ]
  },
  {
   "cell_type": "raw",
   "metadata": {},
   "source": [
    "案例描述：获取摄像头图片，调用百度AI进行识别。\n",
    "\n",
    "本范例的具体介绍请参考百度AI的文档。\n",
    "\n",
    "https://ai.baidu.com/docs#/Face-Python-SDK/81dd3e06"
   ]
  },
  {
   "cell_type": "markdown",
   "metadata": {},
   "source": [
    "## 准备工作\n",
    "\n",
    "1.导入库"
   ]
  },
  {
   "cell_type": "code",
   "execution_count": null,
   "metadata": {},
   "outputs": [],
   "source": [
    "#!/usr/bin/env python3\n",
    "# -*- coding: utf-8 -*-\n",
    "import cv2\n",
    "import time\n",
    "import base64\n",
    "from aip import AipFace\n",
    "from IPython import display\n",
    "from matplotlib import pyplot as plt\n",
    "import matplotlib\n",
    "%matplotlib inline"
   ]
  },
  {
   "cell_type": "markdown",
   "metadata": {},
   "source": [
    "2.定义变量"
   ]
  },
  {
   "cell_type": "code",
   "execution_count": null,
   "metadata": {},
   "outputs": [],
   "source": [
    "face_num = 0\n",
    "frame = None\n",
    "now_time = 0"
   ]
  },
  {
   "cell_type": "markdown",
   "metadata": {},
   "source": [
    "3.设置认证信息\n",
    "\n",
    "注：这里用的是测试账号，有访问次数的限制，请使用自己的账号信息。"
   ]
  },
  {
   "cell_type": "code",
   "execution_count": null,
   "metadata": {},
   "outputs": [],
   "source": [
    "\"\"\" 你的 APPID AK SK \"\"\"\n",
    "APP_ID = '15469649'\n",
    "API_KEY = '3vZgLINSnGGEafPflkTLzkGh'\n",
    "SECRET_KEY = '8cUXtkMed2z86kqfyrV606ylnCmfcc48'\n",
    "client = AipFace(APP_ID, API_KEY, SECRET_KEY)\n",
    "imageType = \"BASE64\"\n",
    "options = {}\n",
    "options[\"face_field\"] = \"age,beauty,expression,gender,glasses\"\n",
    "options[\"max_face_num\"] = 2\n",
    "options[\"face_type\"] = \"LIVE\"\n",
    "options[\"liveness_control\"] = \"LOW\""
   ]
  },
  {
   "cell_type": "markdown",
   "metadata": {},
   "source": [
    "4.基本函数：读取图片"
   ]
  },
  {
   "cell_type": "code",
   "execution_count": null,
   "metadata": {},
   "outputs": [],
   "source": [
    "def cvimg_to_b64(img):\n",
    "    try:\n",
    "        image = cv2.imencode('.jpg', img)[1]\n",
    "        base64_data = str(base64.b64encode(image))[2:-1]\n",
    "        return base64_data\n",
    "    except Exception as e:\n",
    "        return \"error\""
   ]
  },
  {
   "cell_type": "markdown",
   "metadata": {},
   "source": [
    "5.基本函数：框出人脸"
   ]
  },
  {
   "cell_type": "code",
   "execution_count": null,
   "metadata": {},
   "outputs": [],
   "source": [
    "#直接调用系统里面的haarcascade_frontalface_default.xml\n",
    "def faceDetect(img, face_cascade=cv2.CascadeClassifier('/usr/local/share/OpenCV/haarcascades/haarcascade_frontalface_default.xml')):\n",
    "    size = img.shape[:2]\n",
    "    divisor = 8\n",
    "    h, w = size\n",
    "    minSize = (w // divisor, h // divisor)\n",
    "    gray = cv2.cvtColor(img, cv2.COLOR_BGR2GRAY)\n",
    "    faces = face_cascade.detectMultiScale(gray, 1.2, 1, cv2.CASCADE_SCALE_IMAGE, minSize)\n",
    "    for (x, y, w, h) in faces:\n",
    "        cv2.rectangle(img, (x, y), (x + w, y + h), (255, 0, 0), 2)\n",
    "    return img, len(faces)"
   ]
  },
  {
   "cell_type": "markdown",
   "metadata": {},
   "source": [
    "6.基本函数：将信息写到图片"
   ]
  },
  {
   "cell_type": "code",
   "execution_count": null,
   "metadata": {},
   "outputs": [],
   "source": [
    "#将text写到图片上\n",
    "def put_Text(cvimg, text, location, size=2):\n",
    "    cvimg = cv2.putText(cvimg, text, location, cv2.FONT_HERSHEY_SIMPLEX, size, (51, 102, 255), 3)\n",
    "    return cvimg"
   ]
  },
  {
   "cell_type": "markdown",
   "metadata": {},
   "source": [
    "## 开始工作\n",
    "\n",
    "描述：摄像头将拍摄照片，并上传到百度AI平台进行识别，然后将识别结果输出来。"
   ]
  },
  {
   "cell_type": "code",
   "execution_count": null,
   "metadata": {
    "scrolled": true
   },
   "outputs": [],
   "source": [
    "cap = cv2.VideoCapture(0)\n",
    "ret, frame = cap.read()\n",
    "if ret:\n",
    "    frame1, face_num = faceDetect(frame)\n",
    "    frame1 = cv2.flip(frame1, 1, dst=None)\n",
    "    frame1 = cv2.resize(frame1, (1280, 800), interpolation=cv2.INTER_LINEAR)\n",
    "    img64 = cvimg_to_b64(frame1)\n",
    "    #获取图片信息\n",
    "    res = client.detect(img64, imageType, options)\n",
    "    #如果找到人脸信息就读出\n",
    "    if (res['error_msg']==\"SUCCESS\"):\n",
    "        gender = res['result']['face_list'][0]['gender']['type']\n",
    "        age = res['result']['face_list'][0]['age']\n",
    "        beauty = res['result']['face_list'][0]['beauty']\n",
    "        frame1 = put_Text(frame1, str(age), (300, 50))\n",
    "        frame1 = put_Text(frame1, str(gender), (300, 120))\n",
    "        frame1 = put_Text(frame1, str(beauty), (300, 190))\n",
    "        frame1 = put_Text(frame1, \"Age:\", (50, 50))\n",
    "        frame1 = put_Text(frame1, \"Gender:\", (50, 120))\n",
    "        frame1 = put_Text(frame1, \"Beauty:\", (50, 190))\n",
    "    else:\n",
    "        frame1 = put_Text(frame1, \"no face\", (50, 50))\n",
    "    #display.clear_output(wait=True)\n",
    "    img=frame1[:,:,::-1]\n",
    "    plt.imshow(img)\n",
    "    plt.axis('off') #不显示坐标\n",
    "    plt.show()\n",
    "else:\n",
    "    print(\"没有接摄像头或者摄像头被占用！\")\n",
    "cap.release()\n",
    "cv2.destroyAllWindows()"
   ]
  },
  {
   "cell_type": "markdown",
   "metadata": {},
   "source": [
    "## 综合拓展\n",
    "\n",
    "功能描述：当摄像头前面有障碍（有人），LED亮起，自动拍摄照进行识别。识别结束后，LED熄灭，显示识别结果，图片自动保存，。\n",
    "\n",
    "装置搭建：红外测障传感器接在D3脚；舵机接到D7；LED接到D13。\n",
    "\n",
    "其他说明：请设计一张颜值指示表，并测试舵机的指向情况。"
   ]
  },
  {
   "cell_type": "code",
   "execution_count": null,
   "metadata": {},
   "outputs": [],
   "source": [
    "#注意事项：测试下面的代码，每一次运行都要先通过“服务-重启 & 清空输出”来初始化。\n",
    "\n",
    "from xugu import Pin,Servo\n",
    "p1 = Pin(3, Pin.IN) \n",
    "led = Pin(13, Pin.OUT) \n",
    "servo = Servo(7)\n",
    "while True:\n",
    "    v1=p1.read_digital() \n",
    "    if v1==1:\n",
    "        led.write_digital(1)\n",
    "        print(\"开始测试，请稍候\")\n",
    "        cap = cv2.VideoCapture(0)\n",
    "        ret, frame = cap.read()\n",
    "        if ret:\n",
    "            frame1, face_num = faceDetect(frame)\n",
    "            frame1 = cv2.flip(frame1, 1, dst=None)\n",
    "            frame1 = cv2.resize(frame1, (1280, 800), interpolation=cv2.INTER_LINEAR)\n",
    "            img64 = cvimg_to_b64(frame1)\n",
    "            #获取图片信息\n",
    "            res = client.detect(img64, imageType, options)\n",
    "            #如果找到人脸信息就读出\n",
    "            if (res['error_msg']==\"SUCCESS\"):\n",
    "                gender = res['result']['face_list'][0]['gender']['type']\n",
    "                age = res['result']['face_list'][0]['age']\n",
    "                beauty = res['result']['face_list'][0]['beauty']\n",
    "                frame1 = put_Text(frame1, str(age), (300, 50))\n",
    "                frame1 = put_Text(frame1, str(gender), (300, 120))\n",
    "                frame1 = put_Text(frame1, str(beauty), (300, 190))\n",
    "                frame1 = put_Text(frame1, \"Age:\", (50, 50))\n",
    "                frame1 = put_Text(frame1, \"Gender:\", (50, 120))\n",
    "                frame1 = put_Text(frame1, \"Beauty:\", (50, 190))\n",
    "                #检测到人脸的图片，保存\n",
    "                cv2.imwrite(str(time.time())+\".jpg\",frame1)\n",
    "            else:\n",
    "                frame1 = put_Text(frame1, \"no face\", (50, 50))\n",
    "            display.clear_output(wait=True)\n",
    "            img=frame1[:,:,::-1]\n",
    "            plt.imshow(img)\n",
    "            plt.axis('off') #不显示坐标\n",
    "            plt.show()\n",
    "            print(\"图片已经保存\")\n",
    "            servo.write_angle(int(beauty*2))\n",
    "            led.write_digital(0)\n",
    "            time.sleep(10)\n",
    "        else:\n",
    "            print(\"没有接摄像头或者摄像头被占用！\")\n",
    "        cap.release()\n",
    "        cv2.destroyAllWindows()\n",
    "    time.sleep(0.2)"
   ]
  },
  {
   "cell_type": "code",
   "execution_count": null,
   "metadata": {},
   "outputs": [],
   "source": []
  }
 ],
 "metadata": {
  "kernelspec": {
   "display_name": "Python 3",
   "language": "python",
   "name": "python3"
  },
  "language_info": {
   "codemirror_mode": {
    "name": "ipython",
    "version": 3
   },
   "file_extension": ".py",
   "mimetype": "text/x-python",
   "name": "python",
   "nbconvert_exporter": "python",
   "pygments_lexer": "ipython3",
   "version": "3.5.2"
  }
 },
 "nbformat": 4,
 "nbformat_minor": 2
}
