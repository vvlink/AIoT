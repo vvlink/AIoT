{
 "cells": [
  {
   "cell_type": "markdown",
   "metadata": {},
   "source": [
    "# 图片颜值测试基础版"
   ]
  },
  {
   "cell_type": "raw",
   "metadata": {},
   "source": [
    "本范例的具体介绍请参考百度AI的文档。https://ai.baidu.com/docs#/Face-Python-SDK/81dd3e06"
   ]
  },
  {
   "cell_type": "raw",
   "metadata": {},
   "source": [
    "第一步、导入库"
   ]
  },
  {
   "cell_type": "code",
   "execution_count": null,
   "metadata": {},
   "outputs": [],
   "source": [
    "import base64\n",
    "from aip import AipFace"
   ]
  },
  {
   "cell_type": "raw",
   "metadata": {},
   "source": [
    "第二步、设置认证信息\n",
    "\n",
    "注：这里用的是测试账号，有访问次数的限制，请使用自己的账号信息。"
   ]
  },
  {
   "cell_type": "code",
   "execution_count": null,
   "metadata": {},
   "outputs": [],
   "source": [
    "\"\"\" 你的 APPID AK SK \"\"\"\n",
    "APP_ID = '14563606'\n",
    "API_KEY = 'ijoqlG1PdSsdxtXc7DNn68jh'\n",
    "SECRET_KEY = 'Erpr184wiWCG7ZZglFKKG3Zm3up6xUmi '"
   ]
  },
  {
   "cell_type": "raw",
   "metadata": {},
   "source": [
    "第三步、调用接口"
   ]
  },
  {
   "cell_type": "code",
   "execution_count": null,
   "metadata": {},
   "outputs": [],
   "source": [
    "client = AipFace(APP_ID, API_KEY, SECRET_KEY)\n",
    "\n",
    "# image \"取决于image_type参数，传入BASE64字符串或URL字符串或FACE_TOKEN字符串\"\n",
    "image = base64.b64encode(open('gyy.jpg', 'rb').read()).decode()\n",
    "\n",
    "imageType = \"BASE64\"\n",
    "\n",
    "\"\"\" 如果有可选参数 \"\"\"\n",
    "options = {}\n",
    "options[\"face_field\"] = \"age,beauty,emotion,gender,glasses\"\n",
    "options[\"max_face_num\"] = 2\n",
    "options[\"face_type\"] = \"LIVE\"\n",
    "options[\"liveness_control\"] = \"LOW\"\n",
    "\n",
    "\"\"\" 带参数调用人脸检测 \"\"\"\n",
    "ret = client.detect(image, imageType, options)\n",
    "print(ret)\n",
    "print('============================================================')\n",
    "beauty = ret['result']['face_list'][0]['beauty']\n",
    "_smile = ret['result']['face_list'][0]['emotion']['type']\n",
    "print(\"你的颜值有:{beauty},你的表情是:{_smile}.\".format(beauty=beauty,_smile=_smile))"
   ]
  }
 ],
 "metadata": {
  "kernelspec": {
   "display_name": "Python 3",
   "language": "python",
   "name": "python3"
  },
  "language_info": {
   "codemirror_mode": {
    "name": "ipython",
    "version": 3
   },
   "file_extension": ".py",
   "mimetype": "text/x-python",
   "name": "python",
   "nbconvert_exporter": "python",
   "pygments_lexer": "ipython3",
   "version": "3.5.2"
  }
 },
 "nbformat": 4,
 "nbformat_minor": 2
}
