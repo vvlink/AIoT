{
 "cells": [
  {
   "cell_type": "markdown",
   "metadata": {},
   "source": [
    "# 图像识别"
   ]
  },
  {
   "cell_type": "markdown",
   "metadata": {},
   "source": [
    "本范例的具体介绍请参考百度AI的文档。https://ai.baidu.com/docs#/ImageCensoring-Python-SDK/66b47ad7"
   ]
  },
  {
   "cell_type": "markdown",
   "metadata": {},
   "source": [
    "第一步、导入库"
   ]
  },
  {
   "cell_type": "code",
   "execution_count": 1,
   "metadata": {},
   "outputs": [],
   "source": [
    "from aip import AipImageCensor\n",
    "import json"
   ]
  },
  {
   "cell_type": "markdown",
   "metadata": {},
   "source": [
    "第二步、设置认证信息\n",
    "\n",
    "注：这里用的是测试账号，有访问次数的限制，请使用自己的账号信息。"
   ]
  },
  {
   "cell_type": "code",
   "execution_count": 2,
   "metadata": {},
   "outputs": [],
   "source": [
    "\"\"\" 你的 APPID AK SK \"\"\"\n",
    "APP_ID = '18565746'\n",
    "API_KEY = 'YzxF3fpGEfPChri0hI8vzH1A'\n",
    "SECRET_KEY = 'hKtXGvuD6AaBTSOfGj1AUaNOhB3rn7Ea'\n",
    "\n",
    "client = AipImageCensor(APP_ID, API_KEY, SECRET_KEY)"
   ]
  },
  {
   "cell_type": "markdown",
   "metadata": {},
   "source": [
    "第三步、读取图片"
   ]
  },
  {
   "cell_type": "code",
   "execution_count": 3,
   "metadata": {},
   "outputs": [],
   "source": [
    "def get_file_content(filePath):\n",
    "    with open(filePath, 'rb') as fp:\n",
    "        return fp.read()"
   ]
  },
  {
   "cell_type": "markdown",
   "metadata": {},
   "source": [
    "第四步、调用接口"
   ]
  },
  {
   "cell_type": "code",
   "execution_count": 4,
   "metadata": {
    "scrolled": true
   },
   "outputs": [
    {
     "name": "stderr",
     "output_type": "stream",
     "text": [
      "/usr/lib/python3/dist-packages/urllib3/connectionpool.py:794: InsecureRequestWarning: Unverified HTTPS request is being made. Adding certificate verification is strongly advised. See: https://urllib3.readthedocs.org/en/latest/security.html\n",
      "  InsecureRequestWarning)\n"
     ]
    },
    {
     "name": "stdout",
     "output_type": "stream",
     "text": [
      "{\"result_num\": 1, \"log_id\": 6175381516045122790, \"result\": [{\"stars\": [{\"star_id\": \"312718\", \"name\": \"胡歌\", \"probability\": 0.99823844909668}], \"location\": {\"width\": 100, \"left\": 94, \"height\": 98, \"top\": 102}}]}\n",
      "====================================================\n",
      "您的撞脸明星是:胡歌,可信度为:0.99823844909668\n"
     ]
    }
   ],
   "source": [
    "result = client.faceAudit(get_file_content('huge.jpg'))\n",
    "result = result['result'][0]['data']['public']\n",
    "json_str = json.dumps(result,ensure_ascii=False)\n",
    "print(json_str)\n",
    "name = result['result'][0]['stars'][0]['name']\n",
    "probability = result['result'][0]['stars'][0]['probability']\n",
    "print('====================================================')\n",
    "print('您的撞脸明星是:{name},可信度为:{probability}'.format(name=name,probability=probability))"
   ]
  },
  {
   "cell_type": "code",
   "execution_count": null,
   "metadata": {},
   "outputs": [],
   "source": []
  }
 ],
 "metadata": {
  "kernelspec": {
   "display_name": "Python 3",
   "language": "python",
   "name": "python3"
  },
  "language_info": {
   "codemirror_mode": {
    "name": "ipython",
    "version": 3
   },
   "file_extension": ".py",
   "mimetype": "text/x-python",
   "name": "python",
   "nbconvert_exporter": "python",
   "pygments_lexer": "ipython3",
   "version": "3.5.2"
  }
 },
 "nbformat": 4,
 "nbformat_minor": 2
}
