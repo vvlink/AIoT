{
 "cells": [
  {
   "cell_type": "markdown",
   "metadata": {},
   "source": [
    "# 智能语音（合成）"
   ]
  },
  {
   "cell_type": "markdown",
   "metadata": {},
   "source": [
    "案例简介：将需要朗读的文字提交到百度AI，返回一个音频文件，并播放。\n",
    "\n",
    "本范例的具体介绍请参考百度AI的文档。https://ai.baidu.com/docs#/ASR-Online-Python-SDK/f71dfc54"
   ]
  },
  {
   "cell_type": "markdown",
   "metadata": {},
   "source": [
    "### 第一步、导入库"
   ]
  },
  {
   "cell_type": "code",
   "execution_count": null,
   "metadata": {},
   "outputs": [],
   "source": [
    "from aip import AipSpeech\n",
    "import os"
   ]
  },
  {
   "cell_type": "markdown",
   "metadata": {},
   "source": [
    "### 第二步、设置认证信息\n",
    "\n",
    "注：这里用的是测试账号，有访问次数的限制，请使用自己的账号信息。"
   ]
  },
  {
   "cell_type": "code",
   "execution_count": null,
   "metadata": {},
   "outputs": [],
   "source": [
    "\"\"\" 你的 APPID AK SK \"\"\"\n",
    "APP_ID = \"15126848\"\n",
    "API_KEY = \"BPaS8KCk1B6Io9EqEOw1pOH3\"\n",
    "SECRET_KEY = \"AL3B7XOmoRZojqFivCzvxuGYDDQZ7G58\""
   ]
  },
  {
   "cell_type": "markdown",
   "metadata": {},
   "source": [
    "### 第三步、定义变量"
   ]
  },
  {
   "cell_type": "code",
   "execution_count": null,
   "metadata": {},
   "outputs": [],
   "source": [
    "client = AipSpeech(APP_ID, API_KEY, SECRET_KEY)"
   ]
  },
  {
   "cell_type": "markdown",
   "metadata": {},
   "source": [
    "### 第四步、核心函数\n",
    "\n",
    "编写一个函数，功能为将文字转化为声音，参数为文字，返回声音文件的名称。"
   ]
  },
  {
   "cell_type": "code",
   "execution_count": null,
   "metadata": {},
   "outputs": [],
   "source": [
    "def tts(txt):\n",
    "    w_name='auido.mp3'\n",
    "    result = client.synthesis(txt, 'zh', 1, {'vol': 5,})\n",
    "    # 识别正确返回语音二进制 错误则返回dict 参照下面错误码\n",
    "    if not isinstance(result, dict):\n",
    "        with open(w_name, 'wb') as f:\n",
    "            f.write(result)\n",
    "        os.system('play '+ w_name)\n",
    "        return w_name"
   ]
  },
  {
   "cell_type": "markdown",
   "metadata": {},
   "source": [
    "### 第五步、将文字转为声音\n",
    "\n",
    "将文字转为声音，并输出转换后的声音文件名称。运行代码后，目录中将生成一个名为“auido.mp3”的音频文件。要听到虚谷号发出的声音，请插入USB声卡和音箱，或者使用带声卡的小音箱。\n",
    "\n",
    "推荐硬件：https://vvboard.readthedocs.io/zh/latest/07.plus/7.3-sound-card.html"
   ]
  },
  {
   "cell_type": "code",
   "execution_count": null,
   "metadata": {
    "scrolled": true
   },
   "outputs": [],
   "source": [
    "f=tts(\"你好，欢迎使用虚谷号！\")\n",
    "print(f)"
   ]
  },
  {
   "cell_type": "code",
   "execution_count": null,
   "metadata": {},
   "outputs": [],
   "source": []
  }
 ],
 "metadata": {
  "kernelspec": {
   "display_name": "Python 3",
   "language": "python",
   "name": "python3"
  },
  "language_info": {
   "codemirror_mode": {
    "name": "ipython",
    "version": 3
   },
   "file_extension": ".py",
   "mimetype": "text/x-python",
   "name": "python",
   "nbconvert_exporter": "python",
   "pygments_lexer": "ipython3",
   "version": "3.5.2"
  }
 },
 "nbformat": 4,
 "nbformat_minor": 2
}
