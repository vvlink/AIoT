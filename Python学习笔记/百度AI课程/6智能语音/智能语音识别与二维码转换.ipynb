{
 "cells": [
  {
   "cell_type": "markdown",
   "metadata": {},
   "source": [
    "# 智能语音识别与二维码转换\n",
    "\n",
    "## 预备知识：用QRcode生成二维码\n",
    "\n",
    "生成二维码，最好用的库莫过于QRcode了。安装方式如下：\n",
    "\n",
    "pip install qrcode"
   ]
  },
  {
   "cell_type": "markdown",
   "metadata": {},
   "source": [
    "## 教程说明\n",
    "\n",
    "因为是在jupyter上呈现二维码图片，所以要使用matplotlib，并加上“%matplotlib inline”的声明，直接运行则不需要。\n",
    "```\n",
    "from matplotlib import pyplot as plt\n",
    "%matplotlib inline\n",
    "```\n",
    "为了让每一个单元格的代码都可以独立运行，下面都增加了这两句话。"
   ]
  },
  {
   "cell_type": "markdown",
   "metadata": {},
   "source": [
    "## 1.生成简单二维码\n",
    "\n",
    "就一句代码：qrcode.make(data)。data为文本内容。"
   ]
  },
  {
   "cell_type": "code",
   "execution_count": 1,
   "metadata": {},
   "outputs": [
    {
     "data": {
      "image/png": "[encoded data removed]",
      "text/plain": [
       "<Figure size 432x288 with 1 Axes>"
      ]
     },
     "metadata": {
      "needs_background": "light"
     },
     "output_type": "display_data"
    }
   ],
   "source": [
    "from matplotlib import pyplot as plt\n",
    "%matplotlib inline\n",
    "import qrcode\n",
    "data='helloworld'\n",
    "img = qrcode.make(data)\n",
    "plt.imshow(img)\n",
    "plt.axis('off') #不显示坐标\n",
    "plt.show()"
   ]
  },
  {
   "cell_type": "markdown",
   "metadata": {},
   "source": [
    "如果要生成网址二维码呢？其实只要把data中的文本换成网址就好了。"
   ]
  },
  {
   "cell_type": "code",
   "execution_count": 2,
   "metadata": {},
   "outputs": [
    {
     "data": {
      "image/png": "[encoded data removed]",
      "text/plain": [
       "<Figure size 432x288 with 1 Axes>"
      ]
     },
     "metadata": {
      "needs_background": "light"
     },
     "output_type": "display_data"
    }
   ],
   "source": [
    "from matplotlib import pyplot as plt\n",
    "%matplotlib inline\n",
    "import qrcode\n",
    "data = \"http://www.vvboard.com.cn\"\n",
    "img = qrcode.make(data)\n",
    "plt.imshow(img)\n",
    "plt.axis('off') #不显示坐标\n",
    "plt.show()"
   ]
  },
  {
   "cell_type": "markdown",
   "metadata": {},
   "source": [
    "生成图片文件更加简单了，“img.save(\"qr.jpg\")”就搞定了。"
   ]
  },
  {
   "cell_type": "code",
   "execution_count": 3,
   "metadata": {},
   "outputs": [],
   "source": [
    "# 保存二维码为文件\n",
    "img.save(\"qr.jpg\")"
   ]
  },
  {
   "cell_type": "markdown",
   "metadata": {},
   "source": [
    "## 2.生成不一样的二维码\n",
    "\n",
    "QRcode支持生成不同样式的二维码，通过参数可以设置二维码的大小、颜色等。下面的代码可以生成绿码（这是健康码中的极品啊）。"
   ]
  },
  {
   "cell_type": "code",
   "execution_count": 4,
   "metadata": {},
   "outputs": [
    {
     "data": {
      "image/png": "[encoded data removed]",
      "text/plain": [
       "<Figure size 432x288 with 1 Axes>"
      ]
     },
     "metadata": {
      "needs_background": "light"
     },
     "output_type": "display_data"
    }
   ],
   "source": [
    "from matplotlib import pyplot as plt\n",
    "%matplotlib inline\n",
    "import qrcode\n",
    "# 实例化二维码生成类\n",
    "qr = qrcode.QRCode(\n",
    "    version=1,\n",
    "    error_correction=qrcode.constants.ERROR_CORRECT_L,\n",
    "    box_size=10,\n",
    "    border=4,\n",
    ")\n",
    "# 设置二维码数据\n",
    "data = \"http://www.vvboard.com.cn\"\n",
    "qr.add_data(data)\n",
    "\n",
    "# 启用二维码颜色设置\n",
    "qr.make(fit=True)\n",
    "img = qr.make_image(fill_color=\"green\", back_color=\"white\")\n",
    "\n",
    "# 显示二维码\n",
    "# img.show()\n",
    "plt.imshow(img)\n",
    "plt.axis('off') #不显示坐标\n",
    "plt.show()"
   ]
  },
  {
   "cell_type": "markdown",
   "metadata": {},
   "source": [
    "代码中参数的意义如下：\n",
    "    - version参数----二维码的格子矩阵大小，可以是1到40，1最小为2121，40是177177\n",
    "    - error_correction参数----二维码错误容许率，默认ERROR_CORRECT_M，容许小于15%的错误率\n",
    "    - box_size参数----二维码每个小格子包含的像素数量\n",
    "    - border参数----二维码到图片边框的小格子数，默认值为4\n",
    "\n",
    "请调整一下参数，看看生成的二维码有什么变化。"
   ]
  },
  {
   "cell_type": "markdown",
   "metadata": {},
   "source": [
    "## 3.生成带LOGO二维码"
   ]
  },
  {
   "cell_type": "code",
   "execution_count": 5,
   "metadata": {},
   "outputs": [
    {
     "data": {
      "image/png": "[encoded data removed]",
      "text/plain": [
       "<Figure size 432x288 with 1 Axes>"
      ]
     },
     "metadata": {
      "needs_background": "light"
     },
     "output_type": "display_data"
    }
   ],
   "source": [
    "from matplotlib import pyplot as plt\n",
    "%matplotlib inline\n",
    "from PIL import Image\n",
    "import qrcode\n",
    "# 实例化二维码生成类\n",
    "qr = qrcode.QRCode(\n",
    "    version=1,\n",
    "    error_correction=qrcode.constants.ERROR_CORRECT_L,\n",
    "    box_size=10,\n",
    "    border=4,\n",
    ")\n",
    "# 设置二维码数据\n",
    "data = \"http://www.vvboard.com.cn\"\n",
    "qr.add_data(data)\n",
    "\n",
    "# 启用二维码颜色设置\n",
    "qr.make(fit=True)\n",
    "img = qr.make_image()\n",
    "img = img.convert(\"RGBA\")\n",
    "\n",
    "icon = Image.open(\"logo.png\")\n",
    "img_w, img_h = img.size\n",
    "factor = 4\n",
    "size_w = int(img_w / factor)\n",
    "size_h = int(img_h / factor)\n",
    "\n",
    "icon_w, icon_h = icon.size\n",
    "if icon_w > size_w:\n",
    "    icon_w = size_w\n",
    "if icon_h > size_h:\n",
    "    icon_h = size_h\n",
    "icon = icon.resize((icon_w, icon_h), Image.ANTIALIAS)\n",
    "\n",
    "w = int((img_w - icon_w)/2)\n",
    "h = int((img_h - icon_h)/2)\n",
    "icon = icon.convert(\"RGBA\")\n",
    "img.paste(icon, (w, h), icon)\n",
    "\n",
    "# 显示二维码\n",
    "# img.show()\n",
    "plt.imshow(img)\n",
    "plt.axis('off') #不显示坐标\n",
    "plt.show()"
   ]
  },
  {
   "cell_type": "markdown",
   "metadata": {},
   "source": [
    "参考链接：\n",
    "\n",
    "官方说明：https://github.com/lincolnloop/python-qrcode#advanced-usage）\n",
    "\n",
    "Python3实现生成和识别二维码：https://www.jianshu.com/p/dda608dbaca5"
   ]
  },
  {
   "cell_type": "markdown",
   "metadata": {},
   "source": [
    "# 案例：把我想说的话变成二维码保存"
   ]
  },
  {
   "cell_type": "markdown",
   "metadata": {},
   "source": [
    "有时候我们想把自己说的话记录下来，可是语音又不方便以后查找，于是我们可以把它制作成二维码保存呀！\n",
    "\n",
    "所需的器材：虚谷板、USB转3.5mm耳机声卡、带麦克风的耳机。\n",
    "\n",
    "首先安装所需要的的库：pyaudio。运行以下代码安装："
   ]
  },
  {
   "cell_type": "code",
   "execution_count": null,
   "metadata": {},
   "outputs": [],
   "source": [
    "!pip3 install pyaudio"
   ]
  },
  {
   "cell_type": "markdown",
   "metadata": {},
   "source": [
    "运行以下代码录制语音："
   ]
  },
  {
   "cell_type": "code",
   "execution_count": null,
   "metadata": {},
   "outputs": [],
   "source": [
    "import pyaudio\n",
    "import wave\n",
    "import os\n",
    "import sys\n",
    "\n",
    "CHUNK = 512\n",
    "FORMAT = pyaudio.paInt16\n",
    "CHANNELS = 1\n",
    "RATE = 16000                           # 采样频率\n",
    "RECORD_SECONDS = 10                    # 录制时长\n",
    "WAVE_OUTPUT_FILENAME = \"output.wav\"    # 生成文件名\n",
    "\n",
    "p = pyaudio.PyAudio()\n",
    "\n",
    "stream = p.open(format=FORMAT,\n",
    "                channels=CHANNELS,\n",
    "                rate=RATE,\n",
    "                input=True,\n",
    "                frames_per_buffer=CHUNK)\n",
    "\n",
    "print(\"recording...\")\n",
    "\n",
    "frames = []\n",
    "\n",
    "for i in range(0, int(RATE / CHUNK * RECORD_SECONDS)):\n",
    "    data = stream.read(CHUNK)\n",
    "    frames.append(data)\n",
    "\n",
    "print(\"done\")\n",
    "\n",
    "stream.stop_stream()\n",
    "stream.close()\n",
    "p.terminate()\n",
    "\n",
    "wf = wave.open(WAVE_OUTPUT_FILENAME, 'wb')\n",
    "wf.setnchannels(CHANNELS)\n",
    "wf.setsampwidth(p.get_sample_size(FORMAT))\n",
    "wf.setframerate(RATE)\n",
    "wf.writeframes(b''.join(frames))\n",
    "wf.close()"
   ]
  },
  {
   "cell_type": "markdown",
   "metadata": {},
   "source": [
    "运行以下代码，来听一听效果吧："
   ]
  },
  {
   "cell_type": "code",
   "execution_count": null,
   "metadata": {},
   "outputs": [],
   "source": [
    "import IPython\n",
    "IPython.display.Audio('output.wav')"
   ]
  },
  {
   "cell_type": "markdown",
   "metadata": {},
   "source": [
    "接下来用百度语音识别将音频识别为文字。运行以下代码："
   ]
  },
  {
   "cell_type": "code",
   "execution_count": null,
   "metadata": {},
   "outputs": [],
   "source": [
    "from aip import AipSpeech\n",
    "import json\n",
    "\n",
    "\"\"\" 你的 APPID AK SK \"\"\"\n",
    "APP_ID = '18288275'\n",
    "API_KEY = 'WcNHY3MpzkH6FF65zKpapY5E'\n",
    "SECRET_KEY = 'Ef5xw4GfG8G3tmmaGGDSi3udw2LbrqDH'\n",
    "\n",
    "client = AipSpeech(APP_ID, API_KEY, SECRET_KEY)\n",
    "\n",
    "# 读取文件\n",
    "def get_file_content(filePath):\n",
    "    with open(filePath, 'rb') as fp:\n",
    "        return fp.read()\n",
    "\n",
    "# 识别本地文件\n",
    "result = client.asr(get_file_content('output.wav'), 'wav', 16000, {\n",
    "    'dev_pid': 1537,                                                    # 1537为中文，1737为英文\n",
    "})                                                                      # 更多请参见https://ai.baidu.com/ai-doc/SPEECH/Dk4o0bmkl\n",
    "json_str = json.dumps(result,ensure_ascii=False)\n",
    "print(json_str)\n",
    "char = result['result'][0]\n",
    "print('识别结果为：',end='')\n",
    "print(char)"
   ]
  },
  {
   "cell_type": "markdown",
   "metadata": {},
   "source": [
    "将文字转为二维码，运行以下代码："
   ]
  },
  {
   "cell_type": "code",
   "execution_count": null,
   "metadata": {},
   "outputs": [],
   "source": [
    "from matplotlib import pyplot as plt\n",
    "%matplotlib inline\n",
    "import qrcode\n",
    "data=char\n",
    "img = qrcode.make(data)\n",
    "plt.imshow(img)\n",
    "plt.axis('off') #不显示坐标\n",
    "plt.show()"
   ]
  },
  {
   "cell_type": "markdown",
   "metadata": {},
   "source": [
    "扫描二维码看看效果吧！"
   ]
  },
  {
   "cell_type": "markdown",
   "metadata": {},
   "source": [
    "类似的，我们平时收到的微信语音也可以这样转换。\n",
    "\n",
    "你还有什么更好的创意？快动手试一试吧！"
   ]
  },
  {
   "cell_type": "code",
   "execution_count": null,
   "metadata": {},
   "outputs": [],
   "source": []
  }
 ],
 "metadata": {
  "kernelspec": {
   "display_name": "Python 3",
   "language": "python",
   "name": "python3"
  },
  "language_info": {
   "codemirror_mode": {
    "name": "ipython",
    "version": 3
   },
   "file_extension": ".py",
   "mimetype": "text/x-python",
   "name": "python",
   "nbconvert_exporter": "python",
   "pygments_lexer": "ipython3",
   "version": "3.6.8"
  }
 },
 "nbformat": 4,
 "nbformat_minor": 2
}
