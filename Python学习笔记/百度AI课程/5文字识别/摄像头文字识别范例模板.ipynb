{
 "cells": [
  {
   "cell_type": "markdown",
   "metadata": {},
   "source": [
    "# 摄像头文字识别范例模板\n",
    "\n",
    "功能描述：能够获取虚谷号的摄像头内容，并且提交到百度AI平台，返回识别结果\n",
    "\n",
    "准备工作：摄像头（任何一款普通的免驱摄像头）\n",
    "\n",
    "代码编写：谢作如、元银萍"
   ]
  },
  {
   "cell_type": "markdown",
   "metadata": {},
   "source": [
    "## 准备工作1:导入各种库"
   ]
  },
  {
   "cell_type": "code",
   "execution_count": null,
   "metadata": {},
   "outputs": [],
   "source": [
    "# 应用摄像头的准备工作\n",
    "# -*- coding: UTF-8 -*-\n",
    "import cv2\n",
    "from IPython import display\n",
    "from matplotlib import pyplot as plt\n",
    "import time\n",
    "%matplotlib inline"
   ]
  },
  {
   "cell_type": "markdown",
   "metadata": {},
   "source": [
    "## 准备工作2:相关函数\n",
    "\n",
    "请根据需要，运行相应的函数，也可以全部运行。"
   ]
  },
  {
   "cell_type": "code",
   "execution_count": null,
   "metadata": {
    "scrolled": true
   },
   "outputs": [],
   "source": [
    "#基本函数1：获取摄像头内容保存为图片\n",
    "def getcampic(fname):\n",
    "    cap = cv2.VideoCapture(0)        # 打开摄像头\n",
    "    ret, frame = cap.read()       # 读摄像头\n",
    "    cv2.imwrite(fname,frame)\n",
    "    cap.release()      \n",
    "    cv2.destroyAllWindows() \n",
    "    return True\n",
    "#getcampic(\"test.jpg\")"
   ]
  },
  {
   "cell_type": "code",
   "execution_count": null,
   "metadata": {},
   "outputs": [],
   "source": [
    "#基本函数2：在网页上显示摄像头图片\n",
    "def showcampic():\n",
    "    cap = cv2.VideoCapture(0)        # 打开摄像头\n",
    "    ret, frame = cap.read()       # 读摄像头\n",
    "    display.clear_output(wait=True) # 设置在一个画面中刷新\n",
    "    plt.imshow(frame[:,:,::-1])\n",
    "    plt.axis('off') #不显示坐标\n",
    "    plt.show()\n",
    "    cap.release()      \n",
    "    cv2.destroyAllWindows() \n",
    "#showcampic()"
   ]
  },
  {
   "cell_type": "code",
   "execution_count": null,
   "metadata": {},
   "outputs": [],
   "source": [
    "#基本函数3：显示摄像头图片并且保存为图片文件\n",
    "def get_showcampic(fname):\n",
    "    cap = cv2.VideoCapture(0)        # 打开摄像头\n",
    "    ret, frame = cap.read()       # 读摄像头\n",
    "    display.clear_output(wait=True) # 设置在一个画面中刷新\n",
    "    cv2.imwrite(fname,frame)\n",
    "    plt.imshow(frame[:,:,::-1])\n",
    "    plt.axis('off') #不显示坐标\n",
    "    plt.show()\n",
    "    cap.release()      \n",
    "    cv2.destroyAllWindows() \n",
    "#get_showcampic(\"test.jpg\")"
   ]
  },
  {
   "cell_type": "markdown",
   "metadata": {},
   "source": [
    "## 准备工作3：连接百度AI"
   ]
  },
  {
   "cell_type": "code",
   "execution_count": null,
   "metadata": {},
   "outputs": [],
   "source": [
    "# 文字识别前的准备工作（百度AI）\n",
    "from aip import AipOcr  \n",
    "\"\"\" 你的 APPID AK SK \"\"\"\n",
    "APP_ID = '15469649'\n",
    "API_KEY = '3vZgLINSnGGEafPflkTLzkGh'\n",
    "SECRET_KEY = '8cUXtkMed2z86kqfyrV606ylnCmfcc48'\n",
    "aipOcr = AipOcr(APP_ID, API_KEY, SECRET_KEY)\n",
    "options = {\n",
    " 'detect_direction': 'true',\n",
    " 'language_type': 'CHN_ENG',\n",
    "}"
   ]
  },
  {
   "cell_type": "code",
   "execution_count": null,
   "metadata": {},
   "outputs": [],
   "source": [
    "# 基本函数：读取图片内容\n",
    "def get_file_content(filePath):\n",
    "    with open(filePath, 'rb') as fp:\n",
    "        return fp.read()"
   ]
  },
  {
   "cell_type": "markdown",
   "metadata": {},
   "source": [
    "## 开始文字识别"
   ]
  },
  {
   "cell_type": "code",
   "execution_count": null,
   "metadata": {},
   "outputs": [],
   "source": [
    "# 设定拍摄的图片名称\n",
    "filePath = \"test.jpg\"\n",
    "# 获得图片并显示在网页上\n",
    "get_showcampic(filePath)\n",
    "# 提交到百度AI\n",
    "result = aipOcr.basicGeneral(get_file_content(filePath), options)\n",
    "# 输出返回结果\n",
    "print(result)\n",
    "# 逐个输出识别结果\n",
    "words_result=result['words_result']\n",
    "for i in range(len(words_result)):\n",
    "    print(words_result[i]['words'])"
   ]
  },
  {
   "cell_type": "code",
   "execution_count": null,
   "metadata": {},
   "outputs": [],
   "source": []
  }
 ],
 "metadata": {
  "kernelspec": {
   "display_name": "Python 3",
   "language": "python",
   "name": "python3"
  },
  "language_info": {
   "codemirror_mode": {
    "name": "ipython",
    "version": 3
   },
   "file_extension": ".py",
   "mimetype": "text/x-python",
   "name": "python",
   "nbconvert_exporter": "python",
   "pygments_lexer": "ipython3",
   "version": "3.5.2"
  }
 },
 "nbformat": 4,
 "nbformat_minor": 2
}
