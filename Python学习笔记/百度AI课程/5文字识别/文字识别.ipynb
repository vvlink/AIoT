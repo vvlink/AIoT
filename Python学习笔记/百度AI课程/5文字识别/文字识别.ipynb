{
 "cells": [
  {
   "cell_type": "markdown",
   "metadata": {},
   "source": [
    "# 文字识别"
   ]
  },
  {
   "cell_type": "raw",
   "metadata": {},
   "source": [
    "第一步、导入库"
   ]
  },
  {
   "cell_type": "code",
   "execution_count": 1,
   "metadata": {},
   "outputs": [],
   "source": [
    "# -*- coding: UTF-8 -*-\n",
    "from aip import AipOcr  "
   ]
  },
  {
   "cell_type": "raw",
   "metadata": {},
   "source": [
    "第二步、设置认证信息\n",
    "\n",
    "注：这里用的是测试账号，有访问次数的限制，请使用自己的账号信息。"
   ]
  },
  {
   "cell_type": "code",
   "execution_count": 2,
   "metadata": {},
   "outputs": [],
   "source": [
    "\"\"\" 你的 APPID AK SK \"\"\"\n",
    "APP_ID = '26720065'\n",
    "API_KEY = 'h5lyzYjGbPxaxy7kdnGkcYYm'\n",
    "SECRET_KEY = '4sdBypgAroxwy10RohkwNxGzVw5whczq'"
   ]
  },
  {
   "cell_type": "raw",
   "metadata": {},
   "source": [
    "第三步、初始化AipFace对象"
   ]
  },
  {
   "cell_type": "code",
   "execution_count": 3,
   "metadata": {},
   "outputs": [],
   "source": [
    "aipOcr = AipOcr(APP_ID, API_KEY, SECRET_KEY)"
   ]
  },
  {
   "cell_type": "raw",
   "metadata": {},
   "source": [
    "第四步、读取图片"
   ]
  },
  {
   "cell_type": "code",
   "execution_count": 4,
   "metadata": {},
   "outputs": [],
   "source": [
    "filePath = \"word.jpg\"\n",
    "  \n",
    "def get_file_content(filePath):\n",
    "    with open(filePath, 'rb') as fp:\n",
    "        return fp.read()\n"
   ]
  },
  {
   "cell_type": "raw",
   "metadata": {},
   "source": [
    "第五步、定义参数变量"
   ]
  },
  {
   "cell_type": "code",
   "execution_count": 5,
   "metadata": {},
   "outputs": [],
   "source": [
    "options = {\n",
    " 'detect_direction': 'true',\n",
    " 'language_type': 'CHN_ENG',\n",
    "}"
   ]
  },
  {
   "cell_type": "raw",
   "metadata": {},
   "source": [
    "第六步、调用通用文字识别接口"
   ]
  },
  {
   "cell_type": "code",
   "execution_count": 9,
   "metadata": {},
   "outputs": [
    {
     "name": "stdout",
     "output_type": "stream",
     "text": [
      "{'direction': 0, 'words_result': [{'words': '理性是生存'}, {'words': '感性是生活'}, {'words': '生命不息生活不止'}], 'words_result_num': 3, 'log_id': 1548166366050794411}\n"
     ]
    }
   ],
   "source": [
    "result = aipOcr.basicGeneral(get_file_content(filePath), options)\n",
    "print(result)"
   ]
  },
  {
   "cell_type": "markdown",
   "metadata": {},
   "source": [
    "注意：如果发现返回的信息中有“error_code”，如：\n",
    "{'error_code': 18, 'error_msg': 'Open api qps request limit reached'}\n",
    "\n",
    "这说明你没有访问接口的权限，请先通过认证，然后领取免费的访问额度。\n",
    "\n",
    "领取免费测试额度的地址：\n",
    "https://console.bce.baidu.com/ai/#/ai/ocr/overview/resource/getFree\n",
    "领取完之后，还是用原来项目的appID,apiKey,secretKey即可。"
   ]
  },
  {
   "cell_type": "code",
   "execution_count": 10,
   "metadata": {},
   "outputs": [
    {
     "name": "stdout",
     "output_type": "stream",
     "text": [
      "理性是生存\n",
      "感性是生活\n",
      "生命不息生活不止\n"
     ]
    }
   ],
   "source": [
    "words_result=result['words_result']\n",
    "for i in range(len(words_result)):\n",
    "    print(words_result[i]['words'])"
   ]
  },
  {
   "cell_type": "code",
   "execution_count": null,
   "metadata": {},
   "outputs": [],
   "source": []
  }
 ],
 "metadata": {
  "kernelspec": {
   "display_name": "Python 3 (ipykernel)",
   "language": "python",
   "name": "python3"
  },
  "language_info": {
   "codemirror_mode": {
    "name": "ipython",
    "version": 3
   },
   "file_extension": ".py",
   "mimetype": "text/x-python",
   "name": "python",
   "nbconvert_exporter": "python",
   "pygments_lexer": "ipython3",
   "version": "3.7.3"
  }
 },
 "nbformat": 4,
 "nbformat_minor": 2
}
