{
 "cells": [
  {
   "cell_type": "markdown",
   "metadata": {},
   "source": [
    "# 掌控板的内置输入设备"
   ]
  },
  {
   "cell_type": "markdown",
   "metadata": {},
   "source": [
    "    描述：掌控板内置了按钮、光线、声音、触摸、加速度、指南针（2.*版本）等传感器。\n",
    "    \n",
    "    实现：调用pinpong库中的相关语句，分别读取掌控板的输入设备信息。"
   ]
  },
  {
   "cell_type": "markdown",
   "metadata": {},
   "source": [
    "## 1.公共部分\n",
    "\n",
    "首先需要导入库。\n",
    "\n",
    "注意：第一次导入库时，电脑将通过串口给掌控板烧录一个固件，需要一定的时间。在这个过程中，掌控板背后的LED灯将快速闪烁。烧录成功后，LED的闪烁频率将变慢。"
   ]
  },
  {
   "cell_type": "code",
   "execution_count": 2,
   "metadata": {
    "scrolled": false
   },
   "outputs": [
    {
     "name": "stdout",
     "output_type": "stream",
     "text": [
      "\n",
      "  __________________________________________\n",
      " |    ____  _       ____                    |\n",
      " |   / __ \\(_)___  / __ \\____  ____  ____ _ |\n",
      " |  / /_/ / / __ \\/ /_/ / __ \\/ __ \\/ __ `/ |\n",
      " | / ____/ / / / / ____/ /_/ / / / / /_/ /  |\n",
      " |/_/   /_/_/ /_/_/    \\____/_/ /_/\\__, /   |\n",
      " |   v0.5.2  Designed by DFRobot  /____/    |\n",
      " |__________________________________________|\n",
      " \n",
      "[01] Python3.8.3 Windows-10-10.0.22621-SP0 Board: HANDPY\n",
      "selected -> board: HANDPY serial: COM3\n",
      "[10] Opening COM3\n",
      "[32] Firmata ID: 2.9\n",
      "[22] Arduino compatible device found and connected to COM3\n",
      "[40] Retrieving analog map...\n",
      "[42] Auto-discovery complete. Found 40 Digital Pins and 16 Analog Pins\n",
      "------------------------------\n",
      "All right. PinPong go...\n",
      "------------------------------\n"
     ]
    },
    {
     "data": {
      "text/plain": [
       "<pinpong.board.Board at 0x200e53add90>"
      ]
     },
     "execution_count": 2,
     "metadata": {},
     "output_type": "execute_result"
    }
   ],
   "source": [
    "# -*- coding: UTF-8 -*-\n",
    "#实验效果：读取掌控板板载传感器功能，通过终端窗口查看数据\n",
    "#接线：使用windows或linux电脑连接一块掌控板主控板\n",
    "\n",
    "import time\n",
    "from pinpong.board import Board\n",
    "from pinpong.extension.handpy import *\n",
    "\n",
    "Board(\"handpy\").begin()#初始化，选择板型和端口号，不输入端口号则进行自动识别\n",
    "#Board(\"handpy\",\"COM36\").begin()   #windows下指定端口初始化\n",
    "#Board(\"handpy\",\"/dev/ttyACM0\").begin()   #linux下指定端口初始化\n",
    "#Board(\"handpy\",\"/dev/cu.usbmodem14101\").begin()   #mac下指定端口初始化"
   ]
  },
  {
   "cell_type": "markdown",
   "metadata": {},
   "source": [
    "## 2.输出设备的读取\n",
    "\n",
    "可以使用print输出掌控板上板载传感器的数值。"
   ]
  },
  {
   "cell_type": "markdown",
   "metadata": {},
   "source": [
    "### 2.1 按钮\n",
    "\n",
    "掌控板有两个按钮，板子上有标识，分别为A和B。分别按下A、B键，运行如下代码，将输出按钮的状态：按下是True，放开是。"
   ]
  },
  {
   "cell_type": "code",
   "execution_count": 6,
   "metadata": {},
   "outputs": [
    {
     "name": "stdout",
     "output_type": "stream",
     "text": [
      "True\n",
      "False\n"
     ]
    }
   ],
   "source": [
    "# 输出A按钮\n",
    "print(button_a.value())\n",
    "# 输出B按钮\n",
    "print(button_b.value()) "
   ]
  },
  {
   "cell_type": "code",
   "execution_count": 7,
   "metadata": {},
   "outputs": [
    {
     "name": "stdout",
     "output_type": "stream",
     "text": [
      "True\n"
     ]
    }
   ],
   "source": [
    "#按键AB是否一起按下\n",
    "print(button_ab.value())   "
   ]
  },
  {
   "cell_type": "markdown",
   "metadata": {},
   "source": [
    "### 2.光线\n",
    "\n",
    "掌控板的光线传感器在正面的右边。运行如下代码，将输出光线强度，数值在0-4095之间。"
   ]
  },
  {
   "cell_type": "code",
   "execution_count": 23,
   "metadata": {},
   "outputs": [
    {
     "name": "stdout",
     "output_type": "stream",
     "text": [
      "0\n"
     ]
    }
   ],
   "source": [
    "#读取环境光强度\n",
    "print(light.read())  "
   ]
  },
  {
   "cell_type": "markdown",
   "metadata": {},
   "source": [
    "### 3.声音\n",
    "\n",
    "掌控板的光线传感器在正面的左边。运行如下代码，将输出麦克风强度。"
   ]
  },
  {
   "cell_type": "code",
   "execution_count": 22,
   "metadata": {},
   "outputs": [
    {
     "name": "stdout",
     "output_type": "stream",
     "text": [
      "1443\n"
     ]
    }
   ],
   "source": [
    "#读取麦克风强度\n",
    "print(sound.read())  "
   ]
  },
  {
   "cell_type": "markdown",
   "metadata": {},
   "source": [
    "### 4.触摸\n",
    "\n",
    "掌控板有6个触摸键，分别是P、Y、T、H、O、N。运行如下代码，将输出触摸按钮的状态（是否触摸）。"
   ]
  },
  {
   "cell_type": "code",
   "execution_count": 18,
   "metadata": {},
   "outputs": [
    {
     "name": "stdout",
     "output_type": "stream",
     "text": [
      "False\n",
      "False\n",
      "False\n",
      "False\n",
      "False\n",
      "False\n"
     ]
    }
   ],
   "source": [
    "#是否触摸P\n",
    "print(touchPad_P.is_touched())  \n",
    "#是否触摸Y\n",
    "print(touchPad_Y.is_touched())  \n",
    "#是否触摸T\n",
    "print(touchPad_T.is_touched())  \n",
    "#是否触摸H\n",
    "print(touchPad_H.is_touched())  \n",
    "#是否触摸O\n",
    "print(touchPad_O.is_touched())  \n",
    "#是否触摸N\n",
    "print(touchPad_N.is_touched()) "
   ]
  },
  {
   "cell_type": "code",
   "execution_count": 19,
   "metadata": {},
   "outputs": [],
   "source": [
    "touch_threshold(\"all\",60)                  #设置按键P/Y/T/H/O/N的触摸阈值，all代表全部"
   ]
  },
  {
   "cell_type": "markdown",
   "metadata": {},
   "source": [
    "运行如下代码，将输出触摸按钮的状态（模拟值）。"
   ]
  },
  {
   "cell_type": "code",
   "execution_count": 14,
   "metadata": {},
   "outputs": [
    {
     "name": "stdout",
     "output_type": "stream",
     "text": [
      "19\n",
      "72\n",
      "74\n",
      "81\n",
      "77\n",
      "72\n"
     ]
    }
   ],
   "source": [
    "#读取按键P的触摸值\n",
    "print(touchPad_P.read())                          \n",
    "#读取按键Y的触摸值\n",
    "print(touchPad_Y.read())  \n",
    "#读取按键T的触摸值\n",
    "print(touchPad_T.read())  \n",
    "#读取按键H的触摸值\n",
    "print(touchPad_H.read())  \n",
    "#读取按键O的触摸值\n",
    "print(touchPad_O.read())  \n",
    "#读取按键N的触摸值\n",
    "print(touchPad_N.read())  "
   ]
  },
  {
   "cell_type": "markdown",
   "metadata": {},
   "source": [
    "### 5.加速度\n",
    "\n",
    "掌控板内置加速度传感器。运行如下代码，将输出掌控板的当前位置状态。"
   ]
  },
  {
   "cell_type": "code",
   "execution_count": 25,
   "metadata": {},
   "outputs": [
    {
     "name": "stdout",
     "output_type": "stream",
     "text": [
      "-214\n",
      "1222\n",
      "843\n",
      "1499.91\n"
     ]
    }
   ],
   "source": [
    "#读取加速度X的值\n",
    "print(accelerometer.get_x())  \n",
    "#读取加速度Y的值\n",
    "print(accelerometer.get_y())  \n",
    "#读取加速度Z的值\n",
    "print(accelerometer.get_z())  \n",
    "#读取加速度的强度\n",
    "print(accelerometer.get_strength())  "
   ]
  },
  {
   "cell_type": "code",
   "execution_count": null,
   "metadata": {},
   "outputs": [],
   "source": [
    "    #  print(button_a.value())                    #按键A是否按下\n",
    "    #  print(button_b.value())                    #按键B是否按下\n",
    "    #  print(button_ab.value())                   #按键AB是否按下\n",
    "    #  print(touchPad_P.is_touched())                               #是否触摸P\n",
    "    #  print(touchPad_Y.is_touched())                               #是否触摸Y\n",
    "    #  print(touchPad_T.is_touched())                               #是否触摸T\n",
    "    #  print(touchPad_H.is_touched())                               #是否触摸H\n",
    "    #  print(touchPad_O.is_touched())                               #是否触摸O\n",
    "    #  print(touchPad_N.is_touched())                               #是否触摸N\n",
    "    #  touch_threshold(\"all\",60)                  #设置按键P/Y/T/H/O/N的触摸阈值，all代表全部\n",
    "    #  print(touchPad_P.read())                          #读取按键P的触摸值\n",
    "    #  print(touchPad_Y.read())                          #读取按键Y的触摸值\n",
    "    #  print(touchPad_T.read())                          #读取按键T的触摸值\n",
    "    #  print(touchPad_H.read())                          #读取按键H的触摸值\n",
    "    #  print(touchPad_O.read())                          #读取按键O的触摸值\n",
    "    #  print(touchPad_N.read())                          #读取按键N的触摸值\n",
    "    #  print(sound.read())                            #读取麦克风强度\n",
    "    #  print(light.read())                            #读取环境光强度\n",
    "    #  print(accelerometer.get_x())                    #读取加速度X的值\n",
    "    #  print(accelerometer.get_y())                    #读取加速度Y的值\n",
    "    #  print(accelerometer.get_z())                    #读取加速度Z的值\n",
    "    #  print(accelerometer.get_strength())             #读取加速度的强度"
   ]
  },
  {
   "cell_type": "markdown",
   "metadata": {},
   "source": [
    "**注：**运行到这里，如果需要运行下面的程序或者关闭窗口，建议请先进行“restart Kernel”或者拔插掌控板。"
   ]
  }
 ],
 "metadata": {
  "kernelspec": {
   "display_name": "Python 3 (ipykernel)",
   "language": "python",
   "name": "python3"
  },
  "language_info": {
   "codemirror_mode": {
    "name": "ipython",
    "version": 3
   },
   "file_extension": ".py",
   "mimetype": "text/x-python",
   "name": "python",
   "nbconvert_exporter": "python",
   "pygments_lexer": "ipython3",
   "version": "3.8.3"
  }
 },
 "nbformat": 4,
 "nbformat_minor": 4
}
