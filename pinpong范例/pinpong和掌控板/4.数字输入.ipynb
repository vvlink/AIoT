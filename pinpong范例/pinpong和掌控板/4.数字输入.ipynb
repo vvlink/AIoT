{
 "cells": [
  {
   "cell_type": "markdown",
   "metadata": {},
   "source": [
    "# GPIO之数字输出"
   ]
  },
  {
   "cell_type": "markdown",
   "metadata": {},
   "source": [
    "    描述：读取掌控板引脚的电平高低状态。\n",
    "    \n",
    "    实现：调用pinpong库Pin类中的read_digital()函数，返回该IO引脚电平值，1代表高电平，0代表低电平。该方法在输入模式有效。"
   ]
  },
  {
   "cell_type": "markdown",
   "metadata": {},
   "source": [
    "### 范例：定时读取数字传感器方法一\n",
    "\n",
    "让掌控板定时读取数字传感器的值，并将读取的状态设置给led灯引脚（1号引脚），数字传感器接在0号引脚。\n",
    "\n",
    "使用pinpong库的Pin类和时间模块进行，代码如下："
   ]
  },
  {
   "cell_type": "code",
   "execution_count": null,
   "metadata": {
    "scrolled": true
   },
   "outputs": [],
   "source": [
    "import time\n",
    "from pinpong.board import Board,Pin\n",
    "\n",
    "board = Board(\"handpy\").begin()  #初始化，选择板型和端口号，不输入端口号则进行自动识别\n",
    "#board = Board(\"handpy\",\"COM36\").begin()  #windows下指定端口初始化\n",
    "#board = Board(\"handpy\",\"/dev/ttyACM0\").begin()   #linux下指定端口初始化\n",
    "#board = Board(\"handpy\",\"/dev/cu.usbmodem14101\").begin()   #mac下指定端口初始化"
   ]
  },
  {
   "cell_type": "markdown",
   "metadata": {},
   "source": [
    "选择引脚初始化"
   ]
  },
  {
   "cell_type": "code",
   "execution_count": null,
   "metadata": {},
   "outputs": [],
   "source": [
    "btn = Pin(Pin.P0, Pin.IN) #引脚初始化为电平输入\n",
    "led = Pin(Pin.P1, Pin.OUT)"
   ]
  },
  {
   "cell_type": "code",
   "execution_count": null,
   "metadata": {},
   "outputs": [],
   "source": [
    "print(btn.read_digital()）  #打印引脚电平"
   ]
  },
  {
   "cell_type": "markdown",
   "metadata": {},
   "source": [
    "按钮状态设置给led灯引脚"
   ]
  },
  {
   "cell_type": "code",
   "execution_count": null,
   "metadata": {},
   "outputs": [],
   "source": [
    "while True:\n",
    "    v = btn.read_digital()  #读取引脚电平方法1\n",
    "    print(v)  #终端打印读取的电平状态\n",
    "    led.write_digital(v) #将按钮状态设置给led灯引脚  输出电平方法1\n",
    "    time.sleep(0.1)"
   ]
  },
  {
   "cell_type": "markdown",
   "metadata": {},
   "source": [
    "常见的数字传感器有按钮、触摸、红外测障等。\n",
    "\n",
    "**注：**运行到这里，如果需要运行下面的程序或者关闭窗口，建议请先进行“restart Kernel”。"
   ]
  },
  {
   "cell_type": "markdown",
   "metadata": {},
   "source": [
    "### 范例：定时读取数字传感器方法二"
   ]
  },
  {
   "cell_type": "code",
   "execution_count": null,
   "metadata": {},
   "outputs": [],
   "source": [
    "# -*- coding: utf-8 -*-\n",
    "\n",
    "import time\n",
    "from pinpong.board import Board,Pin\n",
    "\n",
    "Board(\"handpy\").begin()  #初始化，选择板型和端口号，不输入端口号则进行自动识别\n",
    "#Board(\"handpy\",\"COM36\").begin()   #windows下指定端口初始化\n",
    "#Board(\"handpy\",\"/dev/ttyACM0\").begin()   #linux下指定端口初始化\n",
    "#Board(\"handpy\",\"/dev/cu.usbmodem14101\").begin()   #mac下指定端口初始化\n",
    "\n",
    "btn = Pin(Pin.P0, Pin.IN) #引脚初始化为电平输入\n",
    "led = Pin(Pin.P1, Pin.OUT)\n",
    "\n",
    "while True:\n",
    "  v = btn.value()  #读取引脚电平方法2\n",
    "  print(v)  #终端打印读取的电平状态\n",
    "  led.value(v)  #将按钮状态设置给led灯引脚方法2\n",
    "  time.sleep(0.1)"
   ]
  }
 ],
 "metadata": {
  "kernelspec": {
   "display_name": "Python 3 (ipykernel)",
   "language": "python",
   "name": "python3"
  },
  "language_info": {
   "codemirror_mode": {
    "name": "ipython",
    "version": 3
   },
   "file_extension": ".py",
   "mimetype": "text/x-python",
   "name": "python",
   "nbconvert_exporter": "python",
   "pygments_lexer": "ipython3",
   "version": "3.8.3"
  }
 },
 "nbformat": 4,
 "nbformat_minor": 4
}
