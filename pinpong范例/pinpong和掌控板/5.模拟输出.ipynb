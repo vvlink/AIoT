{
 "cells": [
  {
   "cell_type": "markdown",
   "metadata": {},
   "source": [
    "# GPIO之模拟输出"
   ]
  },
  {
   "cell_type": "markdown",
   "metadata": {},
   "source": [
    "    描述：向掌控板的特定引脚输出模拟信号。\n",
    "    \n",
    "    实现：调用pinpong库Pin类中的write_analog(value)函数，给引脚设置模拟值。value指要设置的模拟值,数据范围在0和255之间。该方法在输出模式有效。掌控板支持的模拟输出(PWM方式)的引脚共有12个:P0,P1,P5,P6,P7,P8,P9,P11,P13,P14,P15,P16"
   ]
  },
  {
   "cell_type": "markdown",
   "metadata": {},
   "source": [
    "### 范例：PWM方式控制LED\n",
    "\n",
    "用PWM方式控制LED模块，接在掌控板的0号引脚上。\n",
    "\n",
    "单片机的模拟电平输出，一般都是采用PWM脉宽调制实现，掌控板支持的PWM引脚共有P0,P1,P5,P6,P7,P8,P9,P11,P13,P14,P15,P16。\n",
    "\n",
    "使用pinpong的Pin类，代码如下："
   ]
  },
  {
   "cell_type": "code",
   "execution_count": null,
   "metadata": {},
   "outputs": [],
   "source": [
    "import time\n",
    "from pinpong.board import Board,Pin,PWM #导入PWM类实现模拟输出\n",
    "Board(\"handpy\").begin()  #初始化，选择板型和端口号，不输入端口号则进行自动识别\n",
    "#Board(\"handpy\",\"COM36\").begin()  #windows下指定端口初始化\n",
    "#Board(\"handpy\",\"/dev/ttyACM0\").begin()   #linux下指定端口初始化\n",
    "#Board(\"handpy\",\"/dev/cu.usbmodem14101\").begin()   #mac下指定端口初始化"
   ]
  },
  {
   "cell_type": "markdown",
   "metadata": {},
   "source": [
    "选择引脚初始化"
   ]
  },
  {
   "cell_type": "code",
   "execution_count": null,
   "metadata": {},
   "outputs": [],
   "source": [
    "#pwm0 = PWM(Pin(Pin.P0)) #将Pin传入PWM中实现模拟输出  模拟输出方法1\n",
    "pwm0 = Pin(Pin.P0, Pin.PWM)#初始化引脚为PWM模式 模拟输出方法2"
   ]
  },
  {
   "cell_type": "markdown",
   "metadata": {},
   "source": [
    "给引脚设置模拟值128（方法1）"
   ]
  },
  {
   "cell_type": "code",
   "execution_count": null,
   "metadata": {},
   "outputs": [],
   "source": [
    " pwm0.duty(128) "
   ]
  },
  {
   "cell_type": "markdown",
   "metadata": {},
   "source": [
    "给引脚设置模拟值255（方法2）"
   ]
  },
  {
   "cell_type": "code",
   "execution_count": null,
   "metadata": {},
   "outputs": [],
   "source": [
    "pwm0.write_analog(255) "
   ]
  },
  {
   "cell_type": "markdown",
   "metadata": {},
   "source": [
    "小挑战：写一个循环语句，控制LED的明暗交替变化，看看能不能实现呼吸灯的效果。（方法一）"
   ]
  },
  {
   "cell_type": "code",
   "execution_count": null,
   "metadata": {},
   "outputs": [],
   "source": [
    "import time\n",
    "from pinpong.board import Board,Pin,PWM #导入PWM类实现模拟输出\n",
    "\n",
    "Board(\"handpy\").begin()  #初始化，选择板型和端口号，不输入端口号则进行自动识别\n",
    "#Board(\"handpy\",\"COM36\").begin()  #windows下指定端口初始化\n",
    "#Board(\"handpy\",\"/dev/ttyACM0\").begin()   #linux下指定端口初始化\n",
    "#Board(\"handpy\",\"/dev/cu.usbmodem14101\").begin()   #mac下指定端口初始化\n",
    "\n",
    "pwm0 = PWM(Pin(Pin.P0)) #将Pin传入PWM中实现模拟输出  引脚有P0,P1,P5,P6,P7,P8,P9,P11,P13,P14,P15,P16\n",
    "\n",
    "while True:\n",
    "  for i in range(255): #从0到255循环\n",
    "    pwm0.duty(i)  #设置模拟输出值\n",
    "    print(i)\n",
    "    time.sleep(0.05)"
   ]
  },
  {
   "cell_type": "markdown",
   "metadata": {},
   "source": [
    "**注：**运行到这里，如果需要运行下面的程序或者关闭窗口，建议请先进行“restart Kernel”。"
   ]
  },
  {
   "cell_type": "markdown",
   "metadata": {},
   "source": [
    "小挑战：写一个循环语句，控制LED的明暗交替变化，看看能不能实现呼吸灯的效果。（方法二）"
   ]
  },
  {
   "cell_type": "code",
   "execution_count": null,
   "metadata": {},
   "outputs": [],
   "source": [
    "# -*- coding: utf-8 -*-\n",
    "\n",
    "#实验效果：呼吸灯\n",
    "#接线：使用电脑连接一块handpy主控板，主控板P0接一个LED灯模块\n",
    "import time\n",
    "from pinpong.board import Board,Pin #导入PWM类实现模拟输出\n",
    "\n",
    "Board(\"handpy\").begin()  #初始化，选择板型和端口号，不输入端口号则进行自动识别\n",
    "#Board(\"handpy\",\"COM36\").begin()  #windows下指定端口初始化\n",
    "#Board(\"handpy\",\"/dev/ttyACM0\").begin()   #linux下指定端口初始化\n",
    "#Board(\"handpy\",\"/dev/cu.usbmodem14101\").begin()   #mac下指定端口初始化\n",
    "\n",
    "pwm0 = Pin(Pin.P0, Pin.PWM)\n",
    "\n",
    "while True:\n",
    "  for i in range(255): #从0到255循环\n",
    "    pwm0.write_analog(i)  #设置模拟输出值\n",
    "    print(i)\n",
    "    time.sleep(0.05)"
   ]
  },
  {
   "cell_type": "code",
   "execution_count": null,
   "metadata": {},
   "outputs": [],
   "source": []
  }
 ],
 "metadata": {
  "kernelspec": {
   "display_name": "Python 3 (ipykernel)",
   "language": "python",
   "name": "python3"
  },
  "language_info": {
   "codemirror_mode": {
    "name": "ipython",
    "version": 3
   },
   "file_extension": ".py",
   "mimetype": "text/x-python",
   "name": "python",
   "nbconvert_exporter": "python",
   "pygments_lexer": "ipython3",
   "version": "3.8.3"
  }
 },
 "nbformat": 4,
 "nbformat_minor": 4
}
