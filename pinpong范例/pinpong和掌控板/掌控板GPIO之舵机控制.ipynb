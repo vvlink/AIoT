{
 "cells": [
  {
   "cell_type": "markdown",
   "metadata": {},
   "source": [
    "# 掌控板GPIO之舵机控制"
   ]
  },
  {
   "cell_type": "markdown",
   "metadata": {},
   "source": [
    "    描述：控制舵机旋转的角度。\n",
    "    \n",
    "    实现：调用pinpong库中的Servo(pin(pin_num))函数，pin_num为引脚标号,可以直接传入掌控板上的引脚编号。还需要调用Servo.angle(value)函数，让舵机转动到指定角度,Value 指角度。每种舵机的最大转动角度不一样,需要参考舵机说明书。"
   ]
  },
  {
   "cell_type": "markdown",
   "metadata": {},
   "source": [
    "### 范例：控制舵机旋转\n",
    "\n",
    "使用pinpong库中Servo类，控制P0引脚上的舵机旋转。"
   ]
  },
  {
   "cell_type": "code",
   "execution_count": 1,
   "metadata": {},
   "outputs": [
    {
     "name": "stdout",
     "output_type": "stream",
     "text": [
      "\n",
      "  __________________________________________\n",
      " |    ____  _       ____                    |\n",
      " |   / __ \\(_)___  / __ \\____  ____  ____ _ |\n",
      " |  / /_/ / / __ \\/ /_/ / __ \\/ __ \\/ __ `/ |\n",
      " | / ____/ / / / / ____/ /_/ / / / / /_/ /  |\n",
      " |/_/   /_/_/ /_/_/    \\____/_/ /_/\\__, /   |\n",
      " |   v0.5.2  Designed by DFRobot  /____/    |\n",
      " |__________________________________________|\n",
      " \n",
      "[01] Python3.8.3 Windows-10-10.0.22621-SP0 Board: HANDPY\n",
      "selected -> board: HANDPY serial: COM3\n",
      "[10] Opening COM3\n",
      "[32] Firmata ID: 2.9\n",
      "[22] Arduino compatible device found and connected to COM3\n",
      "[40] Retrieving analog map...\n",
      "[42] Auto-discovery complete. Found 40 Digital Pins and 16 Analog Pins\n",
      "------------------------------\n",
      "All right. PinPong go...\n",
      "------------------------------\n"
     ]
    },
    {
     "data": {
      "text/plain": [
       "<pinpong.board.Board at 0x23b8ea71910>"
      ]
     },
     "execution_count": 1,
     "metadata": {},
     "output_type": "execute_result"
    }
   ],
   "source": [
    "import time\n",
    "from pinpong.board import Board,Pin,Servo\n",
    "\n",
    "Board(\"handpy\").begin()  #初始化，选择板型和端口号，不输入端口号则进行自动识别\n",
    "#Board(\"handpy\",\"COM36\").begin()   #windows下指定端口初始化\n",
    "#Board(\"handpy\",\"/dev/ttyACM0\").begin()   #linux下指定端口初始化\n",
    "#Board(\"handpy\",\"/dev/cu.usbmodem14101\").begin()   #mac下指定端口初始化"
   ]
  },
  {
   "cell_type": "markdown",
   "metadata": {},
   "source": [
    "选择控制的引脚初始化并连接到舵机"
   ]
  },
  {
   "cell_type": "code",
   "execution_count": 2,
   "metadata": {},
   "outputs": [],
   "source": [
    "s1 = Servo(Pin(Pin.P0)) #将Pin传入Servo中初始化舵机引脚"
   ]
  },
  {
   "cell_type": "markdown",
   "metadata": {},
   "source": [
    "设置值为150,舵机旋转150°"
   ]
  },
  {
   "cell_type": "code",
   "execution_count": 3,
   "metadata": {},
   "outputs": [],
   "source": [
    "s1.angle(150) #控制舵机转到150度位置 "
   ]
  },
  {
   "cell_type": "markdown",
   "metadata": {},
   "source": [
    "**注：**运行到这里，如果不需要运行程序或者关闭窗口，请先点击上方的黑色正方形中断服务。如果打开笔记的时候，程序已经运行，需先选择上方“服务”->再选择“重启 & 清空输出”，便可重新运行程序。"
   ]
  },
  {
   "cell_type": "markdown",
   "metadata": {},
   "source": [
    "小挑战：写一段程序，将舵机从0度转动到90度，再转动到180度；再从180度到90度最后到达0度。"
   ]
  },
  {
   "cell_type": "code",
   "execution_count": null,
   "metadata": {},
   "outputs": [],
   "source": [
    "# -*- coding: utf-8 -*-\n",
    "\n",
    "import time\n",
    "from pinpong.board import Board,Pin,Servo\n",
    "\n",
    "Board(\"handpy\").begin()  #初始化，选择板型和端口号，不输入端口号则进行自动识别\n",
    "#Board(\"handpy\",\"COM36\").begin()   #windows下指定端口初始化\n",
    "#Board(\"handpy\",\"/dev/ttyACM0\").begin()   #linux下指定端口初始化\n",
    "#Board(\"handpy\",\"/dev/cu.usbmodem14101\").begin()   #mac下指定端口初始化\n",
    "\n",
    "s1 = Servo(Pin(Pin.P0)) #将Pin传入Servo中初始化舵机引脚\n",
    "\n",
    "while True:\n",
    "  s1.angle(0) #控制舵机转到0度位置\n",
    "  print(\"0\")\n",
    "  time.sleep(1)\n",
    "\n",
    "  s1.angle(90) #控制舵机转到90度位置\n",
    "  print(\"90\")\n",
    "  time.sleep(1)\n",
    "\n",
    "  s1.angle(180) #控制舵机转到180度位置\n",
    "  print(\"180\")\n",
    "  time.sleep(1)\n",
    "\n",
    "  s1.angle(90) #控制舵机转到90度位置\n",
    "  print(\"90\")\n",
    "  time.sleep(1)"
   ]
  }
 ],
 "metadata": {
  "kernelspec": {
   "display_name": "Python 3 (ipykernel)",
   "language": "python",
   "name": "python3"
  },
  "language_info": {
   "codemirror_mode": {
    "name": "ipython",
    "version": 3
   },
   "file_extension": ".py",
   "mimetype": "text/x-python",
   "name": "python",
   "nbconvert_exporter": "python",
   "pygments_lexer": "ipython3",
   "version": "3.9.13"
  }
 },
 "nbformat": 4,
 "nbformat_minor": 4
}
