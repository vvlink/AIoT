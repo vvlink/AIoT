{
 "cells": [
  {
   "cell_type": "markdown",
   "metadata": {},
   "source": [
    "# GPIO之数字输出"
   ]
  },
  {
   "cell_type": "markdown",
   "metadata": {},
   "source": [
    "    描述：给掌控板引脚设置高（1）、低（0）两种电平状态。\n",
    "    \n",
    "    实现：调用pinpong库Pin类中的write_digital(value)函数，给引脚设置电平值。value指要设置的电平值,1代表高电平,0代表低电平。\n",
    "    说明：本案例以掌控板为例。"
   ]
  },
  {
   "cell_type": "code",
   "execution_count": null,
   "metadata": {
    "scrolled": true
   },
   "outputs": [],
   "source": [
    "# -*- coding: utf-8 -*-\n",
    "\n",
    "#实验效果：控制handpy板载LED灯一秒闪烁一次\n",
    "#接线：使用windows或linux电脑连接一块microbit主控板\n",
    "import time\n",
    "from pinpong.board import Board,Pin\n",
    "\n",
    "Board(\"handpy\").begin()               #初始化，选择板型和端口号，不输入端口号则进行自动识别\n",
    "#Board(\"handpy\",\"COM36\").begin()      #windows下指定端口初始化\n",
    "#Board(\"handpy\",\"/dev/ttyACM0\").begin() #linux下指定端口初始化\n",
    "#Board(\"handpy\",\"/dev/cu.usbmodem14101\").begin()   #mac下指定端口初始化\n",
    "\n",
    "led = Pin(Pin.P0, Pin.OUT) #引脚初始化为电平输出\n",
    "\n",
    "while True:\n",
    "  led.write_digital(1) #输出高电平\n",
    "  time.sleep(1) #等待1秒 保持状态\n",
    "\n",
    "  led.write_digital(0) #输出低电平\n",
    "  time.sleep(1) #等待1秒 保持状态"
   ]
  },
  {
   "cell_type": "markdown",
   "metadata": {},
   "source": [
    "### 范例：控制外接LED\n",
    "\n",
    "将掌控板与扩展板相连接，将LED灯连接在扩展板的P0引脚。"
   ]
  },
  {
   "cell_type": "code",
   "execution_count": null,
   "metadata": {},
   "outputs": [],
   "source": [
    "# -*- coding: utf-8 -*-\n",
    "\n",
    "#实验效果：控制handpy板载LED灯一秒闪烁一次\n",
    "#接线：使用windows或linux电脑连接一块掌控板主控板\n",
    "import time\n",
    "from pinpong.board import Board,Pin\n",
    "\n",
    "Board(\"handpy\").begin()               #初始化，选择板型和端口号，不输入端口号则进行自动识别\n",
    "#Board(\"handpy\",\"COM36\").begin()      #windows下指定端口初始化\n",
    "#Board(\"handpy\",\"/dev/ttyACM0\").begin() #linux下指定端口初始化\n",
    "#Board(\"handpy\",\"/dev/cu.usbmodem14101\").begin()   #mac下指定端口初始化"
   ]
  },
  {
   "cell_type": "markdown",
   "metadata": {},
   "source": [
    "选择引脚初始化"
   ]
  },
  {
   "cell_type": "code",
   "execution_count": null,
   "metadata": {},
   "outputs": [],
   "source": [
    "led = Pin(Pin.P0, Pin.OUT) #引脚初始化为电平输出"
   ]
  },
  {
   "cell_type": "markdown",
   "metadata": {},
   "source": [
    "设置为1（高电平），点亮0脚的LED灯"
   ]
  },
  {
   "cell_type": "code",
   "execution_count": null,
   "metadata": {},
   "outputs": [],
   "source": [
    "# 设置 0号引脚为高电平\n",
    "led.write_digital(1) "
   ]
  },
  {
   "cell_type": "markdown",
   "metadata": {},
   "source": [
    "设置为0（低电平），熄灭0脚的LED灯"
   ]
  },
  {
   "cell_type": "code",
   "execution_count": null,
   "metadata": {},
   "outputs": [],
   "source": [
    "led.write_digital(0) # 设置 0号引脚为低电平"
   ]
  },
  {
   "cell_type": "markdown",
   "metadata": {},
   "source": [
    "执行10次的闪烁。"
   ]
  },
  {
   "cell_type": "code",
   "execution_count": null,
   "metadata": {},
   "outputs": [],
   "source": [
    "for i in range(10):\n",
    "    led.write_digital(1) \n",
    "    time.sleep(1)\n",
    "    led.write_digital(0)\n",
    "    time.sleep(1)"
   ]
  },
  {
   "cell_type": "markdown",
   "metadata": {},
   "source": [
    "**注：**运行到这里，如果需要运行下面的程序或者关闭窗口，建议请先进行“restart Kernel”。"
   ]
  },
  {
   "cell_type": "markdown",
   "metadata": {},
   "source": [
    "### 范例：闪一闪方法一\n",
    "\n",
    "让掌控板外接P0口的LED闪烁，设置为亮1秒熄灭1秒。\n",
    "\n",
    "采用数字输出的方式，使用Pin类和时间模块进行，代码如下："
   ]
  },
  {
   "cell_type": "code",
   "execution_count": null,
   "metadata": {},
   "outputs": [],
   "source": [
    "# -*- coding: utf-8 -*-\n",
    "\n",
    "#实验效果：控制handpy板载LED灯一秒闪烁一次\n",
    "#接线：使用windows或linux电脑连接一块microbit主控板\n",
    "import time\n",
    "from pinpong.board import Board,Pin\n",
    "\n",
    "Board(\"handpy\").begin()               #初始化，选择板型和端口号，不输入端口号则进行自动识别\n",
    "#Board(\"handpy\",\"COM36\").begin()      #windows下指定端口初始化\n",
    "#Board(\"handpy\",\"/dev/ttyACM0\").begin() #linux下指定端口初始化\n",
    "#Board(\"handpy\",\"/dev/cu.usbmodem14101\").begin()   #mac下指定端口初始化\n",
    "\n",
    "led = Pin(Pin.P0, Pin.OUT) #引脚初始化为电平输出\n",
    "\n",
    "while True:\n",
    "  led.write_digital(1) #输出高电平\n",
    "  time.sleep(1) #等待1秒 保持状态\n",
    "\n",
    "  led.write_digital(0) #输出低电平\n",
    "  time.sleep(1) #等待1秒 保持状态"
   ]
  },
  {
   "cell_type": "markdown",
   "metadata": {},
   "source": [
    "**注：**运行到这里，如果需要运行下面的程序或者关闭窗口，建议请先进行“restart Kernel”。"
   ]
  },
  {
   "cell_type": "markdown",
   "metadata": {},
   "source": [
    "### 范例：闪一闪方法二\n",
    "\n",
    "让掌控板外接P0口的LED闪烁，设置为亮1秒熄灭1秒。\n",
    "\n",
    "采用value输出的方式，使用Pin类和时间模块进行，代码如下："
   ]
  },
  {
   "cell_type": "code",
   "execution_count": null,
   "metadata": {},
   "outputs": [],
   "source": [
    "# -*- coding: utf-8 -*-\n",
    "\n",
    "import time\n",
    "from pinpong.board import Board,Pin\n",
    "\n",
    "Board(\"handpy\").begin()#初始化，选择板型和端口号，不输入端口号则进行自动识别\n",
    "#Board(\"handpy\",\"COM36\").begin()   #windows下指定端口初始化\n",
    "#Board(\"handpy\",\"/dev/ttyACM0\").begin()   #linux下指定端口初始化\n",
    "#Board(\"handpy\",\"/dev/cu.usbmodem14101\").begin()   #mac下指定端口初始化\n",
    "\n",
    "led = Pin(Pin.P1, Pin.OUT) #引脚初始化为电平输出\n",
    "\n",
    "while True:\n",
    "  led.value(1) #输出高电平\n",
    "  print(\"1\") #终端打印信息\n",
    "  time.sleep(1) #等待1秒 保持状态\n",
    "\n",
    "  led.value(0) #输出低电平\n",
    "  print(\"0\") #终端打印信息\n",
    "  time.sleep(1) #等待1秒 保持状态"
   ]
  },
  {
   "cell_type": "markdown",
   "metadata": {},
   "source": [
    "**注：**运行到这里，如果需要运行下面的程序或者关闭窗口，建议请先进行“restart Kernel”。"
   ]
  }
 ],
 "metadata": {
  "kernelspec": {
   "display_name": "Python 3 (ipykernel)",
   "language": "python",
   "name": "python3"
  },
  "language_info": {
   "codemirror_mode": {
    "name": "ipython",
    "version": 3
   },
   "file_extension": ".py",
   "mimetype": "text/x-python",
   "name": "python",
   "nbconvert_exporter": "python",
   "pygments_lexer": "ipython3",
   "version": "3.8.3"
  }
 },
 "nbformat": 4,
 "nbformat_minor": 4
}
