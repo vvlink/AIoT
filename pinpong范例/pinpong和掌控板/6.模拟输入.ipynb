{
 "cells": [
  {
   "cell_type": "markdown",
   "metadata": {},
   "source": [
    "# 掌控板GPIO之模拟输入"
   ]
  },
  {
   "cell_type": "markdown",
   "metadata": {},
   "source": [
    "    描述：读取掌控板\n",
    "    特定引脚的输入模拟信号。\n",
    "    \n",
    "    实现：调用pinpong库Pin类中的read_analog()函数，返回IO引脚的模拟值,数据范围在0和1023之间。该方法在输入模式有效。掌控板支持的模拟输入的引脚共有6个，为P0,P1,P2,P3,P4,P10。"
   ]
  },
  {
   "cell_type": "markdown",
   "metadata": {},
   "source": [
    "### 范例：定时读取模拟传感器\n",
    "\n",
    "读取掌控板A0引脚的电压值并打印，A0引脚接模拟传感器。常见的模拟传感器有旋钮、光线、声音、温度等。\n",
    "\n",
    "使用xugu库的Pin类，代码如下："
   ]
  },
  {
   "cell_type": "code",
   "execution_count": null,
   "metadata": {
    "scrolled": true
   },
   "outputs": [],
   "source": [
    "import time\n",
    "from pinpong.board import Board,Pin,ADC\n",
    "\n",
    "Board(\"handpy\").begin()  #初始化，选择板型和端口号，不输入端口号则进行自动识别\n",
    "#Board(\"handpy\",\"COM36\").begin()   #windows下指定端口初始化\n",
    "#Board(\"handpy\",\"/dev/ttyACM0\").begin()   #linux下指定端口初始化\n",
    "#Board(\"handpy\",\"/dev/cu.usbmodem14101\").begin()   #mac下指定端口初始化"
   ]
  },
  {
   "cell_type": "markdown",
   "metadata": {},
   "source": [
    "选择引脚初始化"
   ]
  },
  {
   "cell_type": "code",
   "execution_count": null,
   "metadata": {},
   "outputs": [],
   "source": [
    "adc0 = ADC(Pin(Pin.P0)) #将Pin传入ADC中实现模拟输入  模拟输入方法1\n",
    "#adc0 = Pin(Pin.P0, Pin.ANALOG) #引脚初始化为电平输入 #引脚初始化为电平输出 模拟输入方法2"
   ]
  },
  {
   "cell_type": "markdown",
   "metadata": {},
   "source": [
    "读取 A0 引脚的电压值。"
   ]
  },
  {
   "cell_type": "code",
   "execution_count": null,
   "metadata": {},
   "outputs": [],
   "source": [
    "v = adc0.read()  #读取A0口模拟信号数值 模拟输入方法1\n",
    "#v = adc0.read_analog() #读取A0口模拟信号数值 模拟输入方法2"
   ]
  },
  {
   "cell_type": "markdown",
   "metadata": {},
   "source": [
    "打印获取的电压值。"
   ]
  },
  {
   "cell_type": "code",
   "execution_count": null,
   "metadata": {},
   "outputs": [],
   "source": [
    "print(\"P0=\", v)"
   ]
  },
  {
   "cell_type": "markdown",
   "metadata": {},
   "source": [
    "小挑战：写一个循环语句，定时读取模拟传感器的数值并打印。(方法一)"
   ]
  },
  {
   "cell_type": "code",
   "execution_count": null,
   "metadata": {},
   "outputs": [],
   "source": [
    "import time\n",
    "while True:\n",
    "  v = adc0.read()  #读取A0口模拟信号数值\n",
    "  print(\"P0=\", v)\n",
    "  time.sleep(0.5)"
   ]
  },
  {
   "cell_type": "markdown",
   "metadata": {},
   "source": [
    "**注：**运行到这里，如果不需要运行程序或者关闭窗口，请先点击上方的黑色正方形中断服务。如果打开笔记的时候，程序已经运行，需先选择上方“服务”->再选择“重启 & 清空输出”，便可重新运行程序。"
   ]
  },
  {
   "cell_type": "code",
   "execution_count": null,
   "metadata": {},
   "outputs": [],
   "source": [
    "小挑战：写一个循环语句，定时读取模拟传感器的数值并打印。(方法二)"
   ]
  },
  {
   "cell_type": "code",
   "execution_count": null,
   "metadata": {},
   "outputs": [],
   "source": [
    "# -*- coding: utf-8 -*-\n",
    "\n",
    "#实验效果：打印handpy板P0口模拟值\n",
    "#接线：使用windows或linux电脑连接一块handpy主控板，主控板P0接一个旋钮模块\n",
    "import time\n",
    "from pinpong.board import Board,Pin,ADC  #导入ADC类实现模拟输入\n",
    "\n",
    "Board(\"handpy\").begin()  #初始化，选择板型和端口号，不输入端口号则进行自动识别\n",
    "#Board(\"handpy\",\"COM36\").begin()  #windows下指定端口初始化\n",
    "#Board(\"handpy\",\"/dev/ttyACM0\").begin()   #linux下指定端口初始化\n",
    "#Board(\"handpy\",\"/dev/cu.usbmodem14101\").begin()   #mac下指定端口初始化\n",
    "\n",
    "adc0 = Pin(Pin.P0, Pin.ANALOG) #引脚初始化为电平输出\n",
    "\n",
    "while True:\n",
    "  v = adc0.read_analog()  #读取A0口模拟信号数值\n",
    "  print(\"P0=\", v)\n",
    "  time.sleep(0.5)"
   ]
  }
 ],
 "metadata": {
  "kernelspec": {
   "display_name": "Python 3 (ipykernel)",
   "language": "python",
   "name": "python3"
  },
  "language_info": {
   "codemirror_mode": {
    "name": "ipython",
    "version": 3
   },
   "file_extension": ".py",
   "mimetype": "text/x-python",
   "name": "python",
   "nbconvert_exporter": "python",
   "pygments_lexer": "ipython3",
   "version": "3.8.3"
  }
 },
 "nbformat": 4,
 "nbformat_minor": 4
}
