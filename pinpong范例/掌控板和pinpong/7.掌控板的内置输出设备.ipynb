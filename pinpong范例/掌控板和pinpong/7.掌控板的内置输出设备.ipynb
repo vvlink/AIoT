{
 "cells": [
  {
   "cell_type": "markdown",
   "metadata": {},
   "source": [
    "# 掌控板的内置输出设备"
   ]
  },
  {
   "cell_type": "markdown",
   "metadata": {},
   "source": [
    "    描述：掌控板内置了OLED屏，LED（3个）、蜂鸣器等输出设备。\n",
    "    \n",
    "    实现：调用pinpong库中的相关语句，分别控制掌控板各种输出设备的状态。"
   ]
  },
  {
   "cell_type": "markdown",
   "metadata": {},
   "source": [
    "## 1.公共部分\n",
    "\n",
    "首先需要导入库。\n",
    "\n",
    "注意：第一次导入库时，电脑将通过串口给掌控板烧录一个固件，背后的LED灯将快速闪烁。烧录成功后，LED的闪烁频率将变慢。"
   ]
  },
  {
   "cell_type": "code",
   "execution_count": 2,
   "metadata": {},
   "outputs": [
    {
     "name": "stdout",
     "output_type": "stream",
     "text": [
      "\n",
      "  __________________________________________\n",
      " |    ____  _       ____                    |\n",
      " |   / __ \\(_)___  / __ \\____  ____  ____ _ |\n",
      " |  / /_/ / / __ \\/ /_/ / __ \\/ __ \\/ __ `/ |\n",
      " | / ____/ / / / / ____/ /_/ / / / / /_/ /  |\n",
      " |/_/   /_/_/ /_/_/    \\____/_/ /_/\\__, /   |\n",
      " |   v0.3.9  Designed by DFRobot  /____/    |\n",
      " |__________________________________________|\n",
      " \n",
      "[01] Python3.6.6 Darwin-20.5.0-x86_64-i386-64bit Board: HANDPY\n",
      "Automatically selected ->  /dev/cu.usbserial-01D67296\n",
      "[10] Opening /dev/cu.usbserial-01D67296\n",
      "[15] Close /dev/cu.usbserial-01D67296\n",
      "[32] Firmata ID: 0.0\n",
      "[35] Burning firmware...\n",
      "Traceback (most recent call last):\n",
      "  File \"/Users/xiezuoru/mPython/python36/lib/python3.6/argparse.py\", line 1766, in parse_known_args\n",
      "    namespace, args = self._parse_known_args(args, namespace)\n",
      "  File \"/Users/xiezuoru/mPython/python36/lib/python3.6/argparse.py\", line 1975, in _parse_known_args\n",
      "    stop_index = consume_positionals(start_index)\n",
      "  File \"/Users/xiezuoru/mPython/python36/lib/python3.6/argparse.py\", line 1931, in consume_positionals\n",
      "    take_action(action, args)\n",
      "  File \"/Users/xiezuoru/mPython/python36/lib/python3.6/argparse.py\", line 1824, in take_action\n",
      "    argument_values = self._get_values(action, argument_strings)\n",
      "  File \"/Users/xiezuoru/mPython/python36/lib/python3.6/argparse.py\", line 2275, in _get_values\n",
      "    self._check_value(action, value[0])\n",
      "  File \"/Users/xiezuoru/mPython/python36/lib/python3.6/argparse.py\", line 2318, in _check_value\n",
      "    raise ArgumentError(action, msg % args)\n",
      "argparse.ArgumentError: argument operation: invalid choice: '/Users/xiezuoru/Library/Jupyter/runtime/kernel-819c8d67-d6a9-41b1-94cb-9d1ecb7dc9c0.json' (choose from 'load_ram', 'dump_mem', 'read_mem', 'write_mem', 'write_flash', 'run', 'image_info', 'make_image', 'elf2image', 'read_mac', 'chip_id', 'flash_id', 'read_flash_status', 'write_flash_status', 'read_flash', 'verify_flash', 'erase_flash', 'erase_region', 'version')\n",
      "\n",
      "During handling of the above exception, another exception occurred:\n",
      "\n",
      "Traceback (most recent call last):\n",
      "  File \"/Users/xiezuoru/mPython/python36/lib/python3.6/site-packages/IPython/core/interactiveshell.py\", line 3331, in run_code\n",
      "    exec(code_obj, self.user_global_ns, self.user_ns)\n",
      "  File \"<ipython-input-2-3e696293b26b>\", line 2, in <module>\n",
      "    Board(\"handpy\").begin()#初始化，选择板型和端口号，不输入端口号则进行自动识别\n",
      "  File \"/Users/xiezuoru/mPython/python36/lib/python3.6/site-packages/pinpong/board.py\", line 1474, in begin\n",
      "    pgm.burn(cwdpath + \"/base/FirmataExpress.HANDPY.\"+str(FIRMATA_MAJOR)+\".\"+str(FIRMATA_MINOR)+\".bin\")\n",
      "  File \"/Users/xiezuoru/mPython/python36/lib/python3.6/site-packages/pinpong/base/avrdude.py\", line 130, in burn\n",
      "    self.pgm.burn()\n",
      "  File \"/Users/xiezuoru/mPython/python36/lib/python3.6/site-packages/pinpong/base/EspTool.py\", line 2683, in burn\n",
      "    esp_burn(self.port, self.baudrate, self.filename)\n",
      "  File \"/Users/xiezuoru/mPython/python36/lib/python3.6/site-packages/pinpong/base/EspTool.py\", line 2341, in esp_burn\n",
      "    args = parser.parse_args()\n",
      "  File \"/Users/xiezuoru/mPython/python36/lib/python3.6/argparse.py\", line 1734, in parse_args\n",
      "    args, argv = self.parse_known_args(args, namespace)\n",
      "  File \"/Users/xiezuoru/mPython/python36/lib/python3.6/argparse.py\", line 1773, in parse_known_args\n",
      "    self.error(str(err))\n",
      "  File \"/Users/xiezuoru/mPython/python36/lib/python3.6/argparse.py\", line 2393, in error\n",
      "    self.exit(2, _('%(prog)s: error: %(message)s\\n') % args)\n",
      "  File \"/Users/xiezuoru/mPython/python36/lib/python3.6/argparse.py\", line 2380, in exit\n",
      "    _sys.exit(status)\n",
      "SystemExit: 2\n",
      "\n",
      "During handling of the above exception, another exception occurred:\n",
      "\n",
      "Traceback (most recent call last):\n",
      "  File \"/Users/xiezuoru/mPython/python36/lib/python3.6/site-packages/IPython/core/ultratb.py\", line 1148, in get_records\n",
      "    return _fixed_getinnerframes(etb, number_of_lines_of_context, tb_offset)\n",
      "  File \"/Users/xiezuoru/mPython/python36/lib/python3.6/site-packages/IPython/core/ultratb.py\", line 316, in wrapped\n",
      "    return f(*args, **kwargs)\n",
      "  File \"/Users/xiezuoru/mPython/python36/lib/python3.6/site-packages/IPython/core/ultratb.py\", line 350, in _fixed_getinnerframes\n",
      "    records = fix_frame_records_filenames(inspect.getinnerframes(etb, context))\n",
      "  File \"/Users/xiezuoru/mPython/python36/lib/python3.6/inspect.py\", line 1483, in getinnerframes\n",
      "    frameinfo = (tb.tb_frame,) + getframeinfo(tb, context)\n",
      "AttributeError: 'tuple' object has no attribute 'tb_frame'\n"
     ]
    },
    {
     "name": "stderr",
     "output_type": "stream",
     "text": [
      "usage: esptool [-h] [--chip {auto,esp8266,esp32}] [--port PORT] [--baud BAUD]\n",
      "               [--before {default_reset,no_reset}]\n",
      "               [--after {hard_reset,soft_reset,no_reset}] [--no-stub]\n",
      "               [--trace]\n",
      "               {load_ram,dump_mem,read_mem,write_mem,write_flash,run,image_info,make_image,elf2image,read_mac,chip_id,flash_id,read_flash_status,write_flash_status,read_flash,verify_flash,erase_flash,erase_region,version}\n",
      "               ...\n",
      "esptool: error: argument operation: invalid choice: '/Users/xiezuoru/Library/Jupyter/runtime/kernel-819c8d67-d6a9-41b1-94cb-9d1ecb7dc9c0.json' (choose from 'load_ram', 'dump_mem', 'read_mem', 'write_mem', 'write_flash', 'run', 'image_info', 'make_image', 'elf2image', 'read_mac', 'chip_id', 'flash_id', 'read_flash_status', 'write_flash_status', 'read_flash', 'verify_flash', 'erase_flash', 'erase_region', 'version')\n"
     ]
    },
    {
     "ename": "SystemExit",
     "evalue": "2",
     "output_type": "error",
     "traceback": [
      "An exception has occurred, use %tb to see the full traceback.\n",
      "\u001b[0;31m---------------------------------------------------------------------------\u001b[0m",
      "\nDuring handling of the above exception, another exception occurred:\n",
      "\u001b[0;31mSystemExit\u001b[0m\u001b[0;31m:\u001b[0m 2\n"
     ]
    }
   ],
   "source": [
    "from pinpong.board import Board,Pin\n",
    "Board(\"handpy\").begin()#初始化，选择板型和端口号，不输入端口号则进行自动识别\n",
    "#Board(\"handpy\",\"/dev/cu.SLAB_USBtoUART\").begin()   #mac下指定端口初始化\n",
    "#Board(\"handpy\",\"COM36\").begin()   #windows下指定端口初始化\n",
    "#Board(\"handpy\",\"/dev/ttyACM0\").begin()   #linux下指定端口初始化"
   ]
  },
  {
   "cell_type": "markdown",
   "metadata": {},
   "source": [
    "## 2.输出设备的控制\n",
    "\n",
    "不同的设备，需要导入pinpong库中不同的模块。"
   ]
  },
  {
   "cell_type": "markdown",
   "metadata": {},
   "source": [
    "### 2.1 OLED显示\n",
    "\n",
    "OLED屏幕的控制需要导入HPScreen模块。“display_in_line”表示在第n行输出字符，是最常用的语句。"
   ]
  },
  {
   "cell_type": "code",
   "execution_count": null,
   "metadata": {},
   "outputs": [],
   "source": [
    "from pinpong.extension.handpy import HPScreen\n",
    "esp32 = HPScreen()\n",
    "#屏幕显示\"pinpong库\"在第一行\n",
    "esp32.display_in_line(\"PinPong库\",1)"
   ]
  },
  {
   "cell_type": "markdown",
   "metadata": {},
   "source": [
    "“display_clear_in_line”表示清除第n行的内容。"
   ]
  },
  {
   "cell_type": "code",
   "execution_count": null,
   "metadata": {},
   "outputs": [],
   "source": [
    "#屏幕清除第一行的内容\n",
    "esp32.display_clear_in_line(1)"
   ]
  },
  {
   "cell_type": "markdown",
   "metadata": {},
   "source": [
    "“display_image”可以显示图片。"
   ]
  },
  {
   "cell_type": "code",
   "execution_count": null,
   "metadata": {},
   "outputs": [],
   "source": [
    "#依次是显示的坐标X,Y, 显示的宽和高，图片路径\n",
    "esp32.display_image(0,0,50,50,\"./mind.png\")"
   ]
  },
  {
   "cell_type": "markdown",
   "metadata": {},
   "source": [
    "更多的功能如下。"
   ]
  },
  {
   "cell_type": "code",
   "execution_count": null,
   "metadata": {},
   "outputs": [],
   "source": [
    "#esp32.display_in_XY(\"pinpong\", 42, 22)                     #屏幕显示\"pinpong库\"在x,y坐标处，x:0-127,y:0-63\n",
    "#esp32.fill_screen(\"black\")                                 #屏幕显示\"black\"或者\"white\"\n",
    "#esp32.screen_rotation(0)                                   #屏幕反转0°或者180°\n",
    "#esp32.point_drawing(0,0)                                   #在坐标x,y画点\n",
    "#esp32.set_line_width(1)                                    #设置线宽范围 1 - 128\n",
    "#esp32.line_drawing(0,0,127,63)                             #划线，依次是起点坐标x1,y1和终点坐标x2,y2\n",
    "#esp32.circle_drawing(63, 31, 20)                           #画圆，依次是坐标x, y和 半径, 不填充 \n",
    "#esp32.circle_drawing_fill(63, 31, 20)                      #画圆，依次是坐标x, y和 半径, 填充\n",
    "#esp32.rectangle_drawing(0,0, 63, 31)                       #画矩形，依次是起点坐标x, y, 宽，高, 不填充 \n",
    "#esp32.rectangle_drawing_fill(0,0, 63, 31)                  #画矩形，依次是起点坐标x, y, 宽，高, 填充 "
   ]
  },
  {
   "cell_type": "markdown",
   "metadata": {},
   "source": [
    "### 2.2 LED控制\n",
    "\n",
    "掌控板自带3个LED，编号从0开始。控制LED需要导入pinpong库的“HPWS2812”模块。"
   ]
  },
  {
   "cell_type": "code",
   "execution_count": null,
   "metadata": {},
   "outputs": [],
   "source": [
    "from pinpong.extension.handpy import HPWS2812\n",
    "esp32 = HPWS2812()"
   ]
  },
  {
   "cell_type": "markdown",
   "metadata": {},
   "source": [
    "设置LED灯的颜色，-1代表3个灯(可以填灯号0,1,2)，255,0,0代表rgb。"
   ]
  },
  {
   "cell_type": "code",
   "execution_count": null,
   "metadata": {},
   "outputs": [],
   "source": [
    "esp32.set_rgb_color(-1, 255, 0, 0)"
   ]
  },
  {
   "cell_type": "markdown",
   "metadata": {},
   "source": [
    "运行下面的代码，显示“流水灯”效果。其中“rgb_disable(-1)”表示关闭LED灯，-1代表3个灯(可以填灯号0,1,2)。"
   ]
  },
  {
   "cell_type": "markdown",
   "metadata": {},
   "source": [
    "import time\n",
    "for i in range(10):\n",
    "    esp32.set_rgb_color(-1, 255, 0, 0) \n",
    "    time.sleep(0.5）\n",
    "    esp32.set_rgb_color(-1, 255, 0, 0) \n",
    "    time.sleep(0.5)\n",
    "    esp32.set_rgb_color(-1, 255, 0, 0) \n",
    "    time.sleep(0.5)\n",
    "    esp32.rgb_disable(-1) \n",
    "    time.sleep(0.5)"
   ]
  },
  {
   "cell_type": "markdown",
   "metadata": {},
   "source": [
    "还可以设置LED的亮度，返回当前的亮度等。"
   ]
  },
  {
   "cell_type": "code",
   "execution_count": null,
   "metadata": {},
   "outputs": [],
   "source": [
    "#esp32.set_brightness(7)                                     #设置LED灯的亮度，范围0-9\n",
    "#esp32.get_brightness()                                      #返回LED灯的亮度值"
   ]
  },
  {
   "cell_type": "markdown",
   "metadata": {},
   "source": [
    "### 2.3 蜂鸣器控制\n",
    "\n",
    "掌控板自带蜂鸣器，可以调出简单的音乐。控制蜂鸣器需要导入pinpong库的“Music”模块。"
   ]
  },
  {
   "cell_type": "code",
   "execution_count": null,
   "metadata": {},
   "outputs": [],
   "source": [
    "from pinpong.board import Music\n",
    "esp32 = Music()"
   ]
  },
  {
   "cell_type": "markdown",
   "metadata": {},
   "source": [
    "运行下面的代码，可以播放简单的音乐。"
   ]
  },
  {
   "cell_type": "code",
   "execution_count": null,
   "metadata": {},
   "outputs": [],
   "source": [
    "import time\n",
    "esp32.music_set_tempo(4,60)                         #设置每一拍等同于4分音符，每分钟节拍数\n",
    "# 音符C/C3、D/D3、E/E3、F/F3、G/G3、A/A3、B/B3、C/C4、D/D4、E/E4、F/F4、G/G4、A/A4、B/B4、C/C5、D/D5、E/E5、F/F5、G/G5、A/A5、B/B5\n",
    "# C#/C#3、D#/D#3、F#/F#3、G#/G#3、A#/A#3、C#/C#4、D#/D#4、F#/F#4、G#/G#4、A#/A#4、C#/C#5、D#/D#5、F#/F#5、G#/G#5、A#/A#5\n",
    "#节拍1、0.5、0.25、2/4\n",
    "esp32.set_buzzer_freq(\"F/F3\", 1)                    #播放\"F/F3\"音符，1节拍\n",
    "time.sleep(2)\n",
    "esp32.background_set_buzzer_freq(\"C/C3\")            #后台播放音符\n",
    "time.sleep(2)                 \n",
    "esp32.stop_background_buzzer_freq()                 #停止后台播放"
   ]
  },
  {
   "cell_type": "markdown",
   "metadata": {},
   "source": [
    "**注：**运行到这里，如果需要运行下面的程序或者关闭窗口，建议请先进行“restart Kernel”。"
   ]
  }
 ],
 "metadata": {
  "kernelspec": {
   "display_name": "Python 3",
   "language": "python",
   "name": "python3"
  },
  "language_info": {
   "codemirror_mode": {
    "name": "ipython",
    "version": 3
   },
   "file_extension": ".py",
   "mimetype": "text/x-python",
   "name": "python",
   "nbconvert_exporter": "python",
   "pygments_lexer": "ipython3",
   "version": "3.6.6"
  }
 },
 "nbformat": 4,
 "nbformat_minor": 4
}
