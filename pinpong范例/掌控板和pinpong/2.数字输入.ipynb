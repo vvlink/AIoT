{
 "cells": [
  {
   "cell_type": "markdown",
   "metadata": {},
   "source": [
    "# 虚谷号GPIO之数字输入"
   ]
  },
  {
   "cell_type": "markdown",
   "metadata": {},
   "source": [
    "    描述：读取Arduino引脚的电平高低状态。\n",
    "    \n",
    "    实现：调用pinpong库Pin类中的read_digital()函数，返回该IO引脚电平值，1代表高电平，0代表低电平。该方法在输入模式有效。"
   ]
  },
  {
   "cell_type": "markdown",
   "metadata": {},
   "source": [
    "### 范例：定时读取数字传感器\n",
    "\n",
    "让虚谷号定时读取数字传感器的值，读取按钮状态设置给led灯引脚，数字传感器接在8号引脚。\n",
    "\n",
    "使用pinpong库的Pin类和时间模块进行，代码如下："
   ]
  },
  {
   "cell_type": "code",
   "execution_count": 1,
   "metadata": {},
   "outputs": [
    {
     "name": "stdout",
     "output_type": "stream",
     "text": [
      "\n",
      "  __________________________________________\n",
      " |    ____  _       ____                    |\n",
      " |   / __ \\(_)___  / __ \\____  ____  ____ _ |\n",
      " |  / /_/ / / __ \\/ /_/ / __ \\/ __ \\/ __ `/ |\n",
      " | / ____/ / / / / ____/ /_/ / / / / /_/ /  |\n",
      " |/_/   /_/_/ /_/_/    \\____/_/ /_/\\__, /   |\n",
      " |   v0.3.2  Designed by DFRobot  /____/    |\n",
      " |__________________________________________|\n",
      " \n",
      "[01] Python3.8.3 Windows-10-10.0.18362-SP0 Board: UNO\n",
      "Automatically selected ->  COM9\n",
      "[10] Opening COM9\n",
      "[15] Close COM9\n",
      "[32] Firmata ID: 2.6\n",
      "[10] Opening COM9...\n",
      "[20] Waiting 4 seconds(arduino_wait) for Arduino devices to reset...\n",
      "[22] Arduino compatible device found and connected to COM9\n",
      "[30] Retrieving Arduino Firmware ID...\n",
      "[32] Arduino Firmware ID: 2.6 DFRobot firmata\n",
      "[40] Retrieving analog map...\n",
      "[42] Auto-discovery complete. Found 20 Digital Pins and 6 Analog Pins\n",
      "------------------------------\n",
      "All right. PinPong go...\n",
      "------------------------------\n",
      "\n"
     ]
    }
   ],
   "source": [
    "from pinpong.board import Board,Pin\n",
    "Board(\"uno\").begin()  # 初始化，选择板型(uno、leonardo、xugu)和端口号，不输入端口号则进行自动识别\n",
    "import time  # 导入时间模块"
   ]
  },
  {
   "cell_type": "markdown",
   "metadata": {},
   "source": [
    "选择引脚初始化。"
   ]
  },
  {
   "cell_type": "code",
   "execution_count": 2,
   "metadata": {},
   "outputs": [],
   "source": [
    "btn = Pin(Pin.D12, Pin.IN) #引脚初始化为电平输入\n",
    "led = Pin(Pin.D3, Pin.OUT)"
   ]
  },
  {
   "cell_type": "code",
   "execution_count": 4,
   "metadata": {},
   "outputs": [
    {
     "name": "stdout",
     "output_type": "stream",
     "text": [
      "1\n"
     ]
    }
   ],
   "source": [
    "print(btn.read_digital())"
   ]
  },
  {
   "cell_type": "markdown",
   "metadata": {},
   "source": [
    "按钮状态设置给led灯引脚"
   ]
  },
  {
   "cell_type": "code",
   "execution_count": null,
   "metadata": {},
   "outputs": [],
   "source": [
    "while True:\n",
    "    #v = btn.value()  #读取引脚电平方法1\n",
    "    v = btn.read_digital()  #读取引脚电平方法2\n",
    "    print(v)  #终端打印读取的电平状态\n",
    "    #led.value(v)  #将按钮状态设置给led灯引脚  输出电平方法1\n",
    "    led.write_digital(v) #将按钮状态设置给led灯引脚  输出电平方法2\n",
    "    time.sleep(0.1)"
   ]
  },
  {
   "cell_type": "markdown",
   "metadata": {},
   "source": [
    "常见的数字传感器有按钮、触摸、红外测障等。\n",
    "\n",
    "**注：**运行到这里，如果需要运行下面的程序或者关闭窗口，建议请先进行“restart Kernel”。"
   ]
  },
  {
   "cell_type": "code",
   "execution_count": null,
   "metadata": {},
   "outputs": [],
   "source": []
  }
 ],
 "metadata": {
  "kernelspec": {
   "display_name": "Python 3",
   "language": "python",
   "name": "python3"
  },
  "language_info": {
   "codemirror_mode": {
    "name": "ipython",
    "version": 3
   },
   "file_extension": ".py",
   "mimetype": "text/x-python",
   "name": "python",
   "nbconvert_exporter": "python",
   "pygments_lexer": "ipython3",
   "version": "3.6.6"
  }
 },
 "nbformat": 4,
 "nbformat_minor": 4
}
