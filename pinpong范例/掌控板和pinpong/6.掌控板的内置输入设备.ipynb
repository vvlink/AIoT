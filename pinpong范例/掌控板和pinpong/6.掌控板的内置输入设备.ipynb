{
 "cells": [
  {
   "cell_type": "markdown",
   "metadata": {},
   "source": [
    "# 掌控板的内置输入设备"
   ]
  },
  {
   "cell_type": "markdown",
   "metadata": {},
   "source": [
    "    描述：掌控板内置了按钮、光线、声音、触摸、加速度、指南针（2.*版本）等传感器。\n",
    "    \n",
    "    实现：调用pinpong库中的相关语句，分别读取掌控板的输入设备信息。"
   ]
  },
  {
   "cell_type": "markdown",
   "metadata": {},
   "source": [
    "## 1.公共部分\n",
    "\n",
    "首先需要导入库。\n",
    "\n",
    "注意：第一次导入库时，电脑将通过串口给掌控板烧录一个固件，需要一定的时间。在这个过程中，掌控板背后的LED灯将快速闪烁。烧录成功后，LED的闪烁频率将变慢。"
   ]
  },
  {
   "cell_type": "code",
   "execution_count": 1,
   "metadata": {},
   "outputs": [
    {
     "name": "stdout",
     "output_type": "stream",
     "text": [
      "\n",
      "  __________________________________________\n",
      " |    ____  _       ____                    |\n",
      " |   / __ \\(_)___  / __ \\____  ____  ____ _ |\n",
      " |  / /_/ / / __ \\/ /_/ / __ \\/ __ \\/ __ `/ |\n",
      " | / ____/ / / / / ____/ /_/ / / / / /_/ /  |\n",
      " |/_/   /_/_/ /_/_/    \\____/_/ /_/\\__, /   |\n",
      " |   v0.3.9  Designed by DFRobot  /____/    |\n",
      " |__________________________________________|\n",
      " \n",
      "[01] Python3.6.6 Darwin-20.5.0-x86_64-i386-64bit Board: HANDPY\n",
      "Automatically selected ->  /dev/cu.SLAB_USBtoUART\n",
      "[10] Opening /dev/cu.SLAB_USBtoUART\n",
      "[15] Close /dev/cu.SLAB_USBtoUART\n",
      "[32] Firmata ID: 2.6\n",
      "[10] Opening /dev/cu.SLAB_USBtoUART...\n",
      "[20] Waiting 2 seconds(arduino_wait) for Arduino devices to reset...\n",
      "[22] Arduino compatible device found and connected to /dev/cu.SLAB_USBtoUART\n",
      "[30] Retrieving Arduino Firmware ID...\n",
      "[32] Arduino Firmware ID: 2.6 DFRobot firmata\n",
      "[40] Retrieving analog map...\n",
      "[42] Auto-discovery complete. Found 40 Digital Pins and 16 Analog Pins\n",
      "------------------------------\n",
      "All right. PinPong go...\n",
      "------------------------------\n",
      "\n"
     ]
    },
    {
     "data": {
      "text/plain": [
       "<pinpong.board.Board at 0x7fa0195e1668>"
      ]
     },
     "execution_count": 1,
     "metadata": {},
     "output_type": "execute_result"
    }
   ],
   "source": [
    "from pinpong.board import Board,Pin\n",
    "Board(\"handpy\").begin()#初始化，选择板型和端口号，不输入端口号则进行自动识别\n",
    "#Board(\"handpy\",\"/dev/cu.SLAB_USBtoUART\").begin()   #mac下指定端口初始化\n",
    "#Board(\"handpy\",\"COM36\").begin()   #windows下指定端口初始化\n",
    "#Board(\"handpy\",\"/dev/ttyACM0\").begin()   #linux下指定端口初始化"
   ]
  },
  {
   "cell_type": "markdown",
   "metadata": {},
   "source": [
    "## 2.输出设备的读取\n",
    "\n",
    "使用掌控板的传感器，需要导入pinpong库中的“HPSensor”模块。"
   ]
  },
  {
   "cell_type": "code",
   "execution_count": 2,
   "metadata": {},
   "outputs": [],
   "source": [
    "from pinpong.extension.handpy import HPSensor\n",
    "esp = HPSensor()"
   ]
  },
  {
   "cell_type": "markdown",
   "metadata": {},
   "source": [
    "### 2.1 按钮\n",
    "\n",
    "掌控板有两个按钮，板子上有标识，分别为A和B。分别按下A、B键，运行如下代码，将输出按钮的状态：按下是True，放开是。"
   ]
  },
  {
   "cell_type": "code",
   "execution_count": 3,
   "metadata": {},
   "outputs": [
    {
     "name": "stdout",
     "output_type": "stream",
     "text": [
      "True\n",
      "False\n"
     ]
    }
   ],
   "source": [
    "# 输出A按钮\n",
    "print(esp.buttonA_is_pressed())\n",
    "# 输出B按钮\n",
    "print(esp.buttonB_is_pressed())"
   ]
  },
  {
   "cell_type": "code",
   "execution_count": 4,
   "metadata": {},
   "outputs": [
    {
     "name": "stdout",
     "output_type": "stream",
     "text": [
      "False\n"
     ]
    }
   ],
   "source": [
    "#按键AB是否一起按下\n",
    "print(esp.buttonAB_is_pressed())"
   ]
  },
  {
   "cell_type": "markdown",
   "metadata": {},
   "source": [
    "### 2.光线\n",
    "\n",
    "掌控板的光线传感器在正面的右边。运行如下代码，将输出光线强度，数值在0-4095之间。"
   ]
  },
  {
   "cell_type": "code",
   "execution_count": 6,
   "metadata": {},
   "outputs": [
    {
     "name": "stdout",
     "output_type": "stream",
     "text": [
      "0\n"
     ]
    }
   ],
   "source": [
    "#读取环境光强度\n",
    "print(esp.read_light())"
   ]
  },
  {
   "cell_type": "markdown",
   "metadata": {},
   "source": [
    "### 3.声音\n",
    "\n",
    "掌控板的光线传感器在正面的左边。运行如下代码，将输出麦克风强度。"
   ]
  },
  {
   "cell_type": "code",
   "execution_count": 9,
   "metadata": {},
   "outputs": [
    {
     "name": "stdout",
     "output_type": "stream",
     "text": [
      "2429\n"
     ]
    }
   ],
   "source": [
    "#读取麦克风强度\n",
    "print(esp.read_sound())"
   ]
  },
  {
   "cell_type": "markdown",
   "metadata": {},
   "source": [
    "### 4.触摸\n",
    "\n",
    "掌控板有6个触摸键，分别是P、Y、T、H、O、N。运行如下代码，将输出触摸按钮的状态（是否触摸）。"
   ]
  },
  {
   "cell_type": "code",
   "execution_count": 7,
   "metadata": {},
   "outputs": [
    {
     "name": "stdout",
     "output_type": "stream",
     "text": [
      "False\n",
      "False\n",
      "False\n",
      "False\n",
      "False\n",
      "False\n"
     ]
    }
   ],
   "source": [
    "#是否触摸P\n",
    "print(esp.touch_P())\n",
    "#是否触摸Y\n",
    "print(esp.touch_Y())\n",
    "#是否触摸T\n",
    "print(esp.touch_T()) \n",
    "#是否触摸H\n",
    "print(esp.touch_O())\n",
    "#是否触摸O\n",
    "print(esp.touch_O())\n",
    "#是否触摸N\n",
    "print(esp.touch_N())"
   ]
  },
  {
   "cell_type": "markdown",
   "metadata": {},
   "source": [
    "运行如下代码，将输出触摸按钮的状态（模拟值）。"
   ]
  },
  {
   "cell_type": "code",
   "execution_count": 10,
   "metadata": {},
   "outputs": [
    {
     "name": "stdout",
     "output_type": "stream",
     "text": [
      "71\n",
      "74\n",
      "73\n",
      "79\n",
      "73\n",
      "70\n"
     ]
    }
   ],
   "source": [
    "#读取按键P的触摸值\n",
    "print(esp.read_touch_P())\n",
    "#读取按键Y的触摸值\n",
    "print(esp.read_touch_Y())\n",
    "#读取按键T的触摸值\n",
    "print(esp.read_touch_T())\n",
    "#读取按键H的触摸值\n",
    "print(esp.read_touch_H())\n",
    "#读取按键O的触摸值\n",
    "print(esp.read_touch_O())\n",
    "#读取按键N的触摸值\n",
    "print(esp.read_touch_N())"
   ]
  },
  {
   "cell_type": "markdown",
   "metadata": {},
   "source": [
    "### 5.加速度\n",
    "\n",
    "掌控板内置加速度传感器。运行如下代码，将输出掌控板的当前位置状态。"
   ]
  },
  {
   "cell_type": "code",
   "execution_count": 11,
   "metadata": {},
   "outputs": [
    {
     "name": "stdout",
     "output_type": "stream",
     "text": [
      "394\n",
      "3\n",
      "-914\n",
      "995.31\n"
     ]
    }
   ],
   "source": [
    "#读取加速度X的值\n",
    "print(esp.get_accelerometer_X())\n",
    "#读取加速度Y的值\n",
    "print(esp.get_accelerometer_Y())\n",
    "#读取加速度Z的值\n",
    "print(esp.get_accelerometer_Z())\n",
    "#读取加速度的强度\n",
    "print(esp.get_accelerometer_strength())"
   ]
  },
  {
   "cell_type": "markdown",
   "metadata": {},
   "source": [
    "**注：**如果需要运行下面的程序或者关闭窗口，建议请先进行“restart Kernel”。"
   ]
  },
  {
   "cell_type": "code",
   "execution_count": 12,
   "metadata": {},
   "outputs": [
    {
     "name": "stdout",
     "output_type": "stream",
     "text": [
      "Unknown pin mode\n",
      "Unknown pin mode\n"
     ]
    },
    {
     "name": "stderr",
     "output_type": "stream",
     "text": [
      "Exception in thread Thread-5:\n",
      "Traceback (most recent call last):\n",
      "  File \"/Users/xiezuoru/mPython/python36/lib/python3.6/threading.py\", line 916, in _bootstrap_inner\n",
      "    self.run()\n",
      "  File \"/Users/xiezuoru/mPython/python36/lib/python3.6/threading.py\", line 864, in run\n",
      "    self._target(*self._args, **self._kwargs)\n",
      "  File \"/Users/xiezuoru/mPython/python36/lib/python3.6/site-packages/pinpong/base/pymata4.py\", line 2840, in _reporter\n",
      "    method=dispatch_entry[0]\n",
      "TypeError: 'NoneType' object is not subscriptable\n",
      "\n"
     ]
    }
   ],
   "source": [
    "#  print(esp.buttonA_is_pressed())                    #按键A是否按下\n",
    "#  print(esp.buttonB_is_pressed())                    #按键B是否按下\n",
    "#  print(esp.buttonAB_is_pressed())                   #按键AB是否按下\n",
    "#  print(esp.touch_P())                               #是否触摸P\n",
    "#  print(esp.touch_Y())                               #是否触摸Y\n",
    "#  print(esp.touch_T())                               #是否触摸T\n",
    "#  print(esp.touch_H())                               #是否触摸H\n",
    "#  print(esp.touch_O())                               #是否触摸O\n",
    "#  print(esp.touch_N())                               #是否触摸N\n",
    "#  esp.set_touch_threshold(\"all\",60)                  #设置按键P/Y/T/H/O/N的触摸阈值，all代表全部，范围为0-80\n",
    "#  print(esp.read_touch_P())                          #读取按键P的触摸值\n",
    "#  print(esp.read_touch_Y())                          #读取按键Y的触摸值\n",
    "#  print(esp.read_touch_T())                          #读取按键T的触摸值\n",
    "#  print(esp.read_touch_H())                          #读取按键H的触摸值\n",
    "#  print(esp.read_touch_O())                          #读取按键O的触摸值\n",
    "#  print(esp.read_touch_N())                          #读取按键N的触摸值\n",
    "#  print(esp.read_sound())                            #读取麦克风强度\n",
    "#  print(esp.read_light())                            #读取环境光强度\n",
    "#  print(esp.get_accelerometer_X())                    #读取加速度X的值\n",
    "#  print(esp.get_accelerometer_Y())                    #读取加速度Y的值\n",
    "#  print(esp.get_accelerometer_Z())                    #读取加速度Z的值\n",
    "#  print(esp.get_accelerometer_strength())             #读取加速度的强度"
   ]
  },
  {
   "cell_type": "code",
   "execution_count": null,
   "metadata": {},
   "outputs": [],
   "source": []
  }
 ],
 "metadata": {
  "kernelspec": {
   "display_name": "Python 3",
   "language": "python",
   "name": "python3"
  },
  "language_info": {
   "codemirror_mode": {
    "name": "ipython",
    "version": 3
   },
   "file_extension": ".py",
   "mimetype": "text/x-python",
   "name": "python",
   "nbconvert_exporter": "python",
   "pygments_lexer": "ipython3",
   "version": "3.6.6"
  }
 },
 "nbformat": 4,
 "nbformat_minor": 4
}
