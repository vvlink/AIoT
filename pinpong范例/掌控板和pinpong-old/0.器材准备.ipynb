{
 "cells": [
  {
   "cell_type": "markdown",
   "metadata": {},
   "source": [
    "# GPIO之数字输出"
   ]
  },
  {
   "cell_type": "markdown",
   "metadata": {},
   "source": [
    "    描述：给Arduino引脚设置高（1）、低（0）两种电平状态。\n",
    "    \n",
    "    实现：调用pinpong库Pin类中的write_digital(value)函数，给引脚设置电平值。value指要设置的电平值,1代表高电平,0代表低电平。\n",
    "    说明：本案例以Aruino UNO为例。"
   ]
  },
  {
   "cell_type": "markdown",
   "metadata": {},
   "source": [
    "### 范例：控制板载LED\n",
    "\n",
    "Arduino的13号口，默认接上了一个LED，可以用高低电平来控制LED的开和关。"
   ]
  },
  {
   "cell_type": "code",
   "execution_count": 1,
   "metadata": {},
   "outputs": [
    {
     "name": "stdout",
     "output_type": "stream",
     "text": [
      "\n",
      "  __________________________________________\n",
      " |    ____  _       ____                    |\n",
      " |   / __ \\(_)___  / __ \\____  ____  ____ _ |\n",
      " |  / /_/ / / __ \\/ /_/ / __ \\/ __ \\/ __ `/ |\n",
      " | / ____/ / / / / ____/ /_/ / / / / /_/ /  |\n",
      " |/_/   /_/_/ /_/_/    \\____/_/ /_/\\__, /   |\n",
      " |   v0.3.2  Designed by DFRobot  /____/    |\n",
      " |__________________________________________|\n",
      " \n",
      "[01] Python3.8.3 Windows-10-10.0.18362-SP0 Board: UNO\n",
      "Automatically selected ->  COM9\n",
      "[10] Opening COM9\n",
      "[15] Close COM9\n",
      "[32] Firmata ID: 2.6\n",
      "[10] Opening COM9...\n",
      "[20] Waiting 4 seconds(arduino_wait) for Arduino devices to reset...\n",
      "[22] Arduino compatible device found and connected to COM9\n",
      "[30] Retrieving Arduino Firmware ID...\n",
      "[32] Arduino Firmware ID: 2.6 DFRobot firmata\n",
      "[40] Retrieving analog map...\n",
      "[42] Auto-discovery complete. Found 20 Digital Pins and 6 Analog Pins\n",
      "------------------------------\n",
      "All right. PinPong go...\n",
      "------------------------------\n",
      "\n"
     ]
    },
    {
     "data": {
      "text/plain": [
       "<pinpong.board.Board at 0x236bec239d0>"
      ]
     },
     "execution_count": 1,
     "metadata": {},
     "output_type": "execute_result"
    }
   ],
   "source": [
    "from pinpong.board import Board,Pin\n",
    "Board(\"uno\").begin()  # 初始化，选择板型(uno、leonardo、xugu)和端口号，不输入端口号则进行自动识别"
   ]
  },
  {
   "cell_type": "markdown",
   "metadata": {},
   "source": [
    "选择引脚初始化"
   ]
  },
  {
   "cell_type": "code",
   "execution_count": 2,
   "metadata": {},
   "outputs": [],
   "source": [
    "p = Pin(Pin.D3, Pin.OUT) #引脚初始化为电平输出"
   ]
  },
  {
   "cell_type": "markdown",
   "metadata": {},
   "source": [
    "设置为1（高电平），点亮13脚的LED灯"
   ]
  },
  {
   "cell_type": "code",
   "execution_count": 3,
   "metadata": {},
   "outputs": [],
   "source": [
    "# 设置 13号引脚为高电平\n",
    "p.write_digital(1)"
   ]
  },
  {
   "cell_type": "markdown",
   "metadata": {},
   "source": [
    "设置为0（低电平），熄灭13脚的LED灯"
   ]
  },
  {
   "cell_type": "code",
   "execution_count": 4,
   "metadata": {},
   "outputs": [],
   "source": [
    "p.write_digital(0) # 设置 13 号引脚为低电平"
   ]
  },
  {
   "cell_type": "markdown",
   "metadata": {},
   "source": [
    "执行10次的闪烁。"
   ]
  },
  {
   "cell_type": "code",
   "execution_count": null,
   "metadata": {},
   "outputs": [],
   "source": [
    "import time\n",
    "for i in range(10):\n",
    "    p.write_digital(1)\n",
    "    time.sleep(0.5\n",
    "    p.write_digital(0)\n",
    "    time.sleep(0.5)"
   ]
  },
  {
   "cell_type": "markdown",
   "metadata": {},
   "source": [
    "**注：**运行到这里，如果需要运行下面的程序或者关闭窗口，建议请先进行“restart Kernel”。"
   ]
  },
  {
   "cell_type": "markdown",
   "metadata": {},
   "source": [
    "### 范例：闪一闪1\n",
    "\n",
    "让Arduino自带的LED(接在13号引脚，即D13)闪烁，设置为亮1秒熄灭1秒。\n",
    "\n",
    "采用数字输出的方式，使用Pin类和时间模块进行，代码如下："
   ]
  },
  {
   "cell_type": "code",
   "execution_count": null,
   "metadata": {},
   "outputs": [],
   "source": [
    "import time # 导入 time 模块\n",
    "from pinpong.board import Board,Pin\n",
    "\n",
    "Board(\"uno\").begin() \n",
    "led = Pin(Pin.D13, Pin.OUT) #引脚初始化为电平输出\n",
    "\n",
    "\n",
    "while True:\n",
    "    #led.value(1) #输出高电平 方法1\n",
    "    led.write_digital(1) #输出高电平 方法2\n",
    "    print(\"1\") #终端打印信息\n",
    "    time.sleep(1) #等待1秒 保持状态\n",
    "\n",
    "    #led.value(0) #输出低电平 方法1\n",
    "    led.write_digital(0) #输出低电平 方法2\n",
    "    print(\"0\") #终端打印信息\n",
    "    time.sleep(1) #等待1秒 保持状态"
   ]
  },
  {
   "cell_type": "markdown",
   "metadata": {},
   "source": [
    "**注：**运行到这里，如果需要运行下面的程序或者关闭窗口，建议请先进行“restart Kernel”。"
   ]
  },
  {
   "cell_type": "code",
   "execution_count": null,
   "metadata": {},
   "outputs": [],
   "source": []
  }
 ],
 "metadata": {
  "kernelspec": {
   "display_name": "Python 3",
   "language": "python",
   "name": "python3"
  },
  "language_info": {
   "codemirror_mode": {
    "name": "ipython",
    "version": 3
   },
   "file_extension": ".py",
   "mimetype": "text/x-python",
   "name": "python",
   "nbconvert_exporter": "python",
   "pygments_lexer": "ipython3",
   "version": "3.8.3"
  }
 },
 "nbformat": 4,
 "nbformat_minor": 4
}
