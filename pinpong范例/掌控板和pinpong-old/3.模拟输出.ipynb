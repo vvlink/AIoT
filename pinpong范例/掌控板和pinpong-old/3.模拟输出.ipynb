{
 "cells": [
  {
   "cell_type": "markdown",
   "metadata": {},
   "source": [
    "# GPIO之模拟输出"
   ]
  },
  {
   "cell_type": "markdown",
   "metadata": {},
   "source": [
    "    描述：向Arduino的特定引脚输出模拟信号。\n",
    "    \n",
    "    实现：调用pinpong库Pin类中的write_analog(value)函数，给引脚设置模拟值。value指要设置的模拟值,数据范围在0和255之间。该方法在输出模式有效。Arduino支持的模拟输出(PWM方式)的引脚共有6个: 3、5、6、9、10、11。"
   ]
  },
  {
   "cell_type": "markdown",
   "metadata": {},
   "source": [
    "### 范例：PWM方式控制LED\n",
    "\n",
    "用PWM方式控制LED模块，接在虚谷号的10号引脚上。\n",
    "\n",
    "单片机的模拟电平输出，一般都是采用PWM脉宽调制实现，Arduino上支持PWM的引脚有3，5，6，9，10，11，在虚谷号板子上可以看到引脚旁边有“～”的标志。\n",
    "\n",
    "使用pinpong的Pin类，代码如下："
   ]
  },
  {
   "cell_type": "code",
   "execution_count": 2,
   "metadata": {},
   "outputs": [
    {
     "name": "stdout",
     "output_type": "stream",
     "text": [
      "\n",
      "  __________________________________________\n",
      " |    ____  _       ____                    |\n",
      " |   / __ \\(_)___  / __ \\____  ____  ____ _ |\n",
      " |  / /_/ / / __ \\/ /_/ / __ \\/ __ \\/ __ `/ |\n",
      " | / ____/ / / / / ____/ /_/ / / / / /_/ /  |\n",
      " |/_/   /_/_/ /_/_/    \\____/_/ /_/\\__, /   |\n",
      " |   v0.3.2  Designed by DFRobot  /____/    |\n",
      " |__________________________________________|\n",
      " \n",
      "[01] Python3.8.3 Windows-10-10.0.18362-SP0 Board: UNO\n",
      "Automatically selected ->  COM9\n",
      "[10] Opening COM9\n",
      "[15] Close COM9\n",
      "[32] Firmata ID: 2.6\n",
      "[10] Opening COM9...\n",
      "[20] Waiting 4 seconds(arduino_wait) for Arduino devices to reset...\n",
      "[22] Arduino compatible device found and connected to COM9\n",
      "[30] Retrieving Arduino Firmware ID...\n",
      "[32] Arduino Firmware ID: 2.6 DFRobot firmata\n",
      "[40] Retrieving analog map...\n",
      "[42] Auto-discovery complete. Found 20 Digital Pins and 6 Analog Pins\n",
      "------------------------------\n",
      "All right. PinPong go...\n",
      "------------------------------\n",
      "\n"
     ]
    },
    {
     "data": {
      "text/plain": [
       "<pinpong.board.Board at 0x1fe61f63880>"
      ]
     },
     "execution_count": 2,
     "metadata": {},
     "output_type": "execute_result"
    }
   ],
   "source": [
    "from pinpong.board import Board,Pin\n",
    "Board(\"uno\").begin()"
   ]
  },
  {
   "cell_type": "markdown",
   "metadata": {},
   "source": [
    "选择引脚初始化"
   ]
  },
  {
   "cell_type": "code",
   "execution_count": 3,
   "metadata": {},
   "outputs": [],
   "source": [
    "#p = PWM(Pin(board,Pin.D6)) #将引脚传入PWM初始化  模拟输出方法1\n",
    "p = Pin(Pin.D3, Pin.PWM) #初始化引脚为PWM模式 模拟输出方法2"
   ]
  },
  {
   "cell_type": "markdown",
   "metadata": {},
   "source": [
    "给引脚设置模拟值128"
   ]
  },
  {
   "cell_type": "code",
   "execution_count": 4,
   "metadata": {},
   "outputs": [],
   "source": [
    "p.write_analog(128)"
   ]
  },
  {
   "cell_type": "markdown",
   "metadata": {},
   "source": [
    "给引脚设置模拟值255"
   ]
  },
  {
   "cell_type": "code",
   "execution_count": 8,
   "metadata": {},
   "outputs": [],
   "source": [
    "p.write_analog(200)"
   ]
  },
  {
   "cell_type": "markdown",
   "metadata": {},
   "source": [
    "小挑战：写一个循环语句，控制LED的明暗交替变化，看看能不能实现呼吸灯的效果。"
   ]
  },
  {
   "cell_type": "code",
   "execution_count": null,
   "metadata": {},
   "outputs": [],
   "source": [
    "import time\n",
    "while True:\n",
    "    for i in range(255):\n",
    "        print(i)\n",
    "        #pwm0.duty(i) #PWM输出 方法1\n",
    "        p.write_analog(i) #PWM输出 方法2\n",
    "        time.sleep(0.05)"
   ]
  },
  {
   "cell_type": "markdown",
   "metadata": {},
   "source": [
    "**注：**运行到这里，如果需要运行下面的程序或者关闭窗口，建议请先进行“restart Kernel”。"
   ]
  },
  {
   "cell_type": "code",
   "execution_count": null,
   "metadata": {},
   "outputs": [],
   "source": []
  }
 ],
 "metadata": {
  "kernelspec": {
   "display_name": "Python 3",
   "language": "python",
   "name": "python3"
  },
  "language_info": {
   "codemirror_mode": {
    "name": "ipython",
    "version": 3
   },
   "file_extension": ".py",
   "mimetype": "text/x-python",
   "name": "python",
   "nbconvert_exporter": "python",
   "pygments_lexer": "ipython3",
   "version": "3.6.6"
  }
 },
 "nbformat": 4,
 "nbformat_minor": 4
}
