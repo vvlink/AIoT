{
 "cells": [
  {
   "cell_type": "markdown",
   "metadata": {},
   "source": [
    "# 虚谷号GPIO之模拟输入"
   ]
  },
  {
   "cell_type": "markdown",
   "metadata": {},
   "source": [
    "    描述：读取Arduino特定引脚的输入模拟信号。\n",
    "    \n",
    "    实现：调用pinpong库Pin类中的read_analog()函数，返回IO引脚的模拟值,数据范围在0和1023之间。该方法在输入模式有效。虚谷号板载Arduino支持的模拟输入的引脚共有6个，分别为A0-A5。"
   ]
  },
  {
   "cell_type": "markdown",
   "metadata": {},
   "source": [
    "### 范例：定时读取模拟传感器\n",
    "\n",
    "读取虚谷号A0引脚的电压值并打印，A0引脚接模拟传感器。常见的模拟传感器有旋钮、光线、声音、温度等。\n",
    "\n",
    "使用xugu库的Pin类，代码如下："
   ]
  },
  {
   "cell_type": "code",
   "execution_count": 1,
   "metadata": {},
   "outputs": [
    {
     "name": "stdout",
     "output_type": "stream",
     "text": [
      "\n",
      "  __________________________________________\n",
      " |    ____  _       ____                    |\n",
      " |   / __ \\(_)___  / __ \\____  ____  ____ _ |\n",
      " |  / /_/ / / __ \\/ /_/ / __ \\/ __ \\/ __ `/ |\n",
      " | / ____/ / / / / ____/ /_/ / / / / /_/ /  |\n",
      " |/_/   /_/_/ /_/_/    \\____/_/ /_/\\__, /   |\n",
      " |   v0.3.2  Designed by DFRobot  /____/    |\n",
      " |__________________________________________|\n",
      " \n",
      "[01] Python3.8.3 Windows-10-10.0.18362-SP0 Board: UNO\n",
      "Automatically selected ->  COM9\n",
      "[10] Opening COM9\n",
      "[15] Close COM9\n",
      "[32] Firmata ID: 2.6\n",
      "[10] Opening COM9...\n",
      "[20] Waiting 4 seconds(arduino_wait) for Arduino devices to reset...\n",
      "[22] Arduino compatible device found and connected to COM9\n",
      "[30] Retrieving Arduino Firmware ID...\n",
      "[32] Arduino Firmware ID: 2.6 DFRobot firmata\n",
      "[40] Retrieving analog map...\n",
      "[42] Auto-discovery complete. Found 20 Digital Pins and 6 Analog Pins\n",
      "------------------------------\n",
      "All right. PinPong go...\n",
      "------------------------------\n",
      "\n"
     ]
    },
    {
     "data": {
      "text/plain": [
       "<pinpong.board.Board at 0x268a89138b0>"
      ]
     },
     "execution_count": 1,
     "metadata": {},
     "output_type": "execute_result"
    }
   ],
   "source": [
    "import time\n",
    "from pinpong.board import Board,Pin\n",
    "Board(\"uno\").begin()"
   ]
  },
  {
   "cell_type": "markdown",
   "metadata": {},
   "source": [
    "选择引脚初始化"
   ]
  },
  {
   "cell_type": "code",
   "execution_count": 2,
   "metadata": {},
   "outputs": [],
   "source": [
    "#adc0 = ADC(Pin(Pin.A0)) #将Pin传入ADC中实现模拟输入  模拟输入方法1\n",
    "adc0 = Pin(Pin.A0, Pin.ANALOG) #引脚初始化为电平输出 模拟输入方法2"
   ]
  },
  {
   "cell_type": "markdown",
   "metadata": {},
   "source": [
    "读取 A0 引脚的电压值。"
   ]
  },
  {
   "cell_type": "code",
   "execution_count": 5,
   "metadata": {},
   "outputs": [],
   "source": [
    "#v = adc0.read()  #读取A0口模拟信号数值 模拟输入方法1\n",
    "v = adc0.read_analog() #读取A0口模拟信号数值 模拟输入方法2"
   ]
  },
  {
   "cell_type": "markdown",
   "metadata": {},
   "source": [
    "打印获取的电压值。"
   ]
  },
  {
   "cell_type": "code",
   "execution_count": 6,
   "metadata": {},
   "outputs": [
    {
     "name": "stdout",
     "output_type": "stream",
     "text": [
      "61\n"
     ]
    }
   ],
   "source": [
    "print(v)"
   ]
  },
  {
   "cell_type": "markdown",
   "metadata": {},
   "source": [
    "小挑战：写一个循环语句，定时读取模拟传感器的数值并打印。"
   ]
  },
  {
   "cell_type": "code",
   "execution_count": null,
   "metadata": {},
   "outputs": [
    {
     "name": "stdout",
     "output_type": "stream",
     "text": [
      "A0= 70\n",
      "A0= 71\n",
      "A0= 69\n",
      "A0= 68\n",
      "A0= 207\n",
      "A0= 150\n",
      "A0= 30\n",
      "A0= 1\n",
      "A0= 2\n",
      "A0= 2\n",
      "A0= 2\n",
      "A0= 64\n",
      "A0= 231\n",
      "A0= 991\n",
      "A0= 985\n",
      "A0= 987\n",
      "A0= 782\n",
      "A0= 137\n",
      "A0= 220\n",
      "A0= 142\n",
      "A0= 150\n",
      "A0= 875\n",
      "A0= 953\n",
      "A0= 536\n",
      "A0= 37\n",
      "A0= 57\n",
      "A0= 67\n",
      "A0= 71\n",
      "A0= 78\n",
      "A0= 83\n",
      "A0= 80\n",
      "A0= 119\n",
      "A0= 83\n",
      "A0= 81\n",
      "A0= 80\n",
      "A0= 83\n",
      "A0= 79\n",
      "A0= 82\n",
      "A0= 78\n",
      "A0= 76\n",
      "A0= 134\n",
      "A0= 514\n",
      "A0= 188\n",
      "A0= 308\n",
      "A0= 150\n",
      "A0= 146\n",
      "A0= 157\n",
      "A0= 202\n",
      "A0= 210\n",
      "A0= 210\n",
      "A0= 209\n",
      "A0= 212\n",
      "A0= 210\n",
      "A0= 213\n",
      "A0= 205\n",
      "A0= 92\n",
      "A0= 83\n",
      "A0= 83\n",
      "A0= 82\n",
      "A0= 80\n",
      "A0= 82\n",
      "A0= 81\n",
      "A0= 81\n",
      "A0= 84\n",
      "A0= 82\n",
      "A0= 80\n",
      "A0= 60\n",
      "A0= 55\n",
      "A0= 168\n",
      "A0= 79\n",
      "A0= 98\n",
      "A0= 115\n",
      "A0= 212\n",
      "A0= 199\n",
      "A0= 177\n",
      "A0= 175\n",
      "A0= 181\n",
      "A0= 192\n",
      "A0= 175\n",
      "A0= 215\n",
      "A0= 186\n",
      "A0= 180\n",
      "A0= 215\n",
      "A0= 222\n",
      "A0= 188\n",
      "A0= 203\n",
      "A0= 213\n",
      "A0= 290\n",
      "A0= 393\n",
      "A0= 705\n",
      "A0= 403\n",
      "A0= 900\n",
      "A0= 992\n",
      "A0= 993\n",
      "A0= 993\n",
      "A0= 993\n",
      "A0= 993\n",
      "A0= 994\n",
      "A0= 994\n",
      "A0= 994\n",
      "A0= 994\n",
      "A0= 995\n",
      "A0= 993\n",
      "A0= 993\n",
      "A0= 651\n",
      "A0= 575\n",
      "A0= 281\n",
      "A0= 648\n",
      "A0= 105\n",
      "A0= 267\n",
      "A0= 992\n",
      "A0= 946\n",
      "A0= 274\n",
      "A0= 253\n",
      "A0= 199\n",
      "A0= 480\n",
      "A0= 436\n",
      "A0= 760\n",
      "A0= 876\n",
      "A0= 802\n",
      "A0= 447\n",
      "A0= 384\n",
      "A0= 407\n",
      "A0= 434\n",
      "A0= 436\n",
      "A0= 439\n",
      "A0= 448\n",
      "A0= 459\n",
      "A0= 450\n",
      "A0= 448\n",
      "A0= 460\n",
      "A0= 441\n",
      "A0= 425\n",
      "A0= 485\n",
      "A0= 360\n",
      "A0= 122\n",
      "A0= 95\n",
      "A0= 176\n"
     ]
    }
   ],
   "source": [
    "import time\n",
    "while True:\n",
    "    #v = adc0.read()  #读取A0口模拟信号数值 模拟输入方法1\n",
    "    v = adc0.read_analog() #读取A0口模拟信号数值 模拟输入方法2\n",
    "    print(\"A0=\", v)\n",
    "    time.sleep(0.5)"
   ]
  },
  {
   "cell_type": "markdown",
   "metadata": {},
   "source": [
    "**注：**运行到这里，如果不需要运行程序或者关闭窗口，请先点击上方的黑色正方形中断服务。如果打开笔记的时候，程序已经运行，需先选择上方“服务”->再选择“重启 & 清空输出”，便可重新运行程序。"
   ]
  }
 ],
 "metadata": {
  "kernelspec": {
   "display_name": "Python 3",
   "language": "python",
   "name": "python3"
  },
  "language_info": {
   "codemirror_mode": {
    "name": "ipython",
    "version": 3
   },
   "file_extension": ".py",
   "mimetype": "text/x-python",
   "name": "python",
   "nbconvert_exporter": "python",
   "pygments_lexer": "ipython3",
   "version": "3.6.6"
  }
 },
 "nbformat": 4,
 "nbformat_minor": 4
}
