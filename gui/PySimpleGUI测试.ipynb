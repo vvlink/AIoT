{
 "cells": [
  {
   "cell_type": "markdown",
   "id": "373f85eb",
   "metadata": {},
   "source": [
    "# PySimpleGUI测试\n",
    "\n",
    "## 1. 基本界面设计（TK）"
   ]
  },
  {
   "cell_type": "code",
   "execution_count": null,
   "id": "9938f8bb",
   "metadata": {},
   "outputs": [],
   "source": [
    "# 基本窗体\n",
    "import PySimpleGUI as sg\n",
    "\n",
    "layout = [\n",
    "    [sg.Text('请输入你的名字和性别：')],\n",
    "    [sg.Input(key='in01')],\n",
    "    [sg.Input(key='in02')],\n",
    "    [sg.Button('确认'), sg.Button('取消')],\n",
    "    [sg.Text('输出：'), sg.Text(key='out01')]\n",
    "]\n",
    "window = sg.Window('PySimpleGUI 范例', layout)\n",
    "while True:\n",
    "    # event为按钮的名称，values为一个字典\n",
    "    event, values = window.read()\n",
    "    print(event)\n",
    "    print(values)\n",
    "    if values['in02']=='男':\n",
    "        s = values['in01'] + '先生'\n",
    "    else:\n",
    "        s = values['in01'] + '女士' \n",
    "    if event in (None, '取消'):\n",
    "        pass\n",
    "    else:\n",
    "        window['out01'].update(s)\n",
    "window.close()"
   ]
  },
  {
   "cell_type": "markdown",
   "id": "9c0ef3bc",
   "metadata": {},
   "source": [
    "## 2. Web界面设计（remi）\n",
    "\n",
    "安装方法\n",
    "\n",
    "pip install PySimpleGUIweb\n",
    "\n",
    "只要修改导入的库名称。\n",
    "\n",
    "备注：发现remi运行出错，卸载、重装后恢复正常。"
   ]
  },
  {
   "cell_type": "code",
   "execution_count": null,
   "id": "e1c6b6b3",
   "metadata": {},
   "outputs": [
    {
     "name": "stdout",
     "output_type": "stream",
     "text": [
      "确认\n",
      "{'in01': '谢作如', 'in02': '男'}\n",
      "取消\n",
      "{'in01': '谢作如', 'in02': '男'}\n",
      "取消\n",
      "{'in01': '谢作如', 'in02': '男'}\n"
     ]
    }
   ],
   "source": [
    "# 基本窗体\n",
    "import remi\n",
    "import PySimpleGUIWeb as sg\n",
    "\n",
    "layout = [\n",
    "    [sg.Text('请输入你的名字和性别：')],\n",
    "    [sg.Input(key='in01')],\n",
    "    [sg.Input(key='in02')],\n",
    "    [sg.Button('确认'), sg.Button('取消')],\n",
    "    [sg.Text('输出：'), sg.Text(key='out01')]\n",
    "]\n",
    "window = sg.Window('PySimpleGUI 范例', layout)\n",
    "while True:\n",
    "    # event为按钮的名称，values为一个字典\n",
    "    event, values = window.read()\n",
    "    print(event)\n",
    "    print(values)\n",
    "    if values['in02']=='男':\n",
    "        s = values['in01'] + '先生'\n",
    "    else:\n",
    "        s = values['in01'] + '女士' \n",
    "    if event in (None, '取消'):\n",
    "        pass\n",
    "    else:\n",
    "        window['out01'].update(s)\n",
    "window.close()"
   ]
  },
  {
   "cell_type": "markdown",
   "id": "9e3c7a5a",
   "metadata": {},
   "source": [
    "remi库测试，如果有问题需要重新安装remi。"
   ]
  },
  {
   "cell_type": "code",
   "execution_count": null,
   "id": "15565588",
   "metadata": {},
   "outputs": [],
   "source": [
    "from remi import start, App, gui\n",
    "class MyApp(App):\n",
    "    def init(self, args): \n",
    "        super(MyApp, self).init(args)\n",
    "    def main(self):\n",
    "        container = gui.VBox(width=300, height=200, style={'margin':'5px auto'})\n",
    "        self.lbl = gui.Label('你好，我是一个WebApp！')\n",
    "        self.bt = gui.Button('请点击这里')\n",
    "        self.bt.onclick.do(self.on_button_pressed)\n",
    "        container.append(self.lbl)\n",
    "        container.append(self.bt)\n",
    "        return container\n",
    "    def on_button_pressed(self, widget):\n",
    "        self.lbl.set_text('你点击了按钮!')\n",
    "\n",
    "start(MyApp)"
   ]
  },
  {
   "cell_type": "code",
   "execution_count": null,
   "id": "e3a9aab6",
   "metadata": {},
   "outputs": [],
   "source": []
  }
 ],
 "metadata": {
  "kernelspec": {
   "display_name": "Python 3 (ipykernel)",
   "language": "python",
   "name": "python3"
  },
  "language_info": {
   "codemirror_mode": {
    "name": "ipython",
    "version": 3
   },
   "file_extension": ".py",
   "mimetype": "text/x-python",
   "name": "python",
   "nbconvert_exporter": "python",
   "pygments_lexer": "ipython3",
   "version": "3.9.13"
  }
 },
 "nbformat": 4,
 "nbformat_minor": 5
}
