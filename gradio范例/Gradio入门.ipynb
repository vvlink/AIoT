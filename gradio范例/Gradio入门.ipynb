{
 "cells": [
  {
   "cell_type": "markdown",
   "id": "90b2fa87",
   "metadata": {},
   "source": [
    "# Gradio入门"
   ]
  },
  {
   "cell_type": "markdown",
   "id": "9e284e98",
   "metadata": {},
   "source": [
    "## 1.基础\n",
    "\n",
    "### 1.1 基础代码\n",
    "\n",
    "gr.Interface(fn=greet, inputs=\"text\", outputs=\"text\")"
   ]
  },
  {
   "cell_type": "code",
   "execution_count": null,
   "id": "26f0db5f",
   "metadata": {},
   "outputs": [],
   "source": [
    "import gradio as gr\n",
    " \n",
    "def greet(name):\n",
    "    return \"Hello \" + name + \"!\"\n",
    " \n",
    "demo = gr.Interface(fn=greet, inputs=\"text\", outputs=\"text\")\n",
    " \n",
    "demo.launch()"
   ]
  },
  {
   "cell_type": "markdown",
   "id": "8ec69136",
   "metadata": {},
   "source": [
    "### 1.2 多行输入"
   ]
  },
  {
   "cell_type": "code",
   "execution_count": null,
   "id": "857b39e3",
   "metadata": {},
   "outputs": [],
   "source": [
    "import gradio as gr\n",
    "\n",
    "def greet(name):\n",
    "    return \"Hello \" + name + \"!\"\n",
    "\n",
    "demo = gr.Interface(\n",
    "    fn=greet,\n",
    "    inputs=gr.Textbox(lines=2, placeholder=\"Name Here...\"),\n",
    "    outputs=\"text\",\n",
    ")\n",
    "demo.launch()"
   ]
  },
  {
   "cell_type": "markdown",
   "id": "f3b56670",
   "metadata": {},
   "source": [
    "## 2. 进阶\n",
    "\n",
    "### 2.1 多个输出\n",
    "\n",
    "假设您有一个更复杂的函数，有多个输入和输出。在下面的示例中，我们定义了一个函数，该函数接受字符串、布尔值和数字，并返回字符串和数字。观察应该如何传递输入和输出组件列表。\n",
    "\n",
    "您只需将组件包装在列表中。输入列表inputs中的每个组件依次对应函数的一个参数。输出列表outputs中的每个组件都对应于函数的一个返回值，两者均按顺序对应。"
   ]
  },
  {
   "cell_type": "code",
   "execution_count": null,
   "id": "f6355a4f",
   "metadata": {},
   "outputs": [],
   "source": [
    "import gradio as gr\n",
    "\n",
    "def greet(name, is_morning, temperature):\n",
    "    salutation = \"Good morning\" if is_morning else \"Good evening\"\n",
    "    greeting = f\"{salutation} {name}. It is {temperature} degrees today\"\n",
    "    celsius = (temperature - 32) * 5 / 9\n",
    "    return greeting, round(celsius, 2)\n",
    "\n",
    "demo = gr.Interface(\n",
    "    fn=greet,\n",
    "    inputs=[\"text\", \"checkbox\", gr.Slider(0, 100)],\n",
    "    outputs=[\"text\", \"number\"],\n",
    ")\n",
    "demo.launch()"
   ]
  },
  {
   "cell_type": "markdown",
   "id": "7c433316",
   "metadata": {},
   "source": [
    "# 2.涂鸦"
   ]
  },
  {
   "cell_type": "code",
   "execution_count": null,
   "id": "7faf5272",
   "metadata": {},
   "outputs": [],
   "source": [
    "import gradio as gr\n",
    "def sketch_recognition(img):\n",
    "    pass# Implement your sketch recognition model here...\n",
    " \n",
    "gr.Interface(fn=sketch_recognition, inputs=\"sketchpad\", outputs=\"label\").launch()"
   ]
  },
  {
   "cell_type": "markdown",
   "id": "e15c54d1",
   "metadata": {},
   "source": []
  },
  {
   "cell_type": "code",
   "execution_count": null,
   "id": "bfc5c4ee",
   "metadata": {},
   "outputs": [],
   "source": [
    "import os\n",
    "import numpy as np\n",
    "import gradio as gr\n",
    "\n",
    "\n",
    "# 输入麦克风的音频，输出反向后的音频\n",
    "def reverse_audio(audio):\n",
    "    sr, data = audio\n",
    "    return (sr, np.flipud(data))\n",
    "\n",
    "\n",
    "demo = gr.Interface(fn=reverse_audio, \n",
    "                    inputs=\"microphone\", \n",
    "                    outputs=\"audio\", \n",
    "                    examples=[\n",
    "                    \"https://samplelib.com/lib/preview/mp3/sample-3s.mp3\"], \n",
    "                    cache_examples=True,\n",
    "                    allow_flagging=\"never\")\n",
    "\n",
    "if __name__ == \"__main__\":\n",
    "    demo.launch()"
   ]
  },
  {
   "cell_type": "code",
   "execution_count": null,
   "id": "f76b3efc",
   "metadata": {},
   "outputs": [],
   "source": []
  },
  {
   "cell_type": "code",
   "execution_count": null,
   "id": "9c88e5ca",
   "metadata": {},
   "outputs": [],
   "source": [
    "import gradio as gr\n",
    "import cv2\n",
    "def to_black(image):\n",
    "    output = cv2.cvtColor(image, cv2.COLOR_BGR2GRAY)\n",
    "    return output\n",
    "\n",
    "interface = gr.Interface(fn=to_black, inputs=\"image\", outputs=\"image\")\n",
    "interface.launch()"
   ]
  },
  {
   "cell_type": "markdown",
   "id": "ececfab2",
   "metadata": {},
   "source": [
    "### 3.1 摄像头"
   ]
  },
  {
   "cell_type": "code",
   "execution_count": null,
   "id": "be928587",
   "metadata": {},
   "outputs": [],
   "source": [
    "import gradio as gr\n",
    "import cv2\n",
    "def to_black(image):\n",
    "    output = cv2.cvtColor(image, cv2.COLOR_BGR2GRAY)\n",
    "    return output\n",
    "interface = gr.Interface(fn=to_black, inputs=gr.Image(source='webcam',type='pil'), outputs=\"image\")\n",
    "interface.launch()"
   ]
  },
  {
   "cell_type": "markdown",
   "id": "559d6f23",
   "metadata": {},
   "source": [
    "### 3.2 摄像头\n",
    "\n",
    "当使用Image组件作为输入时，您的函数将接收一个形状为 (height, width, 3) 的NumPy数组，其中最后一个维度表示RGB值。我们还将以NumPy数组的形式返回一张图像。"
   ]
  },
  {
   "cell_type": "code",
   "execution_count": 1,
   "id": "379e97e5",
   "metadata": {},
   "outputs": [
    {
     "name": "stdout",
     "output_type": "stream",
     "text": [
      "Running on local URL:  http://127.0.0.1:7860\n",
      "\n",
      "To create a public link, set `share=True` in `launch()`.\n"
     ]
    },
    {
     "data": {
      "text/html": [
       "<div><iframe src=\"http://127.0.0.1:7860/\" width=\"100%\" height=\"500\" allow=\"autoplay; camera; microphone; clipboard-read; clipboard-write;\" frameborder=\"0\" allowfullscreen></iframe></div>"
      ],
      "text/plain": [
       "<IPython.core.display.HTML object>"
      ]
     },
     "metadata": {},
     "output_type": "display_data"
    },
    {
     "data": {
      "text/plain": []
     },
     "execution_count": 1,
     "metadata": {},
     "output_type": "execute_result"
    }
   ],
   "source": [
    "import numpy as np\n",
    "import gradio as gr\n",
    "\n",
    "def sepia(input_img):\n",
    "    sepia_filter = np.array([\n",
    "        [0.393, 0.769, 0.189], \n",
    "        [0.349, 0.686, 0.168], \n",
    "        [0.272, 0.534, 0.131]\n",
    "    ])\n",
    "    sepia_img = input_img.dot(sepia_filter.T)\n",
    "    sepia_img /= sepia_img.max()\n",
    "    return sepia_img\n",
    "\n",
    "demo = gr.Interface(sepia, gr.Image(shape=(200, 200)), \"image\")\n",
    "demo.launch()"
   ]
  },
  {
   "cell_type": "markdown",
   "id": "28d90da1",
   "metadata": {},
   "source": [
    "### 3.5 另一种写法"
   ]
  },
  {
   "cell_type": "code",
   "execution_count": null,
   "id": "afe5da0f",
   "metadata": {},
   "outputs": [],
   "source": [
    "import gradio as gr\n",
    "\n",
    "def greet(name):\n",
    "    return \"Hello \" + name + \"!\"\n",
    "\n",
    "with gr.Blocks() as demo:\n",
    "    name = gr.Textbox(label=\"Name\")\n",
    "    output = gr.Textbox(label=\"Output Box\")\n",
    "    greet_btn = gr.Button(\"Greet\")\n",
    "    greet_btn.click(fn=greet, inputs=name, outputs=output)\n",
    "\n",
    "demo.launch()"
   ]
  }
 ],
 "metadata": {
  "kernelspec": {
   "display_name": "Python 3 (ipykernel)",
   "language": "python",
   "name": "python3"
  },
  "language_info": {
   "codemirror_mode": {
    "name": "ipython",
    "version": 3
   },
   "file_extension": ".py",
   "mimetype": "text/x-python",
   "name": "python",
   "nbconvert_exporter": "python",
   "pygments_lexer": "ipython3",
   "version": "3.9.13"
  }
 },
 "nbformat": 4,
 "nbformat_minor": 5
}
