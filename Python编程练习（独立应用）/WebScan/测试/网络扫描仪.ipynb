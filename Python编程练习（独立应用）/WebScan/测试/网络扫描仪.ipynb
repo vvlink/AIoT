{
 "cells": [
  {
   "cell_type": "markdown",
   "metadata": {},
   "source": [
    "# 虚谷号网络扫描仪（Python版）\n",
    "\n",
    "点击“运行”，然后下载图片。当图片多了，要记得及时删除。"
   ]
  },
  {
   "cell_type": "code",
   "execution_count": 15,
   "metadata": {},
   "outputs": [
    {
     "name": "stdout",
     "output_type": "stream",
     "text": [
      "本目录中已经有1个扫描文件。\n",
      "扫描中，请等待……\n",
      "图片扫描成功，正在转换。\n"
     ]
    },
    {
     "data": {
      "text/html": [
       "图片转换成功！请<a href=static/scan/scan3.jpg target=_blank>点击下载scan3.jpg</a>。"
      ],
      "text/plain": [
       "<IPython.core.display.HTML object>"
      ]
     },
     "execution_count": 15,
     "metadata": {},
     "output_type": "execute_result"
    }
   ],
   "source": [
    "import os\n",
    "# scanimage --mode Color --resolution 300  >/home/scope/Desktop/test.pnm\n",
    "# real_path = os.path.dirname(os.path.abspath(__file__))\n",
    "real_path = os.getcwd()\n",
    "scan_dir=\"static/scan/\"\n",
    "with open('cnt.txt','a+') as f:\n",
    "    f.seek(0)\n",
    "    temp=f.read()\n",
    "    if len(temp)>0:\n",
    "        i=int(temp) + 1\n",
    "    else:\n",
    "        i=1\n",
    "    f.seek(0)\n",
    "    f.truncate() \n",
    "    f.write(str(i))\n",
    "    \n",
    "print(\"本目录中已经有\" + str(i-2) +\"个扫描文件。\\r\\n扫描中，请等待……\")\n",
    "f1=\"scan%s.pnm\"%i\n",
    "f2=\"scan%s.jpg\"%i\n",
    "cmd = \"scanimage --mode Color --resolution 300 >\" + real_path + \"/\" + scan_dir\n",
    "os.system(cmd + f1)\n",
    "print(\"图片扫描成功，正在转换。\")\n",
    "cmd= \"convert \" + real_path + \"/\" + scan_dir + f1 + \" \" + real_path + \"/\" + scan_dir + f2\n",
    "os.system(cmd)\n",
    "cmd= \"rm \" + f1\n",
    "os.system(cmd)\n",
    "html_code=\"图片转换成功！请<a href=\"+ scan_dir + f2 +\" target=_blank>点击下载\"+ f2 +\"</a>。\"\n",
    "from IPython.display import HTML\n",
    "HTML(html_code)"
   ]
  },
  {
   "cell_type": "markdown",
   "metadata": {},
   "source": [
    "**其他说明：**\n",
    "\n",
    "    - 默认扫描参数300，修改命令可以调整大小；\n",
    "    - 虚谷号需要安装好扫描仪驱动，用scanimage命令（ -L）能够找到设备。"
   ]
  },
  {
   "cell_type": "markdown",
   "metadata": {},
   "source": [
    "## 显示图片路径"
   ]
  },
  {
   "cell_type": "code",
   "execution_count": null,
   "metadata": {},
   "outputs": [],
   "source": [
    "html_code=\"图片转换成功！请<a href=\"+ scan_dir + f2 +\" target=_blank>点击下载</a>。\"\n",
    "from IPython.display import HTML\n",
    "HTML(html_code)"
   ]
  },
  {
   "cell_type": "markdown",
   "metadata": {},
   "source": [
    "## 测试扫描命令\n",
    "\n",
    "resolution为分辨率，参数为75|100|150|200|300|600|1200dpi，默认75\n",
    "contrast为对比度，参数为-1000～1000，默认0\n",
    "brightness为亮度，参数为-1000～1000，默认0\n",
    "\n",
    "* 发现参数没有什么效果 *"
   ]
  },
  {
   "cell_type": "code",
   "execution_count": 22,
   "metadata": {},
   "outputs": [],
   "source": [
    "! scanimage --mode Color --resolution 300 --contrast 1000 --brightness 1000 >/home/scope/Desktop/test1.pnm"
   ]
  },
  {
   "cell_type": "code",
   "execution_count": null,
   "metadata": {},
   "outputs": [],
   "source": []
  }
 ],
 "metadata": {
  "kernelspec": {
   "display_name": "Python 3",
   "language": "python",
   "name": "python3"
  },
  "language_info": {
   "codemirror_mode": {
    "name": "ipython",
    "version": 3
   },
   "file_extension": ".py",
   "mimetype": "text/x-python",
   "name": "python",
   "nbconvert_exporter": "python",
   "pygments_lexer": "ipython3",
   "version": "3.5.2"
  }
 },
 "nbformat": 4,
 "nbformat_minor": 2
}
